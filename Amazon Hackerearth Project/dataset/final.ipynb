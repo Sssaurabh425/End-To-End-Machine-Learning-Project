{
 "cells": [
  {
   "cell_type": "markdown",
   "id": "f194f417",
   "metadata": {},
   "source": [
    "# Importing Libraries"
   ]
  },
  {
   "cell_type": "code",
   "execution_count": 223,
   "id": "02cd547a",
   "metadata": {},
   "outputs": [],
   "source": [
    "import pandas as pd\n",
    "import glob\n",
    "import numpy as np\n",
    "from sklearn.model_selection import train_test_split\n",
    "from sklearn.compose import ColumnTransformer\n",
    "from sklearn.impute import SimpleImputer\n",
    "from sklearn.preprocessing import OrdinalEncoder\n",
    "from sklearn.preprocessing import MinMaxScaler\n",
    "from sklearn.pipeline import Pipeline\n",
    "from sklearn import metrics"
   ]
  },
  {
   "cell_type": "code",
   "execution_count": 134,
   "id": "b76390ff",
   "metadata": {},
   "outputs": [],
   "source": [
    "import matplotlib.pyplot as plt\n",
    "import seaborn as sns\n",
    "%matplotlib inline"
   ]
  },
  {
   "cell_type": "markdown",
   "id": "4a45fb1a",
   "metadata": {},
   "source": [
    "# Creating Dataframe and Converting it to .csv file"
   ]
  },
  {
   "cell_type": "code",
   "execution_count": 2,
   "id": "db1a8b92",
   "metadata": {},
   "outputs": [],
   "source": [
    "folder_path = 'train'\n",
    "file_list = glob.glob(folder_path + \"/*.txt\")\n",
    "main_dataframe = pd.DataFrame(pd.read_table(file_list[0]))\n",
    "df = pd.DataFrame()\n",
    "    \n",
    "for i in range(0,len(file_list)):\n",
    "    with open(file_list[i]) as f:\n",
    "        lines = f.readlines()\n",
    "        lines0 = [line.split()[0] for line in lines]\n",
    "        lines1 = [line.split()[1:][-1] for line in lines]\n",
    "        df1 = pd.DataFrame ([lines1[0:-1]], columns = lines0[0:-1])\n",
    "        df = pd.concat([df, df1], ignore_index=True)\n",
    "        \n",
    "  \n",
    "# creating a new csv file with\n",
    "# the dataframe we created\n",
    "df.to_csv('train_f.csv')"
   ]
  },
  {
   "cell_type": "code",
   "execution_count": null,
   "id": "a050966b",
   "metadata": {},
   "outputs": [],
   "source": [
    "folder_path = 'test'\n",
    "file_list = glob.glob(folder_path + \"/*.txt\")\n",
    "main_dataframe = pd.DataFrame(pd.read_table(file_list[0]))\n",
    "df = pd.DataFrame()\n",
    "    \n",
    "for i in range(0,len(file_list)):\n",
    "    with open(file_list[i]) as f:\n",
    "        lines = f.readlines()\n",
    "        lines0 = [line.split()[0] for line in lines]\n",
    "        lines1 = [line.split()[1:][-1] for line in lines]\n",
    "        df1 = pd.DataFrame ([lines1[0:-1]], columns = lines0[0:-1])\n",
    "        df = pd.concat([df, df1], ignore_index=True)\n",
    "        \n",
    "  \n",
    "# creating a new csv file with\n",
    "# the dataframe we created\n",
    "df.to_csv('test_f.csv')"
   ]
  },
  {
   "cell_type": "markdown",
   "id": "50fc83f0",
   "metadata": {},
   "source": [
    "# Reading .csv file and storing it in dataframe train and test"
   ]
  },
  {
   "cell_type": "code",
   "execution_count": 135,
   "id": "9ce158e0",
   "metadata": {},
   "outputs": [],
   "source": [
    "train = pd.read_csv('train_f.csv')"
   ]
  },
  {
   "cell_type": "code",
   "execution_count": 136,
   "id": "22fc6817",
   "metadata": {},
   "outputs": [],
   "source": [
    "test = pd.read_csv('test_f.csv')"
   ]
  },
  {
   "cell_type": "markdown",
   "id": "663bf495",
   "metadata": {},
   "source": [
    "### Backing up test data in test_model"
   ]
  },
  {
   "cell_type": "code",
   "execution_count": 137,
   "id": "c04e8d27",
   "metadata": {},
   "outputs": [],
   "source": [
    "test_model = test.copy()"
   ]
  },
  {
   "cell_type": "markdown",
   "id": "55580ef4",
   "metadata": {},
   "source": [
    "# Data Overview"
   ]
  },
  {
   "cell_type": "code",
   "execution_count": 85,
   "id": "ed4bb84d",
   "metadata": {},
   "outputs": [
    {
     "data": {
      "text/plain": [
       "(45593, 21)"
      ]
     },
     "execution_count": 85,
     "metadata": {},
     "output_type": "execute_result"
    }
   ],
   "source": [
    "train.shape"
   ]
  },
  {
   "cell_type": "code",
   "execution_count": 86,
   "id": "ce9c3c66",
   "metadata": {},
   "outputs": [
    {
     "data": {
      "text/plain": [
       "(11399, 20)"
      ]
     },
     "execution_count": 86,
     "metadata": {},
     "output_type": "execute_result"
    }
   ],
   "source": [
    "test_model.shape"
   ]
  },
  {
   "cell_type": "code",
   "execution_count": 87,
   "id": "0315b324",
   "metadata": {},
   "outputs": [
    {
     "data": {
      "text/html": [
       "<div>\n",
       "<style scoped>\n",
       "    .dataframe tbody tr th:only-of-type {\n",
       "        vertical-align: middle;\n",
       "    }\n",
       "\n",
       "    .dataframe tbody tr th {\n",
       "        vertical-align: top;\n",
       "    }\n",
       "\n",
       "    .dataframe thead th {\n",
       "        text-align: right;\n",
       "    }\n",
       "</style>\n",
       "<table border=\"1\" class=\"dataframe\">\n",
       "  <thead>\n",
       "    <tr style=\"text-align: right;\">\n",
       "      <th></th>\n",
       "      <th>Unnamed: 0</th>\n",
       "      <th>ID</th>\n",
       "      <th>Delivery_person_ID</th>\n",
       "      <th>Delivery_person_Age</th>\n",
       "      <th>Delivery_person_Ratings</th>\n",
       "      <th>Restaurant_latitude</th>\n",
       "      <th>Restaurant_longitude</th>\n",
       "      <th>Delivery_location_latitude</th>\n",
       "      <th>Delivery_location_longitude</th>\n",
       "      <th>Order_Date</th>\n",
       "      <th>...</th>\n",
       "      <th>Time_Order_picked</th>\n",
       "      <th>Weather</th>\n",
       "      <th>Road_traffic_density</th>\n",
       "      <th>Vehicle_condition</th>\n",
       "      <th>Type_of_order</th>\n",
       "      <th>Type_of_vehicle</th>\n",
       "      <th>multiple_deliveries</th>\n",
       "      <th>Festival</th>\n",
       "      <th>City</th>\n",
       "      <th>Time_taken</th>\n",
       "    </tr>\n",
       "  </thead>\n",
       "  <tbody>\n",
       "    <tr>\n",
       "      <th>0</th>\n",
       "      <td>0</td>\n",
       "      <td>0x4607</td>\n",
       "      <td>INDORES13DEL02</td>\n",
       "      <td>37.0</td>\n",
       "      <td>4.9</td>\n",
       "      <td>22.745049</td>\n",
       "      <td>75.892471</td>\n",
       "      <td>22.765049</td>\n",
       "      <td>75.912471</td>\n",
       "      <td>19-03-2022</td>\n",
       "      <td>...</td>\n",
       "      <td>11:45</td>\n",
       "      <td>Sunny</td>\n",
       "      <td>High</td>\n",
       "      <td>2</td>\n",
       "      <td>Snack</td>\n",
       "      <td>motorcycle</td>\n",
       "      <td>0.0</td>\n",
       "      <td>No</td>\n",
       "      <td>Urban</td>\n",
       "      <td>24.0</td>\n",
       "    </tr>\n",
       "    <tr>\n",
       "      <th>1</th>\n",
       "      <td>1</td>\n",
       "      <td>0xb379</td>\n",
       "      <td>BANGRES18DEL02</td>\n",
       "      <td>34.0</td>\n",
       "      <td>4.5</td>\n",
       "      <td>12.913041</td>\n",
       "      <td>77.683237</td>\n",
       "      <td>13.043041</td>\n",
       "      <td>77.813237</td>\n",
       "      <td>25-03-2022</td>\n",
       "      <td>...</td>\n",
       "      <td>19:50</td>\n",
       "      <td>Stormy</td>\n",
       "      <td>Jam</td>\n",
       "      <td>2</td>\n",
       "      <td>Snack</td>\n",
       "      <td>scooter</td>\n",
       "      <td>1.0</td>\n",
       "      <td>No</td>\n",
       "      <td>Metropolitian</td>\n",
       "      <td>33.0</td>\n",
       "    </tr>\n",
       "    <tr>\n",
       "      <th>2</th>\n",
       "      <td>2</td>\n",
       "      <td>0x5d6d</td>\n",
       "      <td>BANGRES19DEL01</td>\n",
       "      <td>23.0</td>\n",
       "      <td>4.4</td>\n",
       "      <td>12.914264</td>\n",
       "      <td>77.678400</td>\n",
       "      <td>12.924264</td>\n",
       "      <td>77.688400</td>\n",
       "      <td>19-03-2022</td>\n",
       "      <td>...</td>\n",
       "      <td>8:45</td>\n",
       "      <td>Sandstorms</td>\n",
       "      <td>Low</td>\n",
       "      <td>0</td>\n",
       "      <td>Drinks</td>\n",
       "      <td>motorcycle</td>\n",
       "      <td>1.0</td>\n",
       "      <td>No</td>\n",
       "      <td>Urban</td>\n",
       "      <td>26.0</td>\n",
       "    </tr>\n",
       "    <tr>\n",
       "      <th>3</th>\n",
       "      <td>3</td>\n",
       "      <td>0x7a6a</td>\n",
       "      <td>COIMBRES13DEL02</td>\n",
       "      <td>38.0</td>\n",
       "      <td>4.7</td>\n",
       "      <td>11.003669</td>\n",
       "      <td>76.976494</td>\n",
       "      <td>11.053669</td>\n",
       "      <td>77.026494</td>\n",
       "      <td>05-04-2022</td>\n",
       "      <td>...</td>\n",
       "      <td>18:10</td>\n",
       "      <td>Sunny</td>\n",
       "      <td>Medium</td>\n",
       "      <td>0</td>\n",
       "      <td>Buffet</td>\n",
       "      <td>motorcycle</td>\n",
       "      <td>1.0</td>\n",
       "      <td>No</td>\n",
       "      <td>Metropolitian</td>\n",
       "      <td>21.0</td>\n",
       "    </tr>\n",
       "    <tr>\n",
       "      <th>4</th>\n",
       "      <td>4</td>\n",
       "      <td>0x70a2</td>\n",
       "      <td>CHENRES12DEL01</td>\n",
       "      <td>32.0</td>\n",
       "      <td>4.6</td>\n",
       "      <td>12.972793</td>\n",
       "      <td>80.249982</td>\n",
       "      <td>13.012793</td>\n",
       "      <td>80.289982</td>\n",
       "      <td>26-03-2022</td>\n",
       "      <td>...</td>\n",
       "      <td>13:45</td>\n",
       "      <td>Cloudy</td>\n",
       "      <td>High</td>\n",
       "      <td>1</td>\n",
       "      <td>Snack</td>\n",
       "      <td>scooter</td>\n",
       "      <td>1.0</td>\n",
       "      <td>No</td>\n",
       "      <td>Metropolitian</td>\n",
       "      <td>30.0</td>\n",
       "    </tr>\n",
       "  </tbody>\n",
       "</table>\n",
       "<p>5 rows × 21 columns</p>\n",
       "</div>"
      ],
      "text/plain": [
       "   Unnamed: 0      ID Delivery_person_ID  Delivery_person_Age  \\\n",
       "0           0  0x4607     INDORES13DEL02                 37.0   \n",
       "1           1  0xb379     BANGRES18DEL02                 34.0   \n",
       "2           2  0x5d6d     BANGRES19DEL01                 23.0   \n",
       "3           3  0x7a6a    COIMBRES13DEL02                 38.0   \n",
       "4           4  0x70a2     CHENRES12DEL01                 32.0   \n",
       "\n",
       "   Delivery_person_Ratings  Restaurant_latitude  Restaurant_longitude  \\\n",
       "0                      4.9            22.745049             75.892471   \n",
       "1                      4.5            12.913041             77.683237   \n",
       "2                      4.4            12.914264             77.678400   \n",
       "3                      4.7            11.003669             76.976494   \n",
       "4                      4.6            12.972793             80.249982   \n",
       "\n",
       "   Delivery_location_latitude  Delivery_location_longitude  Order_Date  ...  \\\n",
       "0                   22.765049                    75.912471  19-03-2022  ...   \n",
       "1                   13.043041                    77.813237  25-03-2022  ...   \n",
       "2                   12.924264                    77.688400  19-03-2022  ...   \n",
       "3                   11.053669                    77.026494  05-04-2022  ...   \n",
       "4                   13.012793                    80.289982  26-03-2022  ...   \n",
       "\n",
       "  Time_Order_picked     Weather Road_traffic_density Vehicle_condition  \\\n",
       "0             11:45       Sunny                 High                 2   \n",
       "1             19:50      Stormy                  Jam                 2   \n",
       "2              8:45  Sandstorms                  Low                 0   \n",
       "3             18:10       Sunny               Medium                 0   \n",
       "4             13:45      Cloudy                 High                 1   \n",
       "\n",
       "   Type_of_order Type_of_vehicle multiple_deliveries  Festival           City  \\\n",
       "0          Snack      motorcycle                 0.0        No          Urban   \n",
       "1          Snack         scooter                 1.0        No  Metropolitian   \n",
       "2         Drinks      motorcycle                 1.0        No          Urban   \n",
       "3         Buffet      motorcycle                 1.0        No  Metropolitian   \n",
       "4          Snack         scooter                 1.0        No  Metropolitian   \n",
       "\n",
       "  Time_taken  \n",
       "0       24.0  \n",
       "1       33.0  \n",
       "2       26.0  \n",
       "3       21.0  \n",
       "4       30.0  \n",
       "\n",
       "[5 rows x 21 columns]"
      ]
     },
     "execution_count": 87,
     "metadata": {},
     "output_type": "execute_result"
    }
   ],
   "source": [
    "train.head()"
   ]
  },
  {
   "cell_type": "code",
   "execution_count": 88,
   "id": "fac83fc7",
   "metadata": {},
   "outputs": [
    {
     "data": {
      "text/html": [
       "<div>\n",
       "<style scoped>\n",
       "    .dataframe tbody tr th:only-of-type {\n",
       "        vertical-align: middle;\n",
       "    }\n",
       "\n",
       "    .dataframe tbody tr th {\n",
       "        vertical-align: top;\n",
       "    }\n",
       "\n",
       "    .dataframe thead th {\n",
       "        text-align: right;\n",
       "    }\n",
       "</style>\n",
       "<table border=\"1\" class=\"dataframe\">\n",
       "  <thead>\n",
       "    <tr style=\"text-align: right;\">\n",
       "      <th></th>\n",
       "      <th>Unnamed: 0</th>\n",
       "      <th>ID</th>\n",
       "      <th>Delivery_person_ID</th>\n",
       "      <th>Delivery_person_Age</th>\n",
       "      <th>Delivery_person_Ratings</th>\n",
       "      <th>Restaurant_latitude</th>\n",
       "      <th>Restaurant_longitude</th>\n",
       "      <th>Delivery_location_latitude</th>\n",
       "      <th>Delivery_location_longitude</th>\n",
       "      <th>Order_Date</th>\n",
       "      <th>Time_Orderd</th>\n",
       "      <th>Time_Order_picked</th>\n",
       "      <th>Weather</th>\n",
       "      <th>Road_traffic_density</th>\n",
       "      <th>Vehicle_condition</th>\n",
       "      <th>Type_of_order</th>\n",
       "      <th>Type_of_vehicle</th>\n",
       "      <th>multiple_deliveries</th>\n",
       "      <th>Festival</th>\n",
       "      <th>City</th>\n",
       "    </tr>\n",
       "  </thead>\n",
       "  <tbody>\n",
       "    <tr>\n",
       "      <th>0</th>\n",
       "      <td>0</td>\n",
       "      <td>0x2318</td>\n",
       "      <td>COIMBRES13DEL01</td>\n",
       "      <td>NaN</td>\n",
       "      <td>NaN</td>\n",
       "      <td>11.003669</td>\n",
       "      <td>76.976494</td>\n",
       "      <td>11.043669</td>\n",
       "      <td>77.016494</td>\n",
       "      <td>30-03-2022</td>\n",
       "      <td>NaN</td>\n",
       "      <td>15:05</td>\n",
       "      <td>NaN</td>\n",
       "      <td>NaN</td>\n",
       "      <td>3</td>\n",
       "      <td>Drinks</td>\n",
       "      <td>electric_scooter</td>\n",
       "      <td>1.0</td>\n",
       "      <td>No</td>\n",
       "      <td>Metropolitian</td>\n",
       "    </tr>\n",
       "    <tr>\n",
       "      <th>1</th>\n",
       "      <td>1</td>\n",
       "      <td>0x3474</td>\n",
       "      <td>BANGRES15DEL01</td>\n",
       "      <td>28.0</td>\n",
       "      <td>4.6</td>\n",
       "      <td>12.975377</td>\n",
       "      <td>77.696664</td>\n",
       "      <td>13.085377</td>\n",
       "      <td>77.806664</td>\n",
       "      <td>29-03-2022</td>\n",
       "      <td>20:30</td>\n",
       "      <td>20:35</td>\n",
       "      <td>Windy</td>\n",
       "      <td>Jam</td>\n",
       "      <td>0</td>\n",
       "      <td>Snack</td>\n",
       "      <td>motorcycle</td>\n",
       "      <td>1.0</td>\n",
       "      <td>No</td>\n",
       "      <td>Metropolitian</td>\n",
       "    </tr>\n",
       "    <tr>\n",
       "      <th>2</th>\n",
       "      <td>2</td>\n",
       "      <td>0x9420</td>\n",
       "      <td>JAPRES09DEL03</td>\n",
       "      <td>23.0</td>\n",
       "      <td>4.5</td>\n",
       "      <td>26.911378</td>\n",
       "      <td>75.789034</td>\n",
       "      <td>27.001378</td>\n",
       "      <td>75.879034</td>\n",
       "      <td>10-03-2022</td>\n",
       "      <td>19:35</td>\n",
       "      <td>19:45</td>\n",
       "      <td>Stormy</td>\n",
       "      <td>Jam</td>\n",
       "      <td>0</td>\n",
       "      <td>Drinks</td>\n",
       "      <td>motorcycle</td>\n",
       "      <td>1.0</td>\n",
       "      <td>No</td>\n",
       "      <td>Metropolitian</td>\n",
       "    </tr>\n",
       "    <tr>\n",
       "      <th>3</th>\n",
       "      <td>3</td>\n",
       "      <td>0x72ee</td>\n",
       "      <td>JAPRES07DEL03</td>\n",
       "      <td>21.0</td>\n",
       "      <td>4.8</td>\n",
       "      <td>26.766536</td>\n",
       "      <td>75.837333</td>\n",
       "      <td>26.856536</td>\n",
       "      <td>75.927333</td>\n",
       "      <td>02-04-2022</td>\n",
       "      <td>17:15</td>\n",
       "      <td>17:20</td>\n",
       "      <td>Fog</td>\n",
       "      <td>Medium</td>\n",
       "      <td>1</td>\n",
       "      <td>Meal</td>\n",
       "      <td>scooter</td>\n",
       "      <td>1.0</td>\n",
       "      <td>No</td>\n",
       "      <td>Metropolitian</td>\n",
       "    </tr>\n",
       "    <tr>\n",
       "      <th>4</th>\n",
       "      <td>4</td>\n",
       "      <td>0xa759</td>\n",
       "      <td>CHENRES19DEL01</td>\n",
       "      <td>31.0</td>\n",
       "      <td>4.6</td>\n",
       "      <td>12.986047</td>\n",
       "      <td>80.218114</td>\n",
       "      <td>13.096047</td>\n",
       "      <td>80.328114</td>\n",
       "      <td>27-03-2022</td>\n",
       "      <td>18:25</td>\n",
       "      <td>18:40</td>\n",
       "      <td>Sunny</td>\n",
       "      <td>Medium</td>\n",
       "      <td>2</td>\n",
       "      <td>Drinks</td>\n",
       "      <td>scooter</td>\n",
       "      <td>1.0</td>\n",
       "      <td>No</td>\n",
       "      <td>Metropolitian</td>\n",
       "    </tr>\n",
       "  </tbody>\n",
       "</table>\n",
       "</div>"
      ],
      "text/plain": [
       "   Unnamed: 0      ID Delivery_person_ID  Delivery_person_Age  \\\n",
       "0           0  0x2318    COIMBRES13DEL01                  NaN   \n",
       "1           1  0x3474     BANGRES15DEL01                 28.0   \n",
       "2           2  0x9420      JAPRES09DEL03                 23.0   \n",
       "3           3  0x72ee      JAPRES07DEL03                 21.0   \n",
       "4           4  0xa759     CHENRES19DEL01                 31.0   \n",
       "\n",
       "   Delivery_person_Ratings  Restaurant_latitude  Restaurant_longitude  \\\n",
       "0                      NaN            11.003669             76.976494   \n",
       "1                      4.6            12.975377             77.696664   \n",
       "2                      4.5            26.911378             75.789034   \n",
       "3                      4.8            26.766536             75.837333   \n",
       "4                      4.6            12.986047             80.218114   \n",
       "\n",
       "   Delivery_location_latitude  Delivery_location_longitude  Order_Date  \\\n",
       "0                   11.043669                    77.016494  30-03-2022   \n",
       "1                   13.085377                    77.806664  29-03-2022   \n",
       "2                   27.001378                    75.879034  10-03-2022   \n",
       "3                   26.856536                    75.927333  02-04-2022   \n",
       "4                   13.096047                    80.328114  27-03-2022   \n",
       "\n",
       "  Time_Orderd Time_Order_picked Weather Road_traffic_density  \\\n",
       "0         NaN             15:05     NaN                  NaN   \n",
       "1       20:30             20:35   Windy                  Jam   \n",
       "2       19:35             19:45  Stormy                  Jam   \n",
       "3       17:15             17:20     Fog               Medium   \n",
       "4       18:25             18:40   Sunny               Medium   \n",
       "\n",
       "   Vehicle_condition Type_of_order   Type_of_vehicle  multiple_deliveries  \\\n",
       "0                  3        Drinks  electric_scooter                  1.0   \n",
       "1                  0         Snack        motorcycle                  1.0   \n",
       "2                  0        Drinks        motorcycle                  1.0   \n",
       "3                  1          Meal           scooter                  1.0   \n",
       "4                  2        Drinks           scooter                  1.0   \n",
       "\n",
       "  Festival           City  \n",
       "0       No  Metropolitian  \n",
       "1       No  Metropolitian  \n",
       "2       No  Metropolitian  \n",
       "3       No  Metropolitian  \n",
       "4       No  Metropolitian  "
      ]
     },
     "execution_count": 88,
     "metadata": {},
     "output_type": "execute_result"
    }
   ],
   "source": [
    "test_model.head()"
   ]
  },
  {
   "cell_type": "code",
   "execution_count": 89,
   "id": "90cc7223",
   "metadata": {},
   "outputs": [
    {
     "data": {
      "text/html": [
       "<div>\n",
       "<style scoped>\n",
       "    .dataframe tbody tr th:only-of-type {\n",
       "        vertical-align: middle;\n",
       "    }\n",
       "\n",
       "    .dataframe tbody tr th {\n",
       "        vertical-align: top;\n",
       "    }\n",
       "\n",
       "    .dataframe thead th {\n",
       "        text-align: right;\n",
       "    }\n",
       "</style>\n",
       "<table border=\"1\" class=\"dataframe\">\n",
       "  <thead>\n",
       "    <tr style=\"text-align: right;\">\n",
       "      <th></th>\n",
       "      <th>Unnamed: 0</th>\n",
       "      <th>Delivery_person_Age</th>\n",
       "      <th>Delivery_person_Ratings</th>\n",
       "      <th>Restaurant_latitude</th>\n",
       "      <th>Restaurant_longitude</th>\n",
       "      <th>Delivery_location_latitude</th>\n",
       "      <th>Delivery_location_longitude</th>\n",
       "      <th>Vehicle_condition</th>\n",
       "      <th>multiple_deliveries</th>\n",
       "      <th>Time_taken</th>\n",
       "    </tr>\n",
       "  </thead>\n",
       "  <tbody>\n",
       "    <tr>\n",
       "      <th>count</th>\n",
       "      <td>45593.000000</td>\n",
       "      <td>43739.000000</td>\n",
       "      <td>43685.000000</td>\n",
       "      <td>45593.000000</td>\n",
       "      <td>45593.000000</td>\n",
       "      <td>45593.000000</td>\n",
       "      <td>45593.000000</td>\n",
       "      <td>45593.000000</td>\n",
       "      <td>44600.000000</td>\n",
       "      <td>45593.000000</td>\n",
       "    </tr>\n",
       "    <tr>\n",
       "      <th>mean</th>\n",
       "      <td>22796.000000</td>\n",
       "      <td>29.567137</td>\n",
       "      <td>4.633780</td>\n",
       "      <td>17.017729</td>\n",
       "      <td>70.231332</td>\n",
       "      <td>17.465186</td>\n",
       "      <td>70.845702</td>\n",
       "      <td>1.023359</td>\n",
       "      <td>0.744664</td>\n",
       "      <td>26.294607</td>\n",
       "    </tr>\n",
       "    <tr>\n",
       "      <th>std</th>\n",
       "      <td>13161.709748</td>\n",
       "      <td>5.815155</td>\n",
       "      <td>0.334716</td>\n",
       "      <td>8.185109</td>\n",
       "      <td>22.883647</td>\n",
       "      <td>7.335122</td>\n",
       "      <td>21.118812</td>\n",
       "      <td>0.839065</td>\n",
       "      <td>0.572473</td>\n",
       "      <td>9.383806</td>\n",
       "    </tr>\n",
       "    <tr>\n",
       "      <th>min</th>\n",
       "      <td>0.000000</td>\n",
       "      <td>15.000000</td>\n",
       "      <td>1.000000</td>\n",
       "      <td>-30.905562</td>\n",
       "      <td>-88.366217</td>\n",
       "      <td>0.010000</td>\n",
       "      <td>0.010000</td>\n",
       "      <td>0.000000</td>\n",
       "      <td>0.000000</td>\n",
       "      <td>10.000000</td>\n",
       "    </tr>\n",
       "    <tr>\n",
       "      <th>25%</th>\n",
       "      <td>11398.000000</td>\n",
       "      <td>25.000000</td>\n",
       "      <td>4.500000</td>\n",
       "      <td>12.933284</td>\n",
       "      <td>73.170000</td>\n",
       "      <td>12.988453</td>\n",
       "      <td>73.280000</td>\n",
       "      <td>0.000000</td>\n",
       "      <td>0.000000</td>\n",
       "      <td>19.000000</td>\n",
       "    </tr>\n",
       "    <tr>\n",
       "      <th>50%</th>\n",
       "      <td>22796.000000</td>\n",
       "      <td>30.000000</td>\n",
       "      <td>4.700000</td>\n",
       "      <td>18.546947</td>\n",
       "      <td>75.898497</td>\n",
       "      <td>18.633934</td>\n",
       "      <td>76.002574</td>\n",
       "      <td>1.000000</td>\n",
       "      <td>1.000000</td>\n",
       "      <td>26.000000</td>\n",
       "    </tr>\n",
       "    <tr>\n",
       "      <th>75%</th>\n",
       "      <td>34194.000000</td>\n",
       "      <td>35.000000</td>\n",
       "      <td>4.900000</td>\n",
       "      <td>22.728163</td>\n",
       "      <td>78.044095</td>\n",
       "      <td>22.785049</td>\n",
       "      <td>78.107044</td>\n",
       "      <td>2.000000</td>\n",
       "      <td>1.000000</td>\n",
       "      <td>32.000000</td>\n",
       "    </tr>\n",
       "    <tr>\n",
       "      <th>max</th>\n",
       "      <td>45592.000000</td>\n",
       "      <td>50.000000</td>\n",
       "      <td>6.000000</td>\n",
       "      <td>30.914057</td>\n",
       "      <td>88.433452</td>\n",
       "      <td>31.054057</td>\n",
       "      <td>88.563452</td>\n",
       "      <td>3.000000</td>\n",
       "      <td>3.000000</td>\n",
       "      <td>54.000000</td>\n",
       "    </tr>\n",
       "  </tbody>\n",
       "</table>\n",
       "</div>"
      ],
      "text/plain": [
       "         Unnamed: 0  Delivery_person_Age  Delivery_person_Ratings  \\\n",
       "count  45593.000000         43739.000000             43685.000000   \n",
       "mean   22796.000000            29.567137                 4.633780   \n",
       "std    13161.709748             5.815155                 0.334716   \n",
       "min        0.000000            15.000000                 1.000000   \n",
       "25%    11398.000000            25.000000                 4.500000   \n",
       "50%    22796.000000            30.000000                 4.700000   \n",
       "75%    34194.000000            35.000000                 4.900000   \n",
       "max    45592.000000            50.000000                 6.000000   \n",
       "\n",
       "       Restaurant_latitude  Restaurant_longitude  Delivery_location_latitude  \\\n",
       "count         45593.000000          45593.000000                45593.000000   \n",
       "mean             17.017729             70.231332                   17.465186   \n",
       "std               8.185109             22.883647                    7.335122   \n",
       "min             -30.905562            -88.366217                    0.010000   \n",
       "25%              12.933284             73.170000                   12.988453   \n",
       "50%              18.546947             75.898497                   18.633934   \n",
       "75%              22.728163             78.044095                   22.785049   \n",
       "max              30.914057             88.433452                   31.054057   \n",
       "\n",
       "       Delivery_location_longitude  Vehicle_condition  multiple_deliveries  \\\n",
       "count                 45593.000000       45593.000000         44600.000000   \n",
       "mean                     70.845702           1.023359             0.744664   \n",
       "std                      21.118812           0.839065             0.572473   \n",
       "min                       0.010000           0.000000             0.000000   \n",
       "25%                      73.280000           0.000000             0.000000   \n",
       "50%                      76.002574           1.000000             1.000000   \n",
       "75%                      78.107044           2.000000             1.000000   \n",
       "max                      88.563452           3.000000             3.000000   \n",
       "\n",
       "         Time_taken  \n",
       "count  45593.000000  \n",
       "mean      26.294607  \n",
       "std        9.383806  \n",
       "min       10.000000  \n",
       "25%       19.000000  \n",
       "50%       26.000000  \n",
       "75%       32.000000  \n",
       "max       54.000000  "
      ]
     },
     "execution_count": 89,
     "metadata": {},
     "output_type": "execute_result"
    }
   ],
   "source": [
    "train.describe()"
   ]
  },
  {
   "cell_type": "code",
   "execution_count": 90,
   "id": "97fc0958",
   "metadata": {},
   "outputs": [
    {
     "data": {
      "text/html": [
       "<div>\n",
       "<style scoped>\n",
       "    .dataframe tbody tr th:only-of-type {\n",
       "        vertical-align: middle;\n",
       "    }\n",
       "\n",
       "    .dataframe tbody tr th {\n",
       "        vertical-align: top;\n",
       "    }\n",
       "\n",
       "    .dataframe thead th {\n",
       "        text-align: right;\n",
       "    }\n",
       "</style>\n",
       "<table border=\"1\" class=\"dataframe\">\n",
       "  <thead>\n",
       "    <tr style=\"text-align: right;\">\n",
       "      <th></th>\n",
       "      <th>Unnamed: 0</th>\n",
       "      <th>Delivery_person_Age</th>\n",
       "      <th>Delivery_person_Ratings</th>\n",
       "      <th>Restaurant_latitude</th>\n",
       "      <th>Restaurant_longitude</th>\n",
       "      <th>Delivery_location_latitude</th>\n",
       "      <th>Delivery_location_longitude</th>\n",
       "      <th>Vehicle_condition</th>\n",
       "      <th>multiple_deliveries</th>\n",
       "    </tr>\n",
       "  </thead>\n",
       "  <tbody>\n",
       "    <tr>\n",
       "      <th>count</th>\n",
       "      <td>11399.000000</td>\n",
       "      <td>10908.000000</td>\n",
       "      <td>10892.000000</td>\n",
       "      <td>11399.000000</td>\n",
       "      <td>11399.000000</td>\n",
       "      <td>11399.000000</td>\n",
       "      <td>11399.000000</td>\n",
       "      <td>11399.000000</td>\n",
       "      <td>11161.000000</td>\n",
       "    </tr>\n",
       "    <tr>\n",
       "      <th>mean</th>\n",
       "      <td>5699.000000</td>\n",
       "      <td>29.517235</td>\n",
       "      <td>4.632786</td>\n",
       "      <td>17.099934</td>\n",
       "      <td>70.399259</td>\n",
       "      <td>17.569497</td>\n",
       "      <td>71.102187</td>\n",
       "      <td>1.031406</td>\n",
       "      <td>0.749664</td>\n",
       "    </tr>\n",
       "    <tr>\n",
       "      <th>std</th>\n",
       "      <td>3290.752194</td>\n",
       "      <td>5.797077</td>\n",
       "      <td>0.344081</td>\n",
       "      <td>8.193510</td>\n",
       "      <td>22.773144</td>\n",
       "      <td>7.287440</td>\n",
       "      <td>20.693782</td>\n",
       "      <td>0.839599</td>\n",
       "      <td>0.573657</td>\n",
       "    </tr>\n",
       "    <tr>\n",
       "      <th>min</th>\n",
       "      <td>0.000000</td>\n",
       "      <td>15.000000</td>\n",
       "      <td>1.000000</td>\n",
       "      <td>-30.902872</td>\n",
       "      <td>-88.400467</td>\n",
       "      <td>0.010000</td>\n",
       "      <td>0.010000</td>\n",
       "      <td>0.000000</td>\n",
       "      <td>0.000000</td>\n",
       "    </tr>\n",
       "    <tr>\n",
       "      <th>25%</th>\n",
       "      <td>2849.500000</td>\n",
       "      <td>25.000000</td>\n",
       "      <td>4.500000</td>\n",
       "      <td>12.933284</td>\n",
       "      <td>73.170937</td>\n",
       "      <td>12.992532</td>\n",
       "      <td>73.771081</td>\n",
       "      <td>0.000000</td>\n",
       "      <td>0.000000</td>\n",
       "    </tr>\n",
       "    <tr>\n",
       "      <th>50%</th>\n",
       "      <td>5699.000000</td>\n",
       "      <td>30.000000</td>\n",
       "      <td>4.700000</td>\n",
       "      <td>18.551440</td>\n",
       "      <td>75.897429</td>\n",
       "      <td>18.643481</td>\n",
       "      <td>75.996959</td>\n",
       "      <td>1.000000</td>\n",
       "      <td>1.000000</td>\n",
       "    </tr>\n",
       "    <tr>\n",
       "      <th>75%</th>\n",
       "      <td>8548.500000</td>\n",
       "      <td>34.000000</td>\n",
       "      <td>4.900000</td>\n",
       "      <td>22.732225</td>\n",
       "      <td>78.045732</td>\n",
       "      <td>22.791226</td>\n",
       "      <td>78.109004</td>\n",
       "      <td>2.000000</td>\n",
       "      <td>1.000000</td>\n",
       "    </tr>\n",
       "    <tr>\n",
       "      <th>max</th>\n",
       "      <td>11398.000000</td>\n",
       "      <td>50.000000</td>\n",
       "      <td>6.000000</td>\n",
       "      <td>30.914057</td>\n",
       "      <td>88.433452</td>\n",
       "      <td>31.054057</td>\n",
       "      <td>88.563452</td>\n",
       "      <td>3.000000</td>\n",
       "      <td>3.000000</td>\n",
       "    </tr>\n",
       "  </tbody>\n",
       "</table>\n",
       "</div>"
      ],
      "text/plain": [
       "         Unnamed: 0  Delivery_person_Age  Delivery_person_Ratings  \\\n",
       "count  11399.000000         10908.000000             10892.000000   \n",
       "mean    5699.000000            29.517235                 4.632786   \n",
       "std     3290.752194             5.797077                 0.344081   \n",
       "min        0.000000            15.000000                 1.000000   \n",
       "25%     2849.500000            25.000000                 4.500000   \n",
       "50%     5699.000000            30.000000                 4.700000   \n",
       "75%     8548.500000            34.000000                 4.900000   \n",
       "max    11398.000000            50.000000                 6.000000   \n",
       "\n",
       "       Restaurant_latitude  Restaurant_longitude  Delivery_location_latitude  \\\n",
       "count         11399.000000          11399.000000                11399.000000   \n",
       "mean             17.099934             70.399259                   17.569497   \n",
       "std               8.193510             22.773144                    7.287440   \n",
       "min             -30.902872            -88.400467                    0.010000   \n",
       "25%              12.933284             73.170937                   12.992532   \n",
       "50%              18.551440             75.897429                   18.643481   \n",
       "75%              22.732225             78.045732                   22.791226   \n",
       "max              30.914057             88.433452                   31.054057   \n",
       "\n",
       "       Delivery_location_longitude  Vehicle_condition  multiple_deliveries  \n",
       "count                 11399.000000       11399.000000         11161.000000  \n",
       "mean                     71.102187           1.031406             0.749664  \n",
       "std                      20.693782           0.839599             0.573657  \n",
       "min                       0.010000           0.000000             0.000000  \n",
       "25%                      73.771081           0.000000             0.000000  \n",
       "50%                      75.996959           1.000000             1.000000  \n",
       "75%                      78.109004           2.000000             1.000000  \n",
       "max                      88.563452           3.000000             3.000000  "
      ]
     },
     "execution_count": 90,
     "metadata": {},
     "output_type": "execute_result"
    }
   ],
   "source": [
    "test_model.describe()"
   ]
  },
  {
   "cell_type": "code",
   "execution_count": 91,
   "id": "6c32a2b3",
   "metadata": {},
   "outputs": [
    {
     "data": {
      "text/html": [
       "<div>\n",
       "<style scoped>\n",
       "    .dataframe tbody tr th:only-of-type {\n",
       "        vertical-align: middle;\n",
       "    }\n",
       "\n",
       "    .dataframe tbody tr th {\n",
       "        vertical-align: top;\n",
       "    }\n",
       "\n",
       "    .dataframe thead th {\n",
       "        text-align: right;\n",
       "    }\n",
       "</style>\n",
       "<table border=\"1\" class=\"dataframe\">\n",
       "  <thead>\n",
       "    <tr style=\"text-align: right;\">\n",
       "      <th></th>\n",
       "      <th>Unnamed: 0</th>\n",
       "      <th>Delivery_person_Age</th>\n",
       "      <th>Delivery_person_Ratings</th>\n",
       "      <th>Restaurant_latitude</th>\n",
       "      <th>Restaurant_longitude</th>\n",
       "      <th>Delivery_location_latitude</th>\n",
       "      <th>Delivery_location_longitude</th>\n",
       "      <th>Vehicle_condition</th>\n",
       "      <th>multiple_deliveries</th>\n",
       "      <th>Time_taken</th>\n",
       "    </tr>\n",
       "  </thead>\n",
       "  <tbody>\n",
       "    <tr>\n",
       "      <th>Unnamed: 0</th>\n",
       "      <td>1.000000</td>\n",
       "      <td>-0.002659</td>\n",
       "      <td>0.002811</td>\n",
       "      <td>0.004992</td>\n",
       "      <td>-0.002155</td>\n",
       "      <td>0.004163</td>\n",
       "      <td>-0.001368</td>\n",
       "      <td>-0.003369</td>\n",
       "      <td>-0.003522</td>\n",
       "      <td>-0.005518</td>\n",
       "    </tr>\n",
       "    <tr>\n",
       "      <th>Delivery_person_Age</th>\n",
       "      <td>-0.002659</td>\n",
       "      <td>1.000000</td>\n",
       "      <td>-0.067939</td>\n",
       "      <td>-0.004532</td>\n",
       "      <td>-0.009347</td>\n",
       "      <td>0.002489</td>\n",
       "      <td>-0.000495</td>\n",
       "      <td>0.003308</td>\n",
       "      <td>0.115851</td>\n",
       "      <td>0.299474</td>\n",
       "    </tr>\n",
       "    <tr>\n",
       "      <th>Delivery_person_Ratings</th>\n",
       "      <td>0.002811</td>\n",
       "      <td>-0.067939</td>\n",
       "      <td>1.000000</td>\n",
       "      <td>-0.007792</td>\n",
       "      <td>-0.014203</td>\n",
       "      <td>-0.010318</td>\n",
       "      <td>-0.013552</td>\n",
       "      <td>0.034581</td>\n",
       "      <td>-0.117647</td>\n",
       "      <td>-0.338790</td>\n",
       "    </tr>\n",
       "    <tr>\n",
       "      <th>Restaurant_latitude</th>\n",
       "      <td>0.004992</td>\n",
       "      <td>-0.004532</td>\n",
       "      <td>-0.007792</td>\n",
       "      <td>1.000000</td>\n",
       "      <td>0.661784</td>\n",
       "      <td>0.866378</td>\n",
       "      <td>0.602713</td>\n",
       "      <td>-0.033551</td>\n",
       "      <td>0.008051</td>\n",
       "      <td>0.013981</td>\n",
       "    </tr>\n",
       "    <tr>\n",
       "      <th>Restaurant_longitude</th>\n",
       "      <td>-0.002155</td>\n",
       "      <td>-0.009347</td>\n",
       "      <td>-0.014203</td>\n",
       "      <td>0.661784</td>\n",
       "      <td>1.000000</td>\n",
       "      <td>0.632293</td>\n",
       "      <td>0.915026</td>\n",
       "      <td>-0.038744</td>\n",
       "      <td>0.004461</td>\n",
       "      <td>0.007821</td>\n",
       "    </tr>\n",
       "    <tr>\n",
       "      <th>Delivery_location_latitude</th>\n",
       "      <td>0.004163</td>\n",
       "      <td>0.002489</td>\n",
       "      <td>-0.010318</td>\n",
       "      <td>0.866378</td>\n",
       "      <td>0.632293</td>\n",
       "      <td>1.000000</td>\n",
       "      <td>0.690515</td>\n",
       "      <td>-0.001604</td>\n",
       "      <td>0.010277</td>\n",
       "      <td>0.014243</td>\n",
       "    </tr>\n",
       "    <tr>\n",
       "      <th>Delivery_location_longitude</th>\n",
       "      <td>-0.001368</td>\n",
       "      <td>-0.000495</td>\n",
       "      <td>-0.013552</td>\n",
       "      <td>0.602713</td>\n",
       "      <td>0.915026</td>\n",
       "      <td>0.690515</td>\n",
       "      <td>1.000000</td>\n",
       "      <td>-0.001960</td>\n",
       "      <td>0.005023</td>\n",
       "      <td>0.007625</td>\n",
       "    </tr>\n",
       "    <tr>\n",
       "      <th>Vehicle_condition</th>\n",
       "      <td>-0.003369</td>\n",
       "      <td>0.003308</td>\n",
       "      <td>0.034581</td>\n",
       "      <td>-0.033551</td>\n",
       "      <td>-0.038744</td>\n",
       "      <td>-0.001604</td>\n",
       "      <td>-0.001960</td>\n",
       "      <td>1.000000</td>\n",
       "      <td>-0.097270</td>\n",
       "      <td>-0.234398</td>\n",
       "    </tr>\n",
       "    <tr>\n",
       "      <th>multiple_deliveries</th>\n",
       "      <td>-0.003522</td>\n",
       "      <td>0.115851</td>\n",
       "      <td>-0.117647</td>\n",
       "      <td>0.008051</td>\n",
       "      <td>0.004461</td>\n",
       "      <td>0.010277</td>\n",
       "      <td>0.005023</td>\n",
       "      <td>-0.097270</td>\n",
       "      <td>1.000000</td>\n",
       "      <td>0.387051</td>\n",
       "    </tr>\n",
       "    <tr>\n",
       "      <th>Time_taken</th>\n",
       "      <td>-0.005518</td>\n",
       "      <td>0.299474</td>\n",
       "      <td>-0.338790</td>\n",
       "      <td>0.013981</td>\n",
       "      <td>0.007821</td>\n",
       "      <td>0.014243</td>\n",
       "      <td>0.007625</td>\n",
       "      <td>-0.234398</td>\n",
       "      <td>0.387051</td>\n",
       "      <td>1.000000</td>\n",
       "    </tr>\n",
       "  </tbody>\n",
       "</table>\n",
       "</div>"
      ],
      "text/plain": [
       "                             Unnamed: 0  Delivery_person_Age  \\\n",
       "Unnamed: 0                     1.000000            -0.002659   \n",
       "Delivery_person_Age           -0.002659             1.000000   \n",
       "Delivery_person_Ratings        0.002811            -0.067939   \n",
       "Restaurant_latitude            0.004992            -0.004532   \n",
       "Restaurant_longitude          -0.002155            -0.009347   \n",
       "Delivery_location_latitude     0.004163             0.002489   \n",
       "Delivery_location_longitude   -0.001368            -0.000495   \n",
       "Vehicle_condition             -0.003369             0.003308   \n",
       "multiple_deliveries           -0.003522             0.115851   \n",
       "Time_taken                    -0.005518             0.299474   \n",
       "\n",
       "                             Delivery_person_Ratings  Restaurant_latitude  \\\n",
       "Unnamed: 0                                  0.002811             0.004992   \n",
       "Delivery_person_Age                        -0.067939            -0.004532   \n",
       "Delivery_person_Ratings                     1.000000            -0.007792   \n",
       "Restaurant_latitude                        -0.007792             1.000000   \n",
       "Restaurant_longitude                       -0.014203             0.661784   \n",
       "Delivery_location_latitude                 -0.010318             0.866378   \n",
       "Delivery_location_longitude                -0.013552             0.602713   \n",
       "Vehicle_condition                           0.034581            -0.033551   \n",
       "multiple_deliveries                        -0.117647             0.008051   \n",
       "Time_taken                                 -0.338790             0.013981   \n",
       "\n",
       "                             Restaurant_longitude  Delivery_location_latitude  \\\n",
       "Unnamed: 0                              -0.002155                    0.004163   \n",
       "Delivery_person_Age                     -0.009347                    0.002489   \n",
       "Delivery_person_Ratings                 -0.014203                   -0.010318   \n",
       "Restaurant_latitude                      0.661784                    0.866378   \n",
       "Restaurant_longitude                     1.000000                    0.632293   \n",
       "Delivery_location_latitude               0.632293                    1.000000   \n",
       "Delivery_location_longitude              0.915026                    0.690515   \n",
       "Vehicle_condition                       -0.038744                   -0.001604   \n",
       "multiple_deliveries                      0.004461                    0.010277   \n",
       "Time_taken                               0.007821                    0.014243   \n",
       "\n",
       "                             Delivery_location_longitude  Vehicle_condition  \\\n",
       "Unnamed: 0                                     -0.001368          -0.003369   \n",
       "Delivery_person_Age                            -0.000495           0.003308   \n",
       "Delivery_person_Ratings                        -0.013552           0.034581   \n",
       "Restaurant_latitude                             0.602713          -0.033551   \n",
       "Restaurant_longitude                            0.915026          -0.038744   \n",
       "Delivery_location_latitude                      0.690515          -0.001604   \n",
       "Delivery_location_longitude                     1.000000          -0.001960   \n",
       "Vehicle_condition                              -0.001960           1.000000   \n",
       "multiple_deliveries                             0.005023          -0.097270   \n",
       "Time_taken                                      0.007625          -0.234398   \n",
       "\n",
       "                             multiple_deliveries  Time_taken  \n",
       "Unnamed: 0                             -0.003522   -0.005518  \n",
       "Delivery_person_Age                     0.115851    0.299474  \n",
       "Delivery_person_Ratings                -0.117647   -0.338790  \n",
       "Restaurant_latitude                     0.008051    0.013981  \n",
       "Restaurant_longitude                    0.004461    0.007821  \n",
       "Delivery_location_latitude              0.010277    0.014243  \n",
       "Delivery_location_longitude             0.005023    0.007625  \n",
       "Vehicle_condition                      -0.097270   -0.234398  \n",
       "multiple_deliveries                     1.000000    0.387051  \n",
       "Time_taken                              0.387051    1.000000  "
      ]
     },
     "execution_count": 91,
     "metadata": {},
     "output_type": "execute_result"
    }
   ],
   "source": [
    "train.corr()"
   ]
  },
  {
   "cell_type": "code",
   "execution_count": 92,
   "id": "fb5dd445",
   "metadata": {},
   "outputs": [
    {
     "data": {
      "text/html": [
       "<div>\n",
       "<style scoped>\n",
       "    .dataframe tbody tr th:only-of-type {\n",
       "        vertical-align: middle;\n",
       "    }\n",
       "\n",
       "    .dataframe tbody tr th {\n",
       "        vertical-align: top;\n",
       "    }\n",
       "\n",
       "    .dataframe thead th {\n",
       "        text-align: right;\n",
       "    }\n",
       "</style>\n",
       "<table border=\"1\" class=\"dataframe\">\n",
       "  <thead>\n",
       "    <tr style=\"text-align: right;\">\n",
       "      <th></th>\n",
       "      <th>Unnamed: 0</th>\n",
       "      <th>Delivery_person_Age</th>\n",
       "      <th>Delivery_person_Ratings</th>\n",
       "      <th>Restaurant_latitude</th>\n",
       "      <th>Restaurant_longitude</th>\n",
       "      <th>Delivery_location_latitude</th>\n",
       "      <th>Delivery_location_longitude</th>\n",
       "      <th>Vehicle_condition</th>\n",
       "      <th>multiple_deliveries</th>\n",
       "    </tr>\n",
       "  </thead>\n",
       "  <tbody>\n",
       "    <tr>\n",
       "      <th>Unnamed: 0</th>\n",
       "      <td>1.000000</td>\n",
       "      <td>0.001316</td>\n",
       "      <td>-0.012440</td>\n",
       "      <td>-0.005339</td>\n",
       "      <td>0.002075</td>\n",
       "      <td>-0.003050</td>\n",
       "      <td>0.000494</td>\n",
       "      <td>-0.001546</td>\n",
       "      <td>-0.003298</td>\n",
       "    </tr>\n",
       "    <tr>\n",
       "      <th>Delivery_person_Age</th>\n",
       "      <td>0.001316</td>\n",
       "      <td>1.000000</td>\n",
       "      <td>-0.056203</td>\n",
       "      <td>0.001284</td>\n",
       "      <td>0.000381</td>\n",
       "      <td>0.005439</td>\n",
       "      <td>-0.002318</td>\n",
       "      <td>-0.000049</td>\n",
       "      <td>0.113892</td>\n",
       "    </tr>\n",
       "    <tr>\n",
       "      <th>Delivery_person_Ratings</th>\n",
       "      <td>-0.012440</td>\n",
       "      <td>-0.056203</td>\n",
       "      <td>1.000000</td>\n",
       "      <td>0.011304</td>\n",
       "      <td>0.017036</td>\n",
       "      <td>0.000604</td>\n",
       "      <td>-0.001883</td>\n",
       "      <td>0.035706</td>\n",
       "      <td>-0.118440</td>\n",
       "    </tr>\n",
       "    <tr>\n",
       "      <th>Restaurant_latitude</th>\n",
       "      <td>-0.005339</td>\n",
       "      <td>0.001284</td>\n",
       "      <td>0.011304</td>\n",
       "      <td>1.000000</td>\n",
       "      <td>0.662124</td>\n",
       "      <td>0.858425</td>\n",
       "      <td>0.590240</td>\n",
       "      <td>-0.049324</td>\n",
       "      <td>0.001342</td>\n",
       "    </tr>\n",
       "    <tr>\n",
       "      <th>Restaurant_longitude</th>\n",
       "      <td>0.002075</td>\n",
       "      <td>0.000381</td>\n",
       "      <td>0.017036</td>\n",
       "      <td>0.662124</td>\n",
       "      <td>1.000000</td>\n",
       "      <td>0.611106</td>\n",
       "      <td>0.899566</td>\n",
       "      <td>-0.052553</td>\n",
       "      <td>-0.004590</td>\n",
       "    </tr>\n",
       "    <tr>\n",
       "      <th>Delivery_location_latitude</th>\n",
       "      <td>-0.003050</td>\n",
       "      <td>0.005439</td>\n",
       "      <td>0.000604</td>\n",
       "      <td>0.858425</td>\n",
       "      <td>0.611106</td>\n",
       "      <td>1.000000</td>\n",
       "      <td>0.681599</td>\n",
       "      <td>-0.024042</td>\n",
       "      <td>0.009821</td>\n",
       "    </tr>\n",
       "    <tr>\n",
       "      <th>Delivery_location_longitude</th>\n",
       "      <td>0.000494</td>\n",
       "      <td>-0.002318</td>\n",
       "      <td>-0.001883</td>\n",
       "      <td>0.590240</td>\n",
       "      <td>0.899566</td>\n",
       "      <td>0.681599</td>\n",
       "      <td>1.000000</td>\n",
       "      <td>-0.020173</td>\n",
       "      <td>0.002556</td>\n",
       "    </tr>\n",
       "    <tr>\n",
       "      <th>Vehicle_condition</th>\n",
       "      <td>-0.001546</td>\n",
       "      <td>-0.000049</td>\n",
       "      <td>0.035706</td>\n",
       "      <td>-0.049324</td>\n",
       "      <td>-0.052553</td>\n",
       "      <td>-0.024042</td>\n",
       "      <td>-0.020173</td>\n",
       "      <td>1.000000</td>\n",
       "      <td>-0.119135</td>\n",
       "    </tr>\n",
       "    <tr>\n",
       "      <th>multiple_deliveries</th>\n",
       "      <td>-0.003298</td>\n",
       "      <td>0.113892</td>\n",
       "      <td>-0.118440</td>\n",
       "      <td>0.001342</td>\n",
       "      <td>-0.004590</td>\n",
       "      <td>0.009821</td>\n",
       "      <td>0.002556</td>\n",
       "      <td>-0.119135</td>\n",
       "      <td>1.000000</td>\n",
       "    </tr>\n",
       "  </tbody>\n",
       "</table>\n",
       "</div>"
      ],
      "text/plain": [
       "                             Unnamed: 0  Delivery_person_Age  \\\n",
       "Unnamed: 0                     1.000000             0.001316   \n",
       "Delivery_person_Age            0.001316             1.000000   \n",
       "Delivery_person_Ratings       -0.012440            -0.056203   \n",
       "Restaurant_latitude           -0.005339             0.001284   \n",
       "Restaurant_longitude           0.002075             0.000381   \n",
       "Delivery_location_latitude    -0.003050             0.005439   \n",
       "Delivery_location_longitude    0.000494            -0.002318   \n",
       "Vehicle_condition             -0.001546            -0.000049   \n",
       "multiple_deliveries           -0.003298             0.113892   \n",
       "\n",
       "                             Delivery_person_Ratings  Restaurant_latitude  \\\n",
       "Unnamed: 0                                 -0.012440            -0.005339   \n",
       "Delivery_person_Age                        -0.056203             0.001284   \n",
       "Delivery_person_Ratings                     1.000000             0.011304   \n",
       "Restaurant_latitude                         0.011304             1.000000   \n",
       "Restaurant_longitude                        0.017036             0.662124   \n",
       "Delivery_location_latitude                  0.000604             0.858425   \n",
       "Delivery_location_longitude                -0.001883             0.590240   \n",
       "Vehicle_condition                           0.035706            -0.049324   \n",
       "multiple_deliveries                        -0.118440             0.001342   \n",
       "\n",
       "                             Restaurant_longitude  Delivery_location_latitude  \\\n",
       "Unnamed: 0                               0.002075                   -0.003050   \n",
       "Delivery_person_Age                      0.000381                    0.005439   \n",
       "Delivery_person_Ratings                  0.017036                    0.000604   \n",
       "Restaurant_latitude                      0.662124                    0.858425   \n",
       "Restaurant_longitude                     1.000000                    0.611106   \n",
       "Delivery_location_latitude               0.611106                    1.000000   \n",
       "Delivery_location_longitude              0.899566                    0.681599   \n",
       "Vehicle_condition                       -0.052553                   -0.024042   \n",
       "multiple_deliveries                     -0.004590                    0.009821   \n",
       "\n",
       "                             Delivery_location_longitude  Vehicle_condition  \\\n",
       "Unnamed: 0                                      0.000494          -0.001546   \n",
       "Delivery_person_Age                            -0.002318          -0.000049   \n",
       "Delivery_person_Ratings                        -0.001883           0.035706   \n",
       "Restaurant_latitude                             0.590240          -0.049324   \n",
       "Restaurant_longitude                            0.899566          -0.052553   \n",
       "Delivery_location_latitude                      0.681599          -0.024042   \n",
       "Delivery_location_longitude                     1.000000          -0.020173   \n",
       "Vehicle_condition                              -0.020173           1.000000   \n",
       "multiple_deliveries                             0.002556          -0.119135   \n",
       "\n",
       "                             multiple_deliveries  \n",
       "Unnamed: 0                             -0.003298  \n",
       "Delivery_person_Age                     0.113892  \n",
       "Delivery_person_Ratings                -0.118440  \n",
       "Restaurant_latitude                     0.001342  \n",
       "Restaurant_longitude                   -0.004590  \n",
       "Delivery_location_latitude              0.009821  \n",
       "Delivery_location_longitude             0.002556  \n",
       "Vehicle_condition                      -0.119135  \n",
       "multiple_deliveries                     1.000000  "
      ]
     },
     "execution_count": 92,
     "metadata": {},
     "output_type": "execute_result"
    }
   ],
   "source": [
    "test_model.corr()"
   ]
  },
  {
   "cell_type": "code",
   "execution_count": 93,
   "id": "26da28e3",
   "metadata": {},
   "outputs": [
    {
     "name": "stdout",
     "output_type": "stream",
     "text": [
      "<class 'pandas.core.frame.DataFrame'>\n",
      "RangeIndex: 45593 entries, 0 to 45592\n",
      "Data columns (total 21 columns):\n",
      " #   Column                       Non-Null Count  Dtype  \n",
      "---  ------                       --------------  -----  \n",
      " 0   Unnamed: 0                   45593 non-null  int64  \n",
      " 1   ID                           45593 non-null  object \n",
      " 2   Delivery_person_ID           45593 non-null  object \n",
      " 3   Delivery_person_Age          43739 non-null  float64\n",
      " 4   Delivery_person_Ratings      43685 non-null  float64\n",
      " 5   Restaurant_latitude          45593 non-null  float64\n",
      " 6   Restaurant_longitude         45593 non-null  float64\n",
      " 7   Delivery_location_latitude   45593 non-null  float64\n",
      " 8   Delivery_location_longitude  45593 non-null  float64\n",
      " 9   Order_Date                   45593 non-null  object \n",
      " 10  Time_Orderd                  43862 non-null  object \n",
      " 11  Time_Order_picked            45593 non-null  object \n",
      " 12  Weather                      44977 non-null  object \n",
      " 13  Road_traffic_density         44992 non-null  object \n",
      " 14  Vehicle_condition            45593 non-null  int64  \n",
      " 15  Type_of_order                45593 non-null  object \n",
      " 16  Type_of_vehicle              45593 non-null  object \n",
      " 17  multiple_deliveries          44600 non-null  float64\n",
      " 18  Festival                     45365 non-null  object \n",
      " 19  City                         44393 non-null  object \n",
      " 20  Time_taken                   45593 non-null  float64\n",
      "dtypes: float64(8), int64(2), object(11)\n",
      "memory usage: 7.3+ MB\n"
     ]
    }
   ],
   "source": [
    "train.info()"
   ]
  },
  {
   "cell_type": "code",
   "execution_count": 94,
   "id": "f334c0ff",
   "metadata": {},
   "outputs": [
    {
     "name": "stdout",
     "output_type": "stream",
     "text": [
      "<class 'pandas.core.frame.DataFrame'>\n",
      "RangeIndex: 11399 entries, 0 to 11398\n",
      "Data columns (total 20 columns):\n",
      " #   Column                       Non-Null Count  Dtype  \n",
      "---  ------                       --------------  -----  \n",
      " 0   Unnamed: 0                   11399 non-null  int64  \n",
      " 1   ID                           11399 non-null  object \n",
      " 2   Delivery_person_ID           11399 non-null  object \n",
      " 3   Delivery_person_Age          10908 non-null  float64\n",
      " 4   Delivery_person_Ratings      10892 non-null  float64\n",
      " 5   Restaurant_latitude          11399 non-null  float64\n",
      " 6   Restaurant_longitude         11399 non-null  float64\n",
      " 7   Delivery_location_latitude   11399 non-null  float64\n",
      " 8   Delivery_location_longitude  11399 non-null  float64\n",
      " 9   Order_Date                   11399 non-null  object \n",
      " 10  Time_Orderd                  10955 non-null  object \n",
      " 11  Time_Order_picked            11399 non-null  object \n",
      " 12  Weather                      11241 non-null  object \n",
      " 13  Road_traffic_density         11245 non-null  object \n",
      " 14  Vehicle_condition            11399 non-null  int64  \n",
      " 15  Type_of_order                11399 non-null  object \n",
      " 16  Type_of_vehicle              11399 non-null  object \n",
      " 17  multiple_deliveries          11161 non-null  float64\n",
      " 18  Festival                     11334 non-null  object \n",
      " 19  City                         11075 non-null  object \n",
      "dtypes: float64(7), int64(2), object(11)\n",
      "memory usage: 1.7+ MB\n"
     ]
    }
   ],
   "source": [
    "test_model.info()"
   ]
  },
  {
   "cell_type": "markdown",
   "id": "a1ec7d9f",
   "metadata": {},
   "source": [
    "### Using graphical visualization to check proportionality and other factor"
   ]
  },
  {
   "cell_type": "markdown",
   "id": "1ee3ff05",
   "metadata": {},
   "source": [
    "##### From  the above plot it seems that age range from 20 - 40 are more in number than the other age"
   ]
  },
  {
   "cell_type": "code",
   "execution_count": 140,
   "id": "d862177e",
   "metadata": {},
   "outputs": [
    {
     "name": "stderr",
     "output_type": "stream",
     "text": [
      "C:\\Users\\ssaur\\AppData\\Local\\Programs\\Python\\Python39\\lib\\site-packages\\seaborn\\distributions.py:2619: FutureWarning: `distplot` is a deprecated function and will be removed in a future version. Please adapt your code to use either `displot` (a figure-level function with similar flexibility) or `kdeplot` (an axes-level function for kernel density plots).\n",
      "  warnings.warn(msg, FutureWarning)\n",
      "C:\\Users\\ssaur\\AppData\\Local\\Programs\\Python\\Python39\\lib\\site-packages\\seaborn\\distributions.py:2619: FutureWarning: `distplot` is a deprecated function and will be removed in a future version. Please adapt your code to use either `displot` (a figure-level function with similar flexibility) or `kdeplot` (an axes-level function for kernel density plots).\n",
      "  warnings.warn(msg, FutureWarning)\n"
     ]
    },
    {
     "data": {
      "text/plain": [
       "<AxesSubplot:xlabel='Delivery_person_Age', ylabel='Density'>"
      ]
     },
     "execution_count": 140,
     "metadata": {},
     "output_type": "execute_result"
    },
    {
     "data": {
      "image/png": "[encoded data removed]",
      "text/plain": [
       "<Figure size 640x480 with 1 Axes>"
      ]
     },
     "metadata": {},
     "output_type": "display_data"
    }
   ],
   "source": [
    "sns.distplot(train['Delivery_person_Age'],hist=False)\n",
    "sns.distplot(test_model['Delivery_person_Age'],hist=False)"
   ]
  },
  {
   "cell_type": "markdown",
   "id": "5622695b",
   "metadata": {},
   "source": [
    "##### From  the above plot it seems that the rating range from 4-5 are more in number than the other remaining rating,some value is above 5, not normally distributed"
   ]
  },
  {
   "cell_type": "code",
   "execution_count": 143,
   "id": "8d2ec663",
   "metadata": {},
   "outputs": [
    {
     "name": "stderr",
     "output_type": "stream",
     "text": [
      "C:\\Users\\ssaur\\AppData\\Local\\Programs\\Python\\Python39\\lib\\site-packages\\seaborn\\distributions.py:2619: FutureWarning: `distplot` is a deprecated function and will be removed in a future version. Please adapt your code to use either `displot` (a figure-level function with similar flexibility) or `kdeplot` (an axes-level function for kernel density plots).\n",
      "  warnings.warn(msg, FutureWarning)\n",
      "C:\\Users\\ssaur\\AppData\\Local\\Programs\\Python\\Python39\\lib\\site-packages\\seaborn\\distributions.py:2619: FutureWarning: `distplot` is a deprecated function and will be removed in a future version. Please adapt your code to use either `displot` (a figure-level function with similar flexibility) or `kdeplot` (an axes-level function for kernel density plots).\n",
      "  warnings.warn(msg, FutureWarning)\n"
     ]
    },
    {
     "data": {
      "text/plain": [
       "<AxesSubplot:xlabel='Delivery_person_Ratings', ylabel='Density'>"
      ]
     },
     "execution_count": 143,
     "metadata": {},
     "output_type": "execute_result"
    },
    {
     "data": {
      "image/png": "[encoded data removed]",
      "text/plain": [
       "<Figure size 640x480 with 1 Axes>"
      ]
     },
     "metadata": {},
     "output_type": "display_data"
    }
   ],
   "source": [
    "sns.distplot(train['Delivery_person_Ratings'],hist=False)\n",
    "sns.distplot(test_model['Delivery_person_Ratings'],hist=False)"
   ]
  },
  {
   "cell_type": "markdown",
   "id": "f625c608",
   "metadata": {},
   "source": [
    "##### From  the above plot it seems that the Road_traffic_density are ordered in [low,medium,high,jam], where low will take less time and jam will take more time"
   ]
  },
  {
   "cell_type": "code",
   "execution_count": 144,
   "id": "974eb3a1",
   "metadata": {},
   "outputs": [
    {
     "name": "stderr",
     "output_type": "stream",
     "text": [
      "C:\\Users\\ssaur\\AppData\\Local\\Programs\\Python\\Python39\\lib\\site-packages\\seaborn\\_decorators.py:36: FutureWarning: Pass the following variables as keyword args: x, y. From version 0.12, the only valid positional argument will be `data`, and passing other arguments without an explicit keyword will result in an error or misinterpretation.\n",
      "  warnings.warn(\n"
     ]
    },
    {
     "data": {
      "image/png": "[encoded data removed]",
      "text/plain": [
       "<Figure size 640x480 with 1 Axes>"
      ]
     },
     "metadata": {},
     "output_type": "display_data"
    }
   ],
   "source": [
    "ax = sns.barplot(train['Road_traffic_density'],train['Time_taken'])\n",
    "for i in ax.containers:\n",
    "    ax.bar_label(i,)"
   ]
  },
  {
   "cell_type": "markdown",
   "id": "74aea1fb",
   "metadata": {},
   "source": [
    "##### From  the above plot it seems that the Type of order is independent on time taken"
   ]
  },
  {
   "cell_type": "code",
   "execution_count": 147,
   "id": "c315e2ad",
   "metadata": {},
   "outputs": [
    {
     "name": "stderr",
     "output_type": "stream",
     "text": [
      "C:\\Users\\ssaur\\AppData\\Local\\Programs\\Python\\Python39\\lib\\site-packages\\seaborn\\_decorators.py:36: FutureWarning: Pass the following variables as keyword args: x, y. From version 0.12, the only valid positional argument will be `data`, and passing other arguments without an explicit keyword will result in an error or misinterpretation.\n",
      "  warnings.warn(\n"
     ]
    },
    {
     "data": {
      "image/png": "[encoded data removed]",
      "text/plain": [
       "<Figure size 640x480 with 1 Axes>"
      ]
     },
     "metadata": {},
     "output_type": "display_data"
    }
   ],
   "source": [
    "ax = sns.barplot(train['Type_of_order'],train['Time_taken'])\n",
    "for i in ax.containers:\n",
    "    ax.bar_label(i,)"
   ]
  },
  {
   "cell_type": "markdown",
   "id": "906fe505",
   "metadata": {},
   "source": [
    "##### From  the above plot it seems that the Festival are ordered in [No,Yes], where No will take less time and Yes will take more time"
   ]
  },
  {
   "cell_type": "code",
   "execution_count": 148,
   "id": "d02300b1",
   "metadata": {},
   "outputs": [
    {
     "name": "stderr",
     "output_type": "stream",
     "text": [
      "C:\\Users\\ssaur\\AppData\\Local\\Programs\\Python\\Python39\\lib\\site-packages\\seaborn\\_decorators.py:36: FutureWarning: Pass the following variables as keyword args: x, y. From version 0.12, the only valid positional argument will be `data`, and passing other arguments without an explicit keyword will result in an error or misinterpretation.\n",
      "  warnings.warn(\n"
     ]
    },
    {
     "data": {
      "image/png": "[encoded data removed]",
      "text/plain": [
       "<Figure size 640x480 with 1 Axes>"
      ]
     },
     "metadata": {},
     "output_type": "display_data"
    }
   ],
   "source": [
    "ax = sns.barplot(train['Festival'],train['Time_taken'])\n",
    "for i in ax.containers:\n",
    "    ax.bar_label(i,)"
   ]
  },
  {
   "cell_type": "markdown",
   "id": "5fdb81dc",
   "metadata": {},
   "source": [
    "##### From  the above plot it seems that the multiple_deliveries are ordered in [0,1,2,3], where 0 will take less time and 3 will take more time"
   ]
  },
  {
   "cell_type": "code",
   "execution_count": 150,
   "id": "277667dd",
   "metadata": {},
   "outputs": [
    {
     "name": "stderr",
     "output_type": "stream",
     "text": [
      "C:\\Users\\ssaur\\AppData\\Local\\Programs\\Python\\Python39\\lib\\site-packages\\seaborn\\_decorators.py:36: FutureWarning: Pass the following variables as keyword args: x, y. From version 0.12, the only valid positional argument will be `data`, and passing other arguments without an explicit keyword will result in an error or misinterpretation.\n",
      "  warnings.warn(\n"
     ]
    },
    {
     "data": {
      "image/png": "[encoded data removed]",
      "text/plain": [
       "<Figure size 640x480 with 1 Axes>"
      ]
     },
     "metadata": {},
     "output_type": "display_data"
    }
   ],
   "source": [
    "ax = sns.barplot(train['multiple_deliveries'],train['Time_taken'])\n",
    "for i in ax.containers:\n",
    "    ax.bar_label(i,)"
   ]
  },
  {
   "cell_type": "markdown",
   "id": "81f6e142",
   "metadata": {},
   "source": [
    "# Data Preprocessing"
   ]
  },
  {
   "cell_type": "markdown",
   "id": "d469e392",
   "metadata": {},
   "source": [
    "#### Checking the Shape of Delivery_person_Ratings whose value is greater then 5 (Invalid)"
   ]
  },
  {
   "cell_type": "code",
   "execution_count": 155,
   "id": "381a1ff1",
   "metadata": {},
   "outputs": [
    {
     "data": {
      "text/plain": [
       "(0, 21)"
      ]
     },
     "execution_count": 155,
     "metadata": {},
     "output_type": "execute_result"
    }
   ],
   "source": [
    "train[(train['Delivery_person_Ratings']>5.0)].shape"
   ]
  },
  {
   "cell_type": "code",
   "execution_count": 156,
   "id": "a9643395",
   "metadata": {},
   "outputs": [
    {
     "data": {
      "text/plain": [
       "(0, 20)"
      ]
     },
     "execution_count": 156,
     "metadata": {},
     "output_type": "execute_result"
    }
   ],
   "source": [
    "test_model[(test_model['Delivery_person_Ratings']>5.0)].shape"
   ]
  },
  {
   "cell_type": "markdown",
   "id": "4eb6dbed",
   "metadata": {},
   "source": [
    "#### Replacing invalid value with NaN. "
   ]
  },
  {
   "cell_type": "code",
   "execution_count": 153,
   "id": "0a9cf7e1",
   "metadata": {},
   "outputs": [],
   "source": [
    "train.loc[train['Delivery_person_Ratings']>5.0,'Delivery_person_Ratings'] = np.nan"
   ]
  },
  {
   "cell_type": "code",
   "execution_count": 154,
   "id": "32bb5e91",
   "metadata": {},
   "outputs": [],
   "source": [
    "test_model.loc[test_model['Delivery_person_Ratings']>5.0,'Delivery_person_Ratings'] = np.nan"
   ]
  },
  {
   "cell_type": "code",
   "execution_count": 157,
   "id": "773a7353",
   "metadata": {},
   "outputs": [
    {
     "data": {
      "text/plain": [
       "array([4.9, 4.5, 4.4, 4.7, 4.6, 4.8, 4.2, 4.3, 4. , 4.1, 5. , 3.5, nan,\n",
       "       3.8, 3.9, 3.7, 2.6, 2.5, 3.6, 3.1, 2.7, 1. , 3.2, 3.3, 3.4, 2.8,\n",
       "       2.9, 3. ])"
      ]
     },
     "execution_count": 157,
     "metadata": {},
     "output_type": "execute_result"
    }
   ],
   "source": [
    "train['Delivery_person_Ratings'].unique()"
   ]
  },
  {
   "cell_type": "code",
   "execution_count": 158,
   "id": "18a8a060",
   "metadata": {},
   "outputs": [
    {
     "data": {
      "text/plain": [
       "array([nan, 4.6, 4.5, 4.8, 4.7, 4.9, 4.2, 2.7, 5. , 4.3, 3.8, 4.1, 4.4,\n",
       "       3.9, 4. , 3.7, 3.5, 2.8, 3.3, 3.4, 1. , 3.2, 3.6, 2.6, 2.9, 2.5,\n",
       "       3.1, 3. ])"
      ]
     },
     "execution_count": 158,
     "metadata": {},
     "output_type": "execute_result"
    }
   ],
   "source": [
    "test_model['Delivery_person_Ratings'].unique()"
   ]
  },
  {
   "cell_type": "markdown",
   "id": "577a9412",
   "metadata": {},
   "source": [
    "#### Some restaurant coordinate are invalid. that need to be replaces with nan in total distance"
   ]
  },
  {
   "cell_type": "code",
   "execution_count": 159,
   "id": "7611fb3d",
   "metadata": {},
   "outputs": [
    {
     "data": {
      "text/plain": [
       "(4071, 21)"
      ]
     },
     "execution_count": 159,
     "metadata": {},
     "output_type": "execute_result"
    }
   ],
   "source": [
    "train[(train['Restaurant_latitude']<=0) | (train['Restaurant_longitude']<=0)].shape"
   ]
  },
  {
   "cell_type": "code",
   "execution_count": 160,
   "id": "07efde0f",
   "metadata": {},
   "outputs": [
    {
     "data": {
      "text/plain": [
       "(984, 20)"
      ]
     },
     "execution_count": 160,
     "metadata": {},
     "output_type": "execute_result"
    }
   ],
   "source": [
    "test_model[(test_model['Restaurant_latitude']<=0) | (test_model['Restaurant_longitude']<=0)].shape"
   ]
  },
  {
   "cell_type": "markdown",
   "id": "0e28fec9",
   "metadata": {},
   "source": [
    "#### Using geopy to find the distance between 2 coordinate"
   ]
  },
  {
   "cell_type": "code",
   "execution_count": 161,
   "id": "77c1a3cc",
   "metadata": {},
   "outputs": [
    {
     "name": "stdout",
     "output_type": "stream",
     "text": [
      "Requirement already satisfied: geopy in c:\\users\\ssaur\\appdata\\local\\programs\\python\\python39\\lib\\site-packages (2.2.0)Note: you may need to restart the kernel to use updated packages.\n"
     ]
    },
    {
     "name": "stderr",
     "output_type": "stream",
     "text": [
      "WARNING: You are using pip version 22.0.4; however, version 22.2.2 is available.\n",
      "You should consider upgrading via the 'C:\\Users\\ssaur\\AppData\\Local\\Programs\\Python\\Python39\\python.exe -m pip install --upgrade pip' command.\n"
     ]
    },
    {
     "name": "stdout",
     "output_type": "stream",
     "text": [
      "\n",
      "Requirement already satisfied: geographiclib<2,>=1.49 in c:\\users\\ssaur\\appdata\\local\\programs\\python\\python39\\lib\\site-packages (from geopy) (1.52)\n"
     ]
    }
   ],
   "source": [
    "pip install geopy"
   ]
  },
  {
   "cell_type": "code",
   "execution_count": 162,
   "id": "a49a516c",
   "metadata": {},
   "outputs": [],
   "source": [
    "import geopy.distance"
   ]
  },
  {
   "cell_type": "markdown",
   "id": "faa3e8c0",
   "metadata": {},
   "source": [
    "#### creating function to calculate distance between 2 coordinate, will return nan if coordinate is invalid"
   ]
  },
  {
   "cell_type": "code",
   "execution_count": 165,
   "id": "ba9cf233",
   "metadata": {},
   "outputs": [],
   "source": [
    "def calculate_dist_lat_long(la1,lo1,la2,lo2):\n",
    "    coords_1 = (la1, lo1)\n",
    "    coords_2 = (la2, lo2)\n",
    "    if((la1>0.00) & (lo1>0.00)):\n",
    "        result = geopy.distance.great_circle(coords_1, coords_2).km\n",
    "        return result\n",
    "    else:\n",
    "        return float('NaN')"
   ]
  },
  {
   "cell_type": "markdown",
   "id": "4a7a54f5",
   "metadata": {},
   "source": [
    "#### Applying Function to calculate total_distance"
   ]
  },
  {
   "cell_type": "code",
   "execution_count": 166,
   "id": "d12023a8",
   "metadata": {},
   "outputs": [],
   "source": [
    "train['total_distance']=np.vectorize(calculate_dist_lat_long)(train['Restaurant_latitude'],train['Restaurant_longitude'],train['Delivery_location_latitude'],train['Delivery_location_longitude'])"
   ]
  },
  {
   "cell_type": "code",
   "execution_count": 167,
   "id": "2e4309b8",
   "metadata": {},
   "outputs": [],
   "source": [
    "test_model['total_distance']=np.vectorize(calculate_dist_lat_long)(test_model['Restaurant_latitude'],test_model['Restaurant_longitude'],test_model['Delivery_location_latitude'],test_model['Delivery_location_longitude'])"
   ]
  },
  {
   "cell_type": "code",
   "execution_count": 168,
   "id": "e779f2db",
   "metadata": {},
   "outputs": [
    {
     "data": {
      "text/html": [
       "<div>\n",
       "<style scoped>\n",
       "    .dataframe tbody tr th:only-of-type {\n",
       "        vertical-align: middle;\n",
       "    }\n",
       "\n",
       "    .dataframe tbody tr th {\n",
       "        vertical-align: top;\n",
       "    }\n",
       "\n",
       "    .dataframe thead th {\n",
       "        text-align: right;\n",
       "    }\n",
       "</style>\n",
       "<table border=\"1\" class=\"dataframe\">\n",
       "  <thead>\n",
       "    <tr style=\"text-align: right;\">\n",
       "      <th></th>\n",
       "      <th>Unnamed: 0</th>\n",
       "      <th>ID</th>\n",
       "      <th>Delivery_person_ID</th>\n",
       "      <th>Delivery_person_Age</th>\n",
       "      <th>Delivery_person_Ratings</th>\n",
       "      <th>Restaurant_latitude</th>\n",
       "      <th>Restaurant_longitude</th>\n",
       "      <th>Delivery_location_latitude</th>\n",
       "      <th>Delivery_location_longitude</th>\n",
       "      <th>Order_Date</th>\n",
       "      <th>...</th>\n",
       "      <th>Weather</th>\n",
       "      <th>Road_traffic_density</th>\n",
       "      <th>Vehicle_condition</th>\n",
       "      <th>Type_of_order</th>\n",
       "      <th>Type_of_vehicle</th>\n",
       "      <th>multiple_deliveries</th>\n",
       "      <th>Festival</th>\n",
       "      <th>City</th>\n",
       "      <th>Time_taken</th>\n",
       "      <th>total_distance</th>\n",
       "    </tr>\n",
       "  </thead>\n",
       "  <tbody>\n",
       "    <tr>\n",
       "      <th>0</th>\n",
       "      <td>0</td>\n",
       "      <td>0x4607</td>\n",
       "      <td>INDORES13DEL02</td>\n",
       "      <td>37.0</td>\n",
       "      <td>4.9</td>\n",
       "      <td>22.745049</td>\n",
       "      <td>75.892471</td>\n",
       "      <td>22.765049</td>\n",
       "      <td>75.912471</td>\n",
       "      <td>19-03-2022</td>\n",
       "      <td>...</td>\n",
       "      <td>Sunny</td>\n",
       "      <td>High</td>\n",
       "      <td>2</td>\n",
       "      <td>Snack</td>\n",
       "      <td>motorcycle</td>\n",
       "      <td>0.0</td>\n",
       "      <td>No</td>\n",
       "      <td>Urban</td>\n",
       "      <td>24.0</td>\n",
       "      <td>3.025154</td>\n",
       "    </tr>\n",
       "    <tr>\n",
       "      <th>1</th>\n",
       "      <td>1</td>\n",
       "      <td>0xb379</td>\n",
       "      <td>BANGRES18DEL02</td>\n",
       "      <td>34.0</td>\n",
       "      <td>4.5</td>\n",
       "      <td>12.913041</td>\n",
       "      <td>77.683237</td>\n",
       "      <td>13.043041</td>\n",
       "      <td>77.813237</td>\n",
       "      <td>25-03-2022</td>\n",
       "      <td>...</td>\n",
       "      <td>Stormy</td>\n",
       "      <td>Jam</td>\n",
       "      <td>2</td>\n",
       "      <td>Snack</td>\n",
       "      <td>scooter</td>\n",
       "      <td>1.0</td>\n",
       "      <td>No</td>\n",
       "      <td>Metropolitian</td>\n",
       "      <td>33.0</td>\n",
       "      <td>20.183558</td>\n",
       "    </tr>\n",
       "    <tr>\n",
       "      <th>2</th>\n",
       "      <td>2</td>\n",
       "      <td>0x5d6d</td>\n",
       "      <td>BANGRES19DEL01</td>\n",
       "      <td>23.0</td>\n",
       "      <td>4.4</td>\n",
       "      <td>12.914264</td>\n",
       "      <td>77.678400</td>\n",
       "      <td>12.924264</td>\n",
       "      <td>77.688400</td>\n",
       "      <td>19-03-2022</td>\n",
       "      <td>...</td>\n",
       "      <td>Sandstorms</td>\n",
       "      <td>Low</td>\n",
       "      <td>0</td>\n",
       "      <td>Drinks</td>\n",
       "      <td>motorcycle</td>\n",
       "      <td>1.0</td>\n",
       "      <td>No</td>\n",
       "      <td>Urban</td>\n",
       "      <td>26.0</td>\n",
       "      <td>1.552760</td>\n",
       "    </tr>\n",
       "    <tr>\n",
       "      <th>3</th>\n",
       "      <td>3</td>\n",
       "      <td>0x7a6a</td>\n",
       "      <td>COIMBRES13DEL02</td>\n",
       "      <td>38.0</td>\n",
       "      <td>4.7</td>\n",
       "      <td>11.003669</td>\n",
       "      <td>76.976494</td>\n",
       "      <td>11.053669</td>\n",
       "      <td>77.026494</td>\n",
       "      <td>05-04-2022</td>\n",
       "      <td>...</td>\n",
       "      <td>Sunny</td>\n",
       "      <td>Medium</td>\n",
       "      <td>0</td>\n",
       "      <td>Buffet</td>\n",
       "      <td>motorcycle</td>\n",
       "      <td>1.0</td>\n",
       "      <td>No</td>\n",
       "      <td>Metropolitian</td>\n",
       "      <td>21.0</td>\n",
       "      <td>7.790412</td>\n",
       "    </tr>\n",
       "    <tr>\n",
       "      <th>4</th>\n",
       "      <td>4</td>\n",
       "      <td>0x70a2</td>\n",
       "      <td>CHENRES12DEL01</td>\n",
       "      <td>32.0</td>\n",
       "      <td>4.6</td>\n",
       "      <td>12.972793</td>\n",
       "      <td>80.249982</td>\n",
       "      <td>13.012793</td>\n",
       "      <td>80.289982</td>\n",
       "      <td>26-03-2022</td>\n",
       "      <td>...</td>\n",
       "      <td>Cloudy</td>\n",
       "      <td>High</td>\n",
       "      <td>1</td>\n",
       "      <td>Snack</td>\n",
       "      <td>scooter</td>\n",
       "      <td>1.0</td>\n",
       "      <td>No</td>\n",
       "      <td>Metropolitian</td>\n",
       "      <td>30.0</td>\n",
       "      <td>6.210147</td>\n",
       "    </tr>\n",
       "  </tbody>\n",
       "</table>\n",
       "<p>5 rows × 22 columns</p>\n",
       "</div>"
      ],
      "text/plain": [
       "   Unnamed: 0      ID Delivery_person_ID  Delivery_person_Age  \\\n",
       "0           0  0x4607     INDORES13DEL02                 37.0   \n",
       "1           1  0xb379     BANGRES18DEL02                 34.0   \n",
       "2           2  0x5d6d     BANGRES19DEL01                 23.0   \n",
       "3           3  0x7a6a    COIMBRES13DEL02                 38.0   \n",
       "4           4  0x70a2     CHENRES12DEL01                 32.0   \n",
       "\n",
       "   Delivery_person_Ratings  Restaurant_latitude  Restaurant_longitude  \\\n",
       "0                      4.9            22.745049             75.892471   \n",
       "1                      4.5            12.913041             77.683237   \n",
       "2                      4.4            12.914264             77.678400   \n",
       "3                      4.7            11.003669             76.976494   \n",
       "4                      4.6            12.972793             80.249982   \n",
       "\n",
       "   Delivery_location_latitude  Delivery_location_longitude  Order_Date  ...  \\\n",
       "0                   22.765049                    75.912471  19-03-2022  ...   \n",
       "1                   13.043041                    77.813237  25-03-2022  ...   \n",
       "2                   12.924264                    77.688400  19-03-2022  ...   \n",
       "3                   11.053669                    77.026494  05-04-2022  ...   \n",
       "4                   13.012793                    80.289982  26-03-2022  ...   \n",
       "\n",
       "      Weather Road_traffic_density Vehicle_condition Type_of_order  \\\n",
       "0       Sunny                 High                 2         Snack   \n",
       "1      Stormy                  Jam                 2         Snack   \n",
       "2  Sandstorms                  Low                 0        Drinks   \n",
       "3       Sunny               Medium                 0        Buffet   \n",
       "4      Cloudy                 High                 1         Snack   \n",
       "\n",
       "   Type_of_vehicle multiple_deliveries Festival           City Time_taken  \\\n",
       "0       motorcycle                 0.0       No          Urban       24.0   \n",
       "1          scooter                 1.0       No  Metropolitian       33.0   \n",
       "2       motorcycle                 1.0       No          Urban       26.0   \n",
       "3       motorcycle                 1.0       No  Metropolitian       21.0   \n",
       "4          scooter                 1.0       No  Metropolitian       30.0   \n",
       "\n",
       "  total_distance  \n",
       "0       3.025154  \n",
       "1      20.183558  \n",
       "2       1.552760  \n",
       "3       7.790412  \n",
       "4       6.210147  \n",
       "\n",
       "[5 rows x 22 columns]"
      ]
     },
     "execution_count": 168,
     "metadata": {},
     "output_type": "execute_result"
    }
   ],
   "source": [
    "train.head()"
   ]
  },
  {
   "cell_type": "code",
   "execution_count": 169,
   "id": "d8b6ac50",
   "metadata": {},
   "outputs": [
    {
     "data": {
      "text/html": [
       "<div>\n",
       "<style scoped>\n",
       "    .dataframe tbody tr th:only-of-type {\n",
       "        vertical-align: middle;\n",
       "    }\n",
       "\n",
       "    .dataframe tbody tr th {\n",
       "        vertical-align: top;\n",
       "    }\n",
       "\n",
       "    .dataframe thead th {\n",
       "        text-align: right;\n",
       "    }\n",
       "</style>\n",
       "<table border=\"1\" class=\"dataframe\">\n",
       "  <thead>\n",
       "    <tr style=\"text-align: right;\">\n",
       "      <th></th>\n",
       "      <th>Unnamed: 0</th>\n",
       "      <th>ID</th>\n",
       "      <th>Delivery_person_ID</th>\n",
       "      <th>Delivery_person_Age</th>\n",
       "      <th>Delivery_person_Ratings</th>\n",
       "      <th>Restaurant_latitude</th>\n",
       "      <th>Restaurant_longitude</th>\n",
       "      <th>Delivery_location_latitude</th>\n",
       "      <th>Delivery_location_longitude</th>\n",
       "      <th>Order_Date</th>\n",
       "      <th>...</th>\n",
       "      <th>Time_Order_picked</th>\n",
       "      <th>Weather</th>\n",
       "      <th>Road_traffic_density</th>\n",
       "      <th>Vehicle_condition</th>\n",
       "      <th>Type_of_order</th>\n",
       "      <th>Type_of_vehicle</th>\n",
       "      <th>multiple_deliveries</th>\n",
       "      <th>Festival</th>\n",
       "      <th>City</th>\n",
       "      <th>total_distance</th>\n",
       "    </tr>\n",
       "  </thead>\n",
       "  <tbody>\n",
       "    <tr>\n",
       "      <th>0</th>\n",
       "      <td>0</td>\n",
       "      <td>0x2318</td>\n",
       "      <td>COIMBRES13DEL01</td>\n",
       "      <td>NaN</td>\n",
       "      <td>NaN</td>\n",
       "      <td>11.003669</td>\n",
       "      <td>76.976494</td>\n",
       "      <td>11.043669</td>\n",
       "      <td>77.016494</td>\n",
       "      <td>30-03-2022</td>\n",
       "      <td>...</td>\n",
       "      <td>15:05</td>\n",
       "      <td>NaN</td>\n",
       "      <td>NaN</td>\n",
       "      <td>3</td>\n",
       "      <td>Drinks</td>\n",
       "      <td>electric_scooter</td>\n",
       "      <td>1.0</td>\n",
       "      <td>No</td>\n",
       "      <td>Metropolitian</td>\n",
       "      <td>6.232382</td>\n",
       "    </tr>\n",
       "    <tr>\n",
       "      <th>1</th>\n",
       "      <td>1</td>\n",
       "      <td>0x3474</td>\n",
       "      <td>BANGRES15DEL01</td>\n",
       "      <td>28.0</td>\n",
       "      <td>4.6</td>\n",
       "      <td>12.975377</td>\n",
       "      <td>77.696664</td>\n",
       "      <td>13.085377</td>\n",
       "      <td>77.806664</td>\n",
       "      <td>29-03-2022</td>\n",
       "      <td>...</td>\n",
       "      <td>20:35</td>\n",
       "      <td>Windy</td>\n",
       "      <td>Jam</td>\n",
       "      <td>0</td>\n",
       "      <td>Snack</td>\n",
       "      <td>motorcycle</td>\n",
       "      <td>1.0</td>\n",
       "      <td>No</td>\n",
       "      <td>Metropolitian</td>\n",
       "      <td>17.076642</td>\n",
       "    </tr>\n",
       "    <tr>\n",
       "      <th>2</th>\n",
       "      <td>2</td>\n",
       "      <td>0x9420</td>\n",
       "      <td>JAPRES09DEL03</td>\n",
       "      <td>23.0</td>\n",
       "      <td>4.5</td>\n",
       "      <td>26.911378</td>\n",
       "      <td>75.789034</td>\n",
       "      <td>27.001378</td>\n",
       "      <td>75.879034</td>\n",
       "      <td>10-03-2022</td>\n",
       "      <td>...</td>\n",
       "      <td>19:45</td>\n",
       "      <td>Stormy</td>\n",
       "      <td>Jam</td>\n",
       "      <td>0</td>\n",
       "      <td>Drinks</td>\n",
       "      <td>motorcycle</td>\n",
       "      <td>1.0</td>\n",
       "      <td>No</td>\n",
       "      <td>Metropolitian</td>\n",
       "      <td>13.406048</td>\n",
       "    </tr>\n",
       "    <tr>\n",
       "      <th>3</th>\n",
       "      <td>3</td>\n",
       "      <td>0x72ee</td>\n",
       "      <td>JAPRES07DEL03</td>\n",
       "      <td>21.0</td>\n",
       "      <td>4.8</td>\n",
       "      <td>26.766536</td>\n",
       "      <td>75.837333</td>\n",
       "      <td>26.856536</td>\n",
       "      <td>75.927333</td>\n",
       "      <td>02-04-2022</td>\n",
       "      <td>...</td>\n",
       "      <td>17:20</td>\n",
       "      <td>Fog</td>\n",
       "      <td>Medium</td>\n",
       "      <td>1</td>\n",
       "      <td>Meal</td>\n",
       "      <td>scooter</td>\n",
       "      <td>1.0</td>\n",
       "      <td>No</td>\n",
       "      <td>Metropolitian</td>\n",
       "      <td>13.413663</td>\n",
       "    </tr>\n",
       "    <tr>\n",
       "      <th>4</th>\n",
       "      <td>4</td>\n",
       "      <td>0xa759</td>\n",
       "      <td>CHENRES19DEL01</td>\n",
       "      <td>31.0</td>\n",
       "      <td>4.6</td>\n",
       "      <td>12.986047</td>\n",
       "      <td>80.218114</td>\n",
       "      <td>13.096047</td>\n",
       "      <td>80.328114</td>\n",
       "      <td>27-03-2022</td>\n",
       "      <td>...</td>\n",
       "      <td>18:40</td>\n",
       "      <td>Sunny</td>\n",
       "      <td>Medium</td>\n",
       "      <td>2</td>\n",
       "      <td>Drinks</td>\n",
       "      <td>scooter</td>\n",
       "      <td>1.0</td>\n",
       "      <td>No</td>\n",
       "      <td>Metropolitian</td>\n",
       "      <td>17.076283</td>\n",
       "    </tr>\n",
       "  </tbody>\n",
       "</table>\n",
       "<p>5 rows × 21 columns</p>\n",
       "</div>"
      ],
      "text/plain": [
       "   Unnamed: 0      ID Delivery_person_ID  Delivery_person_Age  \\\n",
       "0           0  0x2318    COIMBRES13DEL01                  NaN   \n",
       "1           1  0x3474     BANGRES15DEL01                 28.0   \n",
       "2           2  0x9420      JAPRES09DEL03                 23.0   \n",
       "3           3  0x72ee      JAPRES07DEL03                 21.0   \n",
       "4           4  0xa759     CHENRES19DEL01                 31.0   \n",
       "\n",
       "   Delivery_person_Ratings  Restaurant_latitude  Restaurant_longitude  \\\n",
       "0                      NaN            11.003669             76.976494   \n",
       "1                      4.6            12.975377             77.696664   \n",
       "2                      4.5            26.911378             75.789034   \n",
       "3                      4.8            26.766536             75.837333   \n",
       "4                      4.6            12.986047             80.218114   \n",
       "\n",
       "   Delivery_location_latitude  Delivery_location_longitude  Order_Date  ...  \\\n",
       "0                   11.043669                    77.016494  30-03-2022  ...   \n",
       "1                   13.085377                    77.806664  29-03-2022  ...   \n",
       "2                   27.001378                    75.879034  10-03-2022  ...   \n",
       "3                   26.856536                    75.927333  02-04-2022  ...   \n",
       "4                   13.096047                    80.328114  27-03-2022  ...   \n",
       "\n",
       "  Time_Order_picked Weather Road_traffic_density Vehicle_condition  \\\n",
       "0             15:05     NaN                  NaN                 3   \n",
       "1             20:35   Windy                  Jam                 0   \n",
       "2             19:45  Stormy                  Jam                 0   \n",
       "3             17:20     Fog               Medium                 1   \n",
       "4             18:40   Sunny               Medium                 2   \n",
       "\n",
       "   Type_of_order   Type_of_vehicle multiple_deliveries  Festival  \\\n",
       "0         Drinks  electric_scooter                 1.0        No   \n",
       "1          Snack        motorcycle                 1.0        No   \n",
       "2         Drinks        motorcycle                 1.0        No   \n",
       "3           Meal           scooter                 1.0        No   \n",
       "4         Drinks           scooter                 1.0        No   \n",
       "\n",
       "            City total_distance  \n",
       "0  Metropolitian       6.232382  \n",
       "1  Metropolitian      17.076642  \n",
       "2  Metropolitian      13.406048  \n",
       "3  Metropolitian      13.413663  \n",
       "4  Metropolitian      17.076283  \n",
       "\n",
       "[5 rows x 21 columns]"
      ]
     },
     "execution_count": 169,
     "metadata": {},
     "output_type": "execute_result"
    }
   ],
   "source": [
    "test_model.head()"
   ]
  },
  {
   "cell_type": "markdown",
   "id": "d52761cd",
   "metadata": {},
   "source": [
    "### After Getting Total Distance"
   ]
  },
  {
   "cell_type": "markdown",
   "id": "121036db",
   "metadata": {},
   "source": [
    "#### From the above value, we can find the speed using total distance and time taken. We are able to found that vehicle condition = 3 will taken more time as compared to 0, 1 and 2. Hence, the order is [0,1,2,3]"
   ]
  },
  {
   "cell_type": "code",
   "execution_count": 170,
   "id": "81ca29df",
   "metadata": {},
   "outputs": [
    {
     "data": {
      "text/html": [
       "<div>\n",
       "<style scoped>\n",
       "    .dataframe tbody tr th:only-of-type {\n",
       "        vertical-align: middle;\n",
       "    }\n",
       "\n",
       "    .dataframe tbody tr th {\n",
       "        vertical-align: top;\n",
       "    }\n",
       "\n",
       "    .dataframe thead th {\n",
       "        text-align: right;\n",
       "    }\n",
       "</style>\n",
       "<table border=\"1\" class=\"dataframe\">\n",
       "  <thead>\n",
       "    <tr style=\"text-align: right;\">\n",
       "      <th></th>\n",
       "      <th>total_distance</th>\n",
       "      <th>Time_taken</th>\n",
       "    </tr>\n",
       "    <tr>\n",
       "      <th>Vehicle_condition</th>\n",
       "      <th></th>\n",
       "      <th></th>\n",
       "    </tr>\n",
       "  </thead>\n",
       "  <tbody>\n",
       "    <tr>\n",
       "      <th>0</th>\n",
       "      <td>132790.883203</td>\n",
       "      <td>451354.0</td>\n",
       "    </tr>\n",
       "    <tr>\n",
       "      <th>1</th>\n",
       "      <td>133260.395899</td>\n",
       "      <td>366057.0</td>\n",
       "    </tr>\n",
       "    <tr>\n",
       "      <th>2</th>\n",
       "      <td>134117.248129</td>\n",
       "      <td>367663.0</td>\n",
       "    </tr>\n",
       "    <tr>\n",
       "      <th>3</th>\n",
       "      <td>3431.236385</td>\n",
       "      <td>13776.0</td>\n",
       "    </tr>\n",
       "  </tbody>\n",
       "</table>\n",
       "</div>"
      ],
      "text/plain": [
       "                   total_distance  Time_taken\n",
       "Vehicle_condition                            \n",
       "0                   132790.883203    451354.0\n",
       "1                   133260.395899    366057.0\n",
       "2                   134117.248129    367663.0\n",
       "3                     3431.236385     13776.0"
      ]
     },
     "execution_count": 170,
     "metadata": {},
     "output_type": "execute_result"
    }
   ],
   "source": [
    "train.groupby('Vehicle_condition').sum()[['total_distance','Time_taken']]"
   ]
  },
  {
   "cell_type": "code",
   "execution_count": 172,
   "id": "51edf195",
   "metadata": {},
   "outputs": [
    {
     "name": "stderr",
     "output_type": "stream",
     "text": [
      "C:\\Users\\ssaur\\AppData\\Local\\Programs\\Python\\Python39\\lib\\site-packages\\seaborn\\_decorators.py:36: FutureWarning: Pass the following variables as keyword args: x, y. From version 0.12, the only valid positional argument will be `data`, and passing other arguments without an explicit keyword will result in an error or misinterpretation.\n",
      "  warnings.warn(\n"
     ]
    },
    {
     "data": {
      "text/plain": [
       "Text(0, 0.5, 'Speed')"
      ]
     },
     "execution_count": 172,
     "metadata": {},
     "output_type": "execute_result"
    },
    {
     "data": {
      "image/png": "[encoded data removed]",
      "text/plain": [
       "<Figure size 640x480 with 1 Axes>"
      ]
     },
     "metadata": {},
     "output_type": "display_data"
    }
   ],
   "source": [
    "ax = sns.barplot(train['Vehicle_condition'],train['total_distance']/train['Time_taken'])\n",
    "for i in ax.containers:\n",
    "    ax.bar_label(i,)\n",
    "ax.set_ylabel(\"Speed\")"
   ]
  },
  {
   "cell_type": "markdown",
   "id": "91a72bee",
   "metadata": {},
   "source": [
    "#### From the above value, we can find the speed using total distance and time taken. We are able to found that vehicle = bicycle will taken more time,then again less time will take by motorcycle,then electric scooter, then scooter. Hence, the order is [Scooter,electric scooter, motorcycle, bicycle]"
   ]
  },
  {
   "cell_type": "code",
   "execution_count": 173,
   "id": "b8efa856",
   "metadata": {},
   "outputs": [
    {
     "data": {
      "text/html": [
       "<div>\n",
       "<style scoped>\n",
       "    .dataframe tbody tr th:only-of-type {\n",
       "        vertical-align: middle;\n",
       "    }\n",
       "\n",
       "    .dataframe tbody tr th {\n",
       "        vertical-align: top;\n",
       "    }\n",
       "\n",
       "    .dataframe thead th {\n",
       "        text-align: right;\n",
       "    }\n",
       "</style>\n",
       "<table border=\"1\" class=\"dataframe\">\n",
       "  <thead>\n",
       "    <tr style=\"text-align: right;\">\n",
       "      <th></th>\n",
       "      <th>total_distance</th>\n",
       "      <th>Time_taken</th>\n",
       "    </tr>\n",
       "    <tr>\n",
       "      <th>Type_of_vehicle</th>\n",
       "      <th></th>\n",
       "      <th></th>\n",
       "    </tr>\n",
       "  </thead>\n",
       "  <tbody>\n",
       "    <tr>\n",
       "      <th>bicycle</th>\n",
       "      <td>396.420662</td>\n",
       "      <td>1797.0</td>\n",
       "    </tr>\n",
       "    <tr>\n",
       "      <th>electric_scooter</th>\n",
       "      <td>33156.361170</td>\n",
       "      <td>93329.0</td>\n",
       "    </tr>\n",
       "    <tr>\n",
       "      <th>motorcycle</th>\n",
       "      <td>234580.959334</td>\n",
       "      <td>729756.0</td>\n",
       "    </tr>\n",
       "    <tr>\n",
       "      <th>scooter</th>\n",
       "      <td>135466.022450</td>\n",
       "      <td>373968.0</td>\n",
       "    </tr>\n",
       "  </tbody>\n",
       "</table>\n",
       "</div>"
      ],
      "text/plain": [
       "                  total_distance  Time_taken\n",
       "Type_of_vehicle                             \n",
       "bicycle               396.420662      1797.0\n",
       "electric_scooter    33156.361170     93329.0\n",
       "motorcycle         234580.959334    729756.0\n",
       "scooter            135466.022450    373968.0"
      ]
     },
     "execution_count": 173,
     "metadata": {},
     "output_type": "execute_result"
    }
   ],
   "source": [
    "train.groupby('Type_of_vehicle').sum()[['total_distance','Time_taken']]"
   ]
  },
  {
   "cell_type": "code",
   "execution_count": 174,
   "id": "7361bb04",
   "metadata": {},
   "outputs": [
    {
     "name": "stderr",
     "output_type": "stream",
     "text": [
      "C:\\Users\\ssaur\\AppData\\Local\\Programs\\Python\\Python39\\lib\\site-packages\\seaborn\\_decorators.py:36: FutureWarning: Pass the following variables as keyword args: x, y. From version 0.12, the only valid positional argument will be `data`, and passing other arguments without an explicit keyword will result in an error or misinterpretation.\n",
      "  warnings.warn(\n"
     ]
    },
    {
     "data": {
      "text/plain": [
       "Text(0, 0.5, 'Speed')"
      ]
     },
     "execution_count": 174,
     "metadata": {},
     "output_type": "execute_result"
    },
    {
     "data": {
      "image/png": "[encoded data removed]",
      "text/plain": [
       "<Figure size 640x480 with 1 Axes>"
      ]
     },
     "metadata": {},
     "output_type": "display_data"
    }
   ],
   "source": [
    "ax = sns.barplot(train['Type_of_vehicle'],train['total_distance']/train['Time_taken'])\n",
    "for i in ax.containers:\n",
    "    ax.bar_label(i,)\n",
    "ax.set_ylabel(\"Speed\")"
   ]
  },
  {
   "cell_type": "markdown",
   "id": "be6ee2dd",
   "metadata": {},
   "source": [
    "#### From  the above plot it seems that the City are ordered in [Urban, Metropolitan,Semi Urban], where Urban will take less time and Semi Urban will take more time"
   ]
  },
  {
   "cell_type": "code",
   "execution_count": 175,
   "id": "c5edb1cb",
   "metadata": {},
   "outputs": [
    {
     "data": {
      "text/html": [
       "<div>\n",
       "<style scoped>\n",
       "    .dataframe tbody tr th:only-of-type {\n",
       "        vertical-align: middle;\n",
       "    }\n",
       "\n",
       "    .dataframe tbody tr th {\n",
       "        vertical-align: top;\n",
       "    }\n",
       "\n",
       "    .dataframe thead th {\n",
       "        text-align: right;\n",
       "    }\n",
       "</style>\n",
       "<table border=\"1\" class=\"dataframe\">\n",
       "  <thead>\n",
       "    <tr style=\"text-align: right;\">\n",
       "      <th></th>\n",
       "      <th>total_distance</th>\n",
       "      <th>Time_taken</th>\n",
       "    </tr>\n",
       "    <tr>\n",
       "      <th>City</th>\n",
       "      <th></th>\n",
       "      <th></th>\n",
       "    </tr>\n",
       "  </thead>\n",
       "  <tbody>\n",
       "    <tr>\n",
       "      <th>Metropolitian</th>\n",
       "      <td>308406.942653</td>\n",
       "      <td>931258.0</td>\n",
       "    </tr>\n",
       "    <tr>\n",
       "      <th>Semi-Urban</th>\n",
       "      <td>1887.050235</td>\n",
       "      <td>8156.0</td>\n",
       "    </tr>\n",
       "    <tr>\n",
       "      <th>Urban</th>\n",
       "      <td>83205.798866</td>\n",
       "      <td>232966.0</td>\n",
       "    </tr>\n",
       "  </tbody>\n",
       "</table>\n",
       "</div>"
      ],
      "text/plain": [
       "               total_distance  Time_taken\n",
       "City                                     \n",
       "Metropolitian   308406.942653    931258.0\n",
       "Semi-Urban        1887.050235      8156.0\n",
       "Urban            83205.798866    232966.0"
      ]
     },
     "execution_count": 175,
     "metadata": {},
     "output_type": "execute_result"
    }
   ],
   "source": [
    "train.groupby('City').sum()[['total_distance','Time_taken']]"
   ]
  },
  {
   "cell_type": "code",
   "execution_count": 176,
   "id": "4ffdb81f",
   "metadata": {},
   "outputs": [
    {
     "name": "stderr",
     "output_type": "stream",
     "text": [
      "C:\\Users\\ssaur\\AppData\\Local\\Programs\\Python\\Python39\\lib\\site-packages\\seaborn\\_decorators.py:36: FutureWarning: Pass the following variables as keyword args: x, y. From version 0.12, the only valid positional argument will be `data`, and passing other arguments without an explicit keyword will result in an error or misinterpretation.\n",
      "  warnings.warn(\n"
     ]
    },
    {
     "data": {
      "text/plain": [
       "Text(0, 0.5, 'Speed')"
      ]
     },
     "execution_count": 176,
     "metadata": {},
     "output_type": "execute_result"
    },
    {
     "data": {
      "image/png": "[encoded data removed]",
      "text/plain": [
       "<Figure size 640x480 with 1 Axes>"
      ]
     },
     "metadata": {},
     "output_type": "display_data"
    }
   ],
   "source": [
    "ax = sns.barplot(train['City'],train['total_distance']/train['Time_taken'])\n",
    "for i in ax.containers:\n",
    "    ax.bar_label(i,)\n",
    "ax.set_ylabel(\"Speed\")"
   ]
  },
  {
   "cell_type": "markdown",
   "id": "350f289a",
   "metadata": {},
   "source": [
    "#### From  the above plot it seems that the Weather are ordered in ['Sunny','Stormy','Windy','Sandstorms','Cloudy','Fog'], where sunny will  take less time, and fog will take more time"
   ]
  },
  {
   "cell_type": "code",
   "execution_count": 177,
   "id": "7b31088f",
   "metadata": {},
   "outputs": [
    {
     "data": {
      "text/html": [
       "<div>\n",
       "<style scoped>\n",
       "    .dataframe tbody tr th:only-of-type {\n",
       "        vertical-align: middle;\n",
       "    }\n",
       "\n",
       "    .dataframe tbody tr th {\n",
       "        vertical-align: top;\n",
       "    }\n",
       "\n",
       "    .dataframe thead th {\n",
       "        text-align: right;\n",
       "    }\n",
       "</style>\n",
       "<table border=\"1\" class=\"dataframe\">\n",
       "  <thead>\n",
       "    <tr style=\"text-align: right;\">\n",
       "      <th></th>\n",
       "      <th>total_distance</th>\n",
       "      <th>Time_taken</th>\n",
       "    </tr>\n",
       "    <tr>\n",
       "      <th>Weather</th>\n",
       "      <th></th>\n",
       "      <th></th>\n",
       "    </tr>\n",
       "  </thead>\n",
       "  <tbody>\n",
       "    <tr>\n",
       "      <th>Cloudy</th>\n",
       "      <td>67283.765953</td>\n",
       "      <td>217921.0</td>\n",
       "    </tr>\n",
       "    <tr>\n",
       "      <th>Fog</th>\n",
       "      <td>68080.652227</td>\n",
       "      <td>221324.0</td>\n",
       "    </tr>\n",
       "    <tr>\n",
       "      <th>Sandstorms</th>\n",
       "      <td>66125.880122</td>\n",
       "      <td>193937.0</td>\n",
       "    </tr>\n",
       "    <tr>\n",
       "      <th>Stormy</th>\n",
       "      <td>67474.277699</td>\n",
       "      <td>196256.0</td>\n",
       "    </tr>\n",
       "    <tr>\n",
       "      <th>Sunny</th>\n",
       "      <td>64331.667474</td>\n",
       "      <td>159206.0</td>\n",
       "    </tr>\n",
       "    <tr>\n",
       "      <th>Windy</th>\n",
       "      <td>66162.586557</td>\n",
       "      <td>193854.0</td>\n",
       "    </tr>\n",
       "  </tbody>\n",
       "</table>\n",
       "</div>"
      ],
      "text/plain": [
       "            total_distance  Time_taken\n",
       "Weather                               \n",
       "Cloudy        67283.765953    217921.0\n",
       "Fog           68080.652227    221324.0\n",
       "Sandstorms    66125.880122    193937.0\n",
       "Stormy        67474.277699    196256.0\n",
       "Sunny         64331.667474    159206.0\n",
       "Windy         66162.586557    193854.0"
      ]
     },
     "execution_count": 177,
     "metadata": {},
     "output_type": "execute_result"
    }
   ],
   "source": [
    "train.groupby('Weather').sum()[['total_distance','Time_taken']]"
   ]
  },
  {
   "cell_type": "code",
   "execution_count": 178,
   "id": "bb3414a7",
   "metadata": {},
   "outputs": [
    {
     "name": "stderr",
     "output_type": "stream",
     "text": [
      "C:\\Users\\ssaur\\AppData\\Local\\Programs\\Python\\Python39\\lib\\site-packages\\seaborn\\_decorators.py:36: FutureWarning: Pass the following variables as keyword args: x, y. From version 0.12, the only valid positional argument will be `data`, and passing other arguments without an explicit keyword will result in an error or misinterpretation.\n",
      "  warnings.warn(\n"
     ]
    },
    {
     "data": {
      "text/plain": [
       "Text(0, 0.5, 'Speed')"
      ]
     },
     "execution_count": 178,
     "metadata": {},
     "output_type": "execute_result"
    },
    {
     "data": {
      "image/png": "[encoded data removed]",
      "text/plain": [
       "<Figure size 640x480 with 1 Axes>"
      ]
     },
     "metadata": {},
     "output_type": "display_data"
    }
   ],
   "source": [
    "ax = sns.barplot(train['Weather'],train['total_distance']/train['Time_taken'])\n",
    "for i in ax.containers:\n",
    "    ax.bar_label(i,)\n",
    "ax.set_ylabel(\"Speed\")"
   ]
  },
  {
   "cell_type": "markdown",
   "id": "cdf0fe6c",
   "metadata": {},
   "source": [
    "#### Changing the datatype to int for time_taken"
   ]
  },
  {
   "cell_type": "code",
   "execution_count": 179,
   "id": "7ea8128e",
   "metadata": {},
   "outputs": [],
   "source": [
    "train['Time_taken'] = train['Time_taken'].astype(int)"
   ]
  },
  {
   "cell_type": "markdown",
   "id": "80ed9d1f",
   "metadata": {},
   "source": [
    "#### Dropping the Independent columns like Unnamed: 0, Delivery_person_ID, ('Restaurant_latitude','Restaurant_longitude','Delivery_location_latitude','Delivery_location_longitude') which is already converted to total_distance, Type_of_order, ('Order_Date','Time_Orderd','Time_Order_picked') has no realtion with time taken to deliver"
   ]
  },
  {
   "cell_type": "code",
   "execution_count": 180,
   "id": "271cf1f2",
   "metadata": {},
   "outputs": [],
   "source": [
    "#drop the non-required columns from Train\n",
    "train.drop(columns=['Unnamed: 0','ID','Delivery_person_ID','Restaurant_latitude','Restaurant_longitude','Type_of_order','Delivery_location_latitude','Delivery_location_longitude','Order_Date','Time_Orderd','Time_Order_picked'],inplace=True)"
   ]
  },
  {
   "cell_type": "code",
   "execution_count": 181,
   "id": "d023e8ff",
   "metadata": {},
   "outputs": [],
   "source": [
    "#drop the non-required columns from Test\n",
    "test_model.drop(columns=['Unnamed: 0','ID','Delivery_person_ID','Restaurant_latitude','Restaurant_longitude','Type_of_order','Delivery_location_latitude','Delivery_location_longitude','Order_Date','Time_Orderd','Time_Order_picked'],inplace=True)"
   ]
  },
  {
   "cell_type": "code",
   "execution_count": 182,
   "id": "0df5a901",
   "metadata": {},
   "outputs": [
    {
     "name": "stdout",
     "output_type": "stream",
     "text": [
      "<class 'pandas.core.frame.DataFrame'>\n",
      "RangeIndex: 45593 entries, 0 to 45592\n",
      "Data columns (total 11 columns):\n",
      " #   Column                   Non-Null Count  Dtype  \n",
      "---  ------                   --------------  -----  \n",
      " 0   Delivery_person_Age      43739 non-null  float64\n",
      " 1   Delivery_person_Ratings  43632 non-null  float64\n",
      " 2   Weather                  44977 non-null  object \n",
      " 3   Road_traffic_density     44992 non-null  object \n",
      " 4   Vehicle_condition        45593 non-null  int64  \n",
      " 5   Type_of_vehicle          45593 non-null  object \n",
      " 6   multiple_deliveries      44600 non-null  float64\n",
      " 7   Festival                 45365 non-null  object \n",
      " 8   City                     44393 non-null  object \n",
      " 9   Time_taken               45593 non-null  int32  \n",
      " 10  total_distance           41522 non-null  float64\n",
      "dtypes: float64(4), int32(1), int64(1), object(5)\n",
      "memory usage: 3.7+ MB\n"
     ]
    }
   ],
   "source": [
    "train.info()"
   ]
  },
  {
   "cell_type": "code",
   "execution_count": 183,
   "id": "fd60ff8e",
   "metadata": {},
   "outputs": [
    {
     "name": "stdout",
     "output_type": "stream",
     "text": [
      "<class 'pandas.core.frame.DataFrame'>\n",
      "RangeIndex: 11399 entries, 0 to 11398\n",
      "Data columns (total 10 columns):\n",
      " #   Column                   Non-Null Count  Dtype  \n",
      "---  ------                   --------------  -----  \n",
      " 0   Delivery_person_Age      10908 non-null  float64\n",
      " 1   Delivery_person_Ratings  10882 non-null  float64\n",
      " 2   Weather                  11241 non-null  object \n",
      " 3   Road_traffic_density     11245 non-null  object \n",
      " 4   Vehicle_condition        11399 non-null  int64  \n",
      " 5   Type_of_vehicle          11399 non-null  object \n",
      " 6   multiple_deliveries      11161 non-null  float64\n",
      " 7   Festival                 11334 non-null  object \n",
      " 8   City                     11075 non-null  object \n",
      " 9   total_distance           10415 non-null  float64\n",
      "dtypes: float64(4), int64(1), object(5)\n",
      "memory usage: 890.7+ KB\n"
     ]
    }
   ],
   "source": [
    "test_model.info()"
   ]
  },
  {
   "cell_type": "code",
   "execution_count": 184,
   "id": "dcd5191f",
   "metadata": {},
   "outputs": [
    {
     "name": "stdout",
     "output_type": "stream",
     "text": [
      "<class 'pandas.core.frame.DataFrame'>\n",
      "RangeIndex: 11399 entries, 0 to 11398\n",
      "Data columns (total 20 columns):\n",
      " #   Column                       Non-Null Count  Dtype  \n",
      "---  ------                       --------------  -----  \n",
      " 0   Unnamed: 0                   11399 non-null  int64  \n",
      " 1   ID                           11399 non-null  object \n",
      " 2   Delivery_person_ID           11399 non-null  object \n",
      " 3   Delivery_person_Age          10908 non-null  float64\n",
      " 4   Delivery_person_Ratings      10892 non-null  float64\n",
      " 5   Restaurant_latitude          11399 non-null  float64\n",
      " 6   Restaurant_longitude         11399 non-null  float64\n",
      " 7   Delivery_location_latitude   11399 non-null  float64\n",
      " 8   Delivery_location_longitude  11399 non-null  float64\n",
      " 9   Order_Date                   11399 non-null  object \n",
      " 10  Time_Orderd                  10955 non-null  object \n",
      " 11  Time_Order_picked            11399 non-null  object \n",
      " 12  Weather                      11241 non-null  object \n",
      " 13  Road_traffic_density         11245 non-null  object \n",
      " 14  Vehicle_condition            11399 non-null  int64  \n",
      " 15  Type_of_order                11399 non-null  object \n",
      " 16  Type_of_vehicle              11399 non-null  object \n",
      " 17  multiple_deliveries          11161 non-null  float64\n",
      " 18  Festival                     11334 non-null  object \n",
      " 19  City                         11075 non-null  object \n",
      "dtypes: float64(7), int64(2), object(11)\n",
      "memory usage: 1.7+ MB\n"
     ]
    }
   ],
   "source": [
    "test.info()"
   ]
  },
  {
   "cell_type": "markdown",
   "id": "55ef9f8b",
   "metadata": {},
   "source": [
    "# Splitting The Data into train and test"
   ]
  },
  {
   "cell_type": "markdown",
   "id": "f644c4e6",
   "metadata": {},
   "source": [
    "#### Time_taken column as target column, remaining column are input"
   ]
  },
  {
   "cell_type": "code",
   "execution_count": 185,
   "id": "7bf06509",
   "metadata": {},
   "outputs": [],
   "source": [
    "X_train = train.drop(columns=['Time_taken'])"
   ]
  },
  {
   "cell_type": "code",
   "execution_count": 186,
   "id": "e1b9a7d8",
   "metadata": {},
   "outputs": [],
   "source": [
    "y_train = train['Time_taken']"
   ]
  },
  {
   "cell_type": "code",
   "execution_count": 187,
   "id": "0a91e68e",
   "metadata": {},
   "outputs": [],
   "source": [
    "X_test = test_model"
   ]
  },
  {
   "cell_type": "code",
   "execution_count": 188,
   "id": "09ccb390",
   "metadata": {},
   "outputs": [
    {
     "name": "stdout",
     "output_type": "stream",
     "text": [
      "<class 'pandas.core.frame.DataFrame'>\n",
      "RangeIndex: 45593 entries, 0 to 45592\n",
      "Data columns (total 10 columns):\n",
      " #   Column                   Non-Null Count  Dtype  \n",
      "---  ------                   --------------  -----  \n",
      " 0   Delivery_person_Age      43739 non-null  float64\n",
      " 1   Delivery_person_Ratings  43632 non-null  float64\n",
      " 2   Weather                  44977 non-null  object \n",
      " 3   Road_traffic_density     44992 non-null  object \n",
      " 4   Vehicle_condition        45593 non-null  int64  \n",
      " 5   Type_of_vehicle          45593 non-null  object \n",
      " 6   multiple_deliveries      44600 non-null  float64\n",
      " 7   Festival                 45365 non-null  object \n",
      " 8   City                     44393 non-null  object \n",
      " 9   total_distance           41522 non-null  float64\n",
      "dtypes: float64(4), int64(1), object(5)\n",
      "memory usage: 3.5+ MB\n"
     ]
    }
   ],
   "source": [
    "X_train.info()"
   ]
  },
  {
   "cell_type": "code",
   "execution_count": 189,
   "id": "e979399d",
   "metadata": {},
   "outputs": [
    {
     "name": "stdout",
     "output_type": "stream",
     "text": [
      "<class 'pandas.core.series.Series'>\n",
      "RangeIndex: 45593 entries, 0 to 45592\n",
      "Series name: Time_taken\n",
      "Non-Null Count  Dtype\n",
      "--------------  -----\n",
      "45593 non-null  int32\n",
      "dtypes: int32(1)\n",
      "memory usage: 178.2 KB\n"
     ]
    }
   ],
   "source": [
    "y_train.info()"
   ]
  },
  {
   "cell_type": "code",
   "execution_count": 190,
   "id": "7926f798",
   "metadata": {},
   "outputs": [
    {
     "name": "stdout",
     "output_type": "stream",
     "text": [
      "<class 'pandas.core.frame.DataFrame'>\n",
      "RangeIndex: 11399 entries, 0 to 11398\n",
      "Data columns (total 10 columns):\n",
      " #   Column                   Non-Null Count  Dtype  \n",
      "---  ------                   --------------  -----  \n",
      " 0   Delivery_person_Age      10908 non-null  float64\n",
      " 1   Delivery_person_Ratings  10882 non-null  float64\n",
      " 2   Weather                  11241 non-null  object \n",
      " 3   Road_traffic_density     11245 non-null  object \n",
      " 4   Vehicle_condition        11399 non-null  int64  \n",
      " 5   Type_of_vehicle          11399 non-null  object \n",
      " 6   multiple_deliveries      11161 non-null  float64\n",
      " 7   Festival                 11334 non-null  object \n",
      " 8   City                     11075 non-null  object \n",
      " 9   total_distance           10415 non-null  float64\n",
      "dtypes: float64(4), int64(1), object(5)\n",
      "memory usage: 890.7+ KB\n"
     ]
    }
   ],
   "source": [
    "X_test.info()"
   ]
  },
  {
   "cell_type": "markdown",
   "id": "1093f457",
   "metadata": {},
   "source": [
    "# Column Transformer"
   ]
  },
  {
   "cell_type": "markdown",
   "id": "e350f335",
   "metadata": {},
   "source": [
    "#### trf1 - Simple Imputer"
   ]
  },
  {
   "cell_type": "code",
   "execution_count": 191,
   "id": "ecaddaad",
   "metadata": {},
   "outputs": [],
   "source": [
    "#1st Imputation Transformer\n",
    "trf1 = ColumnTransformer([\n",
    "        ('impute_age',SimpleImputer(),[0]),\n",
    "        ('impute_rating',SimpleImputer(),[1]),\n",
    "        ('impute_weather',SimpleImputer(strategy='most_frequent'),[2]),\n",
    "        ('impute_road_traffic_density',SimpleImputer(strategy='most_frequent'),[3]),\n",
    "        ('impute_multiple_deliveries',SimpleImputer(strategy='most_frequent'),[6]),\n",
    "        ('impute_festival',SimpleImputer(strategy='most_frequent'),[7]),\n",
    "        ('impute_city',SimpleImputer(strategy='most_frequent'),[8]),\n",
    "        ('impute_total_distance',SimpleImputer(),[9])\n",
    "    ],remainder='passthrough')"
   ]
  },
  {
   "cell_type": "code",
   "execution_count": 192,
   "id": "3e4a9f4d",
   "metadata": {},
   "outputs": [
    {
     "data": {
      "text/html": [
       "<style>#sk-container-id-13 {color: black;background-color: white;}#sk-container-id-13 pre{padding: 0;}#sk-container-id-13 div.sk-toggleable {background-color: white;}#sk-container-id-13 label.sk-toggleable__label {cursor: pointer;display: block;width: 100%;margin-bottom: 0;padding: 0.3em;box-sizing: border-box;text-align: center;}#sk-container-id-13 label.sk-toggleable__label-arrow:before {content: \"▸\";float: left;margin-right: 0.25em;color: #696969;}#sk-container-id-13 label.sk-toggleable__label-arrow:hover:before {color: black;}#sk-container-id-13 div.sk-estimator:hover label.sk-toggleable__label-arrow:before {color: black;}#sk-container-id-13 div.sk-toggleable__content {max-height: 0;max-width: 0;overflow: hidden;text-align: left;background-color: #f0f8ff;}#sk-container-id-13 div.sk-toggleable__content pre {margin: 0.2em;color: black;border-radius: 0.25em;background-color: #f0f8ff;}#sk-container-id-13 input.sk-toggleable__control:checked~div.sk-toggleable__content {max-height: 200px;max-width: 100%;overflow: auto;}#sk-container-id-13 input.sk-toggleable__control:checked~label.sk-toggleable__label-arrow:before {content: \"▾\";}#sk-container-id-13 div.sk-estimator input.sk-toggleable__control:checked~label.sk-toggleable__label {background-color: #d4ebff;}#sk-container-id-13 div.sk-label input.sk-toggleable__control:checked~label.sk-toggleable__label {background-color: #d4ebff;}#sk-container-id-13 input.sk-hidden--visually {border: 0;clip: rect(1px 1px 1px 1px);clip: rect(1px, 1px, 1px, 1px);height: 1px;margin: -1px;overflow: hidden;padding: 0;position: absolute;width: 1px;}#sk-container-id-13 div.sk-estimator {font-family: monospace;background-color: #f0f8ff;border: 1px dotted black;border-radius: 0.25em;box-sizing: border-box;margin-bottom: 0.5em;}#sk-container-id-13 div.sk-estimator:hover {background-color: #d4ebff;}#sk-container-id-13 div.sk-parallel-item::after {content: \"\";width: 100%;border-bottom: 1px solid gray;flex-grow: 1;}#sk-container-id-13 div.sk-label:hover label.sk-toggleable__label {background-color: #d4ebff;}#sk-container-id-13 div.sk-serial::before {content: \"\";position: absolute;border-left: 1px solid gray;box-sizing: border-box;top: 0;bottom: 0;left: 50%;z-index: 0;}#sk-container-id-13 div.sk-serial {display: flex;flex-direction: column;align-items: center;background-color: white;padding-right: 0.2em;padding-left: 0.2em;position: relative;}#sk-container-id-13 div.sk-item {position: relative;z-index: 1;}#sk-container-id-13 div.sk-parallel {display: flex;align-items: stretch;justify-content: center;background-color: white;position: relative;}#sk-container-id-13 div.sk-item::before, #sk-container-id-13 div.sk-parallel-item::before {content: \"\";position: absolute;border-left: 1px solid gray;box-sizing: border-box;top: 0;bottom: 0;left: 50%;z-index: -1;}#sk-container-id-13 div.sk-parallel-item {display: flex;flex-direction: column;z-index: 1;position: relative;background-color: white;}#sk-container-id-13 div.sk-parallel-item:first-child::after {align-self: flex-end;width: 50%;}#sk-container-id-13 div.sk-parallel-item:last-child::after {align-self: flex-start;width: 50%;}#sk-container-id-13 div.sk-parallel-item:only-child::after {width: 0;}#sk-container-id-13 div.sk-dashed-wrapped {border: 1px dashed gray;margin: 0 0.4em 0.5em 0.4em;box-sizing: border-box;padding-bottom: 0.4em;background-color: white;}#sk-container-id-13 div.sk-label label {font-family: monospace;font-weight: bold;display: inline-block;line-height: 1.2em;}#sk-container-id-13 div.sk-label-container {text-align: center;}#sk-container-id-13 div.sk-container {/* jupyter's `normalize.less` sets `[hidden] { display: none; }` but bootstrap.min.css set `[hidden] { display: none !important; }` so we also need the `!important` here to be able to override the default hidden behavior on the sphinx rendered scikit-learn.org. See: https://github.com/scikit-learn/scikit-learn/issues/21755 */display: inline-block !important;position: relative;}#sk-container-id-13 div.sk-text-repr-fallback {display: none;}</style><div id=\"sk-container-id-13\" class=\"sk-top-container\"><div class=\"sk-text-repr-fallback\"><pre>ColumnTransformer(remainder=&#x27;passthrough&#x27;,\n",
       "                  transformers=[(&#x27;impute_age&#x27;, SimpleImputer(), [0]),\n",
       "                                (&#x27;impute_rating&#x27;, SimpleImputer(), [1]),\n",
       "                                (&#x27;impute_weather&#x27;,\n",
       "                                 SimpleImputer(strategy=&#x27;most_frequent&#x27;), [2]),\n",
       "                                (&#x27;impute_road_traffic_density&#x27;,\n",
       "                                 SimpleImputer(strategy=&#x27;most_frequent&#x27;), [3]),\n",
       "                                (&#x27;impute_multiple_deliveries&#x27;,\n",
       "                                 SimpleImputer(strategy=&#x27;most_frequent&#x27;), [6]),\n",
       "                                (&#x27;impute_festival&#x27;,\n",
       "                                 SimpleImputer(strategy=&#x27;most_frequent&#x27;), [7]),\n",
       "                                (&#x27;impute_city&#x27;,\n",
       "                                 SimpleImputer(strategy=&#x27;most_frequent&#x27;), [8]),\n",
       "                                (&#x27;impute_total_distance&#x27;, SimpleImputer(),\n",
       "                                 [9])])</pre><b>In a Jupyter environment, please rerun this cell to show the HTML representation or trust the notebook. <br />On GitHub, the HTML representation is unable to render, please try loading this page with nbviewer.org.</b></div><div class=\"sk-container\" hidden><div class=\"sk-item sk-dashed-wrapped\"><div class=\"sk-label-container\"><div class=\"sk-label sk-toggleable\"><input class=\"sk-toggleable__control sk-hidden--visually\" id=\"sk-estimator-id-117\" type=\"checkbox\" ><label for=\"sk-estimator-id-117\" class=\"sk-toggleable__label sk-toggleable__label-arrow\">ColumnTransformer</label><div class=\"sk-toggleable__content\"><pre>ColumnTransformer(remainder=&#x27;passthrough&#x27;,\n",
       "                  transformers=[(&#x27;impute_age&#x27;, SimpleImputer(), [0]),\n",
       "                                (&#x27;impute_rating&#x27;, SimpleImputer(), [1]),\n",
       "                                (&#x27;impute_weather&#x27;,\n",
       "                                 SimpleImputer(strategy=&#x27;most_frequent&#x27;), [2]),\n",
       "                                (&#x27;impute_road_traffic_density&#x27;,\n",
       "                                 SimpleImputer(strategy=&#x27;most_frequent&#x27;), [3]),\n",
       "                                (&#x27;impute_multiple_deliveries&#x27;,\n",
       "                                 SimpleImputer(strategy=&#x27;most_frequent&#x27;), [6]),\n",
       "                                (&#x27;impute_festival&#x27;,\n",
       "                                 SimpleImputer(strategy=&#x27;most_frequent&#x27;), [7]),\n",
       "                                (&#x27;impute_city&#x27;,\n",
       "                                 SimpleImputer(strategy=&#x27;most_frequent&#x27;), [8]),\n",
       "                                (&#x27;impute_total_distance&#x27;, SimpleImputer(),\n",
       "                                 [9])])</pre></div></div></div><div class=\"sk-parallel\"><div class=\"sk-parallel-item\"><div class=\"sk-item\"><div class=\"sk-label-container\"><div class=\"sk-label sk-toggleable\"><input class=\"sk-toggleable__control sk-hidden--visually\" id=\"sk-estimator-id-118\" type=\"checkbox\" ><label for=\"sk-estimator-id-118\" class=\"sk-toggleable__label sk-toggleable__label-arrow\">impute_age</label><div class=\"sk-toggleable__content\"><pre>[0]</pre></div></div></div><div class=\"sk-serial\"><div class=\"sk-item\"><div class=\"sk-estimator sk-toggleable\"><input class=\"sk-toggleable__control sk-hidden--visually\" id=\"sk-estimator-id-119\" type=\"checkbox\" ><label for=\"sk-estimator-id-119\" class=\"sk-toggleable__label sk-toggleable__label-arrow\">SimpleImputer</label><div class=\"sk-toggleable__content\"><pre>SimpleImputer()</pre></div></div></div></div></div></div><div class=\"sk-parallel-item\"><div class=\"sk-item\"><div class=\"sk-label-container\"><div class=\"sk-label sk-toggleable\"><input class=\"sk-toggleable__control sk-hidden--visually\" id=\"sk-estimator-id-120\" type=\"checkbox\" ><label for=\"sk-estimator-id-120\" class=\"sk-toggleable__label sk-toggleable__label-arrow\">impute_rating</label><div class=\"sk-toggleable__content\"><pre>[1]</pre></div></div></div><div class=\"sk-serial\"><div class=\"sk-item\"><div class=\"sk-estimator sk-toggleable\"><input class=\"sk-toggleable__control sk-hidden--visually\" id=\"sk-estimator-id-121\" type=\"checkbox\" ><label for=\"sk-estimator-id-121\" class=\"sk-toggleable__label sk-toggleable__label-arrow\">SimpleImputer</label><div class=\"sk-toggleable__content\"><pre>SimpleImputer()</pre></div></div></div></div></div></div><div class=\"sk-parallel-item\"><div class=\"sk-item\"><div class=\"sk-label-container\"><div class=\"sk-label sk-toggleable\"><input class=\"sk-toggleable__control sk-hidden--visually\" id=\"sk-estimator-id-122\" type=\"checkbox\" ><label for=\"sk-estimator-id-122\" class=\"sk-toggleable__label sk-toggleable__label-arrow\">impute_weather</label><div class=\"sk-toggleable__content\"><pre>[2]</pre></div></div></div><div class=\"sk-serial\"><div class=\"sk-item\"><div class=\"sk-estimator sk-toggleable\"><input class=\"sk-toggleable__control sk-hidden--visually\" id=\"sk-estimator-id-123\" type=\"checkbox\" ><label for=\"sk-estimator-id-123\" class=\"sk-toggleable__label sk-toggleable__label-arrow\">SimpleImputer</label><div class=\"sk-toggleable__content\"><pre>SimpleImputer(strategy=&#x27;most_frequent&#x27;)</pre></div></div></div></div></div></div><div class=\"sk-parallel-item\"><div class=\"sk-item\"><div class=\"sk-label-container\"><div class=\"sk-label sk-toggleable\"><input class=\"sk-toggleable__control sk-hidden--visually\" id=\"sk-estimator-id-124\" type=\"checkbox\" ><label for=\"sk-estimator-id-124\" class=\"sk-toggleable__label sk-toggleable__label-arrow\">impute_road_traffic_density</label><div class=\"sk-toggleable__content\"><pre>[3]</pre></div></div></div><div class=\"sk-serial\"><div class=\"sk-item\"><div class=\"sk-estimator sk-toggleable\"><input class=\"sk-toggleable__control sk-hidden--visually\" id=\"sk-estimator-id-125\" type=\"checkbox\" ><label for=\"sk-estimator-id-125\" class=\"sk-toggleable__label sk-toggleable__label-arrow\">SimpleImputer</label><div class=\"sk-toggleable__content\"><pre>SimpleImputer(strategy=&#x27;most_frequent&#x27;)</pre></div></div></div></div></div></div><div class=\"sk-parallel-item\"><div class=\"sk-item\"><div class=\"sk-label-container\"><div class=\"sk-label sk-toggleable\"><input class=\"sk-toggleable__control sk-hidden--visually\" id=\"sk-estimator-id-126\" type=\"checkbox\" ><label for=\"sk-estimator-id-126\" class=\"sk-toggleable__label sk-toggleable__label-arrow\">impute_multiple_deliveries</label><div class=\"sk-toggleable__content\"><pre>[6]</pre></div></div></div><div class=\"sk-serial\"><div class=\"sk-item\"><div class=\"sk-estimator sk-toggleable\"><input class=\"sk-toggleable__control sk-hidden--visually\" id=\"sk-estimator-id-127\" type=\"checkbox\" ><label for=\"sk-estimator-id-127\" class=\"sk-toggleable__label sk-toggleable__label-arrow\">SimpleImputer</label><div class=\"sk-toggleable__content\"><pre>SimpleImputer(strategy=&#x27;most_frequent&#x27;)</pre></div></div></div></div></div></div><div class=\"sk-parallel-item\"><div class=\"sk-item\"><div class=\"sk-label-container\"><div class=\"sk-label sk-toggleable\"><input class=\"sk-toggleable__control sk-hidden--visually\" id=\"sk-estimator-id-128\" type=\"checkbox\" ><label for=\"sk-estimator-id-128\" class=\"sk-toggleable__label sk-toggleable__label-arrow\">impute_festival</label><div class=\"sk-toggleable__content\"><pre>[7]</pre></div></div></div><div class=\"sk-serial\"><div class=\"sk-item\"><div class=\"sk-estimator sk-toggleable\"><input class=\"sk-toggleable__control sk-hidden--visually\" id=\"sk-estimator-id-129\" type=\"checkbox\" ><label for=\"sk-estimator-id-129\" class=\"sk-toggleable__label sk-toggleable__label-arrow\">SimpleImputer</label><div class=\"sk-toggleable__content\"><pre>SimpleImputer(strategy=&#x27;most_frequent&#x27;)</pre></div></div></div></div></div></div><div class=\"sk-parallel-item\"><div class=\"sk-item\"><div class=\"sk-label-container\"><div class=\"sk-label sk-toggleable\"><input class=\"sk-toggleable__control sk-hidden--visually\" id=\"sk-estimator-id-130\" type=\"checkbox\" ><label for=\"sk-estimator-id-130\" class=\"sk-toggleable__label sk-toggleable__label-arrow\">impute_city</label><div class=\"sk-toggleable__content\"><pre>[8]</pre></div></div></div><div class=\"sk-serial\"><div class=\"sk-item\"><div class=\"sk-estimator sk-toggleable\"><input class=\"sk-toggleable__control sk-hidden--visually\" id=\"sk-estimator-id-131\" type=\"checkbox\" ><label for=\"sk-estimator-id-131\" class=\"sk-toggleable__label sk-toggleable__label-arrow\">SimpleImputer</label><div class=\"sk-toggleable__content\"><pre>SimpleImputer(strategy=&#x27;most_frequent&#x27;)</pre></div></div></div></div></div></div><div class=\"sk-parallel-item\"><div class=\"sk-item\"><div class=\"sk-label-container\"><div class=\"sk-label sk-toggleable\"><input class=\"sk-toggleable__control sk-hidden--visually\" id=\"sk-estimator-id-132\" type=\"checkbox\" ><label for=\"sk-estimator-id-132\" class=\"sk-toggleable__label sk-toggleable__label-arrow\">impute_total_distance</label><div class=\"sk-toggleable__content\"><pre>[9]</pre></div></div></div><div class=\"sk-serial\"><div class=\"sk-item\"><div class=\"sk-estimator sk-toggleable\"><input class=\"sk-toggleable__control sk-hidden--visually\" id=\"sk-estimator-id-133\" type=\"checkbox\" ><label for=\"sk-estimator-id-133\" class=\"sk-toggleable__label sk-toggleable__label-arrow\">SimpleImputer</label><div class=\"sk-toggleable__content\"><pre>SimpleImputer()</pre></div></div></div></div></div></div><div class=\"sk-parallel-item\"><div class=\"sk-item\"><div class=\"sk-label-container\"><div class=\"sk-label sk-toggleable\"><input class=\"sk-toggleable__control sk-hidden--visually\" id=\"sk-estimator-id-134\" type=\"checkbox\" ><label for=\"sk-estimator-id-134\" class=\"sk-toggleable__label sk-toggleable__label-arrow\">remainder</label><div class=\"sk-toggleable__content\"><pre></pre></div></div></div><div class=\"sk-serial\"><div class=\"sk-item\"><div class=\"sk-estimator sk-toggleable\"><input class=\"sk-toggleable__control sk-hidden--visually\" id=\"sk-estimator-id-135\" type=\"checkbox\" ><label for=\"sk-estimator-id-135\" class=\"sk-toggleable__label sk-toggleable__label-arrow\">passthrough</label><div class=\"sk-toggleable__content\"><pre>passthrough</pre></div></div></div></div></div></div></div></div></div></div>"
      ],
      "text/plain": [
       "ColumnTransformer(remainder='passthrough',\n",
       "                  transformers=[('impute_age', SimpleImputer(), [0]),\n",
       "                                ('impute_rating', SimpleImputer(), [1]),\n",
       "                                ('impute_weather',\n",
       "                                 SimpleImputer(strategy='most_frequent'), [2]),\n",
       "                                ('impute_road_traffic_density',\n",
       "                                 SimpleImputer(strategy='most_frequent'), [3]),\n",
       "                                ('impute_multiple_deliveries',\n",
       "                                 SimpleImputer(strategy='most_frequent'), [6]),\n",
       "                                ('impute_festival',\n",
       "                                 SimpleImputer(strategy='most_frequent'), [7]),\n",
       "                                ('impute_city',\n",
       "                                 SimpleImputer(strategy='most_frequent'), [8]),\n",
       "                                ('impute_total_distance', SimpleImputer(),\n",
       "                                 [9])])"
      ]
     },
     "execution_count": 192,
     "metadata": {},
     "output_type": "execute_result"
    }
   ],
   "source": [
    "trf1"
   ]
  },
  {
   "cell_type": "markdown",
   "id": "664fa13b",
   "metadata": {},
   "source": [
    "#### trf2 - Ordinal Encoder"
   ]
  },
  {
   "cell_type": "code",
   "execution_count": 193,
   "id": "ab2dd153",
   "metadata": {},
   "outputs": [],
   "source": [
    "oe = OrdinalEncoder(categories=[[0,1,2,3],[0.0,1.0,2.0,3.0],['Low', 'Medium','High','Jam'],['Sunny','Stormy','Windy','Sandstorms','Cloudy','Fog'],['scooter','electric_scooter','motorcycle','bicycle'],['Urban','Metropolitian','Semi-Urban'],['No','Yes']])"
   ]
  },
  {
   "cell_type": "code",
   "execution_count": 194,
   "id": "589ece57",
   "metadata": {},
   "outputs": [
    {
     "data": {
      "text/html": [
       "<style>#sk-container-id-14 {color: black;background-color: white;}#sk-container-id-14 pre{padding: 0;}#sk-container-id-14 div.sk-toggleable {background-color: white;}#sk-container-id-14 label.sk-toggleable__label {cursor: pointer;display: block;width: 100%;margin-bottom: 0;padding: 0.3em;box-sizing: border-box;text-align: center;}#sk-container-id-14 label.sk-toggleable__label-arrow:before {content: \"▸\";float: left;margin-right: 0.25em;color: #696969;}#sk-container-id-14 label.sk-toggleable__label-arrow:hover:before {color: black;}#sk-container-id-14 div.sk-estimator:hover label.sk-toggleable__label-arrow:before {color: black;}#sk-container-id-14 div.sk-toggleable__content {max-height: 0;max-width: 0;overflow: hidden;text-align: left;background-color: #f0f8ff;}#sk-container-id-14 div.sk-toggleable__content pre {margin: 0.2em;color: black;border-radius: 0.25em;background-color: #f0f8ff;}#sk-container-id-14 input.sk-toggleable__control:checked~div.sk-toggleable__content {max-height: 200px;max-width: 100%;overflow: auto;}#sk-container-id-14 input.sk-toggleable__control:checked~label.sk-toggleable__label-arrow:before {content: \"▾\";}#sk-container-id-14 div.sk-estimator input.sk-toggleable__control:checked~label.sk-toggleable__label {background-color: #d4ebff;}#sk-container-id-14 div.sk-label input.sk-toggleable__control:checked~label.sk-toggleable__label {background-color: #d4ebff;}#sk-container-id-14 input.sk-hidden--visually {border: 0;clip: rect(1px 1px 1px 1px);clip: rect(1px, 1px, 1px, 1px);height: 1px;margin: -1px;overflow: hidden;padding: 0;position: absolute;width: 1px;}#sk-container-id-14 div.sk-estimator {font-family: monospace;background-color: #f0f8ff;border: 1px dotted black;border-radius: 0.25em;box-sizing: border-box;margin-bottom: 0.5em;}#sk-container-id-14 div.sk-estimator:hover {background-color: #d4ebff;}#sk-container-id-14 div.sk-parallel-item::after {content: \"\";width: 100%;border-bottom: 1px solid gray;flex-grow: 1;}#sk-container-id-14 div.sk-label:hover label.sk-toggleable__label {background-color: #d4ebff;}#sk-container-id-14 div.sk-serial::before {content: \"\";position: absolute;border-left: 1px solid gray;box-sizing: border-box;top: 0;bottom: 0;left: 50%;z-index: 0;}#sk-container-id-14 div.sk-serial {display: flex;flex-direction: column;align-items: center;background-color: white;padding-right: 0.2em;padding-left: 0.2em;position: relative;}#sk-container-id-14 div.sk-item {position: relative;z-index: 1;}#sk-container-id-14 div.sk-parallel {display: flex;align-items: stretch;justify-content: center;background-color: white;position: relative;}#sk-container-id-14 div.sk-item::before, #sk-container-id-14 div.sk-parallel-item::before {content: \"\";position: absolute;border-left: 1px solid gray;box-sizing: border-box;top: 0;bottom: 0;left: 50%;z-index: -1;}#sk-container-id-14 div.sk-parallel-item {display: flex;flex-direction: column;z-index: 1;position: relative;background-color: white;}#sk-container-id-14 div.sk-parallel-item:first-child::after {align-self: flex-end;width: 50%;}#sk-container-id-14 div.sk-parallel-item:last-child::after {align-self: flex-start;width: 50%;}#sk-container-id-14 div.sk-parallel-item:only-child::after {width: 0;}#sk-container-id-14 div.sk-dashed-wrapped {border: 1px dashed gray;margin: 0 0.4em 0.5em 0.4em;box-sizing: border-box;padding-bottom: 0.4em;background-color: white;}#sk-container-id-14 div.sk-label label {font-family: monospace;font-weight: bold;display: inline-block;line-height: 1.2em;}#sk-container-id-14 div.sk-label-container {text-align: center;}#sk-container-id-14 div.sk-container {/* jupyter's `normalize.less` sets `[hidden] { display: none; }` but bootstrap.min.css set `[hidden] { display: none !important; }` so we also need the `!important` here to be able to override the default hidden behavior on the sphinx rendered scikit-learn.org. See: https://github.com/scikit-learn/scikit-learn/issues/21755 */display: inline-block !important;position: relative;}#sk-container-id-14 div.sk-text-repr-fallback {display: none;}</style><div id=\"sk-container-id-14\" class=\"sk-top-container\"><div class=\"sk-text-repr-fallback\"><pre>OrdinalEncoder(categories=[[0, 1, 2, 3], [0.0, 1.0, 2.0, 3.0],\n",
       "                           [&#x27;Low&#x27;, &#x27;Medium&#x27;, &#x27;High&#x27;, &#x27;Jam&#x27;],\n",
       "                           [&#x27;Sunny&#x27;, &#x27;Stormy&#x27;, &#x27;Windy&#x27;, &#x27;Sandstorms&#x27;, &#x27;Cloudy&#x27;,\n",
       "                            &#x27;Fog&#x27;],\n",
       "                           [&#x27;scooter&#x27;, &#x27;electric_scooter&#x27;, &#x27;motorcycle&#x27;,\n",
       "                            &#x27;bicycle&#x27;],\n",
       "                           [&#x27;Urban&#x27;, &#x27;Metropolitian&#x27;, &#x27;Semi-Urban&#x27;],\n",
       "                           [&#x27;No&#x27;, &#x27;Yes&#x27;]])</pre><b>In a Jupyter environment, please rerun this cell to show the HTML representation or trust the notebook. <br />On GitHub, the HTML representation is unable to render, please try loading this page with nbviewer.org.</b></div><div class=\"sk-container\" hidden><div class=\"sk-item\"><div class=\"sk-estimator sk-toggleable\"><input class=\"sk-toggleable__control sk-hidden--visually\" id=\"sk-estimator-id-136\" type=\"checkbox\" checked><label for=\"sk-estimator-id-136\" class=\"sk-toggleable__label sk-toggleable__label-arrow\">OrdinalEncoder</label><div class=\"sk-toggleable__content\"><pre>OrdinalEncoder(categories=[[0, 1, 2, 3], [0.0, 1.0, 2.0, 3.0],\n",
       "                           [&#x27;Low&#x27;, &#x27;Medium&#x27;, &#x27;High&#x27;, &#x27;Jam&#x27;],\n",
       "                           [&#x27;Sunny&#x27;, &#x27;Stormy&#x27;, &#x27;Windy&#x27;, &#x27;Sandstorms&#x27;, &#x27;Cloudy&#x27;,\n",
       "                            &#x27;Fog&#x27;],\n",
       "                           [&#x27;scooter&#x27;, &#x27;electric_scooter&#x27;, &#x27;motorcycle&#x27;,\n",
       "                            &#x27;bicycle&#x27;],\n",
       "                           [&#x27;Urban&#x27;, &#x27;Metropolitian&#x27;, &#x27;Semi-Urban&#x27;],\n",
       "                           [&#x27;No&#x27;, &#x27;Yes&#x27;]])</pre></div></div></div></div></div>"
      ],
      "text/plain": [
       "OrdinalEncoder(categories=[[0, 1, 2, 3], [0.0, 1.0, 2.0, 3.0],\n",
       "                           ['Low', 'Medium', 'High', 'Jam'],\n",
       "                           ['Sunny', 'Stormy', 'Windy', 'Sandstorms', 'Cloudy',\n",
       "                            'Fog'],\n",
       "                           ['scooter', 'electric_scooter', 'motorcycle',\n",
       "                            'bicycle'],\n",
       "                           ['Urban', 'Metropolitian', 'Semi-Urban'],\n",
       "                           ['No', 'Yes']])"
      ]
     },
     "execution_count": 194,
     "metadata": {},
     "output_type": "execute_result"
    }
   ],
   "source": [
    "oe"
   ]
  },
  {
   "cell_type": "code",
   "execution_count": 195,
   "id": "dca30ba4",
   "metadata": {},
   "outputs": [],
   "source": [
    "#2nd OrdinalEncoder\n",
    "trf2 = ColumnTransformer([\n",
    "    ('ord_enco',oe,[8,4,3,2,9,6,5])], remainder='passthrough')"
   ]
  },
  {
   "cell_type": "code",
   "execution_count": 196,
   "id": "ec2bcc60",
   "metadata": {},
   "outputs": [
    {
     "data": {
      "text/html": [
       "<style>#sk-container-id-15 {color: black;background-color: white;}#sk-container-id-15 pre{padding: 0;}#sk-container-id-15 div.sk-toggleable {background-color: white;}#sk-container-id-15 label.sk-toggleable__label {cursor: pointer;display: block;width: 100%;margin-bottom: 0;padding: 0.3em;box-sizing: border-box;text-align: center;}#sk-container-id-15 label.sk-toggleable__label-arrow:before {content: \"▸\";float: left;margin-right: 0.25em;color: #696969;}#sk-container-id-15 label.sk-toggleable__label-arrow:hover:before {color: black;}#sk-container-id-15 div.sk-estimator:hover label.sk-toggleable__label-arrow:before {color: black;}#sk-container-id-15 div.sk-toggleable__content {max-height: 0;max-width: 0;overflow: hidden;text-align: left;background-color: #f0f8ff;}#sk-container-id-15 div.sk-toggleable__content pre {margin: 0.2em;color: black;border-radius: 0.25em;background-color: #f0f8ff;}#sk-container-id-15 input.sk-toggleable__control:checked~div.sk-toggleable__content {max-height: 200px;max-width: 100%;overflow: auto;}#sk-container-id-15 input.sk-toggleable__control:checked~label.sk-toggleable__label-arrow:before {content: \"▾\";}#sk-container-id-15 div.sk-estimator input.sk-toggleable__control:checked~label.sk-toggleable__label {background-color: #d4ebff;}#sk-container-id-15 div.sk-label input.sk-toggleable__control:checked~label.sk-toggleable__label {background-color: #d4ebff;}#sk-container-id-15 input.sk-hidden--visually {border: 0;clip: rect(1px 1px 1px 1px);clip: rect(1px, 1px, 1px, 1px);height: 1px;margin: -1px;overflow: hidden;padding: 0;position: absolute;width: 1px;}#sk-container-id-15 div.sk-estimator {font-family: monospace;background-color: #f0f8ff;border: 1px dotted black;border-radius: 0.25em;box-sizing: border-box;margin-bottom: 0.5em;}#sk-container-id-15 div.sk-estimator:hover {background-color: #d4ebff;}#sk-container-id-15 div.sk-parallel-item::after {content: \"\";width: 100%;border-bottom: 1px solid gray;flex-grow: 1;}#sk-container-id-15 div.sk-label:hover label.sk-toggleable__label {background-color: #d4ebff;}#sk-container-id-15 div.sk-serial::before {content: \"\";position: absolute;border-left: 1px solid gray;box-sizing: border-box;top: 0;bottom: 0;left: 50%;z-index: 0;}#sk-container-id-15 div.sk-serial {display: flex;flex-direction: column;align-items: center;background-color: white;padding-right: 0.2em;padding-left: 0.2em;position: relative;}#sk-container-id-15 div.sk-item {position: relative;z-index: 1;}#sk-container-id-15 div.sk-parallel {display: flex;align-items: stretch;justify-content: center;background-color: white;position: relative;}#sk-container-id-15 div.sk-item::before, #sk-container-id-15 div.sk-parallel-item::before {content: \"\";position: absolute;border-left: 1px solid gray;box-sizing: border-box;top: 0;bottom: 0;left: 50%;z-index: -1;}#sk-container-id-15 div.sk-parallel-item {display: flex;flex-direction: column;z-index: 1;position: relative;background-color: white;}#sk-container-id-15 div.sk-parallel-item:first-child::after {align-self: flex-end;width: 50%;}#sk-container-id-15 div.sk-parallel-item:last-child::after {align-self: flex-start;width: 50%;}#sk-container-id-15 div.sk-parallel-item:only-child::after {width: 0;}#sk-container-id-15 div.sk-dashed-wrapped {border: 1px dashed gray;margin: 0 0.4em 0.5em 0.4em;box-sizing: border-box;padding-bottom: 0.4em;background-color: white;}#sk-container-id-15 div.sk-label label {font-family: monospace;font-weight: bold;display: inline-block;line-height: 1.2em;}#sk-container-id-15 div.sk-label-container {text-align: center;}#sk-container-id-15 div.sk-container {/* jupyter's `normalize.less` sets `[hidden] { display: none; }` but bootstrap.min.css set `[hidden] { display: none !important; }` so we also need the `!important` here to be able to override the default hidden behavior on the sphinx rendered scikit-learn.org. See: https://github.com/scikit-learn/scikit-learn/issues/21755 */display: inline-block !important;position: relative;}#sk-container-id-15 div.sk-text-repr-fallback {display: none;}</style><div id=\"sk-container-id-15\" class=\"sk-top-container\"><div class=\"sk-text-repr-fallback\"><pre>ColumnTransformer(remainder=&#x27;passthrough&#x27;,\n",
       "                  transformers=[(&#x27;ord_enco&#x27;,\n",
       "                                 OrdinalEncoder(categories=[[0, 1, 2, 3],\n",
       "                                                            [0.0, 1.0, 2.0,\n",
       "                                                             3.0],\n",
       "                                                            [&#x27;Low&#x27;, &#x27;Medium&#x27;,\n",
       "                                                             &#x27;High&#x27;, &#x27;Jam&#x27;],\n",
       "                                                            [&#x27;Sunny&#x27;, &#x27;Stormy&#x27;,\n",
       "                                                             &#x27;Windy&#x27;,\n",
       "                                                             &#x27;Sandstorms&#x27;,\n",
       "                                                             &#x27;Cloudy&#x27;, &#x27;Fog&#x27;],\n",
       "                                                            [&#x27;scooter&#x27;,\n",
       "                                                             &#x27;electric_scooter&#x27;,\n",
       "                                                             &#x27;motorcycle&#x27;,\n",
       "                                                             &#x27;bicycle&#x27;],\n",
       "                                                            [&#x27;Urban&#x27;,\n",
       "                                                             &#x27;Metropolitian&#x27;,\n",
       "                                                             &#x27;Semi-Urban&#x27;],\n",
       "                                                            [&#x27;No&#x27;, &#x27;Yes&#x27;]]),\n",
       "                                 [8, 4, 3, 2, 9, 6, 5])])</pre><b>In a Jupyter environment, please rerun this cell to show the HTML representation or trust the notebook. <br />On GitHub, the HTML representation is unable to render, please try loading this page with nbviewer.org.</b></div><div class=\"sk-container\" hidden><div class=\"sk-item sk-dashed-wrapped\"><div class=\"sk-label-container\"><div class=\"sk-label sk-toggleable\"><input class=\"sk-toggleable__control sk-hidden--visually\" id=\"sk-estimator-id-137\" type=\"checkbox\" ><label for=\"sk-estimator-id-137\" class=\"sk-toggleable__label sk-toggleable__label-arrow\">ColumnTransformer</label><div class=\"sk-toggleable__content\"><pre>ColumnTransformer(remainder=&#x27;passthrough&#x27;,\n",
       "                  transformers=[(&#x27;ord_enco&#x27;,\n",
       "                                 OrdinalEncoder(categories=[[0, 1, 2, 3],\n",
       "                                                            [0.0, 1.0, 2.0,\n",
       "                                                             3.0],\n",
       "                                                            [&#x27;Low&#x27;, &#x27;Medium&#x27;,\n",
       "                                                             &#x27;High&#x27;, &#x27;Jam&#x27;],\n",
       "                                                            [&#x27;Sunny&#x27;, &#x27;Stormy&#x27;,\n",
       "                                                             &#x27;Windy&#x27;,\n",
       "                                                             &#x27;Sandstorms&#x27;,\n",
       "                                                             &#x27;Cloudy&#x27;, &#x27;Fog&#x27;],\n",
       "                                                            [&#x27;scooter&#x27;,\n",
       "                                                             &#x27;electric_scooter&#x27;,\n",
       "                                                             &#x27;motorcycle&#x27;,\n",
       "                                                             &#x27;bicycle&#x27;],\n",
       "                                                            [&#x27;Urban&#x27;,\n",
       "                                                             &#x27;Metropolitian&#x27;,\n",
       "                                                             &#x27;Semi-Urban&#x27;],\n",
       "                                                            [&#x27;No&#x27;, &#x27;Yes&#x27;]]),\n",
       "                                 [8, 4, 3, 2, 9, 6, 5])])</pre></div></div></div><div class=\"sk-parallel\"><div class=\"sk-parallel-item\"><div class=\"sk-item\"><div class=\"sk-label-container\"><div class=\"sk-label sk-toggleable\"><input class=\"sk-toggleable__control sk-hidden--visually\" id=\"sk-estimator-id-138\" type=\"checkbox\" ><label for=\"sk-estimator-id-138\" class=\"sk-toggleable__label sk-toggleable__label-arrow\">ord_enco</label><div class=\"sk-toggleable__content\"><pre>[8, 4, 3, 2, 9, 6, 5]</pre></div></div></div><div class=\"sk-serial\"><div class=\"sk-item\"><div class=\"sk-estimator sk-toggleable\"><input class=\"sk-toggleable__control sk-hidden--visually\" id=\"sk-estimator-id-139\" type=\"checkbox\" ><label for=\"sk-estimator-id-139\" class=\"sk-toggleable__label sk-toggleable__label-arrow\">OrdinalEncoder</label><div class=\"sk-toggleable__content\"><pre>OrdinalEncoder(categories=[[0, 1, 2, 3], [0.0, 1.0, 2.0, 3.0],\n",
       "                           [&#x27;Low&#x27;, &#x27;Medium&#x27;, &#x27;High&#x27;, &#x27;Jam&#x27;],\n",
       "                           [&#x27;Sunny&#x27;, &#x27;Stormy&#x27;, &#x27;Windy&#x27;, &#x27;Sandstorms&#x27;, &#x27;Cloudy&#x27;,\n",
       "                            &#x27;Fog&#x27;],\n",
       "                           [&#x27;scooter&#x27;, &#x27;electric_scooter&#x27;, &#x27;motorcycle&#x27;,\n",
       "                            &#x27;bicycle&#x27;],\n",
       "                           [&#x27;Urban&#x27;, &#x27;Metropolitian&#x27;, &#x27;Semi-Urban&#x27;],\n",
       "                           [&#x27;No&#x27;, &#x27;Yes&#x27;]])</pre></div></div></div></div></div></div><div class=\"sk-parallel-item\"><div class=\"sk-item\"><div class=\"sk-label-container\"><div class=\"sk-label sk-toggleable\"><input class=\"sk-toggleable__control sk-hidden--visually\" id=\"sk-estimator-id-140\" type=\"checkbox\" ><label for=\"sk-estimator-id-140\" class=\"sk-toggleable__label sk-toggleable__label-arrow\">remainder</label><div class=\"sk-toggleable__content\"><pre></pre></div></div></div><div class=\"sk-serial\"><div class=\"sk-item\"><div class=\"sk-estimator sk-toggleable\"><input class=\"sk-toggleable__control sk-hidden--visually\" id=\"sk-estimator-id-141\" type=\"checkbox\" ><label for=\"sk-estimator-id-141\" class=\"sk-toggleable__label sk-toggleable__label-arrow\">passthrough</label><div class=\"sk-toggleable__content\"><pre>passthrough</pre></div></div></div></div></div></div></div></div></div></div>"
      ],
      "text/plain": [
       "ColumnTransformer(remainder='passthrough',\n",
       "                  transformers=[('ord_enco',\n",
       "                                 OrdinalEncoder(categories=[[0, 1, 2, 3],\n",
       "                                                            [0.0, 1.0, 2.0,\n",
       "                                                             3.0],\n",
       "                                                            ['Low', 'Medium',\n",
       "                                                             'High', 'Jam'],\n",
       "                                                            ['Sunny', 'Stormy',\n",
       "                                                             'Windy',\n",
       "                                                             'Sandstorms',\n",
       "                                                             'Cloudy', 'Fog'],\n",
       "                                                            ['scooter',\n",
       "                                                             'electric_scooter',\n",
       "                                                             'motorcycle',\n",
       "                                                             'bicycle'],\n",
       "                                                            ['Urban',\n",
       "                                                             'Metropolitian',\n",
       "                                                             'Semi-Urban'],\n",
       "                                                            ['No', 'Yes']]),\n",
       "                                 [8, 4, 3, 2, 9, 6, 5])])"
      ]
     },
     "execution_count": 196,
     "metadata": {},
     "output_type": "execute_result"
    }
   ],
   "source": [
    "trf2"
   ]
  },
  {
   "cell_type": "markdown",
   "id": "57fe063f",
   "metadata": {},
   "source": [
    "#### trf3 - Min Max Scaling"
   ]
  },
  {
   "cell_type": "code",
   "execution_count": 197,
   "id": "7c50c3d0",
   "metadata": {},
   "outputs": [],
   "source": [
    "#3rd Scaling\n",
    "trf3 = ColumnTransformer([\n",
    "    ('scale_1', MinMaxScaler(), slice(0,10))\n",
    "])"
   ]
  },
  {
   "cell_type": "code",
   "execution_count": 198,
   "id": "2800af5e",
   "metadata": {},
   "outputs": [
    {
     "data": {
      "text/html": [
       "<style>#sk-container-id-16 {color: black;background-color: white;}#sk-container-id-16 pre{padding: 0;}#sk-container-id-16 div.sk-toggleable {background-color: white;}#sk-container-id-16 label.sk-toggleable__label {cursor: pointer;display: block;width: 100%;margin-bottom: 0;padding: 0.3em;box-sizing: border-box;text-align: center;}#sk-container-id-16 label.sk-toggleable__label-arrow:before {content: \"▸\";float: left;margin-right: 0.25em;color: #696969;}#sk-container-id-16 label.sk-toggleable__label-arrow:hover:before {color: black;}#sk-container-id-16 div.sk-estimator:hover label.sk-toggleable__label-arrow:before {color: black;}#sk-container-id-16 div.sk-toggleable__content {max-height: 0;max-width: 0;overflow: hidden;text-align: left;background-color: #f0f8ff;}#sk-container-id-16 div.sk-toggleable__content pre {margin: 0.2em;color: black;border-radius: 0.25em;background-color: #f0f8ff;}#sk-container-id-16 input.sk-toggleable__control:checked~div.sk-toggleable__content {max-height: 200px;max-width: 100%;overflow: auto;}#sk-container-id-16 input.sk-toggleable__control:checked~label.sk-toggleable__label-arrow:before {content: \"▾\";}#sk-container-id-16 div.sk-estimator input.sk-toggleable__control:checked~label.sk-toggleable__label {background-color: #d4ebff;}#sk-container-id-16 div.sk-label input.sk-toggleable__control:checked~label.sk-toggleable__label {background-color: #d4ebff;}#sk-container-id-16 input.sk-hidden--visually {border: 0;clip: rect(1px 1px 1px 1px);clip: rect(1px, 1px, 1px, 1px);height: 1px;margin: -1px;overflow: hidden;padding: 0;position: absolute;width: 1px;}#sk-container-id-16 div.sk-estimator {font-family: monospace;background-color: #f0f8ff;border: 1px dotted black;border-radius: 0.25em;box-sizing: border-box;margin-bottom: 0.5em;}#sk-container-id-16 div.sk-estimator:hover {background-color: #d4ebff;}#sk-container-id-16 div.sk-parallel-item::after {content: \"\";width: 100%;border-bottom: 1px solid gray;flex-grow: 1;}#sk-container-id-16 div.sk-label:hover label.sk-toggleable__label {background-color: #d4ebff;}#sk-container-id-16 div.sk-serial::before {content: \"\";position: absolute;border-left: 1px solid gray;box-sizing: border-box;top: 0;bottom: 0;left: 50%;z-index: 0;}#sk-container-id-16 div.sk-serial {display: flex;flex-direction: column;align-items: center;background-color: white;padding-right: 0.2em;padding-left: 0.2em;position: relative;}#sk-container-id-16 div.sk-item {position: relative;z-index: 1;}#sk-container-id-16 div.sk-parallel {display: flex;align-items: stretch;justify-content: center;background-color: white;position: relative;}#sk-container-id-16 div.sk-item::before, #sk-container-id-16 div.sk-parallel-item::before {content: \"\";position: absolute;border-left: 1px solid gray;box-sizing: border-box;top: 0;bottom: 0;left: 50%;z-index: -1;}#sk-container-id-16 div.sk-parallel-item {display: flex;flex-direction: column;z-index: 1;position: relative;background-color: white;}#sk-container-id-16 div.sk-parallel-item:first-child::after {align-self: flex-end;width: 50%;}#sk-container-id-16 div.sk-parallel-item:last-child::after {align-self: flex-start;width: 50%;}#sk-container-id-16 div.sk-parallel-item:only-child::after {width: 0;}#sk-container-id-16 div.sk-dashed-wrapped {border: 1px dashed gray;margin: 0 0.4em 0.5em 0.4em;box-sizing: border-box;padding-bottom: 0.4em;background-color: white;}#sk-container-id-16 div.sk-label label {font-family: monospace;font-weight: bold;display: inline-block;line-height: 1.2em;}#sk-container-id-16 div.sk-label-container {text-align: center;}#sk-container-id-16 div.sk-container {/* jupyter's `normalize.less` sets `[hidden] { display: none; }` but bootstrap.min.css set `[hidden] { display: none !important; }` so we also need the `!important` here to be able to override the default hidden behavior on the sphinx rendered scikit-learn.org. See: https://github.com/scikit-learn/scikit-learn/issues/21755 */display: inline-block !important;position: relative;}#sk-container-id-16 div.sk-text-repr-fallback {display: none;}</style><div id=\"sk-container-id-16\" class=\"sk-top-container\"><div class=\"sk-text-repr-fallback\"><pre>ColumnTransformer(transformers=[(&#x27;scale_1&#x27;, MinMaxScaler(),\n",
       "                                 slice(0, 10, None))])</pre><b>In a Jupyter environment, please rerun this cell to show the HTML representation or trust the notebook. <br />On GitHub, the HTML representation is unable to render, please try loading this page with nbviewer.org.</b></div><div class=\"sk-container\" hidden><div class=\"sk-item sk-dashed-wrapped\"><div class=\"sk-label-container\"><div class=\"sk-label sk-toggleable\"><input class=\"sk-toggleable__control sk-hidden--visually\" id=\"sk-estimator-id-142\" type=\"checkbox\" ><label for=\"sk-estimator-id-142\" class=\"sk-toggleable__label sk-toggleable__label-arrow\">ColumnTransformer</label><div class=\"sk-toggleable__content\"><pre>ColumnTransformer(transformers=[(&#x27;scale_1&#x27;, MinMaxScaler(),\n",
       "                                 slice(0, 10, None))])</pre></div></div></div><div class=\"sk-parallel\"><div class=\"sk-parallel-item\"><div class=\"sk-item\"><div class=\"sk-label-container\"><div class=\"sk-label sk-toggleable\"><input class=\"sk-toggleable__control sk-hidden--visually\" id=\"sk-estimator-id-143\" type=\"checkbox\" ><label for=\"sk-estimator-id-143\" class=\"sk-toggleable__label sk-toggleable__label-arrow\">scale_1</label><div class=\"sk-toggleable__content\"><pre>slice(0, 10, None)</pre></div></div></div><div class=\"sk-serial\"><div class=\"sk-item\"><div class=\"sk-estimator sk-toggleable\"><input class=\"sk-toggleable__control sk-hidden--visually\" id=\"sk-estimator-id-144\" type=\"checkbox\" ><label for=\"sk-estimator-id-144\" class=\"sk-toggleable__label sk-toggleable__label-arrow\">MinMaxScaler</label><div class=\"sk-toggleable__content\"><pre>MinMaxScaler()</pre></div></div></div></div></div></div></div></div></div></div>"
      ],
      "text/plain": [
       "ColumnTransformer(transformers=[('scale_1', MinMaxScaler(),\n",
       "                                 slice(0, 10, None))])"
      ]
     },
     "execution_count": 198,
     "metadata": {},
     "output_type": "execute_result"
    }
   ],
   "source": [
    "trf3"
   ]
  },
  {
   "cell_type": "markdown",
   "id": "fd2cbeac",
   "metadata": {},
   "source": [
    "#### trf4 - Model Selection - Linear Regression"
   ]
  },
  {
   "cell_type": "code",
   "execution_count": 199,
   "id": "a2a01aaf",
   "metadata": {},
   "outputs": [],
   "source": [
    "#4th Model\n",
    "from sklearn.linear_model import LinearRegression\n",
    "trf4 = LinearRegression()"
   ]
  },
  {
   "cell_type": "code",
   "execution_count": 200,
   "id": "0c84a9de",
   "metadata": {},
   "outputs": [
    {
     "data": {
      "text/html": [
       "<style>#sk-container-id-17 {color: black;background-color: white;}#sk-container-id-17 pre{padding: 0;}#sk-container-id-17 div.sk-toggleable {background-color: white;}#sk-container-id-17 label.sk-toggleable__label {cursor: pointer;display: block;width: 100%;margin-bottom: 0;padding: 0.3em;box-sizing: border-box;text-align: center;}#sk-container-id-17 label.sk-toggleable__label-arrow:before {content: \"▸\";float: left;margin-right: 0.25em;color: #696969;}#sk-container-id-17 label.sk-toggleable__label-arrow:hover:before {color: black;}#sk-container-id-17 div.sk-estimator:hover label.sk-toggleable__label-arrow:before {color: black;}#sk-container-id-17 div.sk-toggleable__content {max-height: 0;max-width: 0;overflow: hidden;text-align: left;background-color: #f0f8ff;}#sk-container-id-17 div.sk-toggleable__content pre {margin: 0.2em;color: black;border-radius: 0.25em;background-color: #f0f8ff;}#sk-container-id-17 input.sk-toggleable__control:checked~div.sk-toggleable__content {max-height: 200px;max-width: 100%;overflow: auto;}#sk-container-id-17 input.sk-toggleable__control:checked~label.sk-toggleable__label-arrow:before {content: \"▾\";}#sk-container-id-17 div.sk-estimator input.sk-toggleable__control:checked~label.sk-toggleable__label {background-color: #d4ebff;}#sk-container-id-17 div.sk-label input.sk-toggleable__control:checked~label.sk-toggleable__label {background-color: #d4ebff;}#sk-container-id-17 input.sk-hidden--visually {border: 0;clip: rect(1px 1px 1px 1px);clip: rect(1px, 1px, 1px, 1px);height: 1px;margin: -1px;overflow: hidden;padding: 0;position: absolute;width: 1px;}#sk-container-id-17 div.sk-estimator {font-family: monospace;background-color: #f0f8ff;border: 1px dotted black;border-radius: 0.25em;box-sizing: border-box;margin-bottom: 0.5em;}#sk-container-id-17 div.sk-estimator:hover {background-color: #d4ebff;}#sk-container-id-17 div.sk-parallel-item::after {content: \"\";width: 100%;border-bottom: 1px solid gray;flex-grow: 1;}#sk-container-id-17 div.sk-label:hover label.sk-toggleable__label {background-color: #d4ebff;}#sk-container-id-17 div.sk-serial::before {content: \"\";position: absolute;border-left: 1px solid gray;box-sizing: border-box;top: 0;bottom: 0;left: 50%;z-index: 0;}#sk-container-id-17 div.sk-serial {display: flex;flex-direction: column;align-items: center;background-color: white;padding-right: 0.2em;padding-left: 0.2em;position: relative;}#sk-container-id-17 div.sk-item {position: relative;z-index: 1;}#sk-container-id-17 div.sk-parallel {display: flex;align-items: stretch;justify-content: center;background-color: white;position: relative;}#sk-container-id-17 div.sk-item::before, #sk-container-id-17 div.sk-parallel-item::before {content: \"\";position: absolute;border-left: 1px solid gray;box-sizing: border-box;top: 0;bottom: 0;left: 50%;z-index: -1;}#sk-container-id-17 div.sk-parallel-item {display: flex;flex-direction: column;z-index: 1;position: relative;background-color: white;}#sk-container-id-17 div.sk-parallel-item:first-child::after {align-self: flex-end;width: 50%;}#sk-container-id-17 div.sk-parallel-item:last-child::after {align-self: flex-start;width: 50%;}#sk-container-id-17 div.sk-parallel-item:only-child::after {width: 0;}#sk-container-id-17 div.sk-dashed-wrapped {border: 1px dashed gray;margin: 0 0.4em 0.5em 0.4em;box-sizing: border-box;padding-bottom: 0.4em;background-color: white;}#sk-container-id-17 div.sk-label label {font-family: monospace;font-weight: bold;display: inline-block;line-height: 1.2em;}#sk-container-id-17 div.sk-label-container {text-align: center;}#sk-container-id-17 div.sk-container {/* jupyter's `normalize.less` sets `[hidden] { display: none; }` but bootstrap.min.css set `[hidden] { display: none !important; }` so we also need the `!important` here to be able to override the default hidden behavior on the sphinx rendered scikit-learn.org. See: https://github.com/scikit-learn/scikit-learn/issues/21755 */display: inline-block !important;position: relative;}#sk-container-id-17 div.sk-text-repr-fallback {display: none;}</style><div id=\"sk-container-id-17\" class=\"sk-top-container\"><div class=\"sk-text-repr-fallback\"><pre>LinearRegression()</pre><b>In a Jupyter environment, please rerun this cell to show the HTML representation or trust the notebook. <br />On GitHub, the HTML representation is unable to render, please try loading this page with nbviewer.org.</b></div><div class=\"sk-container\" hidden><div class=\"sk-item\"><div class=\"sk-estimator sk-toggleable\"><input class=\"sk-toggleable__control sk-hidden--visually\" id=\"sk-estimator-id-145\" type=\"checkbox\" checked><label for=\"sk-estimator-id-145\" class=\"sk-toggleable__label sk-toggleable__label-arrow\">LinearRegression</label><div class=\"sk-toggleable__content\"><pre>LinearRegression()</pre></div></div></div></div></div>"
      ],
      "text/plain": [
       "LinearRegression()"
      ]
     },
     "execution_count": 200,
     "metadata": {},
     "output_type": "execute_result"
    }
   ],
   "source": [
    "trf4"
   ]
  },
  {
   "cell_type": "markdown",
   "id": "5917f792",
   "metadata": {},
   "source": [
    "#### Pipeline - fitting data "
   ]
  },
  {
   "cell_type": "code",
   "execution_count": 201,
   "id": "253251e4",
   "metadata": {},
   "outputs": [],
   "source": [
    "pipe = Pipeline([\n",
    "    ('trf1', trf1),\n",
    "    ('trf2', trf2),\n",
    "    ('trf3', trf3),\n",
    "    ('trf4', trf4)\n",
    "    \n",
    "])"
   ]
  },
  {
   "cell_type": "code",
   "execution_count": 202,
   "id": "104d5432",
   "metadata": {},
   "outputs": [
    {
     "data": {
      "text/html": [
       "<style>#sk-container-id-18 {color: black;background-color: white;}#sk-container-id-18 pre{padding: 0;}#sk-container-id-18 div.sk-toggleable {background-color: white;}#sk-container-id-18 label.sk-toggleable__label {cursor: pointer;display: block;width: 100%;margin-bottom: 0;padding: 0.3em;box-sizing: border-box;text-align: center;}#sk-container-id-18 label.sk-toggleable__label-arrow:before {content: \"▸\";float: left;margin-right: 0.25em;color: #696969;}#sk-container-id-18 label.sk-toggleable__label-arrow:hover:before {color: black;}#sk-container-id-18 div.sk-estimator:hover label.sk-toggleable__label-arrow:before {color: black;}#sk-container-id-18 div.sk-toggleable__content {max-height: 0;max-width: 0;overflow: hidden;text-align: left;background-color: #f0f8ff;}#sk-container-id-18 div.sk-toggleable__content pre {margin: 0.2em;color: black;border-radius: 0.25em;background-color: #f0f8ff;}#sk-container-id-18 input.sk-toggleable__control:checked~div.sk-toggleable__content {max-height: 200px;max-width: 100%;overflow: auto;}#sk-container-id-18 input.sk-toggleable__control:checked~label.sk-toggleable__label-arrow:before {content: \"▾\";}#sk-container-id-18 div.sk-estimator input.sk-toggleable__control:checked~label.sk-toggleable__label {background-color: #d4ebff;}#sk-container-id-18 div.sk-label input.sk-toggleable__control:checked~label.sk-toggleable__label {background-color: #d4ebff;}#sk-container-id-18 input.sk-hidden--visually {border: 0;clip: rect(1px 1px 1px 1px);clip: rect(1px, 1px, 1px, 1px);height: 1px;margin: -1px;overflow: hidden;padding: 0;position: absolute;width: 1px;}#sk-container-id-18 div.sk-estimator {font-family: monospace;background-color: #f0f8ff;border: 1px dotted black;border-radius: 0.25em;box-sizing: border-box;margin-bottom: 0.5em;}#sk-container-id-18 div.sk-estimator:hover {background-color: #d4ebff;}#sk-container-id-18 div.sk-parallel-item::after {content: \"\";width: 100%;border-bottom: 1px solid gray;flex-grow: 1;}#sk-container-id-18 div.sk-label:hover label.sk-toggleable__label {background-color: #d4ebff;}#sk-container-id-18 div.sk-serial::before {content: \"\";position: absolute;border-left: 1px solid gray;box-sizing: border-box;top: 0;bottom: 0;left: 50%;z-index: 0;}#sk-container-id-18 div.sk-serial {display: flex;flex-direction: column;align-items: center;background-color: white;padding-right: 0.2em;padding-left: 0.2em;position: relative;}#sk-container-id-18 div.sk-item {position: relative;z-index: 1;}#sk-container-id-18 div.sk-parallel {display: flex;align-items: stretch;justify-content: center;background-color: white;position: relative;}#sk-container-id-18 div.sk-item::before, #sk-container-id-18 div.sk-parallel-item::before {content: \"\";position: absolute;border-left: 1px solid gray;box-sizing: border-box;top: 0;bottom: 0;left: 50%;z-index: -1;}#sk-container-id-18 div.sk-parallel-item {display: flex;flex-direction: column;z-index: 1;position: relative;background-color: white;}#sk-container-id-18 div.sk-parallel-item:first-child::after {align-self: flex-end;width: 50%;}#sk-container-id-18 div.sk-parallel-item:last-child::after {align-self: flex-start;width: 50%;}#sk-container-id-18 div.sk-parallel-item:only-child::after {width: 0;}#sk-container-id-18 div.sk-dashed-wrapped {border: 1px dashed gray;margin: 0 0.4em 0.5em 0.4em;box-sizing: border-box;padding-bottom: 0.4em;background-color: white;}#sk-container-id-18 div.sk-label label {font-family: monospace;font-weight: bold;display: inline-block;line-height: 1.2em;}#sk-container-id-18 div.sk-label-container {text-align: center;}#sk-container-id-18 div.sk-container {/* jupyter's `normalize.less` sets `[hidden] { display: none; }` but bootstrap.min.css set `[hidden] { display: none !important; }` so we also need the `!important` here to be able to override the default hidden behavior on the sphinx rendered scikit-learn.org. See: https://github.com/scikit-learn/scikit-learn/issues/21755 */display: inline-block !important;position: relative;}#sk-container-id-18 div.sk-text-repr-fallback {display: none;}</style><div id=\"sk-container-id-18\" class=\"sk-top-container\"><div class=\"sk-text-repr-fallback\"><pre>Pipeline(steps=[(&#x27;trf1&#x27;,\n",
       "                 ColumnTransformer(remainder=&#x27;passthrough&#x27;,\n",
       "                                   transformers=[(&#x27;impute_age&#x27;, SimpleImputer(),\n",
       "                                                  [0]),\n",
       "                                                 (&#x27;impute_rating&#x27;,\n",
       "                                                  SimpleImputer(), [1]),\n",
       "                                                 (&#x27;impute_weather&#x27;,\n",
       "                                                  SimpleImputer(strategy=&#x27;most_frequent&#x27;),\n",
       "                                                  [2]),\n",
       "                                                 (&#x27;impute_road_traffic_density&#x27;,\n",
       "                                                  SimpleImputer(strategy=&#x27;most_frequent&#x27;),\n",
       "                                                  [3]),\n",
       "                                                 (&#x27;impute_multiple_deliveries&#x27;,\n",
       "                                                  SimpleImputer(strategy=&#x27;most...\n",
       "                                                                              3],\n",
       "                                                                             [0.0,\n",
       "                                                                              1.0,\n",
       "                                                                              2.0,\n",
       "                                                                              3.0],\n",
       "                                                                             [&#x27;Low&#x27;,\n",
       "                                                                              &#x27;Medium&#x27;,\n",
       "                                                                              &#x27;High&#x27;,\n",
       "                                                                              &#x27;Jam&#x27;],\n",
       "                                                                             [&#x27;Sunny&#x27;,\n",
       "                                                                              &#x27;Stormy&#x27;,\n",
       "                                                                              &#x27;Windy&#x27;,\n",
       "                                                                              &#x27;Sandstorms&#x27;,\n",
       "                                                                              &#x27;Cloudy&#x27;,\n",
       "                                                                              &#x27;Fog&#x27;],\n",
       "                                                                             [&#x27;scooter&#x27;,\n",
       "                                                                              &#x27;electric_scooter&#x27;,\n",
       "                                                                              &#x27;motorcycle&#x27;,\n",
       "                                                                              &#x27;bicycle&#x27;],\n",
       "                                                                             [&#x27;Urban&#x27;,\n",
       "                                                                              &#x27;Metropolitian&#x27;,\n",
       "                                                                              &#x27;Semi-Urban&#x27;],\n",
       "                                                                             [&#x27;No&#x27;,\n",
       "                                                                              &#x27;Yes&#x27;]]),\n",
       "                                                  [8, 4, 3, 2, 9, 6, 5])])),\n",
       "                (&#x27;trf3&#x27;,\n",
       "                 ColumnTransformer(transformers=[(&#x27;scale_1&#x27;, MinMaxScaler(),\n",
       "                                                  slice(0, 10, None))])),\n",
       "                (&#x27;trf4&#x27;, LinearRegression())])</pre><b>In a Jupyter environment, please rerun this cell to show the HTML representation or trust the notebook. <br />On GitHub, the HTML representation is unable to render, please try loading this page with nbviewer.org.</b></div><div class=\"sk-container\" hidden><div class=\"sk-item sk-dashed-wrapped\"><div class=\"sk-label-container\"><div class=\"sk-label sk-toggleable\"><input class=\"sk-toggleable__control sk-hidden--visually\" id=\"sk-estimator-id-146\" type=\"checkbox\" ><label for=\"sk-estimator-id-146\" class=\"sk-toggleable__label sk-toggleable__label-arrow\">Pipeline</label><div class=\"sk-toggleable__content\"><pre>Pipeline(steps=[(&#x27;trf1&#x27;,\n",
       "                 ColumnTransformer(remainder=&#x27;passthrough&#x27;,\n",
       "                                   transformers=[(&#x27;impute_age&#x27;, SimpleImputer(),\n",
       "                                                  [0]),\n",
       "                                                 (&#x27;impute_rating&#x27;,\n",
       "                                                  SimpleImputer(), [1]),\n",
       "                                                 (&#x27;impute_weather&#x27;,\n",
       "                                                  SimpleImputer(strategy=&#x27;most_frequent&#x27;),\n",
       "                                                  [2]),\n",
       "                                                 (&#x27;impute_road_traffic_density&#x27;,\n",
       "                                                  SimpleImputer(strategy=&#x27;most_frequent&#x27;),\n",
       "                                                  [3]),\n",
       "                                                 (&#x27;impute_multiple_deliveries&#x27;,\n",
       "                                                  SimpleImputer(strategy=&#x27;most...\n",
       "                                                                              3],\n",
       "                                                                             [0.0,\n",
       "                                                                              1.0,\n",
       "                                                                              2.0,\n",
       "                                                                              3.0],\n",
       "                                                                             [&#x27;Low&#x27;,\n",
       "                                                                              &#x27;Medium&#x27;,\n",
       "                                                                              &#x27;High&#x27;,\n",
       "                                                                              &#x27;Jam&#x27;],\n",
       "                                                                             [&#x27;Sunny&#x27;,\n",
       "                                                                              &#x27;Stormy&#x27;,\n",
       "                                                                              &#x27;Windy&#x27;,\n",
       "                                                                              &#x27;Sandstorms&#x27;,\n",
       "                                                                              &#x27;Cloudy&#x27;,\n",
       "                                                                              &#x27;Fog&#x27;],\n",
       "                                                                             [&#x27;scooter&#x27;,\n",
       "                                                                              &#x27;electric_scooter&#x27;,\n",
       "                                                                              &#x27;motorcycle&#x27;,\n",
       "                                                                              &#x27;bicycle&#x27;],\n",
       "                                                                             [&#x27;Urban&#x27;,\n",
       "                                                                              &#x27;Metropolitian&#x27;,\n",
       "                                                                              &#x27;Semi-Urban&#x27;],\n",
       "                                                                             [&#x27;No&#x27;,\n",
       "                                                                              &#x27;Yes&#x27;]]),\n",
       "                                                  [8, 4, 3, 2, 9, 6, 5])])),\n",
       "                (&#x27;trf3&#x27;,\n",
       "                 ColumnTransformer(transformers=[(&#x27;scale_1&#x27;, MinMaxScaler(),\n",
       "                                                  slice(0, 10, None))])),\n",
       "                (&#x27;trf4&#x27;, LinearRegression())])</pre></div></div></div><div class=\"sk-serial\"><div class=\"sk-item sk-dashed-wrapped\"><div class=\"sk-label-container\"><div class=\"sk-label sk-toggleable\"><input class=\"sk-toggleable__control sk-hidden--visually\" id=\"sk-estimator-id-147\" type=\"checkbox\" ><label for=\"sk-estimator-id-147\" class=\"sk-toggleable__label sk-toggleable__label-arrow\">trf1: ColumnTransformer</label><div class=\"sk-toggleable__content\"><pre>ColumnTransformer(remainder=&#x27;passthrough&#x27;,\n",
       "                  transformers=[(&#x27;impute_age&#x27;, SimpleImputer(), [0]),\n",
       "                                (&#x27;impute_rating&#x27;, SimpleImputer(), [1]),\n",
       "                                (&#x27;impute_weather&#x27;,\n",
       "                                 SimpleImputer(strategy=&#x27;most_frequent&#x27;), [2]),\n",
       "                                (&#x27;impute_road_traffic_density&#x27;,\n",
       "                                 SimpleImputer(strategy=&#x27;most_frequent&#x27;), [3]),\n",
       "                                (&#x27;impute_multiple_deliveries&#x27;,\n",
       "                                 SimpleImputer(strategy=&#x27;most_frequent&#x27;), [6]),\n",
       "                                (&#x27;impute_festival&#x27;,\n",
       "                                 SimpleImputer(strategy=&#x27;most_frequent&#x27;), [7]),\n",
       "                                (&#x27;impute_city&#x27;,\n",
       "                                 SimpleImputer(strategy=&#x27;most_frequent&#x27;), [8]),\n",
       "                                (&#x27;impute_total_distance&#x27;, SimpleImputer(),\n",
       "                                 [9])])</pre></div></div></div><div class=\"sk-parallel\"><div class=\"sk-parallel-item\"><div class=\"sk-item\"><div class=\"sk-label-container\"><div class=\"sk-label sk-toggleable\"><input class=\"sk-toggleable__control sk-hidden--visually\" id=\"sk-estimator-id-148\" type=\"checkbox\" ><label for=\"sk-estimator-id-148\" class=\"sk-toggleable__label sk-toggleable__label-arrow\">impute_age</label><div class=\"sk-toggleable__content\"><pre>[0]</pre></div></div></div><div class=\"sk-serial\"><div class=\"sk-item\"><div class=\"sk-estimator sk-toggleable\"><input class=\"sk-toggleable__control sk-hidden--visually\" id=\"sk-estimator-id-149\" type=\"checkbox\" ><label for=\"sk-estimator-id-149\" class=\"sk-toggleable__label sk-toggleable__label-arrow\">SimpleImputer</label><div class=\"sk-toggleable__content\"><pre>SimpleImputer()</pre></div></div></div></div></div></div><div class=\"sk-parallel-item\"><div class=\"sk-item\"><div class=\"sk-label-container\"><div class=\"sk-label sk-toggleable\"><input class=\"sk-toggleable__control sk-hidden--visually\" id=\"sk-estimator-id-150\" type=\"checkbox\" ><label for=\"sk-estimator-id-150\" class=\"sk-toggleable__label sk-toggleable__label-arrow\">impute_rating</label><div class=\"sk-toggleable__content\"><pre>[1]</pre></div></div></div><div class=\"sk-serial\"><div class=\"sk-item\"><div class=\"sk-estimator sk-toggleable\"><input class=\"sk-toggleable__control sk-hidden--visually\" id=\"sk-estimator-id-151\" type=\"checkbox\" ><label for=\"sk-estimator-id-151\" class=\"sk-toggleable__label sk-toggleable__label-arrow\">SimpleImputer</label><div class=\"sk-toggleable__content\"><pre>SimpleImputer()</pre></div></div></div></div></div></div><div class=\"sk-parallel-item\"><div class=\"sk-item\"><div class=\"sk-label-container\"><div class=\"sk-label sk-toggleable\"><input class=\"sk-toggleable__control sk-hidden--visually\" id=\"sk-estimator-id-152\" type=\"checkbox\" ><label for=\"sk-estimator-id-152\" class=\"sk-toggleable__label sk-toggleable__label-arrow\">impute_weather</label><div class=\"sk-toggleable__content\"><pre>[2]</pre></div></div></div><div class=\"sk-serial\"><div class=\"sk-item\"><div class=\"sk-estimator sk-toggleable\"><input class=\"sk-toggleable__control sk-hidden--visually\" id=\"sk-estimator-id-153\" type=\"checkbox\" ><label for=\"sk-estimator-id-153\" class=\"sk-toggleable__label sk-toggleable__label-arrow\">SimpleImputer</label><div class=\"sk-toggleable__content\"><pre>SimpleImputer(strategy=&#x27;most_frequent&#x27;)</pre></div></div></div></div></div></div><div class=\"sk-parallel-item\"><div class=\"sk-item\"><div class=\"sk-label-container\"><div class=\"sk-label sk-toggleable\"><input class=\"sk-toggleable__control sk-hidden--visually\" id=\"sk-estimator-id-154\" type=\"checkbox\" ><label for=\"sk-estimator-id-154\" class=\"sk-toggleable__label sk-toggleable__label-arrow\">impute_road_traffic_density</label><div class=\"sk-toggleable__content\"><pre>[3]</pre></div></div></div><div class=\"sk-serial\"><div class=\"sk-item\"><div class=\"sk-estimator sk-toggleable\"><input class=\"sk-toggleable__control sk-hidden--visually\" id=\"sk-estimator-id-155\" type=\"checkbox\" ><label for=\"sk-estimator-id-155\" class=\"sk-toggleable__label sk-toggleable__label-arrow\">SimpleImputer</label><div class=\"sk-toggleable__content\"><pre>SimpleImputer(strategy=&#x27;most_frequent&#x27;)</pre></div></div></div></div></div></div><div class=\"sk-parallel-item\"><div class=\"sk-item\"><div class=\"sk-label-container\"><div class=\"sk-label sk-toggleable\"><input class=\"sk-toggleable__control sk-hidden--visually\" id=\"sk-estimator-id-156\" type=\"checkbox\" ><label for=\"sk-estimator-id-156\" class=\"sk-toggleable__label sk-toggleable__label-arrow\">impute_multiple_deliveries</label><div class=\"sk-toggleable__content\"><pre>[6]</pre></div></div></div><div class=\"sk-serial\"><div class=\"sk-item\"><div class=\"sk-estimator sk-toggleable\"><input class=\"sk-toggleable__control sk-hidden--visually\" id=\"sk-estimator-id-157\" type=\"checkbox\" ><label for=\"sk-estimator-id-157\" class=\"sk-toggleable__label sk-toggleable__label-arrow\">SimpleImputer</label><div class=\"sk-toggleable__content\"><pre>SimpleImputer(strategy=&#x27;most_frequent&#x27;)</pre></div></div></div></div></div></div><div class=\"sk-parallel-item\"><div class=\"sk-item\"><div class=\"sk-label-container\"><div class=\"sk-label sk-toggleable\"><input class=\"sk-toggleable__control sk-hidden--visually\" id=\"sk-estimator-id-158\" type=\"checkbox\" ><label for=\"sk-estimator-id-158\" class=\"sk-toggleable__label sk-toggleable__label-arrow\">impute_festival</label><div class=\"sk-toggleable__content\"><pre>[7]</pre></div></div></div><div class=\"sk-serial\"><div class=\"sk-item\"><div class=\"sk-estimator sk-toggleable\"><input class=\"sk-toggleable__control sk-hidden--visually\" id=\"sk-estimator-id-159\" type=\"checkbox\" ><label for=\"sk-estimator-id-159\" class=\"sk-toggleable__label sk-toggleable__label-arrow\">SimpleImputer</label><div class=\"sk-toggleable__content\"><pre>SimpleImputer(strategy=&#x27;most_frequent&#x27;)</pre></div></div></div></div></div></div><div class=\"sk-parallel-item\"><div class=\"sk-item\"><div class=\"sk-label-container\"><div class=\"sk-label sk-toggleable\"><input class=\"sk-toggleable__control sk-hidden--visually\" id=\"sk-estimator-id-160\" type=\"checkbox\" ><label for=\"sk-estimator-id-160\" class=\"sk-toggleable__label sk-toggleable__label-arrow\">impute_city</label><div class=\"sk-toggleable__content\"><pre>[8]</pre></div></div></div><div class=\"sk-serial\"><div class=\"sk-item\"><div class=\"sk-estimator sk-toggleable\"><input class=\"sk-toggleable__control sk-hidden--visually\" id=\"sk-estimator-id-161\" type=\"checkbox\" ><label for=\"sk-estimator-id-161\" class=\"sk-toggleable__label sk-toggleable__label-arrow\">SimpleImputer</label><div class=\"sk-toggleable__content\"><pre>SimpleImputer(strategy=&#x27;most_frequent&#x27;)</pre></div></div></div></div></div></div><div class=\"sk-parallel-item\"><div class=\"sk-item\"><div class=\"sk-label-container\"><div class=\"sk-label sk-toggleable\"><input class=\"sk-toggleable__control sk-hidden--visually\" id=\"sk-estimator-id-162\" type=\"checkbox\" ><label for=\"sk-estimator-id-162\" class=\"sk-toggleable__label sk-toggleable__label-arrow\">impute_total_distance</label><div class=\"sk-toggleable__content\"><pre>[9]</pre></div></div></div><div class=\"sk-serial\"><div class=\"sk-item\"><div class=\"sk-estimator sk-toggleable\"><input class=\"sk-toggleable__control sk-hidden--visually\" id=\"sk-estimator-id-163\" type=\"checkbox\" ><label for=\"sk-estimator-id-163\" class=\"sk-toggleable__label sk-toggleable__label-arrow\">SimpleImputer</label><div class=\"sk-toggleable__content\"><pre>SimpleImputer()</pre></div></div></div></div></div></div><div class=\"sk-parallel-item\"><div class=\"sk-item\"><div class=\"sk-label-container\"><div class=\"sk-label sk-toggleable\"><input class=\"sk-toggleable__control sk-hidden--visually\" id=\"sk-estimator-id-164\" type=\"checkbox\" ><label for=\"sk-estimator-id-164\" class=\"sk-toggleable__label sk-toggleable__label-arrow\">remainder</label><div class=\"sk-toggleable__content\"><pre>[&#x27;Vehicle_condition&#x27;, &#x27;Type_of_vehicle&#x27;]</pre></div></div></div><div class=\"sk-serial\"><div class=\"sk-item\"><div class=\"sk-estimator sk-toggleable\"><input class=\"sk-toggleable__control sk-hidden--visually\" id=\"sk-estimator-id-165\" type=\"checkbox\" ><label for=\"sk-estimator-id-165\" class=\"sk-toggleable__label sk-toggleable__label-arrow\">passthrough</label><div class=\"sk-toggleable__content\"><pre>passthrough</pre></div></div></div></div></div></div></div></div><div class=\"sk-item sk-dashed-wrapped\"><div class=\"sk-label-container\"><div class=\"sk-label sk-toggleable\"><input class=\"sk-toggleable__control sk-hidden--visually\" id=\"sk-estimator-id-166\" type=\"checkbox\" ><label for=\"sk-estimator-id-166\" class=\"sk-toggleable__label sk-toggleable__label-arrow\">trf2: ColumnTransformer</label><div class=\"sk-toggleable__content\"><pre>ColumnTransformer(remainder=&#x27;passthrough&#x27;,\n",
       "                  transformers=[(&#x27;ord_enco&#x27;,\n",
       "                                 OrdinalEncoder(categories=[[0, 1, 2, 3],\n",
       "                                                            [0.0, 1.0, 2.0,\n",
       "                                                             3.0],\n",
       "                                                            [&#x27;Low&#x27;, &#x27;Medium&#x27;,\n",
       "                                                             &#x27;High&#x27;, &#x27;Jam&#x27;],\n",
       "                                                            [&#x27;Sunny&#x27;, &#x27;Stormy&#x27;,\n",
       "                                                             &#x27;Windy&#x27;,\n",
       "                                                             &#x27;Sandstorms&#x27;,\n",
       "                                                             &#x27;Cloudy&#x27;, &#x27;Fog&#x27;],\n",
       "                                                            [&#x27;scooter&#x27;,\n",
       "                                                             &#x27;electric_scooter&#x27;,\n",
       "                                                             &#x27;motorcycle&#x27;,\n",
       "                                                             &#x27;bicycle&#x27;],\n",
       "                                                            [&#x27;Urban&#x27;,\n",
       "                                                             &#x27;Metropolitian&#x27;,\n",
       "                                                             &#x27;Semi-Urban&#x27;],\n",
       "                                                            [&#x27;No&#x27;, &#x27;Yes&#x27;]]),\n",
       "                                 [8, 4, 3, 2, 9, 6, 5])])</pre></div></div></div><div class=\"sk-parallel\"><div class=\"sk-parallel-item\"><div class=\"sk-item\"><div class=\"sk-label-container\"><div class=\"sk-label sk-toggleable\"><input class=\"sk-toggleable__control sk-hidden--visually\" id=\"sk-estimator-id-167\" type=\"checkbox\" ><label for=\"sk-estimator-id-167\" class=\"sk-toggleable__label sk-toggleable__label-arrow\">ord_enco</label><div class=\"sk-toggleable__content\"><pre>[8, 4, 3, 2, 9, 6, 5]</pre></div></div></div><div class=\"sk-serial\"><div class=\"sk-item\"><div class=\"sk-estimator sk-toggleable\"><input class=\"sk-toggleable__control sk-hidden--visually\" id=\"sk-estimator-id-168\" type=\"checkbox\" ><label for=\"sk-estimator-id-168\" class=\"sk-toggleable__label sk-toggleable__label-arrow\">OrdinalEncoder</label><div class=\"sk-toggleable__content\"><pre>OrdinalEncoder(categories=[[0, 1, 2, 3], [0.0, 1.0, 2.0, 3.0],\n",
       "                           [&#x27;Low&#x27;, &#x27;Medium&#x27;, &#x27;High&#x27;, &#x27;Jam&#x27;],\n",
       "                           [&#x27;Sunny&#x27;, &#x27;Stormy&#x27;, &#x27;Windy&#x27;, &#x27;Sandstorms&#x27;, &#x27;Cloudy&#x27;,\n",
       "                            &#x27;Fog&#x27;],\n",
       "                           [&#x27;scooter&#x27;, &#x27;electric_scooter&#x27;, &#x27;motorcycle&#x27;,\n",
       "                            &#x27;bicycle&#x27;],\n",
       "                           [&#x27;Urban&#x27;, &#x27;Metropolitian&#x27;, &#x27;Semi-Urban&#x27;],\n",
       "                           [&#x27;No&#x27;, &#x27;Yes&#x27;]])</pre></div></div></div></div></div></div><div class=\"sk-parallel-item\"><div class=\"sk-item\"><div class=\"sk-label-container\"><div class=\"sk-label sk-toggleable\"><input class=\"sk-toggleable__control sk-hidden--visually\" id=\"sk-estimator-id-169\" type=\"checkbox\" ><label for=\"sk-estimator-id-169\" class=\"sk-toggleable__label sk-toggleable__label-arrow\">remainder</label><div class=\"sk-toggleable__content\"><pre>[0, 1, 7]</pre></div></div></div><div class=\"sk-serial\"><div class=\"sk-item\"><div class=\"sk-estimator sk-toggleable\"><input class=\"sk-toggleable__control sk-hidden--visually\" id=\"sk-estimator-id-170\" type=\"checkbox\" ><label for=\"sk-estimator-id-170\" class=\"sk-toggleable__label sk-toggleable__label-arrow\">passthrough</label><div class=\"sk-toggleable__content\"><pre>passthrough</pre></div></div></div></div></div></div></div></div><div class=\"sk-item sk-dashed-wrapped\"><div class=\"sk-label-container\"><div class=\"sk-label sk-toggleable\"><input class=\"sk-toggleable__control sk-hidden--visually\" id=\"sk-estimator-id-171\" type=\"checkbox\" ><label for=\"sk-estimator-id-171\" class=\"sk-toggleable__label sk-toggleable__label-arrow\">trf3: ColumnTransformer</label><div class=\"sk-toggleable__content\"><pre>ColumnTransformer(transformers=[(&#x27;scale_1&#x27;, MinMaxScaler(),\n",
       "                                 slice(0, 10, None))])</pre></div></div></div><div class=\"sk-parallel\"><div class=\"sk-parallel-item\"><div class=\"sk-item\"><div class=\"sk-label-container\"><div class=\"sk-label sk-toggleable\"><input class=\"sk-toggleable__control sk-hidden--visually\" id=\"sk-estimator-id-172\" type=\"checkbox\" ><label for=\"sk-estimator-id-172\" class=\"sk-toggleable__label sk-toggleable__label-arrow\">scale_1</label><div class=\"sk-toggleable__content\"><pre>slice(0, 10, None)</pre></div></div></div><div class=\"sk-serial\"><div class=\"sk-item\"><div class=\"sk-estimator sk-toggleable\"><input class=\"sk-toggleable__control sk-hidden--visually\" id=\"sk-estimator-id-173\" type=\"checkbox\" ><label for=\"sk-estimator-id-173\" class=\"sk-toggleable__label sk-toggleable__label-arrow\">MinMaxScaler</label><div class=\"sk-toggleable__content\"><pre>MinMaxScaler()</pre></div></div></div></div></div></div></div></div><div class=\"sk-item\"><div class=\"sk-estimator sk-toggleable\"><input class=\"sk-toggleable__control sk-hidden--visually\" id=\"sk-estimator-id-174\" type=\"checkbox\" ><label for=\"sk-estimator-id-174\" class=\"sk-toggleable__label sk-toggleable__label-arrow\">LinearRegression</label><div class=\"sk-toggleable__content\"><pre>LinearRegression()</pre></div></div></div></div></div></div></div>"
      ],
      "text/plain": [
       "Pipeline(steps=[('trf1',\n",
       "                 ColumnTransformer(remainder='passthrough',\n",
       "                                   transformers=[('impute_age', SimpleImputer(),\n",
       "                                                  [0]),\n",
       "                                                 ('impute_rating',\n",
       "                                                  SimpleImputer(), [1]),\n",
       "                                                 ('impute_weather',\n",
       "                                                  SimpleImputer(strategy='most_frequent'),\n",
       "                                                  [2]),\n",
       "                                                 ('impute_road_traffic_density',\n",
       "                                                  SimpleImputer(strategy='most_frequent'),\n",
       "                                                  [3]),\n",
       "                                                 ('impute_multiple_deliveries',\n",
       "                                                  SimpleImputer(strategy='most...\n",
       "                                                                              3],\n",
       "                                                                             [0.0,\n",
       "                                                                              1.0,\n",
       "                                                                              2.0,\n",
       "                                                                              3.0],\n",
       "                                                                             ['Low',\n",
       "                                                                              'Medium',\n",
       "                                                                              'High',\n",
       "                                                                              'Jam'],\n",
       "                                                                             ['Sunny',\n",
       "                                                                              'Stormy',\n",
       "                                                                              'Windy',\n",
       "                                                                              'Sandstorms',\n",
       "                                                                              'Cloudy',\n",
       "                                                                              'Fog'],\n",
       "                                                                             ['scooter',\n",
       "                                                                              'electric_scooter',\n",
       "                                                                              'motorcycle',\n",
       "                                                                              'bicycle'],\n",
       "                                                                             ['Urban',\n",
       "                                                                              'Metropolitian',\n",
       "                                                                              'Semi-Urban'],\n",
       "                                                                             ['No',\n",
       "                                                                              'Yes']]),\n",
       "                                                  [8, 4, 3, 2, 9, 6, 5])])),\n",
       "                ('trf3',\n",
       "                 ColumnTransformer(transformers=[('scale_1', MinMaxScaler(),\n",
       "                                                  slice(0, 10, None))])),\n",
       "                ('trf4', LinearRegression())])"
      ]
     },
     "execution_count": 202,
     "metadata": {},
     "output_type": "execute_result"
    }
   ],
   "source": [
    "#fit data\n",
    "pipe.fit(X_train, y_train)"
   ]
  },
  {
   "cell_type": "markdown",
   "id": "264d72cc",
   "metadata": {},
   "source": [
    "# Predicting"
   ]
  },
  {
   "cell_type": "code",
   "execution_count": 203,
   "id": "44578476",
   "metadata": {},
   "outputs": [],
   "source": [
    "y_pred = pipe.predict(X_test)"
   ]
  },
  {
   "cell_type": "code",
   "execution_count": 217,
   "id": "d4c6bdc7",
   "metadata": {},
   "outputs": [
    {
     "data": {
      "text/plain": [
       "array([22, 35, 31, ..., 22, 28, 20])"
      ]
     },
     "execution_count": 217,
     "metadata": {},
     "output_type": "execute_result"
    }
   ],
   "source": [
    "y_pred.round().astype(int)"
   ]
  },
  {
   "cell_type": "code",
   "execution_count": 224,
   "id": "da46d601",
   "metadata": {},
   "outputs": [],
   "source": [
    "test['Time_taken (min)'] = y_pred"
   ]
  },
  {
   "cell_type": "code",
   "execution_count": 225,
   "id": "6983c1f0",
   "metadata": {
    "scrolled": true
   },
   "outputs": [
    {
     "data": {
      "text/html": [
       "<div>\n",
       "<style scoped>\n",
       "    .dataframe tbody tr th:only-of-type {\n",
       "        vertical-align: middle;\n",
       "    }\n",
       "\n",
       "    .dataframe tbody tr th {\n",
       "        vertical-align: top;\n",
       "    }\n",
       "\n",
       "    .dataframe thead th {\n",
       "        text-align: right;\n",
       "    }\n",
       "</style>\n",
       "<table border=\"1\" class=\"dataframe\">\n",
       "  <thead>\n",
       "    <tr style=\"text-align: right;\">\n",
       "      <th></th>\n",
       "      <th>Unnamed: 0</th>\n",
       "      <th>ID</th>\n",
       "      <th>Delivery_person_ID</th>\n",
       "      <th>Delivery_person_Age</th>\n",
       "      <th>Delivery_person_Ratings</th>\n",
       "      <th>Restaurant_latitude</th>\n",
       "      <th>Restaurant_longitude</th>\n",
       "      <th>Delivery_location_latitude</th>\n",
       "      <th>Delivery_location_longitude</th>\n",
       "      <th>Order_Date</th>\n",
       "      <th>...</th>\n",
       "      <th>Time_Order_picked</th>\n",
       "      <th>Weather</th>\n",
       "      <th>Road_traffic_density</th>\n",
       "      <th>Vehicle_condition</th>\n",
       "      <th>Type_of_order</th>\n",
       "      <th>Type_of_vehicle</th>\n",
       "      <th>multiple_deliveries</th>\n",
       "      <th>Festival</th>\n",
       "      <th>City</th>\n",
       "      <th>Time_taken (min)</th>\n",
       "    </tr>\n",
       "  </thead>\n",
       "  <tbody>\n",
       "    <tr>\n",
       "      <th>0</th>\n",
       "      <td>0</td>\n",
       "      <td>0x2318</td>\n",
       "      <td>COIMBRES13DEL01</td>\n",
       "      <td>NaN</td>\n",
       "      <td>NaN</td>\n",
       "      <td>11.003669</td>\n",
       "      <td>76.976494</td>\n",
       "      <td>11.043669</td>\n",
       "      <td>77.016494</td>\n",
       "      <td>30-03-2022</td>\n",
       "      <td>...</td>\n",
       "      <td>15:05</td>\n",
       "      <td>NaN</td>\n",
       "      <td>NaN</td>\n",
       "      <td>3</td>\n",
       "      <td>Drinks</td>\n",
       "      <td>electric_scooter</td>\n",
       "      <td>1.0</td>\n",
       "      <td>No</td>\n",
       "      <td>Metropolitian</td>\n",
       "      <td>21.797350</td>\n",
       "    </tr>\n",
       "    <tr>\n",
       "      <th>1</th>\n",
       "      <td>1</td>\n",
       "      <td>0x3474</td>\n",
       "      <td>BANGRES15DEL01</td>\n",
       "      <td>28.0</td>\n",
       "      <td>4.6</td>\n",
       "      <td>12.975377</td>\n",
       "      <td>77.696664</td>\n",
       "      <td>13.085377</td>\n",
       "      <td>77.806664</td>\n",
       "      <td>29-03-2022</td>\n",
       "      <td>...</td>\n",
       "      <td>20:35</td>\n",
       "      <td>Windy</td>\n",
       "      <td>Jam</td>\n",
       "      <td>0</td>\n",
       "      <td>Snack</td>\n",
       "      <td>motorcycle</td>\n",
       "      <td>1.0</td>\n",
       "      <td>No</td>\n",
       "      <td>Metropolitian</td>\n",
       "      <td>34.783879</td>\n",
       "    </tr>\n",
       "    <tr>\n",
       "      <th>2</th>\n",
       "      <td>2</td>\n",
       "      <td>0x9420</td>\n",
       "      <td>JAPRES09DEL03</td>\n",
       "      <td>23.0</td>\n",
       "      <td>4.5</td>\n",
       "      <td>26.911378</td>\n",
       "      <td>75.789034</td>\n",
       "      <td>27.001378</td>\n",
       "      <td>75.879034</td>\n",
       "      <td>10-03-2022</td>\n",
       "      <td>...</td>\n",
       "      <td>19:45</td>\n",
       "      <td>Stormy</td>\n",
       "      <td>Jam</td>\n",
       "      <td>0</td>\n",
       "      <td>Drinks</td>\n",
       "      <td>motorcycle</td>\n",
       "      <td>1.0</td>\n",
       "      <td>No</td>\n",
       "      <td>Metropolitian</td>\n",
       "      <td>31.210145</td>\n",
       "    </tr>\n",
       "    <tr>\n",
       "      <th>3</th>\n",
       "      <td>3</td>\n",
       "      <td>0x72ee</td>\n",
       "      <td>JAPRES07DEL03</td>\n",
       "      <td>21.0</td>\n",
       "      <td>4.8</td>\n",
       "      <td>26.766536</td>\n",
       "      <td>75.837333</td>\n",
       "      <td>26.856536</td>\n",
       "      <td>75.927333</td>\n",
       "      <td>02-04-2022</td>\n",
       "      <td>...</td>\n",
       "      <td>17:20</td>\n",
       "      <td>Fog</td>\n",
       "      <td>Medium</td>\n",
       "      <td>1</td>\n",
       "      <td>Meal</td>\n",
       "      <td>scooter</td>\n",
       "      <td>1.0</td>\n",
       "      <td>No</td>\n",
       "      <td>Metropolitian</td>\n",
       "      <td>25.612092</td>\n",
       "    </tr>\n",
       "    <tr>\n",
       "      <th>4</th>\n",
       "      <td>4</td>\n",
       "      <td>0xa759</td>\n",
       "      <td>CHENRES19DEL01</td>\n",
       "      <td>31.0</td>\n",
       "      <td>4.6</td>\n",
       "      <td>12.986047</td>\n",
       "      <td>80.218114</td>\n",
       "      <td>13.096047</td>\n",
       "      <td>80.328114</td>\n",
       "      <td>27-03-2022</td>\n",
       "      <td>...</td>\n",
       "      <td>18:40</td>\n",
       "      <td>Sunny</td>\n",
       "      <td>Medium</td>\n",
       "      <td>2</td>\n",
       "      <td>Drinks</td>\n",
       "      <td>scooter</td>\n",
       "      <td>1.0</td>\n",
       "      <td>No</td>\n",
       "      <td>Metropolitian</td>\n",
       "      <td>24.383888</td>\n",
       "    </tr>\n",
       "    <tr>\n",
       "      <th>...</th>\n",
       "      <td>...</td>\n",
       "      <td>...</td>\n",
       "      <td>...</td>\n",
       "      <td>...</td>\n",
       "      <td>...</td>\n",
       "      <td>...</td>\n",
       "      <td>...</td>\n",
       "      <td>...</td>\n",
       "      <td>...</td>\n",
       "      <td>...</td>\n",
       "      <td>...</td>\n",
       "      <td>...</td>\n",
       "      <td>...</td>\n",
       "      <td>...</td>\n",
       "      <td>...</td>\n",
       "      <td>...</td>\n",
       "      <td>...</td>\n",
       "      <td>...</td>\n",
       "      <td>...</td>\n",
       "      <td>...</td>\n",
       "      <td>...</td>\n",
       "    </tr>\n",
       "    <tr>\n",
       "      <th>11394</th>\n",
       "      <td>11394</td>\n",
       "      <td>0x6909</td>\n",
       "      <td>JAPRES01DEL01</td>\n",
       "      <td>35.0</td>\n",
       "      <td>4.6</td>\n",
       "      <td>26.905190</td>\n",
       "      <td>75.810753</td>\n",
       "      <td>27.015190</td>\n",
       "      <td>75.920753</td>\n",
       "      <td>27-03-2022</td>\n",
       "      <td>...</td>\n",
       "      <td>21:45</td>\n",
       "      <td>Sunny</td>\n",
       "      <td>Jam</td>\n",
       "      <td>1</td>\n",
       "      <td>Snack</td>\n",
       "      <td>scooter</td>\n",
       "      <td>1.0</td>\n",
       "      <td>No</td>\n",
       "      <td>Metropolitian</td>\n",
       "      <td>32.384989</td>\n",
       "    </tr>\n",
       "    <tr>\n",
       "      <th>11395</th>\n",
       "      <td>11395</td>\n",
       "      <td>0x443b</td>\n",
       "      <td>JAPRES11DEL01</td>\n",
       "      <td>33.0</td>\n",
       "      <td>4.9</td>\n",
       "      <td>26.902940</td>\n",
       "      <td>75.793007</td>\n",
       "      <td>26.912940</td>\n",
       "      <td>75.803007</td>\n",
       "      <td>11-03-2022</td>\n",
       "      <td>...</td>\n",
       "      <td>11:45</td>\n",
       "      <td>Sandstorms</td>\n",
       "      <td>High</td>\n",
       "      <td>1</td>\n",
       "      <td>Drinks</td>\n",
       "      <td>scooter</td>\n",
       "      <td>1.0</td>\n",
       "      <td>No</td>\n",
       "      <td>Metropolitian</td>\n",
       "      <td>25.888453</td>\n",
       "    </tr>\n",
       "    <tr>\n",
       "      <th>11396</th>\n",
       "      <td>11396</td>\n",
       "      <td>0x1ea5</td>\n",
       "      <td>SURRES11DEL03</td>\n",
       "      <td>NaN</td>\n",
       "      <td>NaN</td>\n",
       "      <td>21.157735</td>\n",
       "      <td>72.768778</td>\n",
       "      <td>21.217735</td>\n",
       "      <td>72.828778</td>\n",
       "      <td>11-03-2022</td>\n",
       "      <td>...</td>\n",
       "      <td>21:05</td>\n",
       "      <td>NaN</td>\n",
       "      <td>NaN</td>\n",
       "      <td>3</td>\n",
       "      <td>Drinks</td>\n",
       "      <td>scooter</td>\n",
       "      <td>1.0</td>\n",
       "      <td>No</td>\n",
       "      <td>Metropolitian</td>\n",
       "      <td>22.399076</td>\n",
       "    </tr>\n",
       "    <tr>\n",
       "      <th>11397</th>\n",
       "      <td>11397</td>\n",
       "      <td>0x22d4</td>\n",
       "      <td>VADRES03DEL02</td>\n",
       "      <td>27.0</td>\n",
       "      <td>4.7</td>\n",
       "      <td>22.320000</td>\n",
       "      <td>73.170000</td>\n",
       "      <td>22.450000</td>\n",
       "      <td>73.300000</td>\n",
       "      <td>06-03-2022</td>\n",
       "      <td>...</td>\n",
       "      <td>18:40</td>\n",
       "      <td>Sandstorms</td>\n",
       "      <td>Medium</td>\n",
       "      <td>0</td>\n",
       "      <td>Meal</td>\n",
       "      <td>motorcycle</td>\n",
       "      <td>0.0</td>\n",
       "      <td>No</td>\n",
       "      <td>Metropolitian</td>\n",
       "      <td>27.882837</td>\n",
       "    </tr>\n",
       "    <tr>\n",
       "      <th>11398</th>\n",
       "      <td>11398</td>\n",
       "      <td>0xb7be</td>\n",
       "      <td>CHENRES07DEL02</td>\n",
       "      <td>39.0</td>\n",
       "      <td>5.0</td>\n",
       "      <td>13.081878</td>\n",
       "      <td>80.248519</td>\n",
       "      <td>13.131878</td>\n",
       "      <td>80.298519</td>\n",
       "      <td>24-03-2022</td>\n",
       "      <td>...</td>\n",
       "      <td>22:25</td>\n",
       "      <td>Windy</td>\n",
       "      <td>Low</td>\n",
       "      <td>2</td>\n",
       "      <td>Drinks</td>\n",
       "      <td>motorcycle</td>\n",
       "      <td>1.0</td>\n",
       "      <td>No</td>\n",
       "      <td>Urban</td>\n",
       "      <td>20.159639</td>\n",
       "    </tr>\n",
       "  </tbody>\n",
       "</table>\n",
       "<p>11399 rows × 21 columns</p>\n",
       "</div>"
      ],
      "text/plain": [
       "       Unnamed: 0      ID Delivery_person_ID  Delivery_person_Age  \\\n",
       "0               0  0x2318    COIMBRES13DEL01                  NaN   \n",
       "1               1  0x3474     BANGRES15DEL01                 28.0   \n",
       "2               2  0x9420      JAPRES09DEL03                 23.0   \n",
       "3               3  0x72ee      JAPRES07DEL03                 21.0   \n",
       "4               4  0xa759     CHENRES19DEL01                 31.0   \n",
       "...           ...     ...                ...                  ...   \n",
       "11394       11394  0x6909      JAPRES01DEL01                 35.0   \n",
       "11395       11395  0x443b      JAPRES11DEL01                 33.0   \n",
       "11396       11396  0x1ea5      SURRES11DEL03                  NaN   \n",
       "11397       11397  0x22d4      VADRES03DEL02                 27.0   \n",
       "11398       11398  0xb7be     CHENRES07DEL02                 39.0   \n",
       "\n",
       "       Delivery_person_Ratings  Restaurant_latitude  Restaurant_longitude  \\\n",
       "0                          NaN            11.003669             76.976494   \n",
       "1                          4.6            12.975377             77.696664   \n",
       "2                          4.5            26.911378             75.789034   \n",
       "3                          4.8            26.766536             75.837333   \n",
       "4                          4.6            12.986047             80.218114   \n",
       "...                        ...                  ...                   ...   \n",
       "11394                      4.6            26.905190             75.810753   \n",
       "11395                      4.9            26.902940             75.793007   \n",
       "11396                      NaN            21.157735             72.768778   \n",
       "11397                      4.7            22.320000             73.170000   \n",
       "11398                      5.0            13.081878             80.248519   \n",
       "\n",
       "       Delivery_location_latitude  Delivery_location_longitude  Order_Date  \\\n",
       "0                       11.043669                    77.016494  30-03-2022   \n",
       "1                       13.085377                    77.806664  29-03-2022   \n",
       "2                       27.001378                    75.879034  10-03-2022   \n",
       "3                       26.856536                    75.927333  02-04-2022   \n",
       "4                       13.096047                    80.328114  27-03-2022   \n",
       "...                           ...                          ...         ...   \n",
       "11394                   27.015190                    75.920753  27-03-2022   \n",
       "11395                   26.912940                    75.803007  11-03-2022   \n",
       "11396                   21.217735                    72.828778  11-03-2022   \n",
       "11397                   22.450000                    73.300000  06-03-2022   \n",
       "11398                   13.131878                    80.298519  24-03-2022   \n",
       "\n",
       "       ... Time_Order_picked     Weather Road_traffic_density  \\\n",
       "0      ...             15:05         NaN                  NaN   \n",
       "1      ...             20:35       Windy                  Jam   \n",
       "2      ...             19:45      Stormy                  Jam   \n",
       "3      ...             17:20         Fog               Medium   \n",
       "4      ...             18:40       Sunny               Medium   \n",
       "...    ...               ...         ...                  ...   \n",
       "11394  ...             21:45       Sunny                  Jam   \n",
       "11395  ...             11:45  Sandstorms                 High   \n",
       "11396  ...             21:05         NaN                  NaN   \n",
       "11397  ...             18:40  Sandstorms               Medium   \n",
       "11398  ...             22:25       Windy                  Low   \n",
       "\n",
       "      Vehicle_condition  Type_of_order   Type_of_vehicle multiple_deliveries  \\\n",
       "0                     3         Drinks  electric_scooter                 1.0   \n",
       "1                     0          Snack        motorcycle                 1.0   \n",
       "2                     0         Drinks        motorcycle                 1.0   \n",
       "3                     1           Meal           scooter                 1.0   \n",
       "4                     2         Drinks           scooter                 1.0   \n",
       "...                 ...            ...               ...                 ...   \n",
       "11394                 1          Snack           scooter                 1.0   \n",
       "11395                 1         Drinks           scooter                 1.0   \n",
       "11396                 3         Drinks           scooter                 1.0   \n",
       "11397                 0           Meal        motorcycle                 0.0   \n",
       "11398                 2         Drinks        motorcycle                 1.0   \n",
       "\n",
       "       Festival           City Time_taken (min)  \n",
       "0            No  Metropolitian        21.797350  \n",
       "1            No  Metropolitian        34.783879  \n",
       "2            No  Metropolitian        31.210145  \n",
       "3            No  Metropolitian        25.612092  \n",
       "4            No  Metropolitian        24.383888  \n",
       "...         ...            ...              ...  \n",
       "11394        No  Metropolitian        32.384989  \n",
       "11395        No  Metropolitian        25.888453  \n",
       "11396        No  Metropolitian        22.399076  \n",
       "11397        No  Metropolitian        27.882837  \n",
       "11398        No          Urban        20.159639  \n",
       "\n",
       "[11399 rows x 21 columns]"
      ]
     },
     "execution_count": 225,
     "metadata": {},
     "output_type": "execute_result"
    }
   ],
   "source": [
    "test"
   ]
  },
  {
   "cell_type": "markdown",
   "id": "524cc852",
   "metadata": {},
   "source": [
    "# Creating a new csv file with the dataframe we created"
   ]
  },
  {
   "cell_type": "code",
   "execution_count": 226,
   "id": "b72cb099",
   "metadata": {
    "scrolled": true
   },
   "outputs": [],
   "source": [
    "test[['ID','Time_taken (min)']].to_csv('test.csv',index=False)"
   ]
  }
 ],
 "metadata": {
  "kernelspec": {
   "display_name": "Python 3 (ipykernel)",
   "language": "python",
   "name": "python3"
  },
  "language_info": {
   "codemirror_mode": {
    "name": "ipython",
    "version": 3
   },
   "file_extension": ".py",
   "mimetype": "text/x-python",
   "name": "python",
   "nbconvert_exporter": "python",
   "pygments_lexer": "ipython3",
   "version": "3.9.13"
  }
 },
 "nbformat": 4,
 "nbformat_minor": 5
}
