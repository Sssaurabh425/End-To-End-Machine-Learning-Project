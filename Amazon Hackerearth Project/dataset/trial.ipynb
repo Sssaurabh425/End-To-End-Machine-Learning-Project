{
 "cells": [
  {
   "cell_type": "markdown",
   "id": "5a16de7f",
   "metadata": {},
   "source": [
    "# Importing Libraries"
   ]
  },
  {
   "cell_type": "code",
   "execution_count": 6,
   "id": "b9656698",
   "metadata": {},
   "outputs": [],
   "source": [
    "import pandas as pd\n",
    "import glob\n",
    "import numpy as np\n",
    "from sklearn.model_selection import train_test_split\n",
    "from sklearn.compose import ColumnTransformer\n",
    "from sklearn.impute import SimpleImputer\n",
    "from sklearn.preprocessing import OrdinalEncoder\n",
    "from sklearn.preprocessing import MinMaxScaler\n",
    "from sklearn.pipeline import Pipeline,make_pipeline\n",
    "from sklearn import metrics"
   ]
  },
  {
   "cell_type": "code",
   "execution_count": 7,
   "id": "b2fc1884",
   "metadata": {},
   "outputs": [],
   "source": [
    "import matplotlib.pyplot as plt\n",
    "import seaborn as sns\n",
    "%matplotlib inline"
   ]
  },
  {
   "cell_type": "markdown",
   "id": "ba7d7415",
   "metadata": {},
   "source": [
    "# Creating Dataframe and Converting it to .csv file"
   ]
  },
  {
   "cell_type": "code",
   "execution_count": 2,
   "id": "05957154",
   "metadata": {},
   "outputs": [],
   "source": [
    "folder_path = 'train'\n",
    "file_list = glob.glob(folder_path + \"/*.txt\")\n",
    "main_dataframe = pd.DataFrame(pd.read_table(file_list[0]))\n",
    "df = pd.DataFrame()\n",
    "    \n",
    "for i in range(0,len(file_list)):\n",
    "    with open(file_list[i]) as f:\n",
    "        lines = f.readlines()\n",
    "        lines0 = [line.split()[0] for line in lines]\n",
    "        lines1 = [line.split()[1:][-1] for line in lines]\n",
    "        df1 = pd.DataFrame ([lines1[0:-1]], columns = lines0[0:-1])\n",
    "        df = pd.concat([df, df1], ignore_index=True)\n",
    "        \n",
    "  \n",
    "# creating a new csv file with\n",
    "# the dataframe we created\n",
    "df.to_csv('train_f.csv')"
   ]
  },
  {
   "cell_type": "markdown",
   "id": "fe8fb77c",
   "metadata": {},
   "source": [
    "# Reading .csv file and storing it in dataframe amazon"
   ]
  },
  {
   "cell_type": "code",
   "execution_count": 8,
   "id": "a785e678",
   "metadata": {},
   "outputs": [],
   "source": [
    "amazon = pd.read_csv('train_f.csv')"
   ]
  },
  {
   "cell_type": "markdown",
   "id": "5e143222",
   "metadata": {},
   "source": [
    "# Data Overview - EDA"
   ]
  },
  {
   "cell_type": "markdown",
   "id": "d8e537c4",
   "metadata": {},
   "source": [
    "### Using basic function to check shape, not null value, statistic details like percentile, means and correlations"
   ]
  },
  {
   "cell_type": "code",
   "execution_count": 5,
   "id": "e29b97d6",
   "metadata": {},
   "outputs": [
    {
     "data": {
      "text/plain": [
       "(45593, 21)"
      ]
     },
     "execution_count": 5,
     "metadata": {},
     "output_type": "execute_result"
    }
   ],
   "source": [
    "amazon.shape"
   ]
  },
  {
   "cell_type": "code",
   "execution_count": 6,
   "id": "99654062",
   "metadata": {},
   "outputs": [
    {
     "data": {
      "text/html": [
       "<div>\n",
       "<style scoped>\n",
       "    .dataframe tbody tr th:only-of-type {\n",
       "        vertical-align: middle;\n",
       "    }\n",
       "\n",
       "    .dataframe tbody tr th {\n",
       "        vertical-align: top;\n",
       "    }\n",
       "\n",
       "    .dataframe thead th {\n",
       "        text-align: right;\n",
       "    }\n",
       "</style>\n",
       "<table border=\"1\" class=\"dataframe\">\n",
       "  <thead>\n",
       "    <tr style=\"text-align: right;\">\n",
       "      <th></th>\n",
       "      <th>Unnamed: 0</th>\n",
       "      <th>ID</th>\n",
       "      <th>Delivery_person_ID</th>\n",
       "      <th>Delivery_person_Age</th>\n",
       "      <th>Delivery_person_Ratings</th>\n",
       "      <th>Restaurant_latitude</th>\n",
       "      <th>Restaurant_longitude</th>\n",
       "      <th>Delivery_location_latitude</th>\n",
       "      <th>Delivery_location_longitude</th>\n",
       "      <th>Order_Date</th>\n",
       "      <th>...</th>\n",
       "      <th>Time_Order_picked</th>\n",
       "      <th>Weather</th>\n",
       "      <th>Road_traffic_density</th>\n",
       "      <th>Vehicle_condition</th>\n",
       "      <th>Type_of_order</th>\n",
       "      <th>Type_of_vehicle</th>\n",
       "      <th>multiple_deliveries</th>\n",
       "      <th>Festival</th>\n",
       "      <th>City</th>\n",
       "      <th>Time_taken</th>\n",
       "    </tr>\n",
       "  </thead>\n",
       "  <tbody>\n",
       "    <tr>\n",
       "      <th>0</th>\n",
       "      <td>0</td>\n",
       "      <td>0x4607</td>\n",
       "      <td>INDORES13DEL02</td>\n",
       "      <td>37.0</td>\n",
       "      <td>4.9</td>\n",
       "      <td>22.745049</td>\n",
       "      <td>75.892471</td>\n",
       "      <td>22.765049</td>\n",
       "      <td>75.912471</td>\n",
       "      <td>19-03-2022</td>\n",
       "      <td>...</td>\n",
       "      <td>11:45</td>\n",
       "      <td>Sunny</td>\n",
       "      <td>High</td>\n",
       "      <td>2</td>\n",
       "      <td>Snack</td>\n",
       "      <td>motorcycle</td>\n",
       "      <td>0.0</td>\n",
       "      <td>No</td>\n",
       "      <td>Urban</td>\n",
       "      <td>24.0</td>\n",
       "    </tr>\n",
       "    <tr>\n",
       "      <th>1</th>\n",
       "      <td>1</td>\n",
       "      <td>0xb379</td>\n",
       "      <td>BANGRES18DEL02</td>\n",
       "      <td>34.0</td>\n",
       "      <td>4.5</td>\n",
       "      <td>12.913041</td>\n",
       "      <td>77.683237</td>\n",
       "      <td>13.043041</td>\n",
       "      <td>77.813237</td>\n",
       "      <td>25-03-2022</td>\n",
       "      <td>...</td>\n",
       "      <td>19:50</td>\n",
       "      <td>Stormy</td>\n",
       "      <td>Jam</td>\n",
       "      <td>2</td>\n",
       "      <td>Snack</td>\n",
       "      <td>scooter</td>\n",
       "      <td>1.0</td>\n",
       "      <td>No</td>\n",
       "      <td>Metropolitian</td>\n",
       "      <td>33.0</td>\n",
       "    </tr>\n",
       "    <tr>\n",
       "      <th>2</th>\n",
       "      <td>2</td>\n",
       "      <td>0x5d6d</td>\n",
       "      <td>BANGRES19DEL01</td>\n",
       "      <td>23.0</td>\n",
       "      <td>4.4</td>\n",
       "      <td>12.914264</td>\n",
       "      <td>77.678400</td>\n",
       "      <td>12.924264</td>\n",
       "      <td>77.688400</td>\n",
       "      <td>19-03-2022</td>\n",
       "      <td>...</td>\n",
       "      <td>8:45</td>\n",
       "      <td>Sandstorms</td>\n",
       "      <td>Low</td>\n",
       "      <td>0</td>\n",
       "      <td>Drinks</td>\n",
       "      <td>motorcycle</td>\n",
       "      <td>1.0</td>\n",
       "      <td>No</td>\n",
       "      <td>Urban</td>\n",
       "      <td>26.0</td>\n",
       "    </tr>\n",
       "    <tr>\n",
       "      <th>3</th>\n",
       "      <td>3</td>\n",
       "      <td>0x7a6a</td>\n",
       "      <td>COIMBRES13DEL02</td>\n",
       "      <td>38.0</td>\n",
       "      <td>4.7</td>\n",
       "      <td>11.003669</td>\n",
       "      <td>76.976494</td>\n",
       "      <td>11.053669</td>\n",
       "      <td>77.026494</td>\n",
       "      <td>05-04-2022</td>\n",
       "      <td>...</td>\n",
       "      <td>18:10</td>\n",
       "      <td>Sunny</td>\n",
       "      <td>Medium</td>\n",
       "      <td>0</td>\n",
       "      <td>Buffet</td>\n",
       "      <td>motorcycle</td>\n",
       "      <td>1.0</td>\n",
       "      <td>No</td>\n",
       "      <td>Metropolitian</td>\n",
       "      <td>21.0</td>\n",
       "    </tr>\n",
       "    <tr>\n",
       "      <th>4</th>\n",
       "      <td>4</td>\n",
       "      <td>0x70a2</td>\n",
       "      <td>CHENRES12DEL01</td>\n",
       "      <td>32.0</td>\n",
       "      <td>4.6</td>\n",
       "      <td>12.972793</td>\n",
       "      <td>80.249982</td>\n",
       "      <td>13.012793</td>\n",
       "      <td>80.289982</td>\n",
       "      <td>26-03-2022</td>\n",
       "      <td>...</td>\n",
       "      <td>13:45</td>\n",
       "      <td>Cloudy</td>\n",
       "      <td>High</td>\n",
       "      <td>1</td>\n",
       "      <td>Snack</td>\n",
       "      <td>scooter</td>\n",
       "      <td>1.0</td>\n",
       "      <td>No</td>\n",
       "      <td>Metropolitian</td>\n",
       "      <td>30.0</td>\n",
       "    </tr>\n",
       "  </tbody>\n",
       "</table>\n",
       "<p>5 rows × 21 columns</p>\n",
       "</div>"
      ],
      "text/plain": [
       "   Unnamed: 0      ID Delivery_person_ID  Delivery_person_Age  \\\n",
       "0           0  0x4607     INDORES13DEL02                 37.0   \n",
       "1           1  0xb379     BANGRES18DEL02                 34.0   \n",
       "2           2  0x5d6d     BANGRES19DEL01                 23.0   \n",
       "3           3  0x7a6a    COIMBRES13DEL02                 38.0   \n",
       "4           4  0x70a2     CHENRES12DEL01                 32.0   \n",
       "\n",
       "   Delivery_person_Ratings  Restaurant_latitude  Restaurant_longitude  \\\n",
       "0                      4.9            22.745049             75.892471   \n",
       "1                      4.5            12.913041             77.683237   \n",
       "2                      4.4            12.914264             77.678400   \n",
       "3                      4.7            11.003669             76.976494   \n",
       "4                      4.6            12.972793             80.249982   \n",
       "\n",
       "   Delivery_location_latitude  Delivery_location_longitude  Order_Date  ...  \\\n",
       "0                   22.765049                    75.912471  19-03-2022  ...   \n",
       "1                   13.043041                    77.813237  25-03-2022  ...   \n",
       "2                   12.924264                    77.688400  19-03-2022  ...   \n",
       "3                   11.053669                    77.026494  05-04-2022  ...   \n",
       "4                   13.012793                    80.289982  26-03-2022  ...   \n",
       "\n",
       "  Time_Order_picked     Weather Road_traffic_density Vehicle_condition  \\\n",
       "0             11:45       Sunny                 High                 2   \n",
       "1             19:50      Stormy                  Jam                 2   \n",
       "2              8:45  Sandstorms                  Low                 0   \n",
       "3             18:10       Sunny               Medium                 0   \n",
       "4             13:45      Cloudy                 High                 1   \n",
       "\n",
       "   Type_of_order Type_of_vehicle multiple_deliveries  Festival           City  \\\n",
       "0          Snack      motorcycle                 0.0        No          Urban   \n",
       "1          Snack         scooter                 1.0        No  Metropolitian   \n",
       "2         Drinks      motorcycle                 1.0        No          Urban   \n",
       "3         Buffet      motorcycle                 1.0        No  Metropolitian   \n",
       "4          Snack         scooter                 1.0        No  Metropolitian   \n",
       "\n",
       "  Time_taken  \n",
       "0       24.0  \n",
       "1       33.0  \n",
       "2       26.0  \n",
       "3       21.0  \n",
       "4       30.0  \n",
       "\n",
       "[5 rows x 21 columns]"
      ]
     },
     "execution_count": 6,
     "metadata": {},
     "output_type": "execute_result"
    }
   ],
   "source": [
    "amazon.head()"
   ]
  },
  {
   "cell_type": "code",
   "execution_count": 11,
   "id": "8900396e",
   "metadata": {},
   "outputs": [
    {
     "data": {
      "text/html": [
       "<div>\n",
       "<style scoped>\n",
       "    .dataframe tbody tr th:only-of-type {\n",
       "        vertical-align: middle;\n",
       "    }\n",
       "\n",
       "    .dataframe tbody tr th {\n",
       "        vertical-align: top;\n",
       "    }\n",
       "\n",
       "    .dataframe thead th {\n",
       "        text-align: right;\n",
       "    }\n",
       "</style>\n",
       "<table border=\"1\" class=\"dataframe\">\n",
       "  <thead>\n",
       "    <tr style=\"text-align: right;\">\n",
       "      <th></th>\n",
       "      <th>count</th>\n",
       "      <th>mean</th>\n",
       "      <th>std</th>\n",
       "      <th>min</th>\n",
       "      <th>25%</th>\n",
       "      <th>50%</th>\n",
       "      <th>75%</th>\n",
       "      <th>max</th>\n",
       "    </tr>\n",
       "  </thead>\n",
       "  <tbody>\n",
       "    <tr>\n",
       "      <th>Unnamed: 0</th>\n",
       "      <td>45593.0</td>\n",
       "      <td>22796.000000</td>\n",
       "      <td>13161.709748</td>\n",
       "      <td>0.000000</td>\n",
       "      <td>11398.000000</td>\n",
       "      <td>22796.000000</td>\n",
       "      <td>34194.000000</td>\n",
       "      <td>45592.000000</td>\n",
       "    </tr>\n",
       "    <tr>\n",
       "      <th>Delivery_person_Age</th>\n",
       "      <td>43739.0</td>\n",
       "      <td>29.567137</td>\n",
       "      <td>5.815155</td>\n",
       "      <td>15.000000</td>\n",
       "      <td>25.000000</td>\n",
       "      <td>30.000000</td>\n",
       "      <td>35.000000</td>\n",
       "      <td>50.000000</td>\n",
       "    </tr>\n",
       "    <tr>\n",
       "      <th>Delivery_person_Ratings</th>\n",
       "      <td>43685.0</td>\n",
       "      <td>4.633780</td>\n",
       "      <td>0.334716</td>\n",
       "      <td>1.000000</td>\n",
       "      <td>4.500000</td>\n",
       "      <td>4.700000</td>\n",
       "      <td>4.900000</td>\n",
       "      <td>6.000000</td>\n",
       "    </tr>\n",
       "    <tr>\n",
       "      <th>Restaurant_latitude</th>\n",
       "      <td>45593.0</td>\n",
       "      <td>17.017729</td>\n",
       "      <td>8.185109</td>\n",
       "      <td>-30.905562</td>\n",
       "      <td>12.933284</td>\n",
       "      <td>18.546947</td>\n",
       "      <td>22.728163</td>\n",
       "      <td>30.914057</td>\n",
       "    </tr>\n",
       "    <tr>\n",
       "      <th>Restaurant_longitude</th>\n",
       "      <td>45593.0</td>\n",
       "      <td>70.231332</td>\n",
       "      <td>22.883647</td>\n",
       "      <td>-88.366217</td>\n",
       "      <td>73.170000</td>\n",
       "      <td>75.898497</td>\n",
       "      <td>78.044095</td>\n",
       "      <td>88.433452</td>\n",
       "    </tr>\n",
       "    <tr>\n",
       "      <th>Delivery_location_latitude</th>\n",
       "      <td>45593.0</td>\n",
       "      <td>17.465186</td>\n",
       "      <td>7.335122</td>\n",
       "      <td>0.010000</td>\n",
       "      <td>12.988453</td>\n",
       "      <td>18.633934</td>\n",
       "      <td>22.785049</td>\n",
       "      <td>31.054057</td>\n",
       "    </tr>\n",
       "    <tr>\n",
       "      <th>Delivery_location_longitude</th>\n",
       "      <td>45593.0</td>\n",
       "      <td>70.845702</td>\n",
       "      <td>21.118812</td>\n",
       "      <td>0.010000</td>\n",
       "      <td>73.280000</td>\n",
       "      <td>76.002574</td>\n",
       "      <td>78.107044</td>\n",
       "      <td>88.563452</td>\n",
       "    </tr>\n",
       "    <tr>\n",
       "      <th>Vehicle_condition</th>\n",
       "      <td>45593.0</td>\n",
       "      <td>1.023359</td>\n",
       "      <td>0.839065</td>\n",
       "      <td>0.000000</td>\n",
       "      <td>0.000000</td>\n",
       "      <td>1.000000</td>\n",
       "      <td>2.000000</td>\n",
       "      <td>3.000000</td>\n",
       "    </tr>\n",
       "    <tr>\n",
       "      <th>multiple_deliveries</th>\n",
       "      <td>44600.0</td>\n",
       "      <td>0.744664</td>\n",
       "      <td>0.572473</td>\n",
       "      <td>0.000000</td>\n",
       "      <td>0.000000</td>\n",
       "      <td>1.000000</td>\n",
       "      <td>1.000000</td>\n",
       "      <td>3.000000</td>\n",
       "    </tr>\n",
       "    <tr>\n",
       "      <th>Time_taken</th>\n",
       "      <td>45593.0</td>\n",
       "      <td>26.294607</td>\n",
       "      <td>9.383806</td>\n",
       "      <td>10.000000</td>\n",
       "      <td>19.000000</td>\n",
       "      <td>26.000000</td>\n",
       "      <td>32.000000</td>\n",
       "      <td>54.000000</td>\n",
       "    </tr>\n",
       "  </tbody>\n",
       "</table>\n",
       "</div>"
      ],
      "text/plain": [
       "                               count          mean           std        min  \\\n",
       "Unnamed: 0                   45593.0  22796.000000  13161.709748   0.000000   \n",
       "Delivery_person_Age          43739.0     29.567137      5.815155  15.000000   \n",
       "Delivery_person_Ratings      43685.0      4.633780      0.334716   1.000000   \n",
       "Restaurant_latitude          45593.0     17.017729      8.185109 -30.905562   \n",
       "Restaurant_longitude         45593.0     70.231332     22.883647 -88.366217   \n",
       "Delivery_location_latitude   45593.0     17.465186      7.335122   0.010000   \n",
       "Delivery_location_longitude  45593.0     70.845702     21.118812   0.010000   \n",
       "Vehicle_condition            45593.0      1.023359      0.839065   0.000000   \n",
       "multiple_deliveries          44600.0      0.744664      0.572473   0.000000   \n",
       "Time_taken                   45593.0     26.294607      9.383806  10.000000   \n",
       "\n",
       "                                      25%           50%           75%  \\\n",
       "Unnamed: 0                   11398.000000  22796.000000  34194.000000   \n",
       "Delivery_person_Age             25.000000     30.000000     35.000000   \n",
       "Delivery_person_Ratings          4.500000      4.700000      4.900000   \n",
       "Restaurant_latitude             12.933284     18.546947     22.728163   \n",
       "Restaurant_longitude            73.170000     75.898497     78.044095   \n",
       "Delivery_location_latitude      12.988453     18.633934     22.785049   \n",
       "Delivery_location_longitude     73.280000     76.002574     78.107044   \n",
       "Vehicle_condition                0.000000      1.000000      2.000000   \n",
       "multiple_deliveries              0.000000      1.000000      1.000000   \n",
       "Time_taken                      19.000000     26.000000     32.000000   \n",
       "\n",
       "                                      max  \n",
       "Unnamed: 0                   45592.000000  \n",
       "Delivery_person_Age             50.000000  \n",
       "Delivery_person_Ratings          6.000000  \n",
       "Restaurant_latitude             30.914057  \n",
       "Restaurant_longitude            88.433452  \n",
       "Delivery_location_latitude      31.054057  \n",
       "Delivery_location_longitude     88.563452  \n",
       "Vehicle_condition                3.000000  \n",
       "multiple_deliveries              3.000000  \n",
       "Time_taken                      54.000000  "
      ]
     },
     "execution_count": 11,
     "metadata": {},
     "output_type": "execute_result"
    }
   ],
   "source": [
    "amazon.describe().transpose()"
   ]
  },
  {
   "cell_type": "code",
   "execution_count": 12,
   "id": "c978f4fb",
   "metadata": {},
   "outputs": [
    {
     "data": {
      "text/html": [
       "<div>\n",
       "<style scoped>\n",
       "    .dataframe tbody tr th:only-of-type {\n",
       "        vertical-align: middle;\n",
       "    }\n",
       "\n",
       "    .dataframe tbody tr th {\n",
       "        vertical-align: top;\n",
       "    }\n",
       "\n",
       "    .dataframe thead th {\n",
       "        text-align: right;\n",
       "    }\n",
       "</style>\n",
       "<table border=\"1\" class=\"dataframe\">\n",
       "  <thead>\n",
       "    <tr style=\"text-align: right;\">\n",
       "      <th></th>\n",
       "      <th>Unnamed: 0</th>\n",
       "      <th>Delivery_person_Age</th>\n",
       "      <th>Delivery_person_Ratings</th>\n",
       "      <th>Restaurant_latitude</th>\n",
       "      <th>Restaurant_longitude</th>\n",
       "      <th>Delivery_location_latitude</th>\n",
       "      <th>Delivery_location_longitude</th>\n",
       "      <th>Vehicle_condition</th>\n",
       "      <th>multiple_deliveries</th>\n",
       "      <th>Time_taken</th>\n",
       "    </tr>\n",
       "  </thead>\n",
       "  <tbody>\n",
       "    <tr>\n",
       "      <th>Unnamed: 0</th>\n",
       "      <td>1.000000</td>\n",
       "      <td>-0.002659</td>\n",
       "      <td>0.002811</td>\n",
       "      <td>0.004992</td>\n",
       "      <td>-0.002155</td>\n",
       "      <td>0.004163</td>\n",
       "      <td>-0.001368</td>\n",
       "      <td>-0.003369</td>\n",
       "      <td>-0.003522</td>\n",
       "      <td>-0.005518</td>\n",
       "    </tr>\n",
       "    <tr>\n",
       "      <th>Delivery_person_Age</th>\n",
       "      <td>-0.002659</td>\n",
       "      <td>1.000000</td>\n",
       "      <td>-0.067939</td>\n",
       "      <td>-0.004532</td>\n",
       "      <td>-0.009347</td>\n",
       "      <td>0.002489</td>\n",
       "      <td>-0.000495</td>\n",
       "      <td>0.003308</td>\n",
       "      <td>0.115851</td>\n",
       "      <td>0.299474</td>\n",
       "    </tr>\n",
       "    <tr>\n",
       "      <th>Delivery_person_Ratings</th>\n",
       "      <td>0.002811</td>\n",
       "      <td>-0.067939</td>\n",
       "      <td>1.000000</td>\n",
       "      <td>-0.007792</td>\n",
       "      <td>-0.014203</td>\n",
       "      <td>-0.010318</td>\n",
       "      <td>-0.013552</td>\n",
       "      <td>0.034581</td>\n",
       "      <td>-0.117647</td>\n",
       "      <td>-0.338790</td>\n",
       "    </tr>\n",
       "    <tr>\n",
       "      <th>Restaurant_latitude</th>\n",
       "      <td>0.004992</td>\n",
       "      <td>-0.004532</td>\n",
       "      <td>-0.007792</td>\n",
       "      <td>1.000000</td>\n",
       "      <td>0.661784</td>\n",
       "      <td>0.866378</td>\n",
       "      <td>0.602713</td>\n",
       "      <td>-0.033551</td>\n",
       "      <td>0.008051</td>\n",
       "      <td>0.013981</td>\n",
       "    </tr>\n",
       "    <tr>\n",
       "      <th>Restaurant_longitude</th>\n",
       "      <td>-0.002155</td>\n",
       "      <td>-0.009347</td>\n",
       "      <td>-0.014203</td>\n",
       "      <td>0.661784</td>\n",
       "      <td>1.000000</td>\n",
       "      <td>0.632293</td>\n",
       "      <td>0.915026</td>\n",
       "      <td>-0.038744</td>\n",
       "      <td>0.004461</td>\n",
       "      <td>0.007821</td>\n",
       "    </tr>\n",
       "    <tr>\n",
       "      <th>Delivery_location_latitude</th>\n",
       "      <td>0.004163</td>\n",
       "      <td>0.002489</td>\n",
       "      <td>-0.010318</td>\n",
       "      <td>0.866378</td>\n",
       "      <td>0.632293</td>\n",
       "      <td>1.000000</td>\n",
       "      <td>0.690515</td>\n",
       "      <td>-0.001604</td>\n",
       "      <td>0.010277</td>\n",
       "      <td>0.014243</td>\n",
       "    </tr>\n",
       "    <tr>\n",
       "      <th>Delivery_location_longitude</th>\n",
       "      <td>-0.001368</td>\n",
       "      <td>-0.000495</td>\n",
       "      <td>-0.013552</td>\n",
       "      <td>0.602713</td>\n",
       "      <td>0.915026</td>\n",
       "      <td>0.690515</td>\n",
       "      <td>1.000000</td>\n",
       "      <td>-0.001960</td>\n",
       "      <td>0.005023</td>\n",
       "      <td>0.007625</td>\n",
       "    </tr>\n",
       "    <tr>\n",
       "      <th>Vehicle_condition</th>\n",
       "      <td>-0.003369</td>\n",
       "      <td>0.003308</td>\n",
       "      <td>0.034581</td>\n",
       "      <td>-0.033551</td>\n",
       "      <td>-0.038744</td>\n",
       "      <td>-0.001604</td>\n",
       "      <td>-0.001960</td>\n",
       "      <td>1.000000</td>\n",
       "      <td>-0.097270</td>\n",
       "      <td>-0.234398</td>\n",
       "    </tr>\n",
       "    <tr>\n",
       "      <th>multiple_deliveries</th>\n",
       "      <td>-0.003522</td>\n",
       "      <td>0.115851</td>\n",
       "      <td>-0.117647</td>\n",
       "      <td>0.008051</td>\n",
       "      <td>0.004461</td>\n",
       "      <td>0.010277</td>\n",
       "      <td>0.005023</td>\n",
       "      <td>-0.097270</td>\n",
       "      <td>1.000000</td>\n",
       "      <td>0.387051</td>\n",
       "    </tr>\n",
       "    <tr>\n",
       "      <th>Time_taken</th>\n",
       "      <td>-0.005518</td>\n",
       "      <td>0.299474</td>\n",
       "      <td>-0.338790</td>\n",
       "      <td>0.013981</td>\n",
       "      <td>0.007821</td>\n",
       "      <td>0.014243</td>\n",
       "      <td>0.007625</td>\n",
       "      <td>-0.234398</td>\n",
       "      <td>0.387051</td>\n",
       "      <td>1.000000</td>\n",
       "    </tr>\n",
       "  </tbody>\n",
       "</table>\n",
       "</div>"
      ],
      "text/plain": [
       "                             Unnamed: 0  Delivery_person_Age  \\\n",
       "Unnamed: 0                     1.000000            -0.002659   \n",
       "Delivery_person_Age           -0.002659             1.000000   \n",
       "Delivery_person_Ratings        0.002811            -0.067939   \n",
       "Restaurant_latitude            0.004992            -0.004532   \n",
       "Restaurant_longitude          -0.002155            -0.009347   \n",
       "Delivery_location_latitude     0.004163             0.002489   \n",
       "Delivery_location_longitude   -0.001368            -0.000495   \n",
       "Vehicle_condition             -0.003369             0.003308   \n",
       "multiple_deliveries           -0.003522             0.115851   \n",
       "Time_taken                    -0.005518             0.299474   \n",
       "\n",
       "                             Delivery_person_Ratings  Restaurant_latitude  \\\n",
       "Unnamed: 0                                  0.002811             0.004992   \n",
       "Delivery_person_Age                        -0.067939            -0.004532   \n",
       "Delivery_person_Ratings                     1.000000            -0.007792   \n",
       "Restaurant_latitude                        -0.007792             1.000000   \n",
       "Restaurant_longitude                       -0.014203             0.661784   \n",
       "Delivery_location_latitude                 -0.010318             0.866378   \n",
       "Delivery_location_longitude                -0.013552             0.602713   \n",
       "Vehicle_condition                           0.034581            -0.033551   \n",
       "multiple_deliveries                        -0.117647             0.008051   \n",
       "Time_taken                                 -0.338790             0.013981   \n",
       "\n",
       "                             Restaurant_longitude  Delivery_location_latitude  \\\n",
       "Unnamed: 0                              -0.002155                    0.004163   \n",
       "Delivery_person_Age                     -0.009347                    0.002489   \n",
       "Delivery_person_Ratings                 -0.014203                   -0.010318   \n",
       "Restaurant_latitude                      0.661784                    0.866378   \n",
       "Restaurant_longitude                     1.000000                    0.632293   \n",
       "Delivery_location_latitude               0.632293                    1.000000   \n",
       "Delivery_location_longitude              0.915026                    0.690515   \n",
       "Vehicle_condition                       -0.038744                   -0.001604   \n",
       "multiple_deliveries                      0.004461                    0.010277   \n",
       "Time_taken                               0.007821                    0.014243   \n",
       "\n",
       "                             Delivery_location_longitude  Vehicle_condition  \\\n",
       "Unnamed: 0                                     -0.001368          -0.003369   \n",
       "Delivery_person_Age                            -0.000495           0.003308   \n",
       "Delivery_person_Ratings                        -0.013552           0.034581   \n",
       "Restaurant_latitude                             0.602713          -0.033551   \n",
       "Restaurant_longitude                            0.915026          -0.038744   \n",
       "Delivery_location_latitude                      0.690515          -0.001604   \n",
       "Delivery_location_longitude                     1.000000          -0.001960   \n",
       "Vehicle_condition                              -0.001960           1.000000   \n",
       "multiple_deliveries                             0.005023          -0.097270   \n",
       "Time_taken                                      0.007625          -0.234398   \n",
       "\n",
       "                             multiple_deliveries  Time_taken  \n",
       "Unnamed: 0                             -0.003522   -0.005518  \n",
       "Delivery_person_Age                     0.115851    0.299474  \n",
       "Delivery_person_Ratings                -0.117647   -0.338790  \n",
       "Restaurant_latitude                     0.008051    0.013981  \n",
       "Restaurant_longitude                    0.004461    0.007821  \n",
       "Delivery_location_latitude              0.010277    0.014243  \n",
       "Delivery_location_longitude             0.005023    0.007625  \n",
       "Vehicle_condition                      -0.097270   -0.234398  \n",
       "multiple_deliveries                     1.000000    0.387051  \n",
       "Time_taken                              0.387051    1.000000  "
      ]
     },
     "execution_count": 12,
     "metadata": {},
     "output_type": "execute_result"
    }
   ],
   "source": [
    "amazon.corr()"
   ]
  },
  {
   "cell_type": "code",
   "execution_count": 13,
   "id": "dd26b8ca",
   "metadata": {},
   "outputs": [
    {
     "name": "stdout",
     "output_type": "stream",
     "text": [
      "<class 'pandas.core.frame.DataFrame'>\n",
      "RangeIndex: 45593 entries, 0 to 45592\n",
      "Data columns (total 21 columns):\n",
      " #   Column                       Non-Null Count  Dtype  \n",
      "---  ------                       --------------  -----  \n",
      " 0   Unnamed: 0                   45593 non-null  int64  \n",
      " 1   ID                           45593 non-null  object \n",
      " 2   Delivery_person_ID           45593 non-null  object \n",
      " 3   Delivery_person_Age          43739 non-null  float64\n",
      " 4   Delivery_person_Ratings      43685 non-null  float64\n",
      " 5   Restaurant_latitude          45593 non-null  float64\n",
      " 6   Restaurant_longitude         45593 non-null  float64\n",
      " 7   Delivery_location_latitude   45593 non-null  float64\n",
      " 8   Delivery_location_longitude  45593 non-null  float64\n",
      " 9   Order_Date                   45593 non-null  object \n",
      " 10  Time_Orderd                  43862 non-null  object \n",
      " 11  Time_Order_picked            45593 non-null  object \n",
      " 12  Weather                      44977 non-null  object \n",
      " 13  Road_traffic_density         44992 non-null  object \n",
      " 14  Vehicle_condition            45593 non-null  int64  \n",
      " 15  Type_of_order                45593 non-null  object \n",
      " 16  Type_of_vehicle              45593 non-null  object \n",
      " 17  multiple_deliveries          44600 non-null  float64\n",
      " 18  Festival                     45365 non-null  object \n",
      " 19  City                         44393 non-null  object \n",
      " 20  Time_taken                   45593 non-null  float64\n",
      "dtypes: float64(8), int64(2), object(11)\n",
      "memory usage: 7.3+ MB\n"
     ]
    }
   ],
   "source": [
    "amazon.info()"
   ]
  },
  {
   "cell_type": "markdown",
   "id": "14372305",
   "metadata": {},
   "source": [
    "### Using graphical visualization to check proportionality and other factor"
   ]
  },
  {
   "cell_type": "markdown",
   "id": "5c4ec14c",
   "metadata": {},
   "source": [
    "##### From  the above plot it seems that age range from 20 - 40 are more in number than the other age"
   ]
  },
  {
   "cell_type": "code",
   "execution_count": 14,
   "id": "62424205",
   "metadata": {},
   "outputs": [
    {
     "name": "stderr",
     "output_type": "stream",
     "text": [
      "C:\\Users\\ssaur\\AppData\\Local\\Programs\\Python\\Python39\\lib\\site-packages\\seaborn\\distributions.py:2619: FutureWarning: `distplot` is a deprecated function and will be removed in a future version. Please adapt your code to use either `displot` (a figure-level function with similar flexibility) or `histplot` (an axes-level function for histograms).\n",
      "  warnings.warn(msg, FutureWarning)\n"
     ]
    },
    {
     "data": {
      "text/plain": [
       "<AxesSubplot:xlabel='Delivery_person_Age', ylabel='Density'>"
      ]
     },
     "execution_count": 14,
     "metadata": {},
     "output_type": "execute_result"
    },
    {
     "data": {
      "image/png": "[encoded data removed]",
      "text/plain": [
       "<Figure size 640x480 with 1 Axes>"
      ]
     },
     "metadata": {},
     "output_type": "display_data"
    }
   ],
   "source": [
    "sns.distplot(amazon['Delivery_person_Age'])"
   ]
  },
  {
   "cell_type": "markdown",
   "id": "d9028997",
   "metadata": {},
   "source": [
    "##### From  the above plot it seems that the rating range from 4-5 are more in number than the other remaining rating,some value is above 5, not normally distributed"
   ]
  },
  {
   "cell_type": "code",
   "execution_count": 15,
   "id": "0fc20221",
   "metadata": {},
   "outputs": [
    {
     "name": "stderr",
     "output_type": "stream",
     "text": [
      "C:\\Users\\ssaur\\AppData\\Local\\Programs\\Python\\Python39\\lib\\site-packages\\seaborn\\distributions.py:2619: FutureWarning: `distplot` is a deprecated function and will be removed in a future version. Please adapt your code to use either `displot` (a figure-level function with similar flexibility) or `histplot` (an axes-level function for histograms).\n",
      "  warnings.warn(msg, FutureWarning)\n"
     ]
    },
    {
     "data": {
      "text/plain": [
       "<AxesSubplot:xlabel='Delivery_person_Ratings', ylabel='Density'>"
      ]
     },
     "execution_count": 15,
     "metadata": {},
     "output_type": "execute_result"
    },
    {
     "data": {
      "image/png": "[encoded data removed]",
      "text/plain": [
       "<Figure size 640x480 with 1 Axes>"
      ]
     },
     "metadata": {},
     "output_type": "display_data"
    }
   ],
   "source": [
    "sns.distplot(amazon['Delivery_person_Ratings'])"
   ]
  },
  {
   "cell_type": "markdown",
   "id": "b733b9e9",
   "metadata": {},
   "source": [
    "##### From  the above plot it seems that the Road_traffic_density are ordered in [low,medium,high,jam], where low will take less time and jam will take more time"
   ]
  },
  {
   "cell_type": "code",
   "execution_count": 16,
   "id": "edd9dfd2",
   "metadata": {},
   "outputs": [
    {
     "name": "stderr",
     "output_type": "stream",
     "text": [
      "C:\\Users\\ssaur\\AppData\\Local\\Programs\\Python\\Python39\\lib\\site-packages\\seaborn\\_decorators.py:36: FutureWarning: Pass the following variables as keyword args: x, y. From version 0.12, the only valid positional argument will be `data`, and passing other arguments without an explicit keyword will result in an error or misinterpretation.\n",
      "  warnings.warn(\n"
     ]
    },
    {
     "data": {
      "image/png": "[encoded data removed]",
      "text/plain": [
       "<Figure size 640x480 with 1 Axes>"
      ]
     },
     "metadata": {},
     "output_type": "display_data"
    }
   ],
   "source": [
    "ax = sns.barplot(amazon['Road_traffic_density'],amazon['Time_taken'])\n",
    "for i in ax.containers:\n",
    "    ax.bar_label(i,)"
   ]
  },
  {
   "cell_type": "markdown",
   "id": "390e0987",
   "metadata": {},
   "source": [
    "##### From  the above plot it seems that the Type of order is independent on time taken"
   ]
  },
  {
   "cell_type": "code",
   "execution_count": 17,
   "id": "69111813",
   "metadata": {
    "scrolled": true
   },
   "outputs": [
    {
     "name": "stderr",
     "output_type": "stream",
     "text": [
      "C:\\Users\\ssaur\\AppData\\Local\\Programs\\Python\\Python39\\lib\\site-packages\\seaborn\\_decorators.py:36: FutureWarning: Pass the following variables as keyword args: x, y. From version 0.12, the only valid positional argument will be `data`, and passing other arguments without an explicit keyword will result in an error or misinterpretation.\n",
      "  warnings.warn(\n"
     ]
    },
    {
     "data": {
      "image/png": "[encoded data removed]",
      "text/plain": [
       "<Figure size 640x480 with 1 Axes>"
      ]
     },
     "metadata": {},
     "output_type": "display_data"
    }
   ],
   "source": [
    "ax = sns.barplot(amazon['Type_of_order'],amazon['Time_taken'])\n",
    "for i in ax.containers:\n",
    "    ax.bar_label(i,)"
   ]
  },
  {
   "cell_type": "markdown",
   "id": "8b6db7e2",
   "metadata": {},
   "source": [
    "##### From  the above plot it seems that the Festival are ordered in [No,Yes], where No will take less time and Yes will take more time"
   ]
  },
  {
   "cell_type": "code",
   "execution_count": 18,
   "id": "1af18237",
   "metadata": {},
   "outputs": [
    {
     "name": "stderr",
     "output_type": "stream",
     "text": [
      "C:\\Users\\ssaur\\AppData\\Local\\Programs\\Python\\Python39\\lib\\site-packages\\seaborn\\_decorators.py:36: FutureWarning: Pass the following variables as keyword args: x, y. From version 0.12, the only valid positional argument will be `data`, and passing other arguments without an explicit keyword will result in an error or misinterpretation.\n",
      "  warnings.warn(\n"
     ]
    },
    {
     "data": {
      "image/png": "[encoded data removed]",
      "text/plain": [
       "<Figure size 640x480 with 1 Axes>"
      ]
     },
     "metadata": {},
     "output_type": "display_data"
    }
   ],
   "source": [
    "ax = sns.barplot(amazon['Festival'],amazon['Time_taken'])\n",
    "for i in ax.containers:\n",
    "    ax.bar_label(i,)"
   ]
  },
  {
   "cell_type": "markdown",
   "id": "f332ffae",
   "metadata": {},
   "source": [
    "##### From  the above plot it seems that the multiple_deliveries are ordered in [0,1,2,3], where 0 will take less time and 3 will take more time"
   ]
  },
  {
   "cell_type": "code",
   "execution_count": 19,
   "id": "e5ae9621",
   "metadata": {},
   "outputs": [
    {
     "name": "stderr",
     "output_type": "stream",
     "text": [
      "C:\\Users\\ssaur\\AppData\\Local\\Programs\\Python\\Python39\\lib\\site-packages\\seaborn\\_decorators.py:36: FutureWarning: Pass the following variables as keyword args: x, y. From version 0.12, the only valid positional argument will be `data`, and passing other arguments without an explicit keyword will result in an error or misinterpretation.\n",
      "  warnings.warn(\n"
     ]
    },
    {
     "data": {
      "image/png": "[encoded data removed]",
      "text/plain": [
       "<Figure size 640x480 with 1 Axes>"
      ]
     },
     "metadata": {},
     "output_type": "display_data"
    }
   ],
   "source": [
    "ax = sns.barplot(amazon['multiple_deliveries'],amazon['Time_taken'])\n",
    "for i in ax.containers:\n",
    "    ax.bar_label(i,)"
   ]
  },
  {
   "cell_type": "markdown",
   "id": "af36fef9",
   "metadata": {},
   "source": [
    "# Data Preprocessing"
   ]
  },
  {
   "cell_type": "markdown",
   "id": "cdafeac5",
   "metadata": {},
   "source": [
    "#### Checking the Shape of Delivery_person_Ratings whose value is greater then 5 (Invalid)"
   ]
  },
  {
   "cell_type": "code",
   "execution_count": 26,
   "id": "9d25c58a",
   "metadata": {},
   "outputs": [
    {
     "data": {
      "text/plain": [
       "(0, 21)"
      ]
     },
     "execution_count": 26,
     "metadata": {},
     "output_type": "execute_result"
    }
   ],
   "source": [
    "amazon[(amazon['Delivery_person_Ratings']>5.0)].shape"
   ]
  },
  {
   "cell_type": "markdown",
   "id": "5a8df0b4",
   "metadata": {},
   "source": [
    "#### Replacing invalid value with NaN. "
   ]
  },
  {
   "cell_type": "code",
   "execution_count": 9,
   "id": "eed40424",
   "metadata": {},
   "outputs": [],
   "source": [
    "amazon.loc[amazon['Delivery_person_Ratings']>5.0,'Delivery_person_Ratings'] = np.nan"
   ]
  },
  {
   "cell_type": "code",
   "execution_count": 10,
   "id": "9ccf03cd",
   "metadata": {},
   "outputs": [
    {
     "data": {
      "text/plain": [
       "array([4.9, 4.5, 4.4, 4.7, 4.6, 4.8, 4.2, 4.3, 4. , 4.1, 5. , 3.5, nan,\n",
       "       3.8, 3.9, 3.7, 2.6, 2.5, 3.6, 3.1, 2.7, 1. , 3.2, 3.3, 3.4, 2.8,\n",
       "       2.9, 3. ])"
      ]
     },
     "execution_count": 10,
     "metadata": {},
     "output_type": "execute_result"
    }
   ],
   "source": [
    "amazon['Delivery_person_Ratings'].unique()"
   ]
  },
  {
   "cell_type": "markdown",
   "id": "3c889bac",
   "metadata": {},
   "source": [
    "#### Some restaurant coordinate are invalid. that need to be replaces with nan in total distance"
   ]
  },
  {
   "cell_type": "code",
   "execution_count": 26,
   "id": "e8c58a18",
   "metadata": {},
   "outputs": [
    {
     "data": {
      "text/plain": [
       "(4071, 21)"
      ]
     },
     "execution_count": 26,
     "metadata": {},
     "output_type": "execute_result"
    }
   ],
   "source": [
    "amazon[(amazon['Restaurant_latitude']<=0) | (amazon['Restaurant_longitude']<=0)].shape"
   ]
  },
  {
   "cell_type": "markdown",
   "id": "3e4cdc75",
   "metadata": {},
   "source": [
    "#### Using geopy to find the distance between 2 coordinate"
   ]
  },
  {
   "cell_type": "code",
   "execution_count": 11,
   "id": "7500a8bd",
   "metadata": {},
   "outputs": [
    {
     "name": "stdout",
     "output_type": "stream",
     "text": [
      "Requirement already satisfied: geopy in c:\\users\\ssaur\\appdata\\local\\programs\\python\\python39\\lib\\site-packages (2.2.0)\n",
      "Requirement already satisfied: geographiclib<2,>=1.49 in c:\\users\\ssaur\\appdata\\local\\programs\\python\\python39\\lib\\site-packages (from geopy) (1.52)\n",
      "Note: you may need to restart the kernel to use updated packages.\n"
     ]
    },
    {
     "name": "stderr",
     "output_type": "stream",
     "text": [
      "WARNING: You are using pip version 22.0.4; however, version 22.2.2 is available.\n",
      "You should consider upgrading via the 'C:\\Users\\ssaur\\AppData\\Local\\Programs\\Python\\Python39\\python.exe -m pip install --upgrade pip' command.\n"
     ]
    }
   ],
   "source": [
    "pip install geopy"
   ]
  },
  {
   "cell_type": "code",
   "execution_count": 12,
   "id": "82de8845",
   "metadata": {},
   "outputs": [],
   "source": [
    "import geopy.distance"
   ]
  },
  {
   "cell_type": "markdown",
   "id": "a1911370",
   "metadata": {},
   "source": [
    "#### creating function to calculate distance between 2 coordinate, will return nan if coordinate is invalid"
   ]
  },
  {
   "cell_type": "code",
   "execution_count": 13,
   "id": "5cf0a436",
   "metadata": {},
   "outputs": [],
   "source": [
    "def calculate_dist_lat_long(la1,lo1,la2,lo2):\n",
    "    coords_1 = (la1, lo1)\n",
    "    coords_2 = (la2, lo2)\n",
    "    if((la1>0.00) & (lo1>0.00)):\n",
    "        result = geopy.distance.great_circle(coords_1, coords_2).km\n",
    "        return result\n",
    "    else:\n",
    "        return float('NaN')"
   ]
  },
  {
   "cell_type": "markdown",
   "id": "4c0f5482",
   "metadata": {},
   "source": [
    "#### Applying Function to calculate total_distance"
   ]
  },
  {
   "cell_type": "code",
   "execution_count": 14,
   "id": "b5db7399",
   "metadata": {},
   "outputs": [],
   "source": [
    "amazon['total_distance']=np.vectorize(calculate_dist_lat_long)(amazon['Restaurant_latitude'],amazon['Restaurant_longitude'],amazon['Delivery_location_latitude'],amazon['Delivery_location_longitude'])"
   ]
  },
  {
   "cell_type": "markdown",
   "id": "d44a1b4e",
   "metadata": {},
   "source": [
    "### After Getting Total Distance"
   ]
  },
  {
   "cell_type": "markdown",
   "id": "4af7c0e5",
   "metadata": {},
   "source": [
    "#### From the above value, we can find the speed using total distance and time taken. We are able to found that vehicle condition = 3 will taken more time as compared to 0, 1 and 2. Hence, the order is [0,1,2,3]"
   ]
  },
  {
   "cell_type": "code",
   "execution_count": 32,
   "id": "b57e848a",
   "metadata": {},
   "outputs": [
    {
     "data": {
      "text/html": [
       "<div>\n",
       "<style scoped>\n",
       "    .dataframe tbody tr th:only-of-type {\n",
       "        vertical-align: middle;\n",
       "    }\n",
       "\n",
       "    .dataframe tbody tr th {\n",
       "        vertical-align: top;\n",
       "    }\n",
       "\n",
       "    .dataframe thead th {\n",
       "        text-align: right;\n",
       "    }\n",
       "</style>\n",
       "<table border=\"1\" class=\"dataframe\">\n",
       "  <thead>\n",
       "    <tr style=\"text-align: right;\">\n",
       "      <th></th>\n",
       "      <th>total_distance</th>\n",
       "      <th>Time_taken</th>\n",
       "    </tr>\n",
       "    <tr>\n",
       "      <th>Vehicle_condition</th>\n",
       "      <th></th>\n",
       "      <th></th>\n",
       "    </tr>\n",
       "  </thead>\n",
       "  <tbody>\n",
       "    <tr>\n",
       "      <th>0</th>\n",
       "      <td>132790.883203</td>\n",
       "      <td>451354.0</td>\n",
       "    </tr>\n",
       "    <tr>\n",
       "      <th>1</th>\n",
       "      <td>133260.395899</td>\n",
       "      <td>366057.0</td>\n",
       "    </tr>\n",
       "    <tr>\n",
       "      <th>2</th>\n",
       "      <td>134117.248129</td>\n",
       "      <td>367663.0</td>\n",
       "    </tr>\n",
       "    <tr>\n",
       "      <th>3</th>\n",
       "      <td>3431.236385</td>\n",
       "      <td>13776.0</td>\n",
       "    </tr>\n",
       "  </tbody>\n",
       "</table>\n",
       "</div>"
      ],
      "text/plain": [
       "                   total_distance  Time_taken\n",
       "Vehicle_condition                            \n",
       "0                   132790.883203    451354.0\n",
       "1                   133260.395899    366057.0\n",
       "2                   134117.248129    367663.0\n",
       "3                     3431.236385     13776.0"
      ]
     },
     "execution_count": 32,
     "metadata": {},
     "output_type": "execute_result"
    }
   ],
   "source": [
    "amazon.groupby('Vehicle_condition').sum()[['total_distance','Time_taken']]"
   ]
  },
  {
   "cell_type": "code",
   "execution_count": 33,
   "id": "0f868396",
   "metadata": {},
   "outputs": [
    {
     "name": "stderr",
     "output_type": "stream",
     "text": [
      "C:\\Users\\ssaur\\AppData\\Local\\Programs\\Python\\Python39\\lib\\site-packages\\seaborn\\_decorators.py:36: FutureWarning: Pass the following variables as keyword args: x, y. From version 0.12, the only valid positional argument will be `data`, and passing other arguments without an explicit keyword will result in an error or misinterpretation.\n",
      "  warnings.warn(\n"
     ]
    },
    {
     "data": {
      "text/plain": [
       "Text(0, 0.5, 'Speed')"
      ]
     },
     "execution_count": 33,
     "metadata": {},
     "output_type": "execute_result"
    },
    {
     "data": {
      "image/png": "[encoded data removed]",
      "text/plain": [
       "<Figure size 640x480 with 1 Axes>"
      ]
     },
     "metadata": {},
     "output_type": "display_data"
    }
   ],
   "source": [
    "ax = sns.barplot(amazon['Vehicle_condition'],amazon['total_distance']/amazon['Time_taken'])\n",
    "for i in ax.containers:\n",
    "    ax.bar_label(i,)\n",
    "ax.set_ylabel(\"Speed\")"
   ]
  },
  {
   "cell_type": "markdown",
   "id": "d9fbc471",
   "metadata": {},
   "source": [
    "#### From the above value, we can find the speed using total distance and time taken. We are able to found that vehicle = bicycle will taken more time,then again less time will take by motorcycle,then electric scooter, then scooter. Hence, the order is [Scooter,electric scooter, motorcycle, bicycle]"
   ]
  },
  {
   "cell_type": "code",
   "execution_count": 34,
   "id": "8247b597",
   "metadata": {},
   "outputs": [
    {
     "data": {
      "text/html": [
       "<div>\n",
       "<style scoped>\n",
       "    .dataframe tbody tr th:only-of-type {\n",
       "        vertical-align: middle;\n",
       "    }\n",
       "\n",
       "    .dataframe tbody tr th {\n",
       "        vertical-align: top;\n",
       "    }\n",
       "\n",
       "    .dataframe thead th {\n",
       "        text-align: right;\n",
       "    }\n",
       "</style>\n",
       "<table border=\"1\" class=\"dataframe\">\n",
       "  <thead>\n",
       "    <tr style=\"text-align: right;\">\n",
       "      <th></th>\n",
       "      <th>total_distance</th>\n",
       "      <th>Time_taken</th>\n",
       "    </tr>\n",
       "    <tr>\n",
       "      <th>Type_of_vehicle</th>\n",
       "      <th></th>\n",
       "      <th></th>\n",
       "    </tr>\n",
       "  </thead>\n",
       "  <tbody>\n",
       "    <tr>\n",
       "      <th>bicycle</th>\n",
       "      <td>396.420662</td>\n",
       "      <td>1797.0</td>\n",
       "    </tr>\n",
       "    <tr>\n",
       "      <th>electric_scooter</th>\n",
       "      <td>33156.361170</td>\n",
       "      <td>93329.0</td>\n",
       "    </tr>\n",
       "    <tr>\n",
       "      <th>motorcycle</th>\n",
       "      <td>234580.959334</td>\n",
       "      <td>729756.0</td>\n",
       "    </tr>\n",
       "    <tr>\n",
       "      <th>scooter</th>\n",
       "      <td>135466.022450</td>\n",
       "      <td>373968.0</td>\n",
       "    </tr>\n",
       "  </tbody>\n",
       "</table>\n",
       "</div>"
      ],
      "text/plain": [
       "                  total_distance  Time_taken\n",
       "Type_of_vehicle                             \n",
       "bicycle               396.420662      1797.0\n",
       "electric_scooter    33156.361170     93329.0\n",
       "motorcycle         234580.959334    729756.0\n",
       "scooter            135466.022450    373968.0"
      ]
     },
     "execution_count": 34,
     "metadata": {},
     "output_type": "execute_result"
    }
   ],
   "source": [
    "amazon.groupby('Type_of_vehicle').sum()[['total_distance','Time_taken']]"
   ]
  },
  {
   "cell_type": "code",
   "execution_count": 35,
   "id": "10c6f011",
   "metadata": {},
   "outputs": [
    {
     "name": "stderr",
     "output_type": "stream",
     "text": [
      "C:\\Users\\ssaur\\AppData\\Local\\Programs\\Python\\Python39\\lib\\site-packages\\seaborn\\_decorators.py:36: FutureWarning: Pass the following variables as keyword args: x, y. From version 0.12, the only valid positional argument will be `data`, and passing other arguments without an explicit keyword will result in an error or misinterpretation.\n",
      "  warnings.warn(\n"
     ]
    },
    {
     "data": {
      "text/plain": [
       "Text(0, 0.5, 'Speed')"
      ]
     },
     "execution_count": 35,
     "metadata": {},
     "output_type": "execute_result"
    },
    {
     "data": {
      "image/png": "[encoded data removed]",
      "text/plain": [
       "<Figure size 640x480 with 1 Axes>"
      ]
     },
     "metadata": {},
     "output_type": "display_data"
    }
   ],
   "source": [
    "ax = sns.barplot(amazon['Type_of_vehicle'],amazon['total_distance']/amazon['Time_taken'])\n",
    "for i in ax.containers:\n",
    "    ax.bar_label(i,)\n",
    "ax.set_ylabel(\"Speed\")"
   ]
  },
  {
   "cell_type": "markdown",
   "id": "bcd5b04a",
   "metadata": {},
   "source": [
    "#### From  the above plot it seems that the City are ordered in [Urban, Metropolitan,Semi Urban], where Urban will take less time and Semi Urban will take more time"
   ]
  },
  {
   "cell_type": "code",
   "execution_count": 36,
   "id": "5f3e93da",
   "metadata": {},
   "outputs": [
    {
     "data": {
      "text/html": [
       "<div>\n",
       "<style scoped>\n",
       "    .dataframe tbody tr th:only-of-type {\n",
       "        vertical-align: middle;\n",
       "    }\n",
       "\n",
       "    .dataframe tbody tr th {\n",
       "        vertical-align: top;\n",
       "    }\n",
       "\n",
       "    .dataframe thead th {\n",
       "        text-align: right;\n",
       "    }\n",
       "</style>\n",
       "<table border=\"1\" class=\"dataframe\">\n",
       "  <thead>\n",
       "    <tr style=\"text-align: right;\">\n",
       "      <th></th>\n",
       "      <th>total_distance</th>\n",
       "      <th>Time_taken</th>\n",
       "    </tr>\n",
       "    <tr>\n",
       "      <th>City</th>\n",
       "      <th></th>\n",
       "      <th></th>\n",
       "    </tr>\n",
       "  </thead>\n",
       "  <tbody>\n",
       "    <tr>\n",
       "      <th>Metropolitian</th>\n",
       "      <td>308406.942653</td>\n",
       "      <td>931258.0</td>\n",
       "    </tr>\n",
       "    <tr>\n",
       "      <th>Semi-Urban</th>\n",
       "      <td>1887.050235</td>\n",
       "      <td>8156.0</td>\n",
       "    </tr>\n",
       "    <tr>\n",
       "      <th>Urban</th>\n",
       "      <td>83205.798866</td>\n",
       "      <td>232966.0</td>\n",
       "    </tr>\n",
       "  </tbody>\n",
       "</table>\n",
       "</div>"
      ],
      "text/plain": [
       "               total_distance  Time_taken\n",
       "City                                     \n",
       "Metropolitian   308406.942653    931258.0\n",
       "Semi-Urban        1887.050235      8156.0\n",
       "Urban            83205.798866    232966.0"
      ]
     },
     "execution_count": 36,
     "metadata": {},
     "output_type": "execute_result"
    }
   ],
   "source": [
    "amazon.groupby('City').sum()[['total_distance','Time_taken']]"
   ]
  },
  {
   "cell_type": "code",
   "execution_count": 605,
   "id": "644974ff",
   "metadata": {},
   "outputs": [
    {
     "name": "stderr",
     "output_type": "stream",
     "text": [
      "C:\\Users\\ssaur\\AppData\\Local\\Programs\\Python\\Python39\\lib\\site-packages\\seaborn\\_decorators.py:36: FutureWarning: Pass the following variables as keyword args: x, y. From version 0.12, the only valid positional argument will be `data`, and passing other arguments without an explicit keyword will result in an error or misinterpretation.\n",
      "  warnings.warn(\n"
     ]
    },
    {
     "data": {
      "text/plain": [
       "Text(0, 0.5, 'Speed')"
      ]
     },
     "execution_count": 605,
     "metadata": {},
     "output_type": "execute_result"
    },
    {
     "data": {
      "image/png": "[encoded data removed]",
      "text/plain": [
       "<Figure size 640x480 with 1 Axes>"
      ]
     },
     "metadata": {},
     "output_type": "display_data"
    }
   ],
   "source": [
    "ax = sns.barplot(amazon['City'],amazon['total_distance']/amazon['Time_taken'])\n",
    "for i in ax.containers:\n",
    "    ax.bar_label(i,)\n",
    "ax.set_ylabel(\"Speed\")"
   ]
  },
  {
   "cell_type": "markdown",
   "id": "174e6a0f",
   "metadata": {},
   "source": [
    "#### From  the above plot it seems that the Weather are ordered in ['Sunny','Stormy','Windy','Sandstorms','Cloudy','Fog'], where sunny will  take less time, and fog will take more time"
   ]
  },
  {
   "cell_type": "code",
   "execution_count": 37,
   "id": "b2e918b7",
   "metadata": {},
   "outputs": [
    {
     "data": {
      "text/html": [
       "<div>\n",
       "<style scoped>\n",
       "    .dataframe tbody tr th:only-of-type {\n",
       "        vertical-align: middle;\n",
       "    }\n",
       "\n",
       "    .dataframe tbody tr th {\n",
       "        vertical-align: top;\n",
       "    }\n",
       "\n",
       "    .dataframe thead th {\n",
       "        text-align: right;\n",
       "    }\n",
       "</style>\n",
       "<table border=\"1\" class=\"dataframe\">\n",
       "  <thead>\n",
       "    <tr style=\"text-align: right;\">\n",
       "      <th></th>\n",
       "      <th>total_distance</th>\n",
       "      <th>Time_taken</th>\n",
       "    </tr>\n",
       "    <tr>\n",
       "      <th>Weather</th>\n",
       "      <th></th>\n",
       "      <th></th>\n",
       "    </tr>\n",
       "  </thead>\n",
       "  <tbody>\n",
       "    <tr>\n",
       "      <th>Cloudy</th>\n",
       "      <td>67283.765953</td>\n",
       "      <td>217921.0</td>\n",
       "    </tr>\n",
       "    <tr>\n",
       "      <th>Fog</th>\n",
       "      <td>68080.652227</td>\n",
       "      <td>221324.0</td>\n",
       "    </tr>\n",
       "    <tr>\n",
       "      <th>Sandstorms</th>\n",
       "      <td>66125.880122</td>\n",
       "      <td>193937.0</td>\n",
       "    </tr>\n",
       "    <tr>\n",
       "      <th>Stormy</th>\n",
       "      <td>67474.277699</td>\n",
       "      <td>196256.0</td>\n",
       "    </tr>\n",
       "    <tr>\n",
       "      <th>Sunny</th>\n",
       "      <td>64331.667474</td>\n",
       "      <td>159206.0</td>\n",
       "    </tr>\n",
       "    <tr>\n",
       "      <th>Windy</th>\n",
       "      <td>66162.586557</td>\n",
       "      <td>193854.0</td>\n",
       "    </tr>\n",
       "  </tbody>\n",
       "</table>\n",
       "</div>"
      ],
      "text/plain": [
       "            total_distance  Time_taken\n",
       "Weather                               \n",
       "Cloudy        67283.765953    217921.0\n",
       "Fog           68080.652227    221324.0\n",
       "Sandstorms    66125.880122    193937.0\n",
       "Stormy        67474.277699    196256.0\n",
       "Sunny         64331.667474    159206.0\n",
       "Windy         66162.586557    193854.0"
      ]
     },
     "execution_count": 37,
     "metadata": {},
     "output_type": "execute_result"
    }
   ],
   "source": [
    "amazon.groupby('Weather').sum()[['total_distance','Time_taken']]"
   ]
  },
  {
   "cell_type": "code",
   "execution_count": 607,
   "id": "8defce1f",
   "metadata": {},
   "outputs": [
    {
     "name": "stderr",
     "output_type": "stream",
     "text": [
      "C:\\Users\\ssaur\\AppData\\Local\\Programs\\Python\\Python39\\lib\\site-packages\\seaborn\\_decorators.py:36: FutureWarning: Pass the following variables as keyword args: x, y. From version 0.12, the only valid positional argument will be `data`, and passing other arguments without an explicit keyword will result in an error or misinterpretation.\n",
      "  warnings.warn(\n"
     ]
    },
    {
     "data": {
      "text/plain": [
       "Text(0, 0.5, 'Speed')"
      ]
     },
     "execution_count": 607,
     "metadata": {},
     "output_type": "execute_result"
    },
    {
     "data": {
      "image/png": "[encoded data removed]",
      "text/plain": [
       "<Figure size 640x480 with 1 Axes>"
      ]
     },
     "metadata": {},
     "output_type": "display_data"
    }
   ],
   "source": [
    "ax = sns.barplot(amazon['Weather'],amazon['total_distance']/amazon['Time_taken'])\n",
    "for i in ax.containers:\n",
    "    ax.bar_label(i,)\n",
    "ax.set_ylabel(\"Speed\")"
   ]
  },
  {
   "cell_type": "markdown",
   "id": "0222c39e",
   "metadata": {},
   "source": [
    "#### Changing the datatype to int for time_taken"
   ]
  },
  {
   "cell_type": "code",
   "execution_count": 15,
   "id": "7ada339e",
   "metadata": {},
   "outputs": [],
   "source": [
    "amazon['Time_taken'] = amazon['Time_taken'].astype(int)"
   ]
  },
  {
   "cell_type": "markdown",
   "id": "91b901eb",
   "metadata": {},
   "source": [
    "#### Dropping the Independent columns like Unnamed: 0, Delivery_person_ID, ('Restaurant_latitude','Restaurant_longitude','Delivery_location_latitude','Delivery_location_longitude') which is already converted to total_distance, Type_of_order, ('Order_Date','Time_Orderd','Time_Order_picked') has no realtion with time taken to deliver"
   ]
  },
  {
   "cell_type": "code",
   "execution_count": 16,
   "id": "4e995b44",
   "metadata": {},
   "outputs": [],
   "source": [
    "amazon.drop(columns=['Unnamed: 0','ID','Delivery_person_ID','Restaurant_latitude','Restaurant_longitude','Type_of_order','Delivery_location_latitude','Delivery_location_longitude','Order_Date','Time_Orderd','Time_Order_picked'],inplace=True)"
   ]
  },
  {
   "cell_type": "code",
   "execution_count": 44,
   "id": "277e0a83",
   "metadata": {},
   "outputs": [],
   "source": [
    "amazon.drop(columns=['Delivery_person_Age','Delivery_person_Ratings'],inplace=True)"
   ]
  },
  {
   "cell_type": "code",
   "execution_count": 19,
   "id": "e0996058",
   "metadata": {},
   "outputs": [
    {
     "name": "stdout",
     "output_type": "stream",
     "text": [
      "<class 'pandas.core.frame.DataFrame'>\n",
      "Int64Index: 37918 entries, 0 to 45592\n",
      "Data columns (total 11 columns):\n",
      " #   Column                   Non-Null Count  Dtype  \n",
      "---  ------                   --------------  -----  \n",
      " 0   Delivery_person_Age      37918 non-null  float64\n",
      " 1   Delivery_person_Ratings  37918 non-null  float64\n",
      " 2   Weather                  37918 non-null  object \n",
      " 3   Road_traffic_density     37918 non-null  object \n",
      " 4   Vehicle_condition        37918 non-null  int64  \n",
      " 5   Type_of_vehicle          37918 non-null  object \n",
      " 6   multiple_deliveries      37918 non-null  float64\n",
      " 7   Festival                 37918 non-null  object \n",
      " 8   City                     37918 non-null  object \n",
      " 9   Time_taken               37918 non-null  int32  \n",
      " 10  total_distance           37918 non-null  float64\n",
      "dtypes: float64(4), int32(1), int64(1), object(5)\n",
      "memory usage: 3.3+ MB\n"
     ]
    }
   ],
   "source": [
    "amazon.info()"
   ]
  },
  {
   "cell_type": "code",
   "execution_count": 18,
   "id": "c6ecf6fc",
   "metadata": {},
   "outputs": [],
   "source": [
    "amazon = amazon.dropna()"
   ]
  },
  {
   "cell_type": "code",
   "execution_count": 15,
   "id": "78c4b88b",
   "metadata": {},
   "outputs": [
    {
     "data": {
      "text/html": [
       "<div>\n",
       "<style scoped>\n",
       "    .dataframe tbody tr th:only-of-type {\n",
       "        vertical-align: middle;\n",
       "    }\n",
       "\n",
       "    .dataframe tbody tr th {\n",
       "        vertical-align: top;\n",
       "    }\n",
       "\n",
       "    .dataframe thead th {\n",
       "        text-align: right;\n",
       "    }\n",
       "</style>\n",
       "<table border=\"1\" class=\"dataframe\">\n",
       "  <thead>\n",
       "    <tr style=\"text-align: right;\">\n",
       "      <th></th>\n",
       "      <th>Delivery_person_Age</th>\n",
       "      <th>Delivery_person_Ratings</th>\n",
       "      <th>Weather</th>\n",
       "      <th>Road_traffic_density</th>\n",
       "      <th>Vehicle_condition</th>\n",
       "      <th>Type_of_vehicle</th>\n",
       "      <th>multiple_deliveries</th>\n",
       "      <th>Festival</th>\n",
       "      <th>City</th>\n",
       "      <th>Time_taken</th>\n",
       "    </tr>\n",
       "  </thead>\n",
       "  <tbody>\n",
       "    <tr>\n",
       "      <th>0</th>\n",
       "      <td>37.0</td>\n",
       "      <td>4.9</td>\n",
       "      <td>Sunny</td>\n",
       "      <td>High</td>\n",
       "      <td>2</td>\n",
       "      <td>motorcycle</td>\n",
       "      <td>0.0</td>\n",
       "      <td>No</td>\n",
       "      <td>Urban</td>\n",
       "      <td>24</td>\n",
       "    </tr>\n",
       "    <tr>\n",
       "      <th>1</th>\n",
       "      <td>34.0</td>\n",
       "      <td>4.5</td>\n",
       "      <td>Stormy</td>\n",
       "      <td>Jam</td>\n",
       "      <td>2</td>\n",
       "      <td>scooter</td>\n",
       "      <td>1.0</td>\n",
       "      <td>No</td>\n",
       "      <td>Metropolitian</td>\n",
       "      <td>33</td>\n",
       "    </tr>\n",
       "    <tr>\n",
       "      <th>2</th>\n",
       "      <td>23.0</td>\n",
       "      <td>4.4</td>\n",
       "      <td>Sandstorms</td>\n",
       "      <td>Low</td>\n",
       "      <td>0</td>\n",
       "      <td>motorcycle</td>\n",
       "      <td>1.0</td>\n",
       "      <td>No</td>\n",
       "      <td>Urban</td>\n",
       "      <td>26</td>\n",
       "    </tr>\n",
       "    <tr>\n",
       "      <th>3</th>\n",
       "      <td>38.0</td>\n",
       "      <td>4.7</td>\n",
       "      <td>Sunny</td>\n",
       "      <td>Medium</td>\n",
       "      <td>0</td>\n",
       "      <td>motorcycle</td>\n",
       "      <td>1.0</td>\n",
       "      <td>No</td>\n",
       "      <td>Metropolitian</td>\n",
       "      <td>21</td>\n",
       "    </tr>\n",
       "    <tr>\n",
       "      <th>4</th>\n",
       "      <td>32.0</td>\n",
       "      <td>4.6</td>\n",
       "      <td>Cloudy</td>\n",
       "      <td>High</td>\n",
       "      <td>1</td>\n",
       "      <td>scooter</td>\n",
       "      <td>1.0</td>\n",
       "      <td>No</td>\n",
       "      <td>Metropolitian</td>\n",
       "      <td>30</td>\n",
       "    </tr>\n",
       "    <tr>\n",
       "      <th>...</th>\n",
       "      <td>...</td>\n",
       "      <td>...</td>\n",
       "      <td>...</td>\n",
       "      <td>...</td>\n",
       "      <td>...</td>\n",
       "      <td>...</td>\n",
       "      <td>...</td>\n",
       "      <td>...</td>\n",
       "      <td>...</td>\n",
       "      <td>...</td>\n",
       "    </tr>\n",
       "    <tr>\n",
       "      <th>45588</th>\n",
       "      <td>30.0</td>\n",
       "      <td>4.8</td>\n",
       "      <td>Windy</td>\n",
       "      <td>High</td>\n",
       "      <td>1</td>\n",
       "      <td>motorcycle</td>\n",
       "      <td>0.0</td>\n",
       "      <td>No</td>\n",
       "      <td>Metropolitian</td>\n",
       "      <td>32</td>\n",
       "    </tr>\n",
       "    <tr>\n",
       "      <th>45589</th>\n",
       "      <td>21.0</td>\n",
       "      <td>4.6</td>\n",
       "      <td>Windy</td>\n",
       "      <td>Jam</td>\n",
       "      <td>0</td>\n",
       "      <td>motorcycle</td>\n",
       "      <td>1.0</td>\n",
       "      <td>No</td>\n",
       "      <td>Metropolitian</td>\n",
       "      <td>36</td>\n",
       "    </tr>\n",
       "    <tr>\n",
       "      <th>45590</th>\n",
       "      <td>30.0</td>\n",
       "      <td>4.9</td>\n",
       "      <td>Cloudy</td>\n",
       "      <td>Low</td>\n",
       "      <td>1</td>\n",
       "      <td>scooter</td>\n",
       "      <td>0.0</td>\n",
       "      <td>No</td>\n",
       "      <td>Metropolitian</td>\n",
       "      <td>16</td>\n",
       "    </tr>\n",
       "    <tr>\n",
       "      <th>45591</th>\n",
       "      <td>20.0</td>\n",
       "      <td>4.7</td>\n",
       "      <td>Cloudy</td>\n",
       "      <td>High</td>\n",
       "      <td>0</td>\n",
       "      <td>motorcycle</td>\n",
       "      <td>1.0</td>\n",
       "      <td>No</td>\n",
       "      <td>Metropolitian</td>\n",
       "      <td>26</td>\n",
       "    </tr>\n",
       "    <tr>\n",
       "      <th>45592</th>\n",
       "      <td>23.0</td>\n",
       "      <td>4.9</td>\n",
       "      <td>Fog</td>\n",
       "      <td>Medium</td>\n",
       "      <td>2</td>\n",
       "      <td>scooter</td>\n",
       "      <td>1.0</td>\n",
       "      <td>No</td>\n",
       "      <td>Metropolitian</td>\n",
       "      <td>36</td>\n",
       "    </tr>\n",
       "  </tbody>\n",
       "</table>\n",
       "<p>41368 rows × 10 columns</p>\n",
       "</div>"
      ],
      "text/plain": [
       "       Delivery_person_Age  Delivery_person_Ratings     Weather  \\\n",
       "0                     37.0                      4.9       Sunny   \n",
       "1                     34.0                      4.5      Stormy   \n",
       "2                     23.0                      4.4  Sandstorms   \n",
       "3                     38.0                      4.7       Sunny   \n",
       "4                     32.0                      4.6      Cloudy   \n",
       "...                    ...                      ...         ...   \n",
       "45588                 30.0                      4.8       Windy   \n",
       "45589                 21.0                      4.6       Windy   \n",
       "45590                 30.0                      4.9      Cloudy   \n",
       "45591                 20.0                      4.7      Cloudy   \n",
       "45592                 23.0                      4.9         Fog   \n",
       "\n",
       "      Road_traffic_density  Vehicle_condition Type_of_vehicle  \\\n",
       "0                     High                  2      motorcycle   \n",
       "1                      Jam                  2         scooter   \n",
       "2                      Low                  0      motorcycle   \n",
       "3                   Medium                  0      motorcycle   \n",
       "4                     High                  1         scooter   \n",
       "...                    ...                ...             ...   \n",
       "45588                 High                  1      motorcycle   \n",
       "45589                  Jam                  0      motorcycle   \n",
       "45590                  Low                  1         scooter   \n",
       "45591                 High                  0      motorcycle   \n",
       "45592               Medium                  2         scooter   \n",
       "\n",
       "       multiple_deliveries Festival           City  Time_taken  \n",
       "0                      0.0       No          Urban          24  \n",
       "1                      1.0       No  Metropolitian          33  \n",
       "2                      1.0       No          Urban          26  \n",
       "3                      1.0       No  Metropolitian          21  \n",
       "4                      1.0       No  Metropolitian          30  \n",
       "...                    ...      ...            ...         ...  \n",
       "45588                  0.0       No  Metropolitian          32  \n",
       "45589                  1.0       No  Metropolitian          36  \n",
       "45590                  0.0       No  Metropolitian          16  \n",
       "45591                  1.0       No  Metropolitian          26  \n",
       "45592                  1.0       No  Metropolitian          36  \n",
       "\n",
       "[41368 rows x 10 columns]"
      ]
     },
     "execution_count": 15,
     "metadata": {},
     "output_type": "execute_result"
    }
   ],
   "source": [
    "amazon"
   ]
  },
  {
   "cell_type": "code",
   "execution_count": 20,
   "id": "2e118cc7",
   "metadata": {},
   "outputs": [],
   "source": [
    "oe = OrdinalEncoder(categories=[[0,1,2,3],[0.0,1.0,2.0,3.0],['Low', 'Medium','High','Jam'],['Sunny','Stormy','Windy','Sandstorms','Cloudy','Fog'],['scooter','electric_scooter','motorcycle','bicycle'],['Urban','Metropolitian','Semi-Urban'],['No','Yes']])"
   ]
  },
  {
   "cell_type": "code",
   "execution_count": 21,
   "id": "983668e1",
   "metadata": {},
   "outputs": [],
   "source": [
    "amazon[['Vehicle_condition','multiple_deliveries','Road_traffic_density','Weather','Type_of_vehicle','City','Festival']] = oe.fit_transform(amazon[['Vehicle_condition','multiple_deliveries','Road_traffic_density','Weather','Type_of_vehicle','City','Festival']])"
   ]
  },
  {
   "cell_type": "code",
   "execution_count": 22,
   "id": "96f99fdf",
   "metadata": {},
   "outputs": [],
   "source": [
    "X = amazon.drop(columns=['Time_taken'])\n",
    "y = amazon['Time_taken']"
   ]
  },
  {
   "cell_type": "code",
   "execution_count": 260,
   "id": "1882d25c",
   "metadata": {},
   "outputs": [
    {
     "data": {
      "text/html": [
       "<div>\n",
       "<style scoped>\n",
       "    .dataframe tbody tr th:only-of-type {\n",
       "        vertical-align: middle;\n",
       "    }\n",
       "\n",
       "    .dataframe tbody tr th {\n",
       "        vertical-align: top;\n",
       "    }\n",
       "\n",
       "    .dataframe thead th {\n",
       "        text-align: right;\n",
       "    }\n",
       "</style>\n",
       "<table border=\"1\" class=\"dataframe\">\n",
       "  <thead>\n",
       "    <tr style=\"text-align: right;\">\n",
       "      <th></th>\n",
       "      <th>Delivery_person_Age</th>\n",
       "      <th>Delivery_person_Ratings</th>\n",
       "      <th>Weather</th>\n",
       "      <th>Road_traffic_density</th>\n",
       "      <th>Vehicle_condition</th>\n",
       "      <th>Type_of_vehicle</th>\n",
       "      <th>multiple_deliveries</th>\n",
       "      <th>Festival</th>\n",
       "      <th>City</th>\n",
       "      <th>total_distance</th>\n",
       "    </tr>\n",
       "  </thead>\n",
       "  <tbody>\n",
       "    <tr>\n",
       "      <th>0</th>\n",
       "      <td>37.0</td>\n",
       "      <td>4.9</td>\n",
       "      <td>0.0</td>\n",
       "      <td>2.0</td>\n",
       "      <td>2.0</td>\n",
       "      <td>2.0</td>\n",
       "      <td>0.0</td>\n",
       "      <td>0.0</td>\n",
       "      <td>0.0</td>\n",
       "      <td>3.025154</td>\n",
       "    </tr>\n",
       "    <tr>\n",
       "      <th>1</th>\n",
       "      <td>34.0</td>\n",
       "      <td>4.5</td>\n",
       "      <td>1.0</td>\n",
       "      <td>3.0</td>\n",
       "      <td>2.0</td>\n",
       "      <td>0.0</td>\n",
       "      <td>1.0</td>\n",
       "      <td>0.0</td>\n",
       "      <td>1.0</td>\n",
       "      <td>20.183558</td>\n",
       "    </tr>\n",
       "    <tr>\n",
       "      <th>2</th>\n",
       "      <td>23.0</td>\n",
       "      <td>4.4</td>\n",
       "      <td>3.0</td>\n",
       "      <td>0.0</td>\n",
       "      <td>0.0</td>\n",
       "      <td>2.0</td>\n",
       "      <td>1.0</td>\n",
       "      <td>0.0</td>\n",
       "      <td>0.0</td>\n",
       "      <td>1.552760</td>\n",
       "    </tr>\n",
       "    <tr>\n",
       "      <th>3</th>\n",
       "      <td>38.0</td>\n",
       "      <td>4.7</td>\n",
       "      <td>0.0</td>\n",
       "      <td>1.0</td>\n",
       "      <td>0.0</td>\n",
       "      <td>2.0</td>\n",
       "      <td>1.0</td>\n",
       "      <td>0.0</td>\n",
       "      <td>1.0</td>\n",
       "      <td>7.790412</td>\n",
       "    </tr>\n",
       "    <tr>\n",
       "      <th>4</th>\n",
       "      <td>32.0</td>\n",
       "      <td>4.6</td>\n",
       "      <td>4.0</td>\n",
       "      <td>2.0</td>\n",
       "      <td>1.0</td>\n",
       "      <td>0.0</td>\n",
       "      <td>1.0</td>\n",
       "      <td>0.0</td>\n",
       "      <td>1.0</td>\n",
       "      <td>6.210147</td>\n",
       "    </tr>\n",
       "    <tr>\n",
       "      <th>...</th>\n",
       "      <td>...</td>\n",
       "      <td>...</td>\n",
       "      <td>...</td>\n",
       "      <td>...</td>\n",
       "      <td>...</td>\n",
       "      <td>...</td>\n",
       "      <td>...</td>\n",
       "      <td>...</td>\n",
       "      <td>...</td>\n",
       "      <td>...</td>\n",
       "    </tr>\n",
       "    <tr>\n",
       "      <th>45587</th>\n",
       "      <td>35.0</td>\n",
       "      <td>4.2</td>\n",
       "      <td>2.0</td>\n",
       "      <td>3.0</td>\n",
       "      <td>2.0</td>\n",
       "      <td>2.0</td>\n",
       "      <td>1.0</td>\n",
       "      <td>0.0</td>\n",
       "      <td>1.0</td>\n",
       "      <td>16.600296</td>\n",
       "    </tr>\n",
       "    <tr>\n",
       "      <th>45588</th>\n",
       "      <td>30.0</td>\n",
       "      <td>4.8</td>\n",
       "      <td>2.0</td>\n",
       "      <td>2.0</td>\n",
       "      <td>1.0</td>\n",
       "      <td>2.0</td>\n",
       "      <td>0.0</td>\n",
       "      <td>0.0</td>\n",
       "      <td>1.0</td>\n",
       "      <td>1.489848</td>\n",
       "    </tr>\n",
       "    <tr>\n",
       "      <th>45590</th>\n",
       "      <td>30.0</td>\n",
       "      <td>4.9</td>\n",
       "      <td>4.0</td>\n",
       "      <td>0.0</td>\n",
       "      <td>1.0</td>\n",
       "      <td>0.0</td>\n",
       "      <td>0.0</td>\n",
       "      <td>0.0</td>\n",
       "      <td>1.0</td>\n",
       "      <td>4.657202</td>\n",
       "    </tr>\n",
       "    <tr>\n",
       "      <th>45591</th>\n",
       "      <td>20.0</td>\n",
       "      <td>4.7</td>\n",
       "      <td>4.0</td>\n",
       "      <td>2.0</td>\n",
       "      <td>0.0</td>\n",
       "      <td>2.0</td>\n",
       "      <td>1.0</td>\n",
       "      <td>0.0</td>\n",
       "      <td>1.0</td>\n",
       "      <td>6.232402</td>\n",
       "    </tr>\n",
       "    <tr>\n",
       "      <th>45592</th>\n",
       "      <td>23.0</td>\n",
       "      <td>4.9</td>\n",
       "      <td>5.0</td>\n",
       "      <td>1.0</td>\n",
       "      <td>2.0</td>\n",
       "      <td>0.0</td>\n",
       "      <td>1.0</td>\n",
       "      <td>0.0</td>\n",
       "      <td>1.0</td>\n",
       "      <td>12.074413</td>\n",
       "    </tr>\n",
       "  </tbody>\n",
       "</table>\n",
       "<p>37918 rows × 10 columns</p>\n",
       "</div>"
      ],
      "text/plain": [
       "       Delivery_person_Age  Delivery_person_Ratings  Weather  \\\n",
       "0                     37.0                      4.9      0.0   \n",
       "1                     34.0                      4.5      1.0   \n",
       "2                     23.0                      4.4      3.0   \n",
       "3                     38.0                      4.7      0.0   \n",
       "4                     32.0                      4.6      4.0   \n",
       "...                    ...                      ...      ...   \n",
       "45587                 35.0                      4.2      2.0   \n",
       "45588                 30.0                      4.8      2.0   \n",
       "45590                 30.0                      4.9      4.0   \n",
       "45591                 20.0                      4.7      4.0   \n",
       "45592                 23.0                      4.9      5.0   \n",
       "\n",
       "       Road_traffic_density  Vehicle_condition  Type_of_vehicle  \\\n",
       "0                       2.0                2.0              2.0   \n",
       "1                       3.0                2.0              0.0   \n",
       "2                       0.0                0.0              2.0   \n",
       "3                       1.0                0.0              2.0   \n",
       "4                       2.0                1.0              0.0   \n",
       "...                     ...                ...              ...   \n",
       "45587                   3.0                2.0              2.0   \n",
       "45588                   2.0                1.0              2.0   \n",
       "45590                   0.0                1.0              0.0   \n",
       "45591                   2.0                0.0              2.0   \n",
       "45592                   1.0                2.0              0.0   \n",
       "\n",
       "       multiple_deliveries  Festival  City  total_distance  \n",
       "0                      0.0       0.0   0.0        3.025154  \n",
       "1                      1.0       0.0   1.0       20.183558  \n",
       "2                      1.0       0.0   0.0        1.552760  \n",
       "3                      1.0       0.0   1.0        7.790412  \n",
       "4                      1.0       0.0   1.0        6.210147  \n",
       "...                    ...       ...   ...             ...  \n",
       "45587                  1.0       0.0   1.0       16.600296  \n",
       "45588                  0.0       0.0   1.0        1.489848  \n",
       "45590                  0.0       0.0   1.0        4.657202  \n",
       "45591                  1.0       0.0   1.0        6.232402  \n",
       "45592                  1.0       0.0   1.0       12.074413  \n",
       "\n",
       "[37918 rows x 10 columns]"
      ]
     },
     "execution_count": 260,
     "metadata": {},
     "output_type": "execute_result"
    }
   ],
   "source": [
    "X"
   ]
  },
  {
   "cell_type": "code",
   "execution_count": 227,
   "id": "c75dbc4b",
   "metadata": {},
   "outputs": [],
   "source": [
    "scaler = MinMaxScaler()\n",
    "X = scaler.fit_transform(X)"
   ]
  },
  {
   "cell_type": "markdown",
   "id": "9d0a9638",
   "metadata": {},
   "source": [
    "# Splitting The Data into train and test"
   ]
  },
  {
   "cell_type": "markdown",
   "id": "99b6a33f",
   "metadata": {},
   "source": [
    "#### Time_taken column as target column, remaining column are input"
   ]
  },
  {
   "cell_type": "code",
   "execution_count": 23,
   "id": "dab8dda5",
   "metadata": {},
   "outputs": [],
   "source": [
    "X_train,X_test,y_train,y_test = train_test_split(X,y , test_size=0.25, random_state=537)"
   ]
  },
  {
   "cell_type": "markdown",
   "id": "b50b0fd9",
   "metadata": {},
   "source": [
    "#### 75% of data are in X_train,y_train"
   ]
  },
  {
   "cell_type": "code",
   "execution_count": 229,
   "id": "11574bfa",
   "metadata": {},
   "outputs": [
    {
     "data": {
      "text/plain": [
       "(28438, 10)"
      ]
     },
     "execution_count": 229,
     "metadata": {},
     "output_type": "execute_result"
    }
   ],
   "source": [
    "X_train.shape"
   ]
  },
  {
   "cell_type": "code",
   "execution_count": 230,
   "id": "7e8323fa",
   "metadata": {
    "scrolled": true
   },
   "outputs": [
    {
     "data": {
      "text/plain": [
       "24224    40\n",
       "18104    15\n",
       "20710    43\n",
       "6439     29\n",
       "36737    43\n",
       "         ..\n",
       "29097    28\n",
       "35245    38\n",
       "38410    42\n",
       "21319    34\n",
       "11216    35\n",
       "Name: Time_taken, Length: 28438, dtype: int32"
      ]
     },
     "execution_count": 230,
     "metadata": {},
     "output_type": "execute_result"
    }
   ],
   "source": [
    "y_train"
   ]
  },
  {
   "cell_type": "code",
   "execution_count": 255,
   "id": "e629d35e",
   "metadata": {},
   "outputs": [
    {
     "data": {
      "text/html": [
       "<div>\n",
       "<style scoped>\n",
       "    .dataframe tbody tr th:only-of-type {\n",
       "        vertical-align: middle;\n",
       "    }\n",
       "\n",
       "    .dataframe tbody tr th {\n",
       "        vertical-align: top;\n",
       "    }\n",
       "\n",
       "    .dataframe thead th {\n",
       "        text-align: right;\n",
       "    }\n",
       "</style>\n",
       "<table border=\"1\" class=\"dataframe\">\n",
       "  <thead>\n",
       "    <tr style=\"text-align: right;\">\n",
       "      <th></th>\n",
       "      <th>Delivery_person_Age</th>\n",
       "      <th>Delivery_person_Ratings</th>\n",
       "      <th>Weather</th>\n",
       "      <th>Road_traffic_density</th>\n",
       "      <th>Vehicle_condition</th>\n",
       "      <th>Type_of_vehicle</th>\n",
       "      <th>multiple_deliveries</th>\n",
       "      <th>Festival</th>\n",
       "      <th>City</th>\n",
       "      <th>total_distance</th>\n",
       "    </tr>\n",
       "  </thead>\n",
       "  <tbody>\n",
       "    <tr>\n",
       "      <th>24224</th>\n",
       "      <td>36.0</td>\n",
       "      <td>4.4</td>\n",
       "      <td>5.0</td>\n",
       "      <td>1.0</td>\n",
       "      <td>1.0</td>\n",
       "      <td>2.0</td>\n",
       "      <td>0.0</td>\n",
       "      <td>0.0</td>\n",
       "      <td>1.0</td>\n",
       "      <td>16.720620</td>\n",
       "    </tr>\n",
       "    <tr>\n",
       "      <th>18104</th>\n",
       "      <td>31.0</td>\n",
       "      <td>4.6</td>\n",
       "      <td>0.0</td>\n",
       "      <td>3.0</td>\n",
       "      <td>2.0</td>\n",
       "      <td>0.0</td>\n",
       "      <td>0.0</td>\n",
       "      <td>0.0</td>\n",
       "      <td>0.0</td>\n",
       "      <td>13.735973</td>\n",
       "    </tr>\n",
       "    <tr>\n",
       "      <th>20710</th>\n",
       "      <td>33.0</td>\n",
       "      <td>4.4</td>\n",
       "      <td>3.0</td>\n",
       "      <td>3.0</td>\n",
       "      <td>0.0</td>\n",
       "      <td>2.0</td>\n",
       "      <td>0.0</td>\n",
       "      <td>1.0</td>\n",
       "      <td>1.0</td>\n",
       "      <td>13.829293</td>\n",
       "    </tr>\n",
       "    <tr>\n",
       "      <th>6439</th>\n",
       "      <td>34.0</td>\n",
       "      <td>4.8</td>\n",
       "      <td>1.0</td>\n",
       "      <td>0.0</td>\n",
       "      <td>1.0</td>\n",
       "      <td>2.0</td>\n",
       "      <td>1.0</td>\n",
       "      <td>0.0</td>\n",
       "      <td>0.0</td>\n",
       "      <td>10.868854</td>\n",
       "    </tr>\n",
       "    <tr>\n",
       "      <th>36737</th>\n",
       "      <td>34.0</td>\n",
       "      <td>4.4</td>\n",
       "      <td>5.0</td>\n",
       "      <td>3.0</td>\n",
       "      <td>2.0</td>\n",
       "      <td>0.0</td>\n",
       "      <td>0.0</td>\n",
       "      <td>1.0</td>\n",
       "      <td>1.0</td>\n",
       "      <td>16.601432</td>\n",
       "    </tr>\n",
       "    <tr>\n",
       "      <th>...</th>\n",
       "      <td>...</td>\n",
       "      <td>...</td>\n",
       "      <td>...</td>\n",
       "      <td>...</td>\n",
       "      <td>...</td>\n",
       "      <td>...</td>\n",
       "      <td>...</td>\n",
       "      <td>...</td>\n",
       "      <td>...</td>\n",
       "      <td>...</td>\n",
       "    </tr>\n",
       "    <tr>\n",
       "      <th>29097</th>\n",
       "      <td>30.0</td>\n",
       "      <td>4.9</td>\n",
       "      <td>1.0</td>\n",
       "      <td>0.0</td>\n",
       "      <td>1.0</td>\n",
       "      <td>0.0</td>\n",
       "      <td>1.0</td>\n",
       "      <td>0.0</td>\n",
       "      <td>1.0</td>\n",
       "      <td>9.315739</td>\n",
       "    </tr>\n",
       "    <tr>\n",
       "      <th>35245</th>\n",
       "      <td>31.0</td>\n",
       "      <td>4.4</td>\n",
       "      <td>2.0</td>\n",
       "      <td>3.0</td>\n",
       "      <td>1.0</td>\n",
       "      <td>2.0</td>\n",
       "      <td>1.0</td>\n",
       "      <td>0.0</td>\n",
       "      <td>1.0</td>\n",
       "      <td>12.100174</td>\n",
       "    </tr>\n",
       "    <tr>\n",
       "      <th>38410</th>\n",
       "      <td>35.0</td>\n",
       "      <td>4.1</td>\n",
       "      <td>1.0</td>\n",
       "      <td>1.0</td>\n",
       "      <td>0.0</td>\n",
       "      <td>2.0</td>\n",
       "      <td>2.0</td>\n",
       "      <td>0.0</td>\n",
       "      <td>1.0</td>\n",
       "      <td>10.586500</td>\n",
       "    </tr>\n",
       "    <tr>\n",
       "      <th>21319</th>\n",
       "      <td>25.0</td>\n",
       "      <td>4.1</td>\n",
       "      <td>3.0</td>\n",
       "      <td>3.0</td>\n",
       "      <td>0.0</td>\n",
       "      <td>2.0</td>\n",
       "      <td>1.0</td>\n",
       "      <td>0.0</td>\n",
       "      <td>1.0</td>\n",
       "      <td>4.469318</td>\n",
       "    </tr>\n",
       "    <tr>\n",
       "      <th>11216</th>\n",
       "      <td>38.0</td>\n",
       "      <td>4.0</td>\n",
       "      <td>1.0</td>\n",
       "      <td>2.0</td>\n",
       "      <td>0.0</td>\n",
       "      <td>2.0</td>\n",
       "      <td>1.0</td>\n",
       "      <td>0.0</td>\n",
       "      <td>1.0</td>\n",
       "      <td>6.058858</td>\n",
       "    </tr>\n",
       "  </tbody>\n",
       "</table>\n",
       "<p>28438 rows × 10 columns</p>\n",
       "</div>"
      ],
      "text/plain": [
       "       Delivery_person_Age  Delivery_person_Ratings  Weather  \\\n",
       "24224                 36.0                      4.4      5.0   \n",
       "18104                 31.0                      4.6      0.0   \n",
       "20710                 33.0                      4.4      3.0   \n",
       "6439                  34.0                      4.8      1.0   \n",
       "36737                 34.0                      4.4      5.0   \n",
       "...                    ...                      ...      ...   \n",
       "29097                 30.0                      4.9      1.0   \n",
       "35245                 31.0                      4.4      2.0   \n",
       "38410                 35.0                      4.1      1.0   \n",
       "21319                 25.0                      4.1      3.0   \n",
       "11216                 38.0                      4.0      1.0   \n",
       "\n",
       "       Road_traffic_density  Vehicle_condition  Type_of_vehicle  \\\n",
       "24224                   1.0                1.0              2.0   \n",
       "18104                   3.0                2.0              0.0   \n",
       "20710                   3.0                0.0              2.0   \n",
       "6439                    0.0                1.0              2.0   \n",
       "36737                   3.0                2.0              0.0   \n",
       "...                     ...                ...              ...   \n",
       "29097                   0.0                1.0              0.0   \n",
       "35245                   3.0                1.0              2.0   \n",
       "38410                   1.0                0.0              2.0   \n",
       "21319                   3.0                0.0              2.0   \n",
       "11216                   2.0                0.0              2.0   \n",
       "\n",
       "       multiple_deliveries  Festival  City  total_distance  \n",
       "24224                  0.0       0.0   1.0       16.720620  \n",
       "18104                  0.0       0.0   0.0       13.735973  \n",
       "20710                  0.0       1.0   1.0       13.829293  \n",
       "6439                   1.0       0.0   0.0       10.868854  \n",
       "36737                  0.0       1.0   1.0       16.601432  \n",
       "...                    ...       ...   ...             ...  \n",
       "29097                  1.0       0.0   1.0        9.315739  \n",
       "35245                  1.0       0.0   1.0       12.100174  \n",
       "38410                  2.0       0.0   1.0       10.586500  \n",
       "21319                  1.0       0.0   1.0        4.469318  \n",
       "11216                  1.0       0.0   1.0        6.058858  \n",
       "\n",
       "[28438 rows x 10 columns]"
      ]
     },
     "execution_count": 255,
     "metadata": {},
     "output_type": "execute_result"
    }
   ],
   "source": [
    "X_train"
   ]
  },
  {
   "cell_type": "markdown",
   "id": "ea7dfcb4",
   "metadata": {},
   "source": [
    "#### 20% of data are in X_test,y_test"
   ]
  },
  {
   "cell_type": "code",
   "execution_count": 232,
   "id": "d037ad33",
   "metadata": {},
   "outputs": [
    {
     "data": {
      "text/plain": [
       "(9480, 10)"
      ]
     },
     "execution_count": 232,
     "metadata": {},
     "output_type": "execute_result"
    }
   ],
   "source": [
    "X_test.shape"
   ]
  },
  {
   "cell_type": "code",
   "execution_count": 233,
   "id": "41373459",
   "metadata": {},
   "outputs": [
    {
     "data": {
      "text/plain": [
       "1405     20\n",
       "21152    39\n",
       "40870    19\n",
       "32632    25\n",
       "42155    40\n",
       "         ..\n",
       "16381    12\n",
       "29145    26\n",
       "30923    27\n",
       "13801    18\n",
       "14623    17\n",
       "Name: Time_taken, Length: 9480, dtype: int32"
      ]
     },
     "execution_count": 233,
     "metadata": {},
     "output_type": "execute_result"
    }
   ],
   "source": [
    "y_test"
   ]
  },
  {
   "cell_type": "markdown",
   "id": "ff174b7f",
   "metadata": {},
   "source": [
    "## Multiple Linear Regression"
   ]
  },
  {
   "cell_type": "code",
   "execution_count": 24,
   "id": "d7ad5416",
   "metadata": {},
   "outputs": [],
   "source": [
    "from sklearn.linear_model import LinearRegression  \n",
    "lin_regs= LinearRegression()  \n",
    "lin_regs.fit(X_train,y_train)\n",
    "y_pred1 = lin_regs.predict(X_test)"
   ]
  },
  {
   "cell_type": "code",
   "execution_count": 25,
   "id": "0241bd89",
   "metadata": {},
   "outputs": [
    {
     "data": {
      "text/plain": [
       "0.5886823077911767"
      ]
     },
     "execution_count": 25,
     "metadata": {},
     "output_type": "execute_result"
    }
   ],
   "source": [
    "metrics.r2_score(y_test,y_pred1)"
   ]
  },
  {
   "cell_type": "markdown",
   "id": "8ccff4ad",
   "metadata": {},
   "source": [
    "## Polynomial Linear Regression"
   ]
  },
  {
   "cell_type": "code",
   "execution_count": 26,
   "id": "86b5f848",
   "metadata": {},
   "outputs": [
    {
     "data": {
      "text/html": [
       "<style>#sk-container-id-1 {color: black;background-color: white;}#sk-container-id-1 pre{padding: 0;}#sk-container-id-1 div.sk-toggleable {background-color: white;}#sk-container-id-1 label.sk-toggleable__label {cursor: pointer;display: block;width: 100%;margin-bottom: 0;padding: 0.3em;box-sizing: border-box;text-align: center;}#sk-container-id-1 label.sk-toggleable__label-arrow:before {content: \"▸\";float: left;margin-right: 0.25em;color: #696969;}#sk-container-id-1 label.sk-toggleable__label-arrow:hover:before {color: black;}#sk-container-id-1 div.sk-estimator:hover label.sk-toggleable__label-arrow:before {color: black;}#sk-container-id-1 div.sk-toggleable__content {max-height: 0;max-width: 0;overflow: hidden;text-align: left;background-color: #f0f8ff;}#sk-container-id-1 div.sk-toggleable__content pre {margin: 0.2em;color: black;border-radius: 0.25em;background-color: #f0f8ff;}#sk-container-id-1 input.sk-toggleable__control:checked~div.sk-toggleable__content {max-height: 200px;max-width: 100%;overflow: auto;}#sk-container-id-1 input.sk-toggleable__control:checked~label.sk-toggleable__label-arrow:before {content: \"▾\";}#sk-container-id-1 div.sk-estimator input.sk-toggleable__control:checked~label.sk-toggleable__label {background-color: #d4ebff;}#sk-container-id-1 div.sk-label input.sk-toggleable__control:checked~label.sk-toggleable__label {background-color: #d4ebff;}#sk-container-id-1 input.sk-hidden--visually {border: 0;clip: rect(1px 1px 1px 1px);clip: rect(1px, 1px, 1px, 1px);height: 1px;margin: -1px;overflow: hidden;padding: 0;position: absolute;width: 1px;}#sk-container-id-1 div.sk-estimator {font-family: monospace;background-color: #f0f8ff;border: 1px dotted black;border-radius: 0.25em;box-sizing: border-box;margin-bottom: 0.5em;}#sk-container-id-1 div.sk-estimator:hover {background-color: #d4ebff;}#sk-container-id-1 div.sk-parallel-item::after {content: \"\";width: 100%;border-bottom: 1px solid gray;flex-grow: 1;}#sk-container-id-1 div.sk-label:hover label.sk-toggleable__label {background-color: #d4ebff;}#sk-container-id-1 div.sk-serial::before {content: \"\";position: absolute;border-left: 1px solid gray;box-sizing: border-box;top: 0;bottom: 0;left: 50%;z-index: 0;}#sk-container-id-1 div.sk-serial {display: flex;flex-direction: column;align-items: center;background-color: white;padding-right: 0.2em;padding-left: 0.2em;position: relative;}#sk-container-id-1 div.sk-item {position: relative;z-index: 1;}#sk-container-id-1 div.sk-parallel {display: flex;align-items: stretch;justify-content: center;background-color: white;position: relative;}#sk-container-id-1 div.sk-item::before, #sk-container-id-1 div.sk-parallel-item::before {content: \"\";position: absolute;border-left: 1px solid gray;box-sizing: border-box;top: 0;bottom: 0;left: 50%;z-index: -1;}#sk-container-id-1 div.sk-parallel-item {display: flex;flex-direction: column;z-index: 1;position: relative;background-color: white;}#sk-container-id-1 div.sk-parallel-item:first-child::after {align-self: flex-end;width: 50%;}#sk-container-id-1 div.sk-parallel-item:last-child::after {align-self: flex-start;width: 50%;}#sk-container-id-1 div.sk-parallel-item:only-child::after {width: 0;}#sk-container-id-1 div.sk-dashed-wrapped {border: 1px dashed gray;margin: 0 0.4em 0.5em 0.4em;box-sizing: border-box;padding-bottom: 0.4em;background-color: white;}#sk-container-id-1 div.sk-label label {font-family: monospace;font-weight: bold;display: inline-block;line-height: 1.2em;}#sk-container-id-1 div.sk-label-container {text-align: center;}#sk-container-id-1 div.sk-container {/* jupyter's `normalize.less` sets `[hidden] { display: none; }` but bootstrap.min.css set `[hidden] { display: none !important; }` so we also need the `!important` here to be able to override the default hidden behavior on the sphinx rendered scikit-learn.org. See: https://github.com/scikit-learn/scikit-learn/issues/21755 */display: inline-block !important;position: relative;}#sk-container-id-1 div.sk-text-repr-fallback {display: none;}</style><div id=\"sk-container-id-1\" class=\"sk-top-container\"><div class=\"sk-text-repr-fallback\"><pre>LinearRegression()</pre><b>In a Jupyter environment, please rerun this cell to show the HTML representation or trust the notebook. <br />On GitHub, the HTML representation is unable to render, please try loading this page with nbviewer.org.</b></div><div class=\"sk-container\" hidden><div class=\"sk-item\"><div class=\"sk-estimator sk-toggleable\"><input class=\"sk-toggleable__control sk-hidden--visually\" id=\"sk-estimator-id-1\" type=\"checkbox\" checked><label for=\"sk-estimator-id-1\" class=\"sk-toggleable__label sk-toggleable__label-arrow\">LinearRegression</label><div class=\"sk-toggleable__content\"><pre>LinearRegression()</pre></div></div></div></div></div>"
      ],
      "text/plain": [
       "LinearRegression()"
      ]
     },
     "execution_count": 26,
     "metadata": {},
     "output_type": "execute_result"
    }
   ],
   "source": [
    "from sklearn.preprocessing import PolynomialFeatures  \n",
    "poly_regs= PolynomialFeatures(degree= 4)  \n",
    "x_poly= poly_regs.fit_transform(X_train)  \n",
    "lin_reg_2 =LinearRegression()  \n",
    "lin_reg_2.fit(x_poly, y_train)  "
   ]
  },
  {
   "cell_type": "code",
   "execution_count": 27,
   "id": "1eb3ec15",
   "metadata": {},
   "outputs": [],
   "source": [
    "y_pred2 = lin_reg_2.predict(poly_regs.fit_transform(X_test))"
   ]
  },
  {
   "cell_type": "code",
   "execution_count": 28,
   "id": "c9688d09",
   "metadata": {},
   "outputs": [
    {
     "data": {
      "text/plain": [
       "0.7529649470841453"
      ]
     },
     "execution_count": 28,
     "metadata": {},
     "output_type": "execute_result"
    }
   ],
   "source": [
    "metrics.r2_score(y_test,y_pred2)"
   ]
  },
  {
   "cell_type": "markdown",
   "id": "7d8d8c11",
   "metadata": {},
   "source": [
    "## Support Vector Machine"
   ]
  },
  {
   "cell_type": "code",
   "execution_count": 29,
   "id": "566204fa",
   "metadata": {},
   "outputs": [
    {
     "data": {
      "text/html": [
       "<style>#sk-container-id-2 {color: black;background-color: white;}#sk-container-id-2 pre{padding: 0;}#sk-container-id-2 div.sk-toggleable {background-color: white;}#sk-container-id-2 label.sk-toggleable__label {cursor: pointer;display: block;width: 100%;margin-bottom: 0;padding: 0.3em;box-sizing: border-box;text-align: center;}#sk-container-id-2 label.sk-toggleable__label-arrow:before {content: \"▸\";float: left;margin-right: 0.25em;color: #696969;}#sk-container-id-2 label.sk-toggleable__label-arrow:hover:before {color: black;}#sk-container-id-2 div.sk-estimator:hover label.sk-toggleable__label-arrow:before {color: black;}#sk-container-id-2 div.sk-toggleable__content {max-height: 0;max-width: 0;overflow: hidden;text-align: left;background-color: #f0f8ff;}#sk-container-id-2 div.sk-toggleable__content pre {margin: 0.2em;color: black;border-radius: 0.25em;background-color: #f0f8ff;}#sk-container-id-2 input.sk-toggleable__control:checked~div.sk-toggleable__content {max-height: 200px;max-width: 100%;overflow: auto;}#sk-container-id-2 input.sk-toggleable__control:checked~label.sk-toggleable__label-arrow:before {content: \"▾\";}#sk-container-id-2 div.sk-estimator input.sk-toggleable__control:checked~label.sk-toggleable__label {background-color: #d4ebff;}#sk-container-id-2 div.sk-label input.sk-toggleable__control:checked~label.sk-toggleable__label {background-color: #d4ebff;}#sk-container-id-2 input.sk-hidden--visually {border: 0;clip: rect(1px 1px 1px 1px);clip: rect(1px, 1px, 1px, 1px);height: 1px;margin: -1px;overflow: hidden;padding: 0;position: absolute;width: 1px;}#sk-container-id-2 div.sk-estimator {font-family: monospace;background-color: #f0f8ff;border: 1px dotted black;border-radius: 0.25em;box-sizing: border-box;margin-bottom: 0.5em;}#sk-container-id-2 div.sk-estimator:hover {background-color: #d4ebff;}#sk-container-id-2 div.sk-parallel-item::after {content: \"\";width: 100%;border-bottom: 1px solid gray;flex-grow: 1;}#sk-container-id-2 div.sk-label:hover label.sk-toggleable__label {background-color: #d4ebff;}#sk-container-id-2 div.sk-serial::before {content: \"\";position: absolute;border-left: 1px solid gray;box-sizing: border-box;top: 0;bottom: 0;left: 50%;z-index: 0;}#sk-container-id-2 div.sk-serial {display: flex;flex-direction: column;align-items: center;background-color: white;padding-right: 0.2em;padding-left: 0.2em;position: relative;}#sk-container-id-2 div.sk-item {position: relative;z-index: 1;}#sk-container-id-2 div.sk-parallel {display: flex;align-items: stretch;justify-content: center;background-color: white;position: relative;}#sk-container-id-2 div.sk-item::before, #sk-container-id-2 div.sk-parallel-item::before {content: \"\";position: absolute;border-left: 1px solid gray;box-sizing: border-box;top: 0;bottom: 0;left: 50%;z-index: -1;}#sk-container-id-2 div.sk-parallel-item {display: flex;flex-direction: column;z-index: 1;position: relative;background-color: white;}#sk-container-id-2 div.sk-parallel-item:first-child::after {align-self: flex-end;width: 50%;}#sk-container-id-2 div.sk-parallel-item:last-child::after {align-self: flex-start;width: 50%;}#sk-container-id-2 div.sk-parallel-item:only-child::after {width: 0;}#sk-container-id-2 div.sk-dashed-wrapped {border: 1px dashed gray;margin: 0 0.4em 0.5em 0.4em;box-sizing: border-box;padding-bottom: 0.4em;background-color: white;}#sk-container-id-2 div.sk-label label {font-family: monospace;font-weight: bold;display: inline-block;line-height: 1.2em;}#sk-container-id-2 div.sk-label-container {text-align: center;}#sk-container-id-2 div.sk-container {/* jupyter's `normalize.less` sets `[hidden] { display: none; }` but bootstrap.min.css set `[hidden] { display: none !important; }` so we also need the `!important` here to be able to override the default hidden behavior on the sphinx rendered scikit-learn.org. See: https://github.com/scikit-learn/scikit-learn/issues/21755 */display: inline-block !important;position: relative;}#sk-container-id-2 div.sk-text-repr-fallback {display: none;}</style><div id=\"sk-container-id-2\" class=\"sk-top-container\"><div class=\"sk-text-repr-fallback\"><pre>SVR()</pre><b>In a Jupyter environment, please rerun this cell to show the HTML representation or trust the notebook. <br />On GitHub, the HTML representation is unable to render, please try loading this page with nbviewer.org.</b></div><div class=\"sk-container\" hidden><div class=\"sk-item\"><div class=\"sk-estimator sk-toggleable\"><input class=\"sk-toggleable__control sk-hidden--visually\" id=\"sk-estimator-id-2\" type=\"checkbox\" checked><label for=\"sk-estimator-id-2\" class=\"sk-toggleable__label sk-toggleable__label-arrow\">SVR</label><div class=\"sk-toggleable__content\"><pre>SVR()</pre></div></div></div></div></div>"
      ],
      "text/plain": [
       "SVR()"
      ]
     },
     "execution_count": 29,
     "metadata": {},
     "output_type": "execute_result"
    }
   ],
   "source": [
    "from sklearn.svm import SVR\n",
    "regressor = SVR(kernel = 'rbf')\n",
    "regressor.fit(X_train, y_train)\n"
   ]
  },
  {
   "cell_type": "code",
   "execution_count": 31,
   "id": "fcd0a3b1",
   "metadata": {},
   "outputs": [],
   "source": [
    "y_pred3 = regressor.predict(X_test)"
   ]
  },
  {
   "cell_type": "code",
   "execution_count": 32,
   "id": "dfb59321",
   "metadata": {},
   "outputs": [
    {
     "data": {
      "text/plain": [
       "0.5888273941160429"
      ]
     },
     "execution_count": 32,
     "metadata": {},
     "output_type": "execute_result"
    }
   ],
   "source": [
    "metrics.r2_score(y_test,y_pred3)"
   ]
  },
  {
   "cell_type": "markdown",
   "id": "70ab4c03",
   "metadata": {},
   "source": [
    "# Column Transformer"
   ]
  },
  {
   "cell_type": "code",
   "execution_count": null,
   "id": "a512797f",
   "metadata": {},
   "outputs": [],
   "source": []
  },
  {
   "cell_type": "code",
   "execution_count": null,
   "id": "782a6e0f",
   "metadata": {},
   "outputs": [],
   "source": []
  },
  {
   "cell_type": "markdown",
   "id": "ae45315e",
   "metadata": {},
   "source": [
    "#### trf1 - Simple Imputer"
   ]
  },
  {
   "cell_type": "code",
   "execution_count": 73,
   "id": "3f7e9d65",
   "metadata": {},
   "outputs": [],
   "source": [
    "#1st Imputation Transformer\n",
    "trf1 = ColumnTransformer([\n",
    "        ('impute_weather',SimpleImputer(strategy='most_frequent'),[0]),\n",
    "        ('impute_road_traffic_density',SimpleImputer(strategy='most_frequent'),[1]),\n",
    "        ('impute_multiple_deliveries',SimpleImputer(strategy='most_frequent'),[4]),\n",
    "        ('impute_festival',SimpleImputer(strategy='most_frequent'),[5]),\n",
    "        ('impute_city',SimpleImputer(strategy='most_frequent'),[6]),\n",
    "        ('impute_total_distance',SimpleImputer(),[7])\n",
    "    ],remainder='passthrough')"
   ]
  },
  {
   "cell_type": "code",
   "execution_count": 74,
   "id": "0d21dbbc",
   "metadata": {},
   "outputs": [
    {
     "data": {
      "text/html": [
       "<style>#sk-container-id-5 {color: black;background-color: white;}#sk-container-id-5 pre{padding: 0;}#sk-container-id-5 div.sk-toggleable {background-color: white;}#sk-container-id-5 label.sk-toggleable__label {cursor: pointer;display: block;width: 100%;margin-bottom: 0;padding: 0.3em;box-sizing: border-box;text-align: center;}#sk-container-id-5 label.sk-toggleable__label-arrow:before {content: \"▸\";float: left;margin-right: 0.25em;color: #696969;}#sk-container-id-5 label.sk-toggleable__label-arrow:hover:before {color: black;}#sk-container-id-5 div.sk-estimator:hover label.sk-toggleable__label-arrow:before {color: black;}#sk-container-id-5 div.sk-toggleable__content {max-height: 0;max-width: 0;overflow: hidden;text-align: left;background-color: #f0f8ff;}#sk-container-id-5 div.sk-toggleable__content pre {margin: 0.2em;color: black;border-radius: 0.25em;background-color: #f0f8ff;}#sk-container-id-5 input.sk-toggleable__control:checked~div.sk-toggleable__content {max-height: 200px;max-width: 100%;overflow: auto;}#sk-container-id-5 input.sk-toggleable__control:checked~label.sk-toggleable__label-arrow:before {content: \"▾\";}#sk-container-id-5 div.sk-estimator input.sk-toggleable__control:checked~label.sk-toggleable__label {background-color: #d4ebff;}#sk-container-id-5 div.sk-label input.sk-toggleable__control:checked~label.sk-toggleable__label {background-color: #d4ebff;}#sk-container-id-5 input.sk-hidden--visually {border: 0;clip: rect(1px 1px 1px 1px);clip: rect(1px, 1px, 1px, 1px);height: 1px;margin: -1px;overflow: hidden;padding: 0;position: absolute;width: 1px;}#sk-container-id-5 div.sk-estimator {font-family: monospace;background-color: #f0f8ff;border: 1px dotted black;border-radius: 0.25em;box-sizing: border-box;margin-bottom: 0.5em;}#sk-container-id-5 div.sk-estimator:hover {background-color: #d4ebff;}#sk-container-id-5 div.sk-parallel-item::after {content: \"\";width: 100%;border-bottom: 1px solid gray;flex-grow: 1;}#sk-container-id-5 div.sk-label:hover label.sk-toggleable__label {background-color: #d4ebff;}#sk-container-id-5 div.sk-serial::before {content: \"\";position: absolute;border-left: 1px solid gray;box-sizing: border-box;top: 0;bottom: 0;left: 50%;z-index: 0;}#sk-container-id-5 div.sk-serial {display: flex;flex-direction: column;align-items: center;background-color: white;padding-right: 0.2em;padding-left: 0.2em;position: relative;}#sk-container-id-5 div.sk-item {position: relative;z-index: 1;}#sk-container-id-5 div.sk-parallel {display: flex;align-items: stretch;justify-content: center;background-color: white;position: relative;}#sk-container-id-5 div.sk-item::before, #sk-container-id-5 div.sk-parallel-item::before {content: \"\";position: absolute;border-left: 1px solid gray;box-sizing: border-box;top: 0;bottom: 0;left: 50%;z-index: -1;}#sk-container-id-5 div.sk-parallel-item {display: flex;flex-direction: column;z-index: 1;position: relative;background-color: white;}#sk-container-id-5 div.sk-parallel-item:first-child::after {align-self: flex-end;width: 50%;}#sk-container-id-5 div.sk-parallel-item:last-child::after {align-self: flex-start;width: 50%;}#sk-container-id-5 div.sk-parallel-item:only-child::after {width: 0;}#sk-container-id-5 div.sk-dashed-wrapped {border: 1px dashed gray;margin: 0 0.4em 0.5em 0.4em;box-sizing: border-box;padding-bottom: 0.4em;background-color: white;}#sk-container-id-5 div.sk-label label {font-family: monospace;font-weight: bold;display: inline-block;line-height: 1.2em;}#sk-container-id-5 div.sk-label-container {text-align: center;}#sk-container-id-5 div.sk-container {/* jupyter's `normalize.less` sets `[hidden] { display: none; }` but bootstrap.min.css set `[hidden] { display: none !important; }` so we also need the `!important` here to be able to override the default hidden behavior on the sphinx rendered scikit-learn.org. See: https://github.com/scikit-learn/scikit-learn/issues/21755 */display: inline-block !important;position: relative;}#sk-container-id-5 div.sk-text-repr-fallback {display: none;}</style><div id=\"sk-container-id-5\" class=\"sk-top-container\"><div class=\"sk-text-repr-fallback\"><pre>ColumnTransformer(remainder=&#x27;passthrough&#x27;,\n",
       "                  transformers=[(&#x27;impute_weather&#x27;,\n",
       "                                 SimpleImputer(strategy=&#x27;most_frequent&#x27;), [0]),\n",
       "                                (&#x27;impute_road_traffic_density&#x27;,\n",
       "                                 SimpleImputer(strategy=&#x27;most_frequent&#x27;), [1]),\n",
       "                                (&#x27;impute_multiple_deliveries&#x27;,\n",
       "                                 SimpleImputer(strategy=&#x27;most_frequent&#x27;), [4]),\n",
       "                                (&#x27;impute_festival&#x27;,\n",
       "                                 SimpleImputer(strategy=&#x27;most_frequent&#x27;), [5]),\n",
       "                                (&#x27;impute_city&#x27;,\n",
       "                                 SimpleImputer(strategy=&#x27;most_frequent&#x27;), [6]),\n",
       "                                (&#x27;impute_total_distance&#x27;, SimpleImputer(),\n",
       "                                 [7])])</pre><b>In a Jupyter environment, please rerun this cell to show the HTML representation or trust the notebook. <br />On GitHub, the HTML representation is unable to render, please try loading this page with nbviewer.org.</b></div><div class=\"sk-container\" hidden><div class=\"sk-item sk-dashed-wrapped\"><div class=\"sk-label-container\"><div class=\"sk-label sk-toggleable\"><input class=\"sk-toggleable__control sk-hidden--visually\" id=\"sk-estimator-id-31\" type=\"checkbox\" ><label for=\"sk-estimator-id-31\" class=\"sk-toggleable__label sk-toggleable__label-arrow\">ColumnTransformer</label><div class=\"sk-toggleable__content\"><pre>ColumnTransformer(remainder=&#x27;passthrough&#x27;,\n",
       "                  transformers=[(&#x27;impute_weather&#x27;,\n",
       "                                 SimpleImputer(strategy=&#x27;most_frequent&#x27;), [0]),\n",
       "                                (&#x27;impute_road_traffic_density&#x27;,\n",
       "                                 SimpleImputer(strategy=&#x27;most_frequent&#x27;), [1]),\n",
       "                                (&#x27;impute_multiple_deliveries&#x27;,\n",
       "                                 SimpleImputer(strategy=&#x27;most_frequent&#x27;), [4]),\n",
       "                                (&#x27;impute_festival&#x27;,\n",
       "                                 SimpleImputer(strategy=&#x27;most_frequent&#x27;), [5]),\n",
       "                                (&#x27;impute_city&#x27;,\n",
       "                                 SimpleImputer(strategy=&#x27;most_frequent&#x27;), [6]),\n",
       "                                (&#x27;impute_total_distance&#x27;, SimpleImputer(),\n",
       "                                 [7])])</pre></div></div></div><div class=\"sk-parallel\"><div class=\"sk-parallel-item\"><div class=\"sk-item\"><div class=\"sk-label-container\"><div class=\"sk-label sk-toggleable\"><input class=\"sk-toggleable__control sk-hidden--visually\" id=\"sk-estimator-id-32\" type=\"checkbox\" ><label for=\"sk-estimator-id-32\" class=\"sk-toggleable__label sk-toggleable__label-arrow\">impute_weather</label><div class=\"sk-toggleable__content\"><pre>[0]</pre></div></div></div><div class=\"sk-serial\"><div class=\"sk-item\"><div class=\"sk-estimator sk-toggleable\"><input class=\"sk-toggleable__control sk-hidden--visually\" id=\"sk-estimator-id-33\" type=\"checkbox\" ><label for=\"sk-estimator-id-33\" class=\"sk-toggleable__label sk-toggleable__label-arrow\">SimpleImputer</label><div class=\"sk-toggleable__content\"><pre>SimpleImputer(strategy=&#x27;most_frequent&#x27;)</pre></div></div></div></div></div></div><div class=\"sk-parallel-item\"><div class=\"sk-item\"><div class=\"sk-label-container\"><div class=\"sk-label sk-toggleable\"><input class=\"sk-toggleable__control sk-hidden--visually\" id=\"sk-estimator-id-34\" type=\"checkbox\" ><label for=\"sk-estimator-id-34\" class=\"sk-toggleable__label sk-toggleable__label-arrow\">impute_road_traffic_density</label><div class=\"sk-toggleable__content\"><pre>[1]</pre></div></div></div><div class=\"sk-serial\"><div class=\"sk-item\"><div class=\"sk-estimator sk-toggleable\"><input class=\"sk-toggleable__control sk-hidden--visually\" id=\"sk-estimator-id-35\" type=\"checkbox\" ><label for=\"sk-estimator-id-35\" class=\"sk-toggleable__label sk-toggleable__label-arrow\">SimpleImputer</label><div class=\"sk-toggleable__content\"><pre>SimpleImputer(strategy=&#x27;most_frequent&#x27;)</pre></div></div></div></div></div></div><div class=\"sk-parallel-item\"><div class=\"sk-item\"><div class=\"sk-label-container\"><div class=\"sk-label sk-toggleable\"><input class=\"sk-toggleable__control sk-hidden--visually\" id=\"sk-estimator-id-36\" type=\"checkbox\" ><label for=\"sk-estimator-id-36\" class=\"sk-toggleable__label sk-toggleable__label-arrow\">impute_multiple_deliveries</label><div class=\"sk-toggleable__content\"><pre>[4]</pre></div></div></div><div class=\"sk-serial\"><div class=\"sk-item\"><div class=\"sk-estimator sk-toggleable\"><input class=\"sk-toggleable__control sk-hidden--visually\" id=\"sk-estimator-id-37\" type=\"checkbox\" ><label for=\"sk-estimator-id-37\" class=\"sk-toggleable__label sk-toggleable__label-arrow\">SimpleImputer</label><div class=\"sk-toggleable__content\"><pre>SimpleImputer(strategy=&#x27;most_frequent&#x27;)</pre></div></div></div></div></div></div><div class=\"sk-parallel-item\"><div class=\"sk-item\"><div class=\"sk-label-container\"><div class=\"sk-label sk-toggleable\"><input class=\"sk-toggleable__control sk-hidden--visually\" id=\"sk-estimator-id-38\" type=\"checkbox\" ><label for=\"sk-estimator-id-38\" class=\"sk-toggleable__label sk-toggleable__label-arrow\">impute_festival</label><div class=\"sk-toggleable__content\"><pre>[5]</pre></div></div></div><div class=\"sk-serial\"><div class=\"sk-item\"><div class=\"sk-estimator sk-toggleable\"><input class=\"sk-toggleable__control sk-hidden--visually\" id=\"sk-estimator-id-39\" type=\"checkbox\" ><label for=\"sk-estimator-id-39\" class=\"sk-toggleable__label sk-toggleable__label-arrow\">SimpleImputer</label><div class=\"sk-toggleable__content\"><pre>SimpleImputer(strategy=&#x27;most_frequent&#x27;)</pre></div></div></div></div></div></div><div class=\"sk-parallel-item\"><div class=\"sk-item\"><div class=\"sk-label-container\"><div class=\"sk-label sk-toggleable\"><input class=\"sk-toggleable__control sk-hidden--visually\" id=\"sk-estimator-id-40\" type=\"checkbox\" ><label for=\"sk-estimator-id-40\" class=\"sk-toggleable__label sk-toggleable__label-arrow\">impute_city</label><div class=\"sk-toggleable__content\"><pre>[6]</pre></div></div></div><div class=\"sk-serial\"><div class=\"sk-item\"><div class=\"sk-estimator sk-toggleable\"><input class=\"sk-toggleable__control sk-hidden--visually\" id=\"sk-estimator-id-41\" type=\"checkbox\" ><label for=\"sk-estimator-id-41\" class=\"sk-toggleable__label sk-toggleable__label-arrow\">SimpleImputer</label><div class=\"sk-toggleable__content\"><pre>SimpleImputer(strategy=&#x27;most_frequent&#x27;)</pre></div></div></div></div></div></div><div class=\"sk-parallel-item\"><div class=\"sk-item\"><div class=\"sk-label-container\"><div class=\"sk-label sk-toggleable\"><input class=\"sk-toggleable__control sk-hidden--visually\" id=\"sk-estimator-id-42\" type=\"checkbox\" ><label for=\"sk-estimator-id-42\" class=\"sk-toggleable__label sk-toggleable__label-arrow\">impute_total_distance</label><div class=\"sk-toggleable__content\"><pre>[7]</pre></div></div></div><div class=\"sk-serial\"><div class=\"sk-item\"><div class=\"sk-estimator sk-toggleable\"><input class=\"sk-toggleable__control sk-hidden--visually\" id=\"sk-estimator-id-43\" type=\"checkbox\" ><label for=\"sk-estimator-id-43\" class=\"sk-toggleable__label sk-toggleable__label-arrow\">SimpleImputer</label><div class=\"sk-toggleable__content\"><pre>SimpleImputer()</pre></div></div></div></div></div></div><div class=\"sk-parallel-item\"><div class=\"sk-item\"><div class=\"sk-label-container\"><div class=\"sk-label sk-toggleable\"><input class=\"sk-toggleable__control sk-hidden--visually\" id=\"sk-estimator-id-44\" type=\"checkbox\" ><label for=\"sk-estimator-id-44\" class=\"sk-toggleable__label sk-toggleable__label-arrow\">remainder</label><div class=\"sk-toggleable__content\"><pre></pre></div></div></div><div class=\"sk-serial\"><div class=\"sk-item\"><div class=\"sk-estimator sk-toggleable\"><input class=\"sk-toggleable__control sk-hidden--visually\" id=\"sk-estimator-id-45\" type=\"checkbox\" ><label for=\"sk-estimator-id-45\" class=\"sk-toggleable__label sk-toggleable__label-arrow\">passthrough</label><div class=\"sk-toggleable__content\"><pre>passthrough</pre></div></div></div></div></div></div></div></div></div></div>"
      ],
      "text/plain": [
       "ColumnTransformer(remainder='passthrough',\n",
       "                  transformers=[('impute_weather',\n",
       "                                 SimpleImputer(strategy='most_frequent'), [0]),\n",
       "                                ('impute_road_traffic_density',\n",
       "                                 SimpleImputer(strategy='most_frequent'), [1]),\n",
       "                                ('impute_multiple_deliveries',\n",
       "                                 SimpleImputer(strategy='most_frequent'), [4]),\n",
       "                                ('impute_festival',\n",
       "                                 SimpleImputer(strategy='most_frequent'), [5]),\n",
       "                                ('impute_city',\n",
       "                                 SimpleImputer(strategy='most_frequent'), [6]),\n",
       "                                ('impute_total_distance', SimpleImputer(),\n",
       "                                 [7])])"
      ]
     },
     "execution_count": 74,
     "metadata": {},
     "output_type": "execute_result"
    }
   ],
   "source": [
    "trf1"
   ]
  },
  {
   "cell_type": "markdown",
   "id": "10db5ee7",
   "metadata": {},
   "source": [
    "#### trf2 - Ordinal Encoder"
   ]
  },
  {
   "cell_type": "code",
   "execution_count": 75,
   "id": "9df71f9a",
   "metadata": {},
   "outputs": [],
   "source": [
    "oe = OrdinalEncoder(categories=[[0,1,2,3],[0.0,1.0,2.0,3.0],['Low', 'Medium','High','Jam'],['Sunny','Stormy','Windy','Sandstorms','Cloudy','Fog'],['scooter','electric_scooter','motorcycle','bicycle'],['Urban','Metropolitian','Semi-Urban'],['No','Yes']])"
   ]
  },
  {
   "cell_type": "code",
   "execution_count": 76,
   "id": "a663a803",
   "metadata": {},
   "outputs": [
    {
     "data": {
      "text/html": [
       "<style>#sk-container-id-6 {color: black;background-color: white;}#sk-container-id-6 pre{padding: 0;}#sk-container-id-6 div.sk-toggleable {background-color: white;}#sk-container-id-6 label.sk-toggleable__label {cursor: pointer;display: block;width: 100%;margin-bottom: 0;padding: 0.3em;box-sizing: border-box;text-align: center;}#sk-container-id-6 label.sk-toggleable__label-arrow:before {content: \"▸\";float: left;margin-right: 0.25em;color: #696969;}#sk-container-id-6 label.sk-toggleable__label-arrow:hover:before {color: black;}#sk-container-id-6 div.sk-estimator:hover label.sk-toggleable__label-arrow:before {color: black;}#sk-container-id-6 div.sk-toggleable__content {max-height: 0;max-width: 0;overflow: hidden;text-align: left;background-color: #f0f8ff;}#sk-container-id-6 div.sk-toggleable__content pre {margin: 0.2em;color: black;border-radius: 0.25em;background-color: #f0f8ff;}#sk-container-id-6 input.sk-toggleable__control:checked~div.sk-toggleable__content {max-height: 200px;max-width: 100%;overflow: auto;}#sk-container-id-6 input.sk-toggleable__control:checked~label.sk-toggleable__label-arrow:before {content: \"▾\";}#sk-container-id-6 div.sk-estimator input.sk-toggleable__control:checked~label.sk-toggleable__label {background-color: #d4ebff;}#sk-container-id-6 div.sk-label input.sk-toggleable__control:checked~label.sk-toggleable__label {background-color: #d4ebff;}#sk-container-id-6 input.sk-hidden--visually {border: 0;clip: rect(1px 1px 1px 1px);clip: rect(1px, 1px, 1px, 1px);height: 1px;margin: -1px;overflow: hidden;padding: 0;position: absolute;width: 1px;}#sk-container-id-6 div.sk-estimator {font-family: monospace;background-color: #f0f8ff;border: 1px dotted black;border-radius: 0.25em;box-sizing: border-box;margin-bottom: 0.5em;}#sk-container-id-6 div.sk-estimator:hover {background-color: #d4ebff;}#sk-container-id-6 div.sk-parallel-item::after {content: \"\";width: 100%;border-bottom: 1px solid gray;flex-grow: 1;}#sk-container-id-6 div.sk-label:hover label.sk-toggleable__label {background-color: #d4ebff;}#sk-container-id-6 div.sk-serial::before {content: \"\";position: absolute;border-left: 1px solid gray;box-sizing: border-box;top: 0;bottom: 0;left: 50%;z-index: 0;}#sk-container-id-6 div.sk-serial {display: flex;flex-direction: column;align-items: center;background-color: white;padding-right: 0.2em;padding-left: 0.2em;position: relative;}#sk-container-id-6 div.sk-item {position: relative;z-index: 1;}#sk-container-id-6 div.sk-parallel {display: flex;align-items: stretch;justify-content: center;background-color: white;position: relative;}#sk-container-id-6 div.sk-item::before, #sk-container-id-6 div.sk-parallel-item::before {content: \"\";position: absolute;border-left: 1px solid gray;box-sizing: border-box;top: 0;bottom: 0;left: 50%;z-index: -1;}#sk-container-id-6 div.sk-parallel-item {display: flex;flex-direction: column;z-index: 1;position: relative;background-color: white;}#sk-container-id-6 div.sk-parallel-item:first-child::after {align-self: flex-end;width: 50%;}#sk-container-id-6 div.sk-parallel-item:last-child::after {align-self: flex-start;width: 50%;}#sk-container-id-6 div.sk-parallel-item:only-child::after {width: 0;}#sk-container-id-6 div.sk-dashed-wrapped {border: 1px dashed gray;margin: 0 0.4em 0.5em 0.4em;box-sizing: border-box;padding-bottom: 0.4em;background-color: white;}#sk-container-id-6 div.sk-label label {font-family: monospace;font-weight: bold;display: inline-block;line-height: 1.2em;}#sk-container-id-6 div.sk-label-container {text-align: center;}#sk-container-id-6 div.sk-container {/* jupyter's `normalize.less` sets `[hidden] { display: none; }` but bootstrap.min.css set `[hidden] { display: none !important; }` so we also need the `!important` here to be able to override the default hidden behavior on the sphinx rendered scikit-learn.org. See: https://github.com/scikit-learn/scikit-learn/issues/21755 */display: inline-block !important;position: relative;}#sk-container-id-6 div.sk-text-repr-fallback {display: none;}</style><div id=\"sk-container-id-6\" class=\"sk-top-container\"><div class=\"sk-text-repr-fallback\"><pre>OrdinalEncoder(categories=[[0, 1, 2, 3], [0.0, 1.0, 2.0, 3.0],\n",
       "                           [&#x27;Low&#x27;, &#x27;Medium&#x27;, &#x27;High&#x27;, &#x27;Jam&#x27;],\n",
       "                           [&#x27;Sunny&#x27;, &#x27;Stormy&#x27;, &#x27;Windy&#x27;, &#x27;Sandstorms&#x27;, &#x27;Cloudy&#x27;,\n",
       "                            &#x27;Fog&#x27;],\n",
       "                           [&#x27;scooter&#x27;, &#x27;electric_scooter&#x27;, &#x27;motorcycle&#x27;,\n",
       "                            &#x27;bicycle&#x27;],\n",
       "                           [&#x27;Urban&#x27;, &#x27;Metropolitian&#x27;, &#x27;Semi-Urban&#x27;],\n",
       "                           [&#x27;No&#x27;, &#x27;Yes&#x27;]])</pre><b>In a Jupyter environment, please rerun this cell to show the HTML representation or trust the notebook. <br />On GitHub, the HTML representation is unable to render, please try loading this page with nbviewer.org.</b></div><div class=\"sk-container\" hidden><div class=\"sk-item\"><div class=\"sk-estimator sk-toggleable\"><input class=\"sk-toggleable__control sk-hidden--visually\" id=\"sk-estimator-id-46\" type=\"checkbox\" checked><label for=\"sk-estimator-id-46\" class=\"sk-toggleable__label sk-toggleable__label-arrow\">OrdinalEncoder</label><div class=\"sk-toggleable__content\"><pre>OrdinalEncoder(categories=[[0, 1, 2, 3], [0.0, 1.0, 2.0, 3.0],\n",
       "                           [&#x27;Low&#x27;, &#x27;Medium&#x27;, &#x27;High&#x27;, &#x27;Jam&#x27;],\n",
       "                           [&#x27;Sunny&#x27;, &#x27;Stormy&#x27;, &#x27;Windy&#x27;, &#x27;Sandstorms&#x27;, &#x27;Cloudy&#x27;,\n",
       "                            &#x27;Fog&#x27;],\n",
       "                           [&#x27;scooter&#x27;, &#x27;electric_scooter&#x27;, &#x27;motorcycle&#x27;,\n",
       "                            &#x27;bicycle&#x27;],\n",
       "                           [&#x27;Urban&#x27;, &#x27;Metropolitian&#x27;, &#x27;Semi-Urban&#x27;],\n",
       "                           [&#x27;No&#x27;, &#x27;Yes&#x27;]])</pre></div></div></div></div></div>"
      ],
      "text/plain": [
       "OrdinalEncoder(categories=[[0, 1, 2, 3], [0.0, 1.0, 2.0, 3.0],\n",
       "                           ['Low', 'Medium', 'High', 'Jam'],\n",
       "                           ['Sunny', 'Stormy', 'Windy', 'Sandstorms', 'Cloudy',\n",
       "                            'Fog'],\n",
       "                           ['scooter', 'electric_scooter', 'motorcycle',\n",
       "                            'bicycle'],\n",
       "                           ['Urban', 'Metropolitian', 'Semi-Urban'],\n",
       "                           ['No', 'Yes']])"
      ]
     },
     "execution_count": 76,
     "metadata": {},
     "output_type": "execute_result"
    }
   ],
   "source": [
    "oe"
   ]
  },
  {
   "cell_type": "code",
   "execution_count": 77,
   "id": "fb661683",
   "metadata": {},
   "outputs": [],
   "source": [
    "#2nd OrdinalEncoder\n",
    "trf2 = ColumnTransformer([\n",
    "    ('ord_enco',oe,[6,2,1,0,7,4,3])], remainder='passthrough')"
   ]
  },
  {
   "cell_type": "code",
   "execution_count": 78,
   "id": "cf1918df",
   "metadata": {},
   "outputs": [
    {
     "data": {
      "text/html": [
       "<style>#sk-container-id-7 {color: black;background-color: white;}#sk-container-id-7 pre{padding: 0;}#sk-container-id-7 div.sk-toggleable {background-color: white;}#sk-container-id-7 label.sk-toggleable__label {cursor: pointer;display: block;width: 100%;margin-bottom: 0;padding: 0.3em;box-sizing: border-box;text-align: center;}#sk-container-id-7 label.sk-toggleable__label-arrow:before {content: \"▸\";float: left;margin-right: 0.25em;color: #696969;}#sk-container-id-7 label.sk-toggleable__label-arrow:hover:before {color: black;}#sk-container-id-7 div.sk-estimator:hover label.sk-toggleable__label-arrow:before {color: black;}#sk-container-id-7 div.sk-toggleable__content {max-height: 0;max-width: 0;overflow: hidden;text-align: left;background-color: #f0f8ff;}#sk-container-id-7 div.sk-toggleable__content pre {margin: 0.2em;color: black;border-radius: 0.25em;background-color: #f0f8ff;}#sk-container-id-7 input.sk-toggleable__control:checked~div.sk-toggleable__content {max-height: 200px;max-width: 100%;overflow: auto;}#sk-container-id-7 input.sk-toggleable__control:checked~label.sk-toggleable__label-arrow:before {content: \"▾\";}#sk-container-id-7 div.sk-estimator input.sk-toggleable__control:checked~label.sk-toggleable__label {background-color: #d4ebff;}#sk-container-id-7 div.sk-label input.sk-toggleable__control:checked~label.sk-toggleable__label {background-color: #d4ebff;}#sk-container-id-7 input.sk-hidden--visually {border: 0;clip: rect(1px 1px 1px 1px);clip: rect(1px, 1px, 1px, 1px);height: 1px;margin: -1px;overflow: hidden;padding: 0;position: absolute;width: 1px;}#sk-container-id-7 div.sk-estimator {font-family: monospace;background-color: #f0f8ff;border: 1px dotted black;border-radius: 0.25em;box-sizing: border-box;margin-bottom: 0.5em;}#sk-container-id-7 div.sk-estimator:hover {background-color: #d4ebff;}#sk-container-id-7 div.sk-parallel-item::after {content: \"\";width: 100%;border-bottom: 1px solid gray;flex-grow: 1;}#sk-container-id-7 div.sk-label:hover label.sk-toggleable__label {background-color: #d4ebff;}#sk-container-id-7 div.sk-serial::before {content: \"\";position: absolute;border-left: 1px solid gray;box-sizing: border-box;top: 0;bottom: 0;left: 50%;z-index: 0;}#sk-container-id-7 div.sk-serial {display: flex;flex-direction: column;align-items: center;background-color: white;padding-right: 0.2em;padding-left: 0.2em;position: relative;}#sk-container-id-7 div.sk-item {position: relative;z-index: 1;}#sk-container-id-7 div.sk-parallel {display: flex;align-items: stretch;justify-content: center;background-color: white;position: relative;}#sk-container-id-7 div.sk-item::before, #sk-container-id-7 div.sk-parallel-item::before {content: \"\";position: absolute;border-left: 1px solid gray;box-sizing: border-box;top: 0;bottom: 0;left: 50%;z-index: -1;}#sk-container-id-7 div.sk-parallel-item {display: flex;flex-direction: column;z-index: 1;position: relative;background-color: white;}#sk-container-id-7 div.sk-parallel-item:first-child::after {align-self: flex-end;width: 50%;}#sk-container-id-7 div.sk-parallel-item:last-child::after {align-self: flex-start;width: 50%;}#sk-container-id-7 div.sk-parallel-item:only-child::after {width: 0;}#sk-container-id-7 div.sk-dashed-wrapped {border: 1px dashed gray;margin: 0 0.4em 0.5em 0.4em;box-sizing: border-box;padding-bottom: 0.4em;background-color: white;}#sk-container-id-7 div.sk-label label {font-family: monospace;font-weight: bold;display: inline-block;line-height: 1.2em;}#sk-container-id-7 div.sk-label-container {text-align: center;}#sk-container-id-7 div.sk-container {/* jupyter's `normalize.less` sets `[hidden] { display: none; }` but bootstrap.min.css set `[hidden] { display: none !important; }` so we also need the `!important` here to be able to override the default hidden behavior on the sphinx rendered scikit-learn.org. See: https://github.com/scikit-learn/scikit-learn/issues/21755 */display: inline-block !important;position: relative;}#sk-container-id-7 div.sk-text-repr-fallback {display: none;}</style><div id=\"sk-container-id-7\" class=\"sk-top-container\"><div class=\"sk-text-repr-fallback\"><pre>ColumnTransformer(remainder=&#x27;passthrough&#x27;,\n",
       "                  transformers=[(&#x27;ord_enco&#x27;,\n",
       "                                 OrdinalEncoder(categories=[[0, 1, 2, 3],\n",
       "                                                            [0.0, 1.0, 2.0,\n",
       "                                                             3.0],\n",
       "                                                            [&#x27;Low&#x27;, &#x27;Medium&#x27;,\n",
       "                                                             &#x27;High&#x27;, &#x27;Jam&#x27;],\n",
       "                                                            [&#x27;Sunny&#x27;, &#x27;Stormy&#x27;,\n",
       "                                                             &#x27;Windy&#x27;,\n",
       "                                                             &#x27;Sandstorms&#x27;,\n",
       "                                                             &#x27;Cloudy&#x27;, &#x27;Fog&#x27;],\n",
       "                                                            [&#x27;scooter&#x27;,\n",
       "                                                             &#x27;electric_scooter&#x27;,\n",
       "                                                             &#x27;motorcycle&#x27;,\n",
       "                                                             &#x27;bicycle&#x27;],\n",
       "                                                            [&#x27;Urban&#x27;,\n",
       "                                                             &#x27;Metropolitian&#x27;,\n",
       "                                                             &#x27;Semi-Urban&#x27;],\n",
       "                                                            [&#x27;No&#x27;, &#x27;Yes&#x27;]]),\n",
       "                                 [6, 2, 1, 0, 7, 4, 3])])</pre><b>In a Jupyter environment, please rerun this cell to show the HTML representation or trust the notebook. <br />On GitHub, the HTML representation is unable to render, please try loading this page with nbviewer.org.</b></div><div class=\"sk-container\" hidden><div class=\"sk-item sk-dashed-wrapped\"><div class=\"sk-label-container\"><div class=\"sk-label sk-toggleable\"><input class=\"sk-toggleable__control sk-hidden--visually\" id=\"sk-estimator-id-47\" type=\"checkbox\" ><label for=\"sk-estimator-id-47\" class=\"sk-toggleable__label sk-toggleable__label-arrow\">ColumnTransformer</label><div class=\"sk-toggleable__content\"><pre>ColumnTransformer(remainder=&#x27;passthrough&#x27;,\n",
       "                  transformers=[(&#x27;ord_enco&#x27;,\n",
       "                                 OrdinalEncoder(categories=[[0, 1, 2, 3],\n",
       "                                                            [0.0, 1.0, 2.0,\n",
       "                                                             3.0],\n",
       "                                                            [&#x27;Low&#x27;, &#x27;Medium&#x27;,\n",
       "                                                             &#x27;High&#x27;, &#x27;Jam&#x27;],\n",
       "                                                            [&#x27;Sunny&#x27;, &#x27;Stormy&#x27;,\n",
       "                                                             &#x27;Windy&#x27;,\n",
       "                                                             &#x27;Sandstorms&#x27;,\n",
       "                                                             &#x27;Cloudy&#x27;, &#x27;Fog&#x27;],\n",
       "                                                            [&#x27;scooter&#x27;,\n",
       "                                                             &#x27;electric_scooter&#x27;,\n",
       "                                                             &#x27;motorcycle&#x27;,\n",
       "                                                             &#x27;bicycle&#x27;],\n",
       "                                                            [&#x27;Urban&#x27;,\n",
       "                                                             &#x27;Metropolitian&#x27;,\n",
       "                                                             &#x27;Semi-Urban&#x27;],\n",
       "                                                            [&#x27;No&#x27;, &#x27;Yes&#x27;]]),\n",
       "                                 [6, 2, 1, 0, 7, 4, 3])])</pre></div></div></div><div class=\"sk-parallel\"><div class=\"sk-parallel-item\"><div class=\"sk-item\"><div class=\"sk-label-container\"><div class=\"sk-label sk-toggleable\"><input class=\"sk-toggleable__control sk-hidden--visually\" id=\"sk-estimator-id-48\" type=\"checkbox\" ><label for=\"sk-estimator-id-48\" class=\"sk-toggleable__label sk-toggleable__label-arrow\">ord_enco</label><div class=\"sk-toggleable__content\"><pre>[6, 2, 1, 0, 7, 4, 3]</pre></div></div></div><div class=\"sk-serial\"><div class=\"sk-item\"><div class=\"sk-estimator sk-toggleable\"><input class=\"sk-toggleable__control sk-hidden--visually\" id=\"sk-estimator-id-49\" type=\"checkbox\" ><label for=\"sk-estimator-id-49\" class=\"sk-toggleable__label sk-toggleable__label-arrow\">OrdinalEncoder</label><div class=\"sk-toggleable__content\"><pre>OrdinalEncoder(categories=[[0, 1, 2, 3], [0.0, 1.0, 2.0, 3.0],\n",
       "                           [&#x27;Low&#x27;, &#x27;Medium&#x27;, &#x27;High&#x27;, &#x27;Jam&#x27;],\n",
       "                           [&#x27;Sunny&#x27;, &#x27;Stormy&#x27;, &#x27;Windy&#x27;, &#x27;Sandstorms&#x27;, &#x27;Cloudy&#x27;,\n",
       "                            &#x27;Fog&#x27;],\n",
       "                           [&#x27;scooter&#x27;, &#x27;electric_scooter&#x27;, &#x27;motorcycle&#x27;,\n",
       "                            &#x27;bicycle&#x27;],\n",
       "                           [&#x27;Urban&#x27;, &#x27;Metropolitian&#x27;, &#x27;Semi-Urban&#x27;],\n",
       "                           [&#x27;No&#x27;, &#x27;Yes&#x27;]])</pre></div></div></div></div></div></div><div class=\"sk-parallel-item\"><div class=\"sk-item\"><div class=\"sk-label-container\"><div class=\"sk-label sk-toggleable\"><input class=\"sk-toggleable__control sk-hidden--visually\" id=\"sk-estimator-id-50\" type=\"checkbox\" ><label for=\"sk-estimator-id-50\" class=\"sk-toggleable__label sk-toggleable__label-arrow\">remainder</label><div class=\"sk-toggleable__content\"><pre></pre></div></div></div><div class=\"sk-serial\"><div class=\"sk-item\"><div class=\"sk-estimator sk-toggleable\"><input class=\"sk-toggleable__control sk-hidden--visually\" id=\"sk-estimator-id-51\" type=\"checkbox\" ><label for=\"sk-estimator-id-51\" class=\"sk-toggleable__label sk-toggleable__label-arrow\">passthrough</label><div class=\"sk-toggleable__content\"><pre>passthrough</pre></div></div></div></div></div></div></div></div></div></div>"
      ],
      "text/plain": [
       "ColumnTransformer(remainder='passthrough',\n",
       "                  transformers=[('ord_enco',\n",
       "                                 OrdinalEncoder(categories=[[0, 1, 2, 3],\n",
       "                                                            [0.0, 1.0, 2.0,\n",
       "                                                             3.0],\n",
       "                                                            ['Low', 'Medium',\n",
       "                                                             'High', 'Jam'],\n",
       "                                                            ['Sunny', 'Stormy',\n",
       "                                                             'Windy',\n",
       "                                                             'Sandstorms',\n",
       "                                                             'Cloudy', 'Fog'],\n",
       "                                                            ['scooter',\n",
       "                                                             'electric_scooter',\n",
       "                                                             'motorcycle',\n",
       "                                                             'bicycle'],\n",
       "                                                            ['Urban',\n",
       "                                                             'Metropolitian',\n",
       "                                                             'Semi-Urban'],\n",
       "                                                            ['No', 'Yes']]),\n",
       "                                 [6, 2, 1, 0, 7, 4, 3])])"
      ]
     },
     "execution_count": 78,
     "metadata": {},
     "output_type": "execute_result"
    }
   ],
   "source": [
    "trf2"
   ]
  },
  {
   "cell_type": "markdown",
   "id": "db7247eb",
   "metadata": {},
   "source": [
    "#### trf3 - Min Max Scaling"
   ]
  },
  {
   "cell_type": "code",
   "execution_count": 79,
   "id": "49899533",
   "metadata": {},
   "outputs": [],
   "source": [
    "#3rd Scaling\n",
    "trf3 = ColumnTransformer([\n",
    "    ('scale_1', MinMaxScaler(), slice(0,8))\n",
    "])"
   ]
  },
  {
   "cell_type": "code",
   "execution_count": 80,
   "id": "0f4726f5",
   "metadata": {},
   "outputs": [
    {
     "data": {
      "text/html": [
       "<style>#sk-container-id-8 {color: black;background-color: white;}#sk-container-id-8 pre{padding: 0;}#sk-container-id-8 div.sk-toggleable {background-color: white;}#sk-container-id-8 label.sk-toggleable__label {cursor: pointer;display: block;width: 100%;margin-bottom: 0;padding: 0.3em;box-sizing: border-box;text-align: center;}#sk-container-id-8 label.sk-toggleable__label-arrow:before {content: \"▸\";float: left;margin-right: 0.25em;color: #696969;}#sk-container-id-8 label.sk-toggleable__label-arrow:hover:before {color: black;}#sk-container-id-8 div.sk-estimator:hover label.sk-toggleable__label-arrow:before {color: black;}#sk-container-id-8 div.sk-toggleable__content {max-height: 0;max-width: 0;overflow: hidden;text-align: left;background-color: #f0f8ff;}#sk-container-id-8 div.sk-toggleable__content pre {margin: 0.2em;color: black;border-radius: 0.25em;background-color: #f0f8ff;}#sk-container-id-8 input.sk-toggleable__control:checked~div.sk-toggleable__content {max-height: 200px;max-width: 100%;overflow: auto;}#sk-container-id-8 input.sk-toggleable__control:checked~label.sk-toggleable__label-arrow:before {content: \"▾\";}#sk-container-id-8 div.sk-estimator input.sk-toggleable__control:checked~label.sk-toggleable__label {background-color: #d4ebff;}#sk-container-id-8 div.sk-label input.sk-toggleable__control:checked~label.sk-toggleable__label {background-color: #d4ebff;}#sk-container-id-8 input.sk-hidden--visually {border: 0;clip: rect(1px 1px 1px 1px);clip: rect(1px, 1px, 1px, 1px);height: 1px;margin: -1px;overflow: hidden;padding: 0;position: absolute;width: 1px;}#sk-container-id-8 div.sk-estimator {font-family: monospace;background-color: #f0f8ff;border: 1px dotted black;border-radius: 0.25em;box-sizing: border-box;margin-bottom: 0.5em;}#sk-container-id-8 div.sk-estimator:hover {background-color: #d4ebff;}#sk-container-id-8 div.sk-parallel-item::after {content: \"\";width: 100%;border-bottom: 1px solid gray;flex-grow: 1;}#sk-container-id-8 div.sk-label:hover label.sk-toggleable__label {background-color: #d4ebff;}#sk-container-id-8 div.sk-serial::before {content: \"\";position: absolute;border-left: 1px solid gray;box-sizing: border-box;top: 0;bottom: 0;left: 50%;z-index: 0;}#sk-container-id-8 div.sk-serial {display: flex;flex-direction: column;align-items: center;background-color: white;padding-right: 0.2em;padding-left: 0.2em;position: relative;}#sk-container-id-8 div.sk-item {position: relative;z-index: 1;}#sk-container-id-8 div.sk-parallel {display: flex;align-items: stretch;justify-content: center;background-color: white;position: relative;}#sk-container-id-8 div.sk-item::before, #sk-container-id-8 div.sk-parallel-item::before {content: \"\";position: absolute;border-left: 1px solid gray;box-sizing: border-box;top: 0;bottom: 0;left: 50%;z-index: -1;}#sk-container-id-8 div.sk-parallel-item {display: flex;flex-direction: column;z-index: 1;position: relative;background-color: white;}#sk-container-id-8 div.sk-parallel-item:first-child::after {align-self: flex-end;width: 50%;}#sk-container-id-8 div.sk-parallel-item:last-child::after {align-self: flex-start;width: 50%;}#sk-container-id-8 div.sk-parallel-item:only-child::after {width: 0;}#sk-container-id-8 div.sk-dashed-wrapped {border: 1px dashed gray;margin: 0 0.4em 0.5em 0.4em;box-sizing: border-box;padding-bottom: 0.4em;background-color: white;}#sk-container-id-8 div.sk-label label {font-family: monospace;font-weight: bold;display: inline-block;line-height: 1.2em;}#sk-container-id-8 div.sk-label-container {text-align: center;}#sk-container-id-8 div.sk-container {/* jupyter's `normalize.less` sets `[hidden] { display: none; }` but bootstrap.min.css set `[hidden] { display: none !important; }` so we also need the `!important` here to be able to override the default hidden behavior on the sphinx rendered scikit-learn.org. See: https://github.com/scikit-learn/scikit-learn/issues/21755 */display: inline-block !important;position: relative;}#sk-container-id-8 div.sk-text-repr-fallback {display: none;}</style><div id=\"sk-container-id-8\" class=\"sk-top-container\"><div class=\"sk-text-repr-fallback\"><pre>ColumnTransformer(transformers=[(&#x27;scale_1&#x27;, MinMaxScaler(), slice(0, 8, None))])</pre><b>In a Jupyter environment, please rerun this cell to show the HTML representation or trust the notebook. <br />On GitHub, the HTML representation is unable to render, please try loading this page with nbviewer.org.</b></div><div class=\"sk-container\" hidden><div class=\"sk-item sk-dashed-wrapped\"><div class=\"sk-label-container\"><div class=\"sk-label sk-toggleable\"><input class=\"sk-toggleable__control sk-hidden--visually\" id=\"sk-estimator-id-52\" type=\"checkbox\" ><label for=\"sk-estimator-id-52\" class=\"sk-toggleable__label sk-toggleable__label-arrow\">ColumnTransformer</label><div class=\"sk-toggleable__content\"><pre>ColumnTransformer(transformers=[(&#x27;scale_1&#x27;, MinMaxScaler(), slice(0, 8, None))])</pre></div></div></div><div class=\"sk-parallel\"><div class=\"sk-parallel-item\"><div class=\"sk-item\"><div class=\"sk-label-container\"><div class=\"sk-label sk-toggleable\"><input class=\"sk-toggleable__control sk-hidden--visually\" id=\"sk-estimator-id-53\" type=\"checkbox\" ><label for=\"sk-estimator-id-53\" class=\"sk-toggleable__label sk-toggleable__label-arrow\">scale_1</label><div class=\"sk-toggleable__content\"><pre>slice(0, 8, None)</pre></div></div></div><div class=\"sk-serial\"><div class=\"sk-item\"><div class=\"sk-estimator sk-toggleable\"><input class=\"sk-toggleable__control sk-hidden--visually\" id=\"sk-estimator-id-54\" type=\"checkbox\" ><label for=\"sk-estimator-id-54\" class=\"sk-toggleable__label sk-toggleable__label-arrow\">MinMaxScaler</label><div class=\"sk-toggleable__content\"><pre>MinMaxScaler()</pre></div></div></div></div></div></div></div></div></div></div>"
      ],
      "text/plain": [
       "ColumnTransformer(transformers=[('scale_1', MinMaxScaler(), slice(0, 8, None))])"
      ]
     },
     "execution_count": 80,
     "metadata": {},
     "output_type": "execute_result"
    }
   ],
   "source": [
    "trf3"
   ]
  },
  {
   "cell_type": "markdown",
   "id": "339ace76",
   "metadata": {},
   "source": [
    "#### trf4 - Model Selection - Linear Regression"
   ]
  },
  {
   "cell_type": "code",
   "execution_count": 93,
   "id": "2a81b1c8",
   "metadata": {},
   "outputs": [],
   "source": [
    "#4th Model\n",
    "from sklearn.linear_model import LinearRegression\n",
    "trf4 = LinearRegression()"
   ]
  },
  {
   "cell_type": "code",
   "execution_count": 82,
   "id": "14ec2d62",
   "metadata": {},
   "outputs": [
    {
     "data": {
      "text/html": [
       "<style>#sk-container-id-9 {color: black;background-color: white;}#sk-container-id-9 pre{padding: 0;}#sk-container-id-9 div.sk-toggleable {background-color: white;}#sk-container-id-9 label.sk-toggleable__label {cursor: pointer;display: block;width: 100%;margin-bottom: 0;padding: 0.3em;box-sizing: border-box;text-align: center;}#sk-container-id-9 label.sk-toggleable__label-arrow:before {content: \"▸\";float: left;margin-right: 0.25em;color: #696969;}#sk-container-id-9 label.sk-toggleable__label-arrow:hover:before {color: black;}#sk-container-id-9 div.sk-estimator:hover label.sk-toggleable__label-arrow:before {color: black;}#sk-container-id-9 div.sk-toggleable__content {max-height: 0;max-width: 0;overflow: hidden;text-align: left;background-color: #f0f8ff;}#sk-container-id-9 div.sk-toggleable__content pre {margin: 0.2em;color: black;border-radius: 0.25em;background-color: #f0f8ff;}#sk-container-id-9 input.sk-toggleable__control:checked~div.sk-toggleable__content {max-height: 200px;max-width: 100%;overflow: auto;}#sk-container-id-9 input.sk-toggleable__control:checked~label.sk-toggleable__label-arrow:before {content: \"▾\";}#sk-container-id-9 div.sk-estimator input.sk-toggleable__control:checked~label.sk-toggleable__label {background-color: #d4ebff;}#sk-container-id-9 div.sk-label input.sk-toggleable__control:checked~label.sk-toggleable__label {background-color: #d4ebff;}#sk-container-id-9 input.sk-hidden--visually {border: 0;clip: rect(1px 1px 1px 1px);clip: rect(1px, 1px, 1px, 1px);height: 1px;margin: -1px;overflow: hidden;padding: 0;position: absolute;width: 1px;}#sk-container-id-9 div.sk-estimator {font-family: monospace;background-color: #f0f8ff;border: 1px dotted black;border-radius: 0.25em;box-sizing: border-box;margin-bottom: 0.5em;}#sk-container-id-9 div.sk-estimator:hover {background-color: #d4ebff;}#sk-container-id-9 div.sk-parallel-item::after {content: \"\";width: 100%;border-bottom: 1px solid gray;flex-grow: 1;}#sk-container-id-9 div.sk-label:hover label.sk-toggleable__label {background-color: #d4ebff;}#sk-container-id-9 div.sk-serial::before {content: \"\";position: absolute;border-left: 1px solid gray;box-sizing: border-box;top: 0;bottom: 0;left: 50%;z-index: 0;}#sk-container-id-9 div.sk-serial {display: flex;flex-direction: column;align-items: center;background-color: white;padding-right: 0.2em;padding-left: 0.2em;position: relative;}#sk-container-id-9 div.sk-item {position: relative;z-index: 1;}#sk-container-id-9 div.sk-parallel {display: flex;align-items: stretch;justify-content: center;background-color: white;position: relative;}#sk-container-id-9 div.sk-item::before, #sk-container-id-9 div.sk-parallel-item::before {content: \"\";position: absolute;border-left: 1px solid gray;box-sizing: border-box;top: 0;bottom: 0;left: 50%;z-index: -1;}#sk-container-id-9 div.sk-parallel-item {display: flex;flex-direction: column;z-index: 1;position: relative;background-color: white;}#sk-container-id-9 div.sk-parallel-item:first-child::after {align-self: flex-end;width: 50%;}#sk-container-id-9 div.sk-parallel-item:last-child::after {align-self: flex-start;width: 50%;}#sk-container-id-9 div.sk-parallel-item:only-child::after {width: 0;}#sk-container-id-9 div.sk-dashed-wrapped {border: 1px dashed gray;margin: 0 0.4em 0.5em 0.4em;box-sizing: border-box;padding-bottom: 0.4em;background-color: white;}#sk-container-id-9 div.sk-label label {font-family: monospace;font-weight: bold;display: inline-block;line-height: 1.2em;}#sk-container-id-9 div.sk-label-container {text-align: center;}#sk-container-id-9 div.sk-container {/* jupyter's `normalize.less` sets `[hidden] { display: none; }` but bootstrap.min.css set `[hidden] { display: none !important; }` so we also need the `!important` here to be able to override the default hidden behavior on the sphinx rendered scikit-learn.org. See: https://github.com/scikit-learn/scikit-learn/issues/21755 */display: inline-block !important;position: relative;}#sk-container-id-9 div.sk-text-repr-fallback {display: none;}</style><div id=\"sk-container-id-9\" class=\"sk-top-container\"><div class=\"sk-text-repr-fallback\"><pre>LinearRegression()</pre><b>In a Jupyter environment, please rerun this cell to show the HTML representation or trust the notebook. <br />On GitHub, the HTML representation is unable to render, please try loading this page with nbviewer.org.</b></div><div class=\"sk-container\" hidden><div class=\"sk-item\"><div class=\"sk-estimator sk-toggleable\"><input class=\"sk-toggleable__control sk-hidden--visually\" id=\"sk-estimator-id-55\" type=\"checkbox\" checked><label for=\"sk-estimator-id-55\" class=\"sk-toggleable__label sk-toggleable__label-arrow\">LinearRegression</label><div class=\"sk-toggleable__content\"><pre>LinearRegression()</pre></div></div></div></div></div>"
      ],
      "text/plain": [
       "LinearRegression()"
      ]
     },
     "execution_count": 82,
     "metadata": {},
     "output_type": "execute_result"
    }
   ],
   "source": [
    "trf4"
   ]
  },
  {
   "cell_type": "markdown",
   "id": "936e2819",
   "metadata": {},
   "source": [
    "#### Pipeline - fitting data "
   ]
  },
  {
   "cell_type": "code",
   "execution_count": 83,
   "id": "172378ec",
   "metadata": {},
   "outputs": [],
   "source": [
    "pipe = Pipeline([\n",
    "    ('trf1', trf1),\n",
    "    ('trf2', trf2),\n",
    "    ('trf3', trf3),\n",
    "    ('trf4', trf4)\n",
    "    \n",
    "])"
   ]
  },
  {
   "cell_type": "code",
   "execution_count": 84,
   "id": "e3b27302",
   "metadata": {},
   "outputs": [
    {
     "data": {
      "text/html": [
       "<style>#sk-container-id-10 {color: black;background-color: white;}#sk-container-id-10 pre{padding: 0;}#sk-container-id-10 div.sk-toggleable {background-color: white;}#sk-container-id-10 label.sk-toggleable__label {cursor: pointer;display: block;width: 100%;margin-bottom: 0;padding: 0.3em;box-sizing: border-box;text-align: center;}#sk-container-id-10 label.sk-toggleable__label-arrow:before {content: \"▸\";float: left;margin-right: 0.25em;color: #696969;}#sk-container-id-10 label.sk-toggleable__label-arrow:hover:before {color: black;}#sk-container-id-10 div.sk-estimator:hover label.sk-toggleable__label-arrow:before {color: black;}#sk-container-id-10 div.sk-toggleable__content {max-height: 0;max-width: 0;overflow: hidden;text-align: left;background-color: #f0f8ff;}#sk-container-id-10 div.sk-toggleable__content pre {margin: 0.2em;color: black;border-radius: 0.25em;background-color: #f0f8ff;}#sk-container-id-10 input.sk-toggleable__control:checked~div.sk-toggleable__content {max-height: 200px;max-width: 100%;overflow: auto;}#sk-container-id-10 input.sk-toggleable__control:checked~label.sk-toggleable__label-arrow:before {content: \"▾\";}#sk-container-id-10 div.sk-estimator input.sk-toggleable__control:checked~label.sk-toggleable__label {background-color: #d4ebff;}#sk-container-id-10 div.sk-label input.sk-toggleable__control:checked~label.sk-toggleable__label {background-color: #d4ebff;}#sk-container-id-10 input.sk-hidden--visually {border: 0;clip: rect(1px 1px 1px 1px);clip: rect(1px, 1px, 1px, 1px);height: 1px;margin: -1px;overflow: hidden;padding: 0;position: absolute;width: 1px;}#sk-container-id-10 div.sk-estimator {font-family: monospace;background-color: #f0f8ff;border: 1px dotted black;border-radius: 0.25em;box-sizing: border-box;margin-bottom: 0.5em;}#sk-container-id-10 div.sk-estimator:hover {background-color: #d4ebff;}#sk-container-id-10 div.sk-parallel-item::after {content: \"\";width: 100%;border-bottom: 1px solid gray;flex-grow: 1;}#sk-container-id-10 div.sk-label:hover label.sk-toggleable__label {background-color: #d4ebff;}#sk-container-id-10 div.sk-serial::before {content: \"\";position: absolute;border-left: 1px solid gray;box-sizing: border-box;top: 0;bottom: 0;left: 50%;z-index: 0;}#sk-container-id-10 div.sk-serial {display: flex;flex-direction: column;align-items: center;background-color: white;padding-right: 0.2em;padding-left: 0.2em;position: relative;}#sk-container-id-10 div.sk-item {position: relative;z-index: 1;}#sk-container-id-10 div.sk-parallel {display: flex;align-items: stretch;justify-content: center;background-color: white;position: relative;}#sk-container-id-10 div.sk-item::before, #sk-container-id-10 div.sk-parallel-item::before {content: \"\";position: absolute;border-left: 1px solid gray;box-sizing: border-box;top: 0;bottom: 0;left: 50%;z-index: -1;}#sk-container-id-10 div.sk-parallel-item {display: flex;flex-direction: column;z-index: 1;position: relative;background-color: white;}#sk-container-id-10 div.sk-parallel-item:first-child::after {align-self: flex-end;width: 50%;}#sk-container-id-10 div.sk-parallel-item:last-child::after {align-self: flex-start;width: 50%;}#sk-container-id-10 div.sk-parallel-item:only-child::after {width: 0;}#sk-container-id-10 div.sk-dashed-wrapped {border: 1px dashed gray;margin: 0 0.4em 0.5em 0.4em;box-sizing: border-box;padding-bottom: 0.4em;background-color: white;}#sk-container-id-10 div.sk-label label {font-family: monospace;font-weight: bold;display: inline-block;line-height: 1.2em;}#sk-container-id-10 div.sk-label-container {text-align: center;}#sk-container-id-10 div.sk-container {/* jupyter's `normalize.less` sets `[hidden] { display: none; }` but bootstrap.min.css set `[hidden] { display: none !important; }` so we also need the `!important` here to be able to override the default hidden behavior on the sphinx rendered scikit-learn.org. See: https://github.com/scikit-learn/scikit-learn/issues/21755 */display: inline-block !important;position: relative;}#sk-container-id-10 div.sk-text-repr-fallback {display: none;}</style><div id=\"sk-container-id-10\" class=\"sk-top-container\"><div class=\"sk-text-repr-fallback\"><pre>Pipeline(steps=[(&#x27;trf1&#x27;,\n",
       "                 ColumnTransformer(remainder=&#x27;passthrough&#x27;,\n",
       "                                   transformers=[(&#x27;impute_weather&#x27;,\n",
       "                                                  SimpleImputer(strategy=&#x27;most_frequent&#x27;),\n",
       "                                                  [0]),\n",
       "                                                 (&#x27;impute_road_traffic_density&#x27;,\n",
       "                                                  SimpleImputer(strategy=&#x27;most_frequent&#x27;),\n",
       "                                                  [1]),\n",
       "                                                 (&#x27;impute_multiple_deliveries&#x27;,\n",
       "                                                  SimpleImputer(strategy=&#x27;most_frequent&#x27;),\n",
       "                                                  [4]),\n",
       "                                                 (&#x27;impute_festival&#x27;,\n",
       "                                                  SimpleImputer(strategy=&#x27;most_frequent...\n",
       "                                                                              2,\n",
       "                                                                              3],\n",
       "                                                                             [0.0,\n",
       "                                                                              1.0,\n",
       "                                                                              2.0,\n",
       "                                                                              3.0],\n",
       "                                                                             [&#x27;Low&#x27;,\n",
       "                                                                              &#x27;Medium&#x27;,\n",
       "                                                                              &#x27;High&#x27;,\n",
       "                                                                              &#x27;Jam&#x27;],\n",
       "                                                                             [&#x27;Sunny&#x27;,\n",
       "                                                                              &#x27;Stormy&#x27;,\n",
       "                                                                              &#x27;Windy&#x27;,\n",
       "                                                                              &#x27;Sandstorms&#x27;,\n",
       "                                                                              &#x27;Cloudy&#x27;,\n",
       "                                                                              &#x27;Fog&#x27;],\n",
       "                                                                             [&#x27;scooter&#x27;,\n",
       "                                                                              &#x27;electric_scooter&#x27;,\n",
       "                                                                              &#x27;motorcycle&#x27;,\n",
       "                                                                              &#x27;bicycle&#x27;],\n",
       "                                                                             [&#x27;Urban&#x27;,\n",
       "                                                                              &#x27;Metropolitian&#x27;,\n",
       "                                                                              &#x27;Semi-Urban&#x27;],\n",
       "                                                                             [&#x27;No&#x27;,\n",
       "                                                                              &#x27;Yes&#x27;]]),\n",
       "                                                  [6, 2, 1, 0, 7, 4, 3])])),\n",
       "                (&#x27;trf3&#x27;,\n",
       "                 ColumnTransformer(transformers=[(&#x27;scale_1&#x27;, MinMaxScaler(),\n",
       "                                                  slice(0, 8, None))])),\n",
       "                (&#x27;trf4&#x27;, LinearRegression())])</pre><b>In a Jupyter environment, please rerun this cell to show the HTML representation or trust the notebook. <br />On GitHub, the HTML representation is unable to render, please try loading this page with nbviewer.org.</b></div><div class=\"sk-container\" hidden><div class=\"sk-item sk-dashed-wrapped\"><div class=\"sk-label-container\"><div class=\"sk-label sk-toggleable\"><input class=\"sk-toggleable__control sk-hidden--visually\" id=\"sk-estimator-id-56\" type=\"checkbox\" ><label for=\"sk-estimator-id-56\" class=\"sk-toggleable__label sk-toggleable__label-arrow\">Pipeline</label><div class=\"sk-toggleable__content\"><pre>Pipeline(steps=[(&#x27;trf1&#x27;,\n",
       "                 ColumnTransformer(remainder=&#x27;passthrough&#x27;,\n",
       "                                   transformers=[(&#x27;impute_weather&#x27;,\n",
       "                                                  SimpleImputer(strategy=&#x27;most_frequent&#x27;),\n",
       "                                                  [0]),\n",
       "                                                 (&#x27;impute_road_traffic_density&#x27;,\n",
       "                                                  SimpleImputer(strategy=&#x27;most_frequent&#x27;),\n",
       "                                                  [1]),\n",
       "                                                 (&#x27;impute_multiple_deliveries&#x27;,\n",
       "                                                  SimpleImputer(strategy=&#x27;most_frequent&#x27;),\n",
       "                                                  [4]),\n",
       "                                                 (&#x27;impute_festival&#x27;,\n",
       "                                                  SimpleImputer(strategy=&#x27;most_frequent...\n",
       "                                                                              2,\n",
       "                                                                              3],\n",
       "                                                                             [0.0,\n",
       "                                                                              1.0,\n",
       "                                                                              2.0,\n",
       "                                                                              3.0],\n",
       "                                                                             [&#x27;Low&#x27;,\n",
       "                                                                              &#x27;Medium&#x27;,\n",
       "                                                                              &#x27;High&#x27;,\n",
       "                                                                              &#x27;Jam&#x27;],\n",
       "                                                                             [&#x27;Sunny&#x27;,\n",
       "                                                                              &#x27;Stormy&#x27;,\n",
       "                                                                              &#x27;Windy&#x27;,\n",
       "                                                                              &#x27;Sandstorms&#x27;,\n",
       "                                                                              &#x27;Cloudy&#x27;,\n",
       "                                                                              &#x27;Fog&#x27;],\n",
       "                                                                             [&#x27;scooter&#x27;,\n",
       "                                                                              &#x27;electric_scooter&#x27;,\n",
       "                                                                              &#x27;motorcycle&#x27;,\n",
       "                                                                              &#x27;bicycle&#x27;],\n",
       "                                                                             [&#x27;Urban&#x27;,\n",
       "                                                                              &#x27;Metropolitian&#x27;,\n",
       "                                                                              &#x27;Semi-Urban&#x27;],\n",
       "                                                                             [&#x27;No&#x27;,\n",
       "                                                                              &#x27;Yes&#x27;]]),\n",
       "                                                  [6, 2, 1, 0, 7, 4, 3])])),\n",
       "                (&#x27;trf3&#x27;,\n",
       "                 ColumnTransformer(transformers=[(&#x27;scale_1&#x27;, MinMaxScaler(),\n",
       "                                                  slice(0, 8, None))])),\n",
       "                (&#x27;trf4&#x27;, LinearRegression())])</pre></div></div></div><div class=\"sk-serial\"><div class=\"sk-item sk-dashed-wrapped\"><div class=\"sk-label-container\"><div class=\"sk-label sk-toggleable\"><input class=\"sk-toggleable__control sk-hidden--visually\" id=\"sk-estimator-id-57\" type=\"checkbox\" ><label for=\"sk-estimator-id-57\" class=\"sk-toggleable__label sk-toggleable__label-arrow\">trf1: ColumnTransformer</label><div class=\"sk-toggleable__content\"><pre>ColumnTransformer(remainder=&#x27;passthrough&#x27;,\n",
       "                  transformers=[(&#x27;impute_weather&#x27;,\n",
       "                                 SimpleImputer(strategy=&#x27;most_frequent&#x27;), [0]),\n",
       "                                (&#x27;impute_road_traffic_density&#x27;,\n",
       "                                 SimpleImputer(strategy=&#x27;most_frequent&#x27;), [1]),\n",
       "                                (&#x27;impute_multiple_deliveries&#x27;,\n",
       "                                 SimpleImputer(strategy=&#x27;most_frequent&#x27;), [4]),\n",
       "                                (&#x27;impute_festival&#x27;,\n",
       "                                 SimpleImputer(strategy=&#x27;most_frequent&#x27;), [5]),\n",
       "                                (&#x27;impute_city&#x27;,\n",
       "                                 SimpleImputer(strategy=&#x27;most_frequent&#x27;), [6]),\n",
       "                                (&#x27;impute_total_distance&#x27;, SimpleImputer(),\n",
       "                                 [7])])</pre></div></div></div><div class=\"sk-parallel\"><div class=\"sk-parallel-item\"><div class=\"sk-item\"><div class=\"sk-label-container\"><div class=\"sk-label sk-toggleable\"><input class=\"sk-toggleable__control sk-hidden--visually\" id=\"sk-estimator-id-58\" type=\"checkbox\" ><label for=\"sk-estimator-id-58\" class=\"sk-toggleable__label sk-toggleable__label-arrow\">impute_weather</label><div class=\"sk-toggleable__content\"><pre>[0]</pre></div></div></div><div class=\"sk-serial\"><div class=\"sk-item\"><div class=\"sk-estimator sk-toggleable\"><input class=\"sk-toggleable__control sk-hidden--visually\" id=\"sk-estimator-id-59\" type=\"checkbox\" ><label for=\"sk-estimator-id-59\" class=\"sk-toggleable__label sk-toggleable__label-arrow\">SimpleImputer</label><div class=\"sk-toggleable__content\"><pre>SimpleImputer(strategy=&#x27;most_frequent&#x27;)</pre></div></div></div></div></div></div><div class=\"sk-parallel-item\"><div class=\"sk-item\"><div class=\"sk-label-container\"><div class=\"sk-label sk-toggleable\"><input class=\"sk-toggleable__control sk-hidden--visually\" id=\"sk-estimator-id-60\" type=\"checkbox\" ><label for=\"sk-estimator-id-60\" class=\"sk-toggleable__label sk-toggleable__label-arrow\">impute_road_traffic_density</label><div class=\"sk-toggleable__content\"><pre>[1]</pre></div></div></div><div class=\"sk-serial\"><div class=\"sk-item\"><div class=\"sk-estimator sk-toggleable\"><input class=\"sk-toggleable__control sk-hidden--visually\" id=\"sk-estimator-id-61\" type=\"checkbox\" ><label for=\"sk-estimator-id-61\" class=\"sk-toggleable__label sk-toggleable__label-arrow\">SimpleImputer</label><div class=\"sk-toggleable__content\"><pre>SimpleImputer(strategy=&#x27;most_frequent&#x27;)</pre></div></div></div></div></div></div><div class=\"sk-parallel-item\"><div class=\"sk-item\"><div class=\"sk-label-container\"><div class=\"sk-label sk-toggleable\"><input class=\"sk-toggleable__control sk-hidden--visually\" id=\"sk-estimator-id-62\" type=\"checkbox\" ><label for=\"sk-estimator-id-62\" class=\"sk-toggleable__label sk-toggleable__label-arrow\">impute_multiple_deliveries</label><div class=\"sk-toggleable__content\"><pre>[4]</pre></div></div></div><div class=\"sk-serial\"><div class=\"sk-item\"><div class=\"sk-estimator sk-toggleable\"><input class=\"sk-toggleable__control sk-hidden--visually\" id=\"sk-estimator-id-63\" type=\"checkbox\" ><label for=\"sk-estimator-id-63\" class=\"sk-toggleable__label sk-toggleable__label-arrow\">SimpleImputer</label><div class=\"sk-toggleable__content\"><pre>SimpleImputer(strategy=&#x27;most_frequent&#x27;)</pre></div></div></div></div></div></div><div class=\"sk-parallel-item\"><div class=\"sk-item\"><div class=\"sk-label-container\"><div class=\"sk-label sk-toggleable\"><input class=\"sk-toggleable__control sk-hidden--visually\" id=\"sk-estimator-id-64\" type=\"checkbox\" ><label for=\"sk-estimator-id-64\" class=\"sk-toggleable__label sk-toggleable__label-arrow\">impute_festival</label><div class=\"sk-toggleable__content\"><pre>[5]</pre></div></div></div><div class=\"sk-serial\"><div class=\"sk-item\"><div class=\"sk-estimator sk-toggleable\"><input class=\"sk-toggleable__control sk-hidden--visually\" id=\"sk-estimator-id-65\" type=\"checkbox\" ><label for=\"sk-estimator-id-65\" class=\"sk-toggleable__label sk-toggleable__label-arrow\">SimpleImputer</label><div class=\"sk-toggleable__content\"><pre>SimpleImputer(strategy=&#x27;most_frequent&#x27;)</pre></div></div></div></div></div></div><div class=\"sk-parallel-item\"><div class=\"sk-item\"><div class=\"sk-label-container\"><div class=\"sk-label sk-toggleable\"><input class=\"sk-toggleable__control sk-hidden--visually\" id=\"sk-estimator-id-66\" type=\"checkbox\" ><label for=\"sk-estimator-id-66\" class=\"sk-toggleable__label sk-toggleable__label-arrow\">impute_city</label><div class=\"sk-toggleable__content\"><pre>[6]</pre></div></div></div><div class=\"sk-serial\"><div class=\"sk-item\"><div class=\"sk-estimator sk-toggleable\"><input class=\"sk-toggleable__control sk-hidden--visually\" id=\"sk-estimator-id-67\" type=\"checkbox\" ><label for=\"sk-estimator-id-67\" class=\"sk-toggleable__label sk-toggleable__label-arrow\">SimpleImputer</label><div class=\"sk-toggleable__content\"><pre>SimpleImputer(strategy=&#x27;most_frequent&#x27;)</pre></div></div></div></div></div></div><div class=\"sk-parallel-item\"><div class=\"sk-item\"><div class=\"sk-label-container\"><div class=\"sk-label sk-toggleable\"><input class=\"sk-toggleable__control sk-hidden--visually\" id=\"sk-estimator-id-68\" type=\"checkbox\" ><label for=\"sk-estimator-id-68\" class=\"sk-toggleable__label sk-toggleable__label-arrow\">impute_total_distance</label><div class=\"sk-toggleable__content\"><pre>[7]</pre></div></div></div><div class=\"sk-serial\"><div class=\"sk-item\"><div class=\"sk-estimator sk-toggleable\"><input class=\"sk-toggleable__control sk-hidden--visually\" id=\"sk-estimator-id-69\" type=\"checkbox\" ><label for=\"sk-estimator-id-69\" class=\"sk-toggleable__label sk-toggleable__label-arrow\">SimpleImputer</label><div class=\"sk-toggleable__content\"><pre>SimpleImputer()</pre></div></div></div></div></div></div><div class=\"sk-parallel-item\"><div class=\"sk-item\"><div class=\"sk-label-container\"><div class=\"sk-label sk-toggleable\"><input class=\"sk-toggleable__control sk-hidden--visually\" id=\"sk-estimator-id-70\" type=\"checkbox\" ><label for=\"sk-estimator-id-70\" class=\"sk-toggleable__label sk-toggleable__label-arrow\">remainder</label><div class=\"sk-toggleable__content\"><pre>[&#x27;Vehicle_condition&#x27;, &#x27;Type_of_vehicle&#x27;]</pre></div></div></div><div class=\"sk-serial\"><div class=\"sk-item\"><div class=\"sk-estimator sk-toggleable\"><input class=\"sk-toggleable__control sk-hidden--visually\" id=\"sk-estimator-id-71\" type=\"checkbox\" ><label for=\"sk-estimator-id-71\" class=\"sk-toggleable__label sk-toggleable__label-arrow\">passthrough</label><div class=\"sk-toggleable__content\"><pre>passthrough</pre></div></div></div></div></div></div></div></div><div class=\"sk-item sk-dashed-wrapped\"><div class=\"sk-label-container\"><div class=\"sk-label sk-toggleable\"><input class=\"sk-toggleable__control sk-hidden--visually\" id=\"sk-estimator-id-72\" type=\"checkbox\" ><label for=\"sk-estimator-id-72\" class=\"sk-toggleable__label sk-toggleable__label-arrow\">trf2: ColumnTransformer</label><div class=\"sk-toggleable__content\"><pre>ColumnTransformer(remainder=&#x27;passthrough&#x27;,\n",
       "                  transformers=[(&#x27;ord_enco&#x27;,\n",
       "                                 OrdinalEncoder(categories=[[0, 1, 2, 3],\n",
       "                                                            [0.0, 1.0, 2.0,\n",
       "                                                             3.0],\n",
       "                                                            [&#x27;Low&#x27;, &#x27;Medium&#x27;,\n",
       "                                                             &#x27;High&#x27;, &#x27;Jam&#x27;],\n",
       "                                                            [&#x27;Sunny&#x27;, &#x27;Stormy&#x27;,\n",
       "                                                             &#x27;Windy&#x27;,\n",
       "                                                             &#x27;Sandstorms&#x27;,\n",
       "                                                             &#x27;Cloudy&#x27;, &#x27;Fog&#x27;],\n",
       "                                                            [&#x27;scooter&#x27;,\n",
       "                                                             &#x27;electric_scooter&#x27;,\n",
       "                                                             &#x27;motorcycle&#x27;,\n",
       "                                                             &#x27;bicycle&#x27;],\n",
       "                                                            [&#x27;Urban&#x27;,\n",
       "                                                             &#x27;Metropolitian&#x27;,\n",
       "                                                             &#x27;Semi-Urban&#x27;],\n",
       "                                                            [&#x27;No&#x27;, &#x27;Yes&#x27;]]),\n",
       "                                 [6, 2, 1, 0, 7, 4, 3])])</pre></div></div></div><div class=\"sk-parallel\"><div class=\"sk-parallel-item\"><div class=\"sk-item\"><div class=\"sk-label-container\"><div class=\"sk-label sk-toggleable\"><input class=\"sk-toggleable__control sk-hidden--visually\" id=\"sk-estimator-id-73\" type=\"checkbox\" ><label for=\"sk-estimator-id-73\" class=\"sk-toggleable__label sk-toggleable__label-arrow\">ord_enco</label><div class=\"sk-toggleable__content\"><pre>[6, 2, 1, 0, 7, 4, 3]</pre></div></div></div><div class=\"sk-serial\"><div class=\"sk-item\"><div class=\"sk-estimator sk-toggleable\"><input class=\"sk-toggleable__control sk-hidden--visually\" id=\"sk-estimator-id-74\" type=\"checkbox\" ><label for=\"sk-estimator-id-74\" class=\"sk-toggleable__label sk-toggleable__label-arrow\">OrdinalEncoder</label><div class=\"sk-toggleable__content\"><pre>OrdinalEncoder(categories=[[0, 1, 2, 3], [0.0, 1.0, 2.0, 3.0],\n",
       "                           [&#x27;Low&#x27;, &#x27;Medium&#x27;, &#x27;High&#x27;, &#x27;Jam&#x27;],\n",
       "                           [&#x27;Sunny&#x27;, &#x27;Stormy&#x27;, &#x27;Windy&#x27;, &#x27;Sandstorms&#x27;, &#x27;Cloudy&#x27;,\n",
       "                            &#x27;Fog&#x27;],\n",
       "                           [&#x27;scooter&#x27;, &#x27;electric_scooter&#x27;, &#x27;motorcycle&#x27;,\n",
       "                            &#x27;bicycle&#x27;],\n",
       "                           [&#x27;Urban&#x27;, &#x27;Metropolitian&#x27;, &#x27;Semi-Urban&#x27;],\n",
       "                           [&#x27;No&#x27;, &#x27;Yes&#x27;]])</pre></div></div></div></div></div></div><div class=\"sk-parallel-item\"><div class=\"sk-item\"><div class=\"sk-label-container\"><div class=\"sk-label sk-toggleable\"><input class=\"sk-toggleable__control sk-hidden--visually\" id=\"sk-estimator-id-75\" type=\"checkbox\" ><label for=\"sk-estimator-id-75\" class=\"sk-toggleable__label sk-toggleable__label-arrow\">remainder</label><div class=\"sk-toggleable__content\"><pre>[5]</pre></div></div></div><div class=\"sk-serial\"><div class=\"sk-item\"><div class=\"sk-estimator sk-toggleable\"><input class=\"sk-toggleable__control sk-hidden--visually\" id=\"sk-estimator-id-76\" type=\"checkbox\" ><label for=\"sk-estimator-id-76\" class=\"sk-toggleable__label sk-toggleable__label-arrow\">passthrough</label><div class=\"sk-toggleable__content\"><pre>passthrough</pre></div></div></div></div></div></div></div></div><div class=\"sk-item sk-dashed-wrapped\"><div class=\"sk-label-container\"><div class=\"sk-label sk-toggleable\"><input class=\"sk-toggleable__control sk-hidden--visually\" id=\"sk-estimator-id-77\" type=\"checkbox\" ><label for=\"sk-estimator-id-77\" class=\"sk-toggleable__label sk-toggleable__label-arrow\">trf3: ColumnTransformer</label><div class=\"sk-toggleable__content\"><pre>ColumnTransformer(transformers=[(&#x27;scale_1&#x27;, MinMaxScaler(), slice(0, 8, None))])</pre></div></div></div><div class=\"sk-parallel\"><div class=\"sk-parallel-item\"><div class=\"sk-item\"><div class=\"sk-label-container\"><div class=\"sk-label sk-toggleable\"><input class=\"sk-toggleable__control sk-hidden--visually\" id=\"sk-estimator-id-78\" type=\"checkbox\" ><label for=\"sk-estimator-id-78\" class=\"sk-toggleable__label sk-toggleable__label-arrow\">scale_1</label><div class=\"sk-toggleable__content\"><pre>slice(0, 8, None)</pre></div></div></div><div class=\"sk-serial\"><div class=\"sk-item\"><div class=\"sk-estimator sk-toggleable\"><input class=\"sk-toggleable__control sk-hidden--visually\" id=\"sk-estimator-id-79\" type=\"checkbox\" ><label for=\"sk-estimator-id-79\" class=\"sk-toggleable__label sk-toggleable__label-arrow\">MinMaxScaler</label><div class=\"sk-toggleable__content\"><pre>MinMaxScaler()</pre></div></div></div></div></div></div></div></div><div class=\"sk-item\"><div class=\"sk-estimator sk-toggleable\"><input class=\"sk-toggleable__control sk-hidden--visually\" id=\"sk-estimator-id-80\" type=\"checkbox\" ><label for=\"sk-estimator-id-80\" class=\"sk-toggleable__label sk-toggleable__label-arrow\">LinearRegression</label><div class=\"sk-toggleable__content\"><pre>LinearRegression()</pre></div></div></div></div></div></div></div>"
      ],
      "text/plain": [
       "Pipeline(steps=[('trf1',\n",
       "                 ColumnTransformer(remainder='passthrough',\n",
       "                                   transformers=[('impute_weather',\n",
       "                                                  SimpleImputer(strategy='most_frequent'),\n",
       "                                                  [0]),\n",
       "                                                 ('impute_road_traffic_density',\n",
       "                                                  SimpleImputer(strategy='most_frequent'),\n",
       "                                                  [1]),\n",
       "                                                 ('impute_multiple_deliveries',\n",
       "                                                  SimpleImputer(strategy='most_frequent'),\n",
       "                                                  [4]),\n",
       "                                                 ('impute_festival',\n",
       "                                                  SimpleImputer(strategy='most_frequent...\n",
       "                                                                              2,\n",
       "                                                                              3],\n",
       "                                                                             [0.0,\n",
       "                                                                              1.0,\n",
       "                                                                              2.0,\n",
       "                                                                              3.0],\n",
       "                                                                             ['Low',\n",
       "                                                                              'Medium',\n",
       "                                                                              'High',\n",
       "                                                                              'Jam'],\n",
       "                                                                             ['Sunny',\n",
       "                                                                              'Stormy',\n",
       "                                                                              'Windy',\n",
       "                                                                              'Sandstorms',\n",
       "                                                                              'Cloudy',\n",
       "                                                                              'Fog'],\n",
       "                                                                             ['scooter',\n",
       "                                                                              'electric_scooter',\n",
       "                                                                              'motorcycle',\n",
       "                                                                              'bicycle'],\n",
       "                                                                             ['Urban',\n",
       "                                                                              'Metropolitian',\n",
       "                                                                              'Semi-Urban'],\n",
       "                                                                             ['No',\n",
       "                                                                              'Yes']]),\n",
       "                                                  [6, 2, 1, 0, 7, 4, 3])])),\n",
       "                ('trf3',\n",
       "                 ColumnTransformer(transformers=[('scale_1', MinMaxScaler(),\n",
       "                                                  slice(0, 8, None))])),\n",
       "                ('trf4', LinearRegression())])"
      ]
     },
     "execution_count": 84,
     "metadata": {},
     "output_type": "execute_result"
    }
   ],
   "source": [
    "#fit data\n",
    "pipe.fit(X_train, y_train)"
   ]
  },
  {
   "cell_type": "markdown",
   "id": "96d3a562",
   "metadata": {},
   "source": [
    "# Predicting"
   ]
  },
  {
   "cell_type": "code",
   "execution_count": 85,
   "id": "7e61d085",
   "metadata": {},
   "outputs": [],
   "source": [
    "y_pred = pipe.predict(X_test)"
   ]
  },
  {
   "cell_type": "code",
   "execution_count": 86,
   "id": "31fe561f",
   "metadata": {},
   "outputs": [
    {
     "data": {
      "text/plain": [
       "array([23.73253842, 25.04447516, 21.35537237, ..., 34.08800886,\n",
       "       40.38049751, 31.2282092 ])"
      ]
     },
     "execution_count": 86,
     "metadata": {},
     "output_type": "execute_result"
    }
   ],
   "source": [
    "y_pred"
   ]
  },
  {
   "cell_type": "code",
   "execution_count": 87,
   "id": "9bc38cb9",
   "metadata": {},
   "outputs": [
    {
     "data": {
      "text/plain": [
       "1923     26\n",
       "18248    24\n",
       "44480    26\n",
       "42133    12\n",
       "42773    43\n",
       "         ..\n",
       "21891    29\n",
       "34242    25\n",
       "42839    30\n",
       "22830    49\n",
       "21328    38\n",
       "Name: Time_taken, Length: 9744, dtype: int32"
      ]
     },
     "execution_count": 87,
     "metadata": {},
     "output_type": "execute_result"
    }
   ],
   "source": [
    "y_test"
   ]
  },
  {
   "cell_type": "markdown",
   "id": "ce02138b",
   "metadata": {},
   "source": [
    "# R2 Score"
   ]
  },
  {
   "cell_type": "code",
   "execution_count": 88,
   "id": "d88a6c40",
   "metadata": {},
   "outputs": [
    {
     "data": {
      "text/plain": [
       "0.45401904414185645"
      ]
     },
     "execution_count": 88,
     "metadata": {},
     "output_type": "execute_result"
    }
   ],
   "source": [
    "metrics.r2_score(y_test,y_pred)"
   ]
  },
  {
   "cell_type": "markdown",
   "id": "955c6b80",
   "metadata": {},
   "source": [
    "### Line Plot between y_test and y_pred"
   ]
  },
  {
   "cell_type": "code",
   "execution_count": 89,
   "id": "bd7bbef3",
   "metadata": {},
   "outputs": [
    {
     "name": "stderr",
     "output_type": "stream",
     "text": [
      "C:\\Users\\ssaur\\AppData\\Local\\Programs\\Python\\Python39\\lib\\site-packages\\seaborn\\_decorators.py:36: FutureWarning: Pass the following variables as keyword args: x, y. From version 0.12, the only valid positional argument will be `data`, and passing other arguments without an explicit keyword will result in an error or misinterpretation.\n",
      "  warnings.warn(\n"
     ]
    },
    {
     "data": {
      "text/plain": [
       "<AxesSubplot:xlabel='Time_taken'>"
      ]
     },
     "execution_count": 89,
     "metadata": {},
     "output_type": "execute_result"
    },
    {
     "data": {
      "image/png": "[encoded data removed]",
      "text/plain": [
       "<Figure size 640x480 with 1 Axes>"
      ]
     },
     "metadata": {},
     "output_type": "display_data"
    }
   ],
   "source": [
    "sns.lineplot(y_test,y_pred)"
   ]
  },
  {
   "cell_type": "markdown",
   "id": "b74f9322",
   "metadata": {},
   "source": [
    "### Dist Plot between y_test and y_pred"
   ]
  },
  {
   "cell_type": "code",
   "execution_count": 259,
   "id": "18c8bdf7",
   "metadata": {},
   "outputs": [
    {
     "name": "stderr",
     "output_type": "stream",
     "text": [
      "C:\\Users\\ssaur\\AppData\\Local\\Programs\\Python\\Python39\\lib\\site-packages\\seaborn\\distributions.py:2619: FutureWarning: `distplot` is a deprecated function and will be removed in a future version. Please adapt your code to use either `displot` (a figure-level function with similar flexibility) or `kdeplot` (an axes-level function for kernel density plots).\n",
      "  warnings.warn(msg, FutureWarning)\n",
      "C:\\Users\\ssaur\\AppData\\Local\\Programs\\Python\\Python39\\lib\\site-packages\\seaborn\\distributions.py:2619: FutureWarning: `distplot` is a deprecated function and will be removed in a future version. Please adapt your code to use either `displot` (a figure-level function with similar flexibility) or `kdeplot` (an axes-level function for kernel density plots).\n",
      "  warnings.warn(msg, FutureWarning)\n"
     ]
    },
    {
     "data": {
      "text/plain": [
       "<AxesSubplot:xlabel='Time_taken', ylabel='Density'>"
      ]
     },
     "execution_count": 259,
     "metadata": {},
     "output_type": "execute_result"
    },
    {
     "data": {
      "image/png": "[encoded data removed]",
      "text/plain": [
       "<Figure size 640x480 with 1 Axes>"
      ]
     },
     "metadata": {},
     "output_type": "display_data"
    }
   ],
   "source": [
    "sns.distplot(y_test,hist=False)\n",
    "sns.distplot(y_pred2,hist=False)"
   ]
  },
  {
   "cell_type": "code",
   "execution_count": null,
   "id": "38ddb1ae",
   "metadata": {},
   "outputs": [],
   "source": []
  }
 ],
 "metadata": {
  "kernelspec": {
   "display_name": "Python 3 (ipykernel)",
   "language": "python",
   "name": "python3"
  },
  "language_info": {
   "codemirror_mode": {
    "name": "ipython",
    "version": 3
   },
   "file_extension": ".py",
   "mimetype": "text/x-python",
   "name": "python",
   "nbconvert_exporter": "python",
   "pygments_lexer": "ipython3",
   "version": "3.9.13"
  }
 },
 "nbformat": 4,
 "nbformat_minor": 5
}
