{
 "cells": [
  {
   "cell_type": "code",
   "execution_count": 1,
   "id": "741318b5",
   "metadata": {
    "_cell_guid": "b1076dfc-b9ad-4769-8c92-a6c4dae69d19",
    "_uuid": "8f2839f25d086af736a60e9eeb907d3b93b6e0e5",
    "execution": {
     "iopub.execute_input": "2022-09-23T21:22:35.825164Z",
     "iopub.status.busy": "2022-09-23T21:22:35.824417Z",
     "iopub.status.idle": "2022-09-23T21:22:35.848405Z",
     "shell.execute_reply": "2022-09-23T21:22:35.847070Z"
    },
    "papermill": {
     "duration": 0.045826,
     "end_time": "2022-09-23T21:22:35.851628",
     "exception": false,
     "start_time": "2022-09-23T21:22:35.805802",
     "status": "completed"
    },
    "tags": []
   },
   "outputs": [
    {
     "name": "stdout",
     "output_type": "stream",
     "text": [
      "/kaggle/input/bengaluru-house-price-data/Bengaluru_House_Data.csv\n"
     ]
    }
   ],
   "source": [
    "# This Python 3 environment comes with many helpful analytics libraries installed\n",
    "# It is defined by the kaggle/python Docker image: https://github.com/kaggle/docker-python\n",
    "# For example, here's several helpful packages to load\n",
    "\n",
    "import numpy as np # linear algebra\n",
    "import pandas as pd # data processing, CSV file I/O (e.g. pd.read_csv)\n",
    "\n",
    "# Input data files are available in the read-only \"../input/\" directory\n",
    "# For example, running this (by clicking run or pressing Shift+Enter) will list all files under the input directory\n",
    "\n",
    "import os\n",
    "for dirname, _, filenames in os.walk('/kaggle/input'):\n",
    "    for filename in filenames:\n",
    "        print(os.path.join(dirname, filename))\n",
    "\n",
    "# You can write up to 20GB to the current directory (/kaggle/working/) that gets preserved as output when you create a version using \"Save & Run All\" \n",
    "# You can also write temporary files to /kaggle/temp/, but they won't be saved outside of the current session"
   ]
  },
  {
   "cell_type": "markdown",
   "id": "ae3c93d3",
   "metadata": {
    "papermill": {
     "duration": 0.012201,
     "end_time": "2022-09-23T21:22:35.876733",
     "exception": false,
     "start_time": "2022-09-23T21:22:35.864532",
     "status": "completed"
    },
    "tags": []
   },
   "source": [
    "# Extract Data"
   ]
  },
  {
   "cell_type": "code",
   "execution_count": 2,
   "id": "b4a1bb8c",
   "metadata": {
    "execution": {
     "iopub.execute_input": "2022-09-23T21:22:35.908060Z",
     "iopub.status.busy": "2022-09-23T21:22:35.906674Z",
     "iopub.status.idle": "2022-09-23T21:22:35.992349Z",
     "shell.execute_reply": "2022-09-23T21:22:35.991450Z"
    },
    "papermill": {
     "duration": 0.103207,
     "end_time": "2022-09-23T21:22:35.994643",
     "exception": false,
     "start_time": "2022-09-23T21:22:35.891436",
     "status": "completed"
    },
    "tags": []
   },
   "outputs": [
    {
     "data": {
      "text/html": [
       "<div>\n",
       "<style scoped>\n",
       "    .dataframe tbody tr th:only-of-type {\n",
       "        vertical-align: middle;\n",
       "    }\n",
       "\n",
       "    .dataframe tbody tr th {\n",
       "        vertical-align: top;\n",
       "    }\n",
       "\n",
       "    .dataframe thead th {\n",
       "        text-align: right;\n",
       "    }\n",
       "</style>\n",
       "<table border=\"1\" class=\"dataframe\">\n",
       "  <thead>\n",
       "    <tr style=\"text-align: right;\">\n",
       "      <th></th>\n",
       "      <th>area_type</th>\n",
       "      <th>availability</th>\n",
       "      <th>location</th>\n",
       "      <th>size</th>\n",
       "      <th>society</th>\n",
       "      <th>total_sqft</th>\n",
       "      <th>bath</th>\n",
       "      <th>balcony</th>\n",
       "      <th>price</th>\n",
       "    </tr>\n",
       "  </thead>\n",
       "  <tbody>\n",
       "    <tr>\n",
       "      <th>0</th>\n",
       "      <td>Super built-up  Area</td>\n",
       "      <td>19-Dec</td>\n",
       "      <td>Electronic City Phase II</td>\n",
       "      <td>2 BHK</td>\n",
       "      <td>Coomee</td>\n",
       "      <td>1056</td>\n",
       "      <td>2.0</td>\n",
       "      <td>1.0</td>\n",
       "      <td>39.07</td>\n",
       "    </tr>\n",
       "    <tr>\n",
       "      <th>1</th>\n",
       "      <td>Plot  Area</td>\n",
       "      <td>Ready To Move</td>\n",
       "      <td>Chikka Tirupathi</td>\n",
       "      <td>4 Bedroom</td>\n",
       "      <td>Theanmp</td>\n",
       "      <td>2600</td>\n",
       "      <td>5.0</td>\n",
       "      <td>3.0</td>\n",
       "      <td>120.00</td>\n",
       "    </tr>\n",
       "    <tr>\n",
       "      <th>2</th>\n",
       "      <td>Built-up  Area</td>\n",
       "      <td>Ready To Move</td>\n",
       "      <td>Uttarahalli</td>\n",
       "      <td>3 BHK</td>\n",
       "      <td>NaN</td>\n",
       "      <td>1440</td>\n",
       "      <td>2.0</td>\n",
       "      <td>3.0</td>\n",
       "      <td>62.00</td>\n",
       "    </tr>\n",
       "    <tr>\n",
       "      <th>3</th>\n",
       "      <td>Super built-up  Area</td>\n",
       "      <td>Ready To Move</td>\n",
       "      <td>Lingadheeranahalli</td>\n",
       "      <td>3 BHK</td>\n",
       "      <td>Soiewre</td>\n",
       "      <td>1521</td>\n",
       "      <td>3.0</td>\n",
       "      <td>1.0</td>\n",
       "      <td>95.00</td>\n",
       "    </tr>\n",
       "    <tr>\n",
       "      <th>4</th>\n",
       "      <td>Super built-up  Area</td>\n",
       "      <td>Ready To Move</td>\n",
       "      <td>Kothanur</td>\n",
       "      <td>2 BHK</td>\n",
       "      <td>NaN</td>\n",
       "      <td>1200</td>\n",
       "      <td>2.0</td>\n",
       "      <td>1.0</td>\n",
       "      <td>51.00</td>\n",
       "    </tr>\n",
       "  </tbody>\n",
       "</table>\n",
       "</div>"
      ],
      "text/plain": [
       "              area_type   availability                  location       size  \\\n",
       "0  Super built-up  Area         19-Dec  Electronic City Phase II      2 BHK   \n",
       "1            Plot  Area  Ready To Move          Chikka Tirupathi  4 Bedroom   \n",
       "2        Built-up  Area  Ready To Move               Uttarahalli      3 BHK   \n",
       "3  Super built-up  Area  Ready To Move        Lingadheeranahalli      3 BHK   \n",
       "4  Super built-up  Area  Ready To Move                  Kothanur      2 BHK   \n",
       "\n",
       "   society total_sqft  bath  balcony   price  \n",
       "0  Coomee        1056   2.0      1.0   39.07  \n",
       "1  Theanmp       2600   5.0      3.0  120.00  \n",
       "2      NaN       1440   2.0      3.0   62.00  \n",
       "3  Soiewre       1521   3.0      1.0   95.00  \n",
       "4      NaN       1200   2.0      1.0   51.00  "
      ]
     },
     "execution_count": 2,
     "metadata": {},
     "output_type": "execute_result"
    }
   ],
   "source": [
    "data = pd.read_csv(\"/kaggle/input/bengaluru-house-price-data/Bengaluru_House_Data.csv\")\n",
    "data.head()"
   ]
  },
  {
   "cell_type": "code",
   "execution_count": 3,
   "id": "48eb303b",
   "metadata": {
    "execution": {
     "iopub.execute_input": "2022-09-23T21:22:36.022500Z",
     "iopub.status.busy": "2022-09-23T21:22:36.021286Z",
     "iopub.status.idle": "2022-09-23T21:22:36.071213Z",
     "shell.execute_reply": "2022-09-23T21:22:36.069840Z"
    },
    "papermill": {
     "duration": 0.066668,
     "end_time": "2022-09-23T21:22:36.073994",
     "exception": false,
     "start_time": "2022-09-23T21:22:36.007326",
     "status": "completed"
    },
    "tags": []
   },
   "outputs": [
    {
     "name": "stdout",
     "output_type": "stream",
     "text": [
      "(13320, 9)\n",
      "<class 'pandas.core.frame.DataFrame'>\n",
      "RangeIndex: 13320 entries, 0 to 13319\n",
      "Data columns (total 9 columns):\n",
      " #   Column        Non-Null Count  Dtype  \n",
      "---  ------        --------------  -----  \n",
      " 0   area_type     13320 non-null  object \n",
      " 1   availability  13320 non-null  object \n",
      " 2   location      13319 non-null  object \n",
      " 3   size          13304 non-null  object \n",
      " 4   society       7818 non-null   object \n",
      " 5   total_sqft    13320 non-null  object \n",
      " 6   bath          13247 non-null  float64\n",
      " 7   balcony       12711 non-null  float64\n",
      " 8   price         13320 non-null  float64\n",
      "dtypes: float64(3), object(6)\n",
      "memory usage: 936.7+ KB\n",
      "None\n",
      "               bath       balcony         price\n",
      "count  13247.000000  12711.000000  13320.000000\n",
      "mean       2.692610      1.584376    112.565627\n",
      "std        1.341458      0.817263    148.971674\n",
      "min        1.000000      0.000000      8.000000\n",
      "25%        2.000000      1.000000     50.000000\n",
      "50%        2.000000      2.000000     72.000000\n",
      "75%        3.000000      2.000000    120.000000\n",
      "max       40.000000      3.000000   3600.000000\n"
     ]
    }
   ],
   "source": [
    "print(data.shape)\n",
    "print(data.info())\n",
    "print(data.describe())"
   ]
  },
  {
   "cell_type": "markdown",
   "id": "3ffeab2a",
   "metadata": {
    "papermill": {
     "duration": 0.013821,
     "end_time": "2022-09-23T21:22:36.101128",
     "exception": false,
     "start_time": "2022-09-23T21:22:36.087307",
     "status": "completed"
    },
    "tags": []
   },
   "source": [
    "# Check for unique values"
   ]
  },
  {
   "cell_type": "code",
   "execution_count": 4,
   "id": "ff0085d4",
   "metadata": {
    "execution": {
     "iopub.execute_input": "2022-09-23T21:22:36.132104Z",
     "iopub.status.busy": "2022-09-23T21:22:36.131456Z",
     "iopub.status.idle": "2022-09-23T21:22:36.194699Z",
     "shell.execute_reply": "2022-09-23T21:22:36.192988Z"
    },
    "papermill": {
     "duration": 0.082263,
     "end_time": "2022-09-23T21:22:36.198093",
     "exception": false,
     "start_time": "2022-09-23T21:22:36.115830",
     "status": "completed"
    },
    "tags": []
   },
   "outputs": [
    {
     "name": "stdout",
     "output_type": "stream",
     "text": [
      "area_type  >>  ['Built-up  Area' 'Carpet  Area' 'Plot  Area' 'Super built-up  Area']\n",
      " \n",
      "availability  >>  ['14-Jul' '14-Nov' '15-Aug' '15-Dec' '15-Jun' '15-Nov' '15-Oct' '16-Dec'\n",
      " '16-Jan' '16-Jul' '16-Mar' '16-Nov' '16-Oct' '16-Sep' '17-Apr' '17-Aug'\n",
      " '17-Dec' '17-Feb' '17-Jan' '17-Jul' '17-Jun' '17-Mar' '17-May' '17-Nov'\n",
      " '17-Oct' '17-Sep' '18-Apr' '18-Aug' '18-Dec' '18-Feb' '18-Jan' '18-Jul'\n",
      " '18-Jun' '18-Mar' '18-May' '18-Nov' '18-Oct' '18-Sep' '19-Apr' '19-Aug'\n",
      " '19-Dec' '19-Feb' '19-Jan' '19-Jul' '19-Jun' '19-Mar' '19-May' '19-Nov'\n",
      " '19-Oct' '19-Sep' '20-Apr' '20-Aug' '20-Dec' '20-Feb' '20-Jan' '20-Jul'\n",
      " '20-Jun' '20-Mar' '20-May' '20-Nov' '20-Oct' '20-Sep' '21-Aug' '21-Dec'\n",
      " '21-Feb' '21-Jan' '21-Jul' '21-Jun' '21-Mar' '21-May' '21-Nov' '21-Oct'\n",
      " '21-Sep' '22-Dec' '22-Jan' '22-Jun' '22-Mar' '22-May' '22-Nov'\n",
      " 'Immediate Possession' 'Ready To Move']\n",
      " \n",
      "location  >>  [' Anekal' ' Banaswadi' ' Basavangudi' ... 'white field,kadugodi'\n",
      " 'whitefiled' nan]\n",
      " \n",
      "size  >>  ['1 BHK' '1 Bedroom' '1 RK' '10 BHK' '10 Bedroom' '11 BHK' '11 Bedroom'\n",
      " '12 Bedroom' '13 BHK' '14 BHK' '16 BHK' '18 Bedroom' '19 BHK' '2 BHK'\n",
      " '2 Bedroom' '27 BHK' '3 BHK' '3 Bedroom' '4 BHK' '4 Bedroom' '43 Bedroom'\n",
      " '5 BHK' '5 Bedroom' '6 BHK' '6 Bedroom' '7 BHK' '7 Bedroom' '8 BHK'\n",
      " '8 Bedroom' '9 BHK' '9 Bedroom' nan]\n",
      " \n",
      "society  >>  ['3Codeli' '7 ise P' 'A idse ' ... 'i1odsne' 'i1rtsCo' nan]\n",
      " \n",
      "total_sqft  >>  ['1' '1.25Acres' '1.26Acres' ... '997' '998' '999']\n",
      " \n",
      "bath  >>  [ 1.  2.  3.  4.  5.  6.  7.  8.  9. 10. 11. 12. 13. 14. 15. 16. 18. 27.\n",
      " 40. nan]\n",
      " \n",
      "balcony  >>  [ 0.  1.  2.  3. nan]\n",
      " \n",
      "price  >>  [   8.      8.44    9.   ... 2800.   2912.   3600.  ]\n",
      " \n"
     ]
    }
   ],
   "source": [
    "for i in data.columns:\n",
    "    print(i , \" >> \", data[i].sort_values().unique())\n",
    "    print(\" \")"
   ]
  },
  {
   "cell_type": "code",
   "execution_count": 5,
   "id": "01dfa24c",
   "metadata": {
    "execution": {
     "iopub.execute_input": "2022-09-23T21:22:36.226517Z",
     "iopub.status.busy": "2022-09-23T21:22:36.226112Z",
     "iopub.status.idle": "2022-09-23T21:22:36.247536Z",
     "shell.execute_reply": "2022-09-23T21:22:36.245653Z"
    },
    "papermill": {
     "duration": 0.0445,
     "end_time": "2022-09-23T21:22:36.255843",
     "exception": false,
     "start_time": "2022-09-23T21:22:36.211343",
     "status": "completed"
    },
    "tags": []
   },
   "outputs": [
    {
     "name": "stdout",
     "output_type": "stream",
     "text": [
      "       area_type   availability     location        size society total_sqft  \\\n",
      "4684  Plot  Area  Ready To Move  Munnekollal  43 Bedroom     NaN       2400   \n",
      "\n",
      "      bath  balcony  price  \n",
      "4684  40.0      0.0  660.0  \n",
      "       area_type   availability     location        size society total_sqft  \\\n",
      "4684  Plot  Area  Ready To Move  Munnekollal  43 Bedroom     NaN       2400   \n",
      "\n",
      "      bath  balcony  price  \n",
      "4684  40.0      0.0  660.0  \n"
     ]
    }
   ],
   "source": [
    "# 43 Bedroom\n",
    "print(data[data['size']=='43 Bedroom'])\n",
    "\n",
    "# 40 bathroom\n",
    "print(data[data['bath']==40])\n",
    "\n",
    "# Drop this data\n",
    "data=data[data['bath']!=40]"
   ]
  },
  {
   "cell_type": "code",
   "execution_count": 6,
   "id": "edaf2cba",
   "metadata": {
    "execution": {
     "iopub.execute_input": "2022-09-23T21:22:36.284075Z",
     "iopub.status.busy": "2022-09-23T21:22:36.283595Z",
     "iopub.status.idle": "2022-09-23T21:22:36.313083Z",
     "shell.execute_reply": "2022-09-23T21:22:36.312059Z"
    },
    "papermill": {
     "duration": 0.047016,
     "end_time": "2022-09-23T21:22:36.315812",
     "exception": false,
     "start_time": "2022-09-23T21:22:36.268796",
     "status": "completed"
    },
    "tags": []
   },
   "outputs": [
    {
     "data": {
      "text/html": [
       "<div>\n",
       "<style scoped>\n",
       "    .dataframe tbody tr th:only-of-type {\n",
       "        vertical-align: middle;\n",
       "    }\n",
       "\n",
       "    .dataframe tbody tr th {\n",
       "        vertical-align: top;\n",
       "    }\n",
       "\n",
       "    .dataframe thead th {\n",
       "        text-align: right;\n",
       "    }\n",
       "</style>\n",
       "<table border=\"1\" class=\"dataframe\">\n",
       "  <thead>\n",
       "    <tr style=\"text-align: right;\">\n",
       "      <th></th>\n",
       "      <th>area_type</th>\n",
       "      <th>availability</th>\n",
       "      <th>location</th>\n",
       "      <th>size</th>\n",
       "      <th>society</th>\n",
       "      <th>total_sqft</th>\n",
       "      <th>bath</th>\n",
       "      <th>balcony</th>\n",
       "      <th>price</th>\n",
       "    </tr>\n",
       "  </thead>\n",
       "  <tbody>\n",
       "    <tr>\n",
       "      <th>2</th>\n",
       "      <td>Built-up  Area</td>\n",
       "      <td>Ready To Move</td>\n",
       "      <td>Uttarahalli</td>\n",
       "      <td>3 BHK</td>\n",
       "      <td>NaN</td>\n",
       "      <td>1440</td>\n",
       "      <td>2.0</td>\n",
       "      <td>3.0</td>\n",
       "      <td>62.00</td>\n",
       "    </tr>\n",
       "    <tr>\n",
       "      <th>4</th>\n",
       "      <td>Super built-up  Area</td>\n",
       "      <td>Ready To Move</td>\n",
       "      <td>Kothanur</td>\n",
       "      <td>2 BHK</td>\n",
       "      <td>NaN</td>\n",
       "      <td>1200</td>\n",
       "      <td>2.0</td>\n",
       "      <td>1.0</td>\n",
       "      <td>51.00</td>\n",
       "    </tr>\n",
       "    <tr>\n",
       "      <th>8</th>\n",
       "      <td>Super built-up  Area</td>\n",
       "      <td>Ready To Move</td>\n",
       "      <td>Marathahalli</td>\n",
       "      <td>3 BHK</td>\n",
       "      <td>NaN</td>\n",
       "      <td>1310</td>\n",
       "      <td>3.0</td>\n",
       "      <td>1.0</td>\n",
       "      <td>63.25</td>\n",
       "    </tr>\n",
       "    <tr>\n",
       "      <th>9</th>\n",
       "      <td>Plot  Area</td>\n",
       "      <td>Ready To Move</td>\n",
       "      <td>Gandhi Bazar</td>\n",
       "      <td>6 Bedroom</td>\n",
       "      <td>NaN</td>\n",
       "      <td>1020</td>\n",
       "      <td>6.0</td>\n",
       "      <td>NaN</td>\n",
       "      <td>370.00</td>\n",
       "    </tr>\n",
       "    <tr>\n",
       "      <th>10</th>\n",
       "      <td>Super built-up  Area</td>\n",
       "      <td>18-Feb</td>\n",
       "      <td>Whitefield</td>\n",
       "      <td>3 BHK</td>\n",
       "      <td>NaN</td>\n",
       "      <td>1800</td>\n",
       "      <td>2.0</td>\n",
       "      <td>2.0</td>\n",
       "      <td>70.00</td>\n",
       "    </tr>\n",
       "    <tr>\n",
       "      <th>...</th>\n",
       "      <td>...</td>\n",
       "      <td>...</td>\n",
       "      <td>...</td>\n",
       "      <td>...</td>\n",
       "      <td>...</td>\n",
       "      <td>...</td>\n",
       "      <td>...</td>\n",
       "      <td>...</td>\n",
       "      <td>...</td>\n",
       "    </tr>\n",
       "    <tr>\n",
       "      <th>13310</th>\n",
       "      <td>Super built-up  Area</td>\n",
       "      <td>Ready To Move</td>\n",
       "      <td>Rachenahalli</td>\n",
       "      <td>2 BHK</td>\n",
       "      <td>NaN</td>\n",
       "      <td>1050</td>\n",
       "      <td>2.0</td>\n",
       "      <td>2.0</td>\n",
       "      <td>52.71</td>\n",
       "    </tr>\n",
       "    <tr>\n",
       "      <th>13311</th>\n",
       "      <td>Plot  Area</td>\n",
       "      <td>Ready To Move</td>\n",
       "      <td>Ramamurthy Nagar</td>\n",
       "      <td>7 Bedroom</td>\n",
       "      <td>NaN</td>\n",
       "      <td>1500</td>\n",
       "      <td>9.0</td>\n",
       "      <td>2.0</td>\n",
       "      <td>250.00</td>\n",
       "    </tr>\n",
       "    <tr>\n",
       "      <th>13312</th>\n",
       "      <td>Super built-up  Area</td>\n",
       "      <td>Ready To Move</td>\n",
       "      <td>Bellandur</td>\n",
       "      <td>2 BHK</td>\n",
       "      <td>NaN</td>\n",
       "      <td>1262</td>\n",
       "      <td>2.0</td>\n",
       "      <td>2.0</td>\n",
       "      <td>47.00</td>\n",
       "    </tr>\n",
       "    <tr>\n",
       "      <th>13316</th>\n",
       "      <td>Super built-up  Area</td>\n",
       "      <td>Ready To Move</td>\n",
       "      <td>Richards Town</td>\n",
       "      <td>4 BHK</td>\n",
       "      <td>NaN</td>\n",
       "      <td>3600</td>\n",
       "      <td>5.0</td>\n",
       "      <td>NaN</td>\n",
       "      <td>400.00</td>\n",
       "    </tr>\n",
       "    <tr>\n",
       "      <th>13319</th>\n",
       "      <td>Super built-up  Area</td>\n",
       "      <td>Ready To Move</td>\n",
       "      <td>Doddathoguru</td>\n",
       "      <td>1 BHK</td>\n",
       "      <td>NaN</td>\n",
       "      <td>550</td>\n",
       "      <td>1.0</td>\n",
       "      <td>1.0</td>\n",
       "      <td>17.00</td>\n",
       "    </tr>\n",
       "  </tbody>\n",
       "</table>\n",
       "<p>5501 rows × 9 columns</p>\n",
       "</div>"
      ],
      "text/plain": [
       "                  area_type   availability          location       size  \\\n",
       "2            Built-up  Area  Ready To Move       Uttarahalli      3 BHK   \n",
       "4      Super built-up  Area  Ready To Move          Kothanur      2 BHK   \n",
       "8      Super built-up  Area  Ready To Move      Marathahalli      3 BHK   \n",
       "9                Plot  Area  Ready To Move      Gandhi Bazar  6 Bedroom   \n",
       "10     Super built-up  Area         18-Feb        Whitefield      3 BHK   \n",
       "...                     ...            ...               ...        ...   \n",
       "13310  Super built-up  Area  Ready To Move      Rachenahalli      2 BHK   \n",
       "13311            Plot  Area  Ready To Move  Ramamurthy Nagar  7 Bedroom   \n",
       "13312  Super built-up  Area  Ready To Move         Bellandur      2 BHK   \n",
       "13316  Super built-up  Area  Ready To Move     Richards Town      4 BHK   \n",
       "13319  Super built-up  Area  Ready To Move      Doddathoguru      1 BHK   \n",
       "\n",
       "      society total_sqft  bath  balcony   price  \n",
       "2         NaN       1440   2.0      3.0   62.00  \n",
       "4         NaN       1200   2.0      1.0   51.00  \n",
       "8         NaN       1310   3.0      1.0   63.25  \n",
       "9         NaN       1020   6.0      NaN  370.00  \n",
       "10        NaN       1800   2.0      2.0   70.00  \n",
       "...       ...        ...   ...      ...     ...  \n",
       "13310     NaN       1050   2.0      2.0   52.71  \n",
       "13311     NaN       1500   9.0      2.0  250.00  \n",
       "13312     NaN       1262   2.0      2.0   47.00  \n",
       "13316     NaN       3600   5.0      NaN  400.00  \n",
       "13319     NaN        550   1.0      1.0   17.00  \n",
       "\n",
       "[5501 rows x 9 columns]"
      ]
     },
     "metadata": {},
     "output_type": "display_data"
    }
   ],
   "source": [
    "# NaN society\n",
    "display(data[data['society'].isnull()])\n",
    "\n",
    "# Society having NaN should be considered a different group as they can be independent house.\n",
    "data['society']=data['society'].fillna('Independent')\n",
    "\n",
    "# Now we are dividing society into two groups : Society and Independent\n",
    "data['society']=data['society'].apply(lambda x : 'Independent' if x == 'Independent' else 'Society')"
   ]
  },
  {
   "cell_type": "code",
   "execution_count": 7,
   "id": "c7ba9441",
   "metadata": {
    "execution": {
     "iopub.execute_input": "2022-09-23T21:22:36.345371Z",
     "iopub.status.busy": "2022-09-23T21:22:36.344929Z",
     "iopub.status.idle": "2022-09-23T21:22:36.367302Z",
     "shell.execute_reply": "2022-09-23T21:22:36.366132Z"
    },
    "papermill": {
     "duration": 0.040172,
     "end_time": "2022-09-23T21:22:36.369691",
     "exception": false,
     "start_time": "2022-09-23T21:22:36.329519",
     "status": "completed"
    },
    "tags": []
   },
   "outputs": [
    {
     "data": {
      "text/html": [
       "<div>\n",
       "<style scoped>\n",
       "    .dataframe tbody tr th:only-of-type {\n",
       "        vertical-align: middle;\n",
       "    }\n",
       "\n",
       "    .dataframe tbody tr th {\n",
       "        vertical-align: top;\n",
       "    }\n",
       "\n",
       "    .dataframe thead th {\n",
       "        text-align: right;\n",
       "    }\n",
       "</style>\n",
       "<table border=\"1\" class=\"dataframe\">\n",
       "  <thead>\n",
       "    <tr style=\"text-align: right;\">\n",
       "      <th></th>\n",
       "      <th>area_type</th>\n",
       "      <th>availability</th>\n",
       "      <th>location</th>\n",
       "      <th>size</th>\n",
       "      <th>society</th>\n",
       "      <th>total_sqft</th>\n",
       "      <th>bath</th>\n",
       "      <th>balcony</th>\n",
       "      <th>price</th>\n",
       "    </tr>\n",
       "  </thead>\n",
       "  <tbody>\n",
       "    <tr>\n",
       "      <th>0</th>\n",
       "      <td>Super built-up  Area</td>\n",
       "      <td>19-Dec</td>\n",
       "      <td>Electronic City Phase II</td>\n",
       "      <td>2 BHK</td>\n",
       "      <td>Society</td>\n",
       "      <td>1056</td>\n",
       "      <td>2.0</td>\n",
       "      <td>1.0</td>\n",
       "      <td>39.07</td>\n",
       "    </tr>\n",
       "    <tr>\n",
       "      <th>1</th>\n",
       "      <td>Plot  Area</td>\n",
       "      <td>Ready To Move</td>\n",
       "      <td>Chikka Tirupathi</td>\n",
       "      <td>4 Bedroom</td>\n",
       "      <td>Society</td>\n",
       "      <td>2600</td>\n",
       "      <td>5.0</td>\n",
       "      <td>3.0</td>\n",
       "      <td>120.00</td>\n",
       "    </tr>\n",
       "    <tr>\n",
       "      <th>2</th>\n",
       "      <td>Built-up  Area</td>\n",
       "      <td>Ready To Move</td>\n",
       "      <td>Uttarahalli</td>\n",
       "      <td>3 BHK</td>\n",
       "      <td>Independent</td>\n",
       "      <td>1440</td>\n",
       "      <td>2.0</td>\n",
       "      <td>3.0</td>\n",
       "      <td>62.00</td>\n",
       "    </tr>\n",
       "    <tr>\n",
       "      <th>3</th>\n",
       "      <td>Super built-up  Area</td>\n",
       "      <td>Ready To Move</td>\n",
       "      <td>Lingadheeranahalli</td>\n",
       "      <td>3 BHK</td>\n",
       "      <td>Society</td>\n",
       "      <td>1521</td>\n",
       "      <td>3.0</td>\n",
       "      <td>1.0</td>\n",
       "      <td>95.00</td>\n",
       "    </tr>\n",
       "    <tr>\n",
       "      <th>4</th>\n",
       "      <td>Super built-up  Area</td>\n",
       "      <td>Ready To Move</td>\n",
       "      <td>Kothanur</td>\n",
       "      <td>2 BHK</td>\n",
       "      <td>Independent</td>\n",
       "      <td>1200</td>\n",
       "      <td>2.0</td>\n",
       "      <td>1.0</td>\n",
       "      <td>51.00</td>\n",
       "    </tr>\n",
       "    <tr>\n",
       "      <th>...</th>\n",
       "      <td>...</td>\n",
       "      <td>...</td>\n",
       "      <td>...</td>\n",
       "      <td>...</td>\n",
       "      <td>...</td>\n",
       "      <td>...</td>\n",
       "      <td>...</td>\n",
       "      <td>...</td>\n",
       "      <td>...</td>\n",
       "    </tr>\n",
       "    <tr>\n",
       "      <th>13315</th>\n",
       "      <td>Built-up  Area</td>\n",
       "      <td>Ready To Move</td>\n",
       "      <td>Whitefield</td>\n",
       "      <td>5 Bedroom</td>\n",
       "      <td>Society</td>\n",
       "      <td>3453</td>\n",
       "      <td>4.0</td>\n",
       "      <td>0.0</td>\n",
       "      <td>231.00</td>\n",
       "    </tr>\n",
       "    <tr>\n",
       "      <th>13316</th>\n",
       "      <td>Super built-up  Area</td>\n",
       "      <td>Ready To Move</td>\n",
       "      <td>Richards Town</td>\n",
       "      <td>4 BHK</td>\n",
       "      <td>Independent</td>\n",
       "      <td>3600</td>\n",
       "      <td>5.0</td>\n",
       "      <td>NaN</td>\n",
       "      <td>400.00</td>\n",
       "    </tr>\n",
       "    <tr>\n",
       "      <th>13317</th>\n",
       "      <td>Built-up  Area</td>\n",
       "      <td>Ready To Move</td>\n",
       "      <td>Raja Rajeshwari Nagar</td>\n",
       "      <td>2 BHK</td>\n",
       "      <td>Society</td>\n",
       "      <td>1141</td>\n",
       "      <td>2.0</td>\n",
       "      <td>1.0</td>\n",
       "      <td>60.00</td>\n",
       "    </tr>\n",
       "    <tr>\n",
       "      <th>13318</th>\n",
       "      <td>Super built-up  Area</td>\n",
       "      <td>18-Jun</td>\n",
       "      <td>Padmanabhanagar</td>\n",
       "      <td>4 BHK</td>\n",
       "      <td>Society</td>\n",
       "      <td>4689</td>\n",
       "      <td>4.0</td>\n",
       "      <td>1.0</td>\n",
       "      <td>488.00</td>\n",
       "    </tr>\n",
       "    <tr>\n",
       "      <th>13319</th>\n",
       "      <td>Super built-up  Area</td>\n",
       "      <td>Ready To Move</td>\n",
       "      <td>Doddathoguru</td>\n",
       "      <td>1 BHK</td>\n",
       "      <td>Independent</td>\n",
       "      <td>550</td>\n",
       "      <td>1.0</td>\n",
       "      <td>1.0</td>\n",
       "      <td>17.00</td>\n",
       "    </tr>\n",
       "  </tbody>\n",
       "</table>\n",
       "<p>13319 rows × 9 columns</p>\n",
       "</div>"
      ],
      "text/plain": [
       "                  area_type   availability                  location  \\\n",
       "0      Super built-up  Area         19-Dec  Electronic City Phase II   \n",
       "1                Plot  Area  Ready To Move          Chikka Tirupathi   \n",
       "2            Built-up  Area  Ready To Move               Uttarahalli   \n",
       "3      Super built-up  Area  Ready To Move        Lingadheeranahalli   \n",
       "4      Super built-up  Area  Ready To Move                  Kothanur   \n",
       "...                     ...            ...                       ...   \n",
       "13315        Built-up  Area  Ready To Move                Whitefield   \n",
       "13316  Super built-up  Area  Ready To Move             Richards Town   \n",
       "13317        Built-up  Area  Ready To Move     Raja Rajeshwari Nagar   \n",
       "13318  Super built-up  Area         18-Jun           Padmanabhanagar   \n",
       "13319  Super built-up  Area  Ready To Move              Doddathoguru   \n",
       "\n",
       "            size      society total_sqft  bath  balcony   price  \n",
       "0          2 BHK      Society       1056   2.0      1.0   39.07  \n",
       "1      4 Bedroom      Society       2600   5.0      3.0  120.00  \n",
       "2          3 BHK  Independent       1440   2.0      3.0   62.00  \n",
       "3          3 BHK      Society       1521   3.0      1.0   95.00  \n",
       "4          2 BHK  Independent       1200   2.0      1.0   51.00  \n",
       "...          ...          ...        ...   ...      ...     ...  \n",
       "13315  5 Bedroom      Society       3453   4.0      0.0  231.00  \n",
       "13316      4 BHK  Independent       3600   5.0      NaN  400.00  \n",
       "13317      2 BHK      Society       1141   2.0      1.0   60.00  \n",
       "13318      4 BHK      Society       4689   4.0      1.0  488.00  \n",
       "13319      1 BHK  Independent        550   1.0      1.0   17.00  \n",
       "\n",
       "[13319 rows x 9 columns]"
      ]
     },
     "execution_count": 7,
     "metadata": {},
     "output_type": "execute_result"
    }
   ],
   "source": [
    "data"
   ]
  },
  {
   "cell_type": "code",
   "execution_count": 8,
   "id": "4b6c4b27",
   "metadata": {
    "execution": {
     "iopub.execute_input": "2022-09-23T21:22:36.399112Z",
     "iopub.status.busy": "2022-09-23T21:22:36.398697Z",
     "iopub.status.idle": "2022-09-23T21:22:36.582440Z",
     "shell.execute_reply": "2022-09-23T21:22:36.580843Z"
    },
    "papermill": {
     "duration": 0.202284,
     "end_time": "2022-09-23T21:22:36.585730",
     "exception": false,
     "start_time": "2022-09-23T21:22:36.383446",
     "status": "completed"
    },
    "tags": []
   },
   "outputs": [
    {
     "name": "stdout",
     "output_type": "stream",
     "text": [
      "            0\n",
      "0  2021-12-19\n",
      "1  2021-01-01\n",
      "2  2021-01-01\n",
      "3  2021-01-01\n",
      "4  2021-01-01\n"
     ]
    }
   ],
   "source": [
    "# Availability column\n",
    "# Sorting and Encoding Availability column data\n",
    "# Immediate possesion and Read to Move are considered as 0\n",
    "\n",
    "from datetime import datetime\n",
    "new=[]\n",
    "for i in enumerate(data['availability']):\n",
    "    if (i[1]!='Ready To Move') and (i[1]!='Immediate Possession'):\n",
    "        a=i[1][0:2]\n",
    "        b=i[1][3:6]\n",
    "        c=\"2021\"+\"-\"+b+\"-\"+a\n",
    "        new.append(datetime.strptime(c, '%Y-%b-%d').date())\n",
    "    else:\n",
    "        new.append(datetime.strptime(\"2021-Jan-01\", '%Y-%b-%d').date())\n",
    "        \n",
    "ss=pd.DataFrame(new)  \n",
    "\n",
    "print(ss.head())\n",
    "\n",
    "data['new_col']=ss"
   ]
  },
  {
   "cell_type": "code",
   "execution_count": 9,
   "id": "f5bbde65",
   "metadata": {
    "execution": {
     "iopub.execute_input": "2022-09-23T21:22:36.616383Z",
     "iopub.status.busy": "2022-09-23T21:22:36.615951Z",
     "iopub.status.idle": "2022-09-23T21:22:37.725401Z",
     "shell.execute_reply": "2022-09-23T21:22:37.723810Z"
    },
    "papermill": {
     "duration": 1.12881,
     "end_time": "2022-09-23T21:22:37.728875",
     "exception": false,
     "start_time": "2022-09-23T21:22:36.600065",
     "status": "completed"
    },
    "tags": []
   },
   "outputs": [
    {
     "name": "stderr",
     "output_type": "stream",
     "text": [
      "/opt/conda/lib/python3.7/site-packages/sklearn/preprocessing/_label.py:115: DataConversionWarning: A column-vector y was passed when a 1d array was expected. Please change the shape of y to (n_samples, ), for example using ravel().\n",
      "  y = column_or_1d(y, warn=True)\n"
     ]
    }
   ],
   "source": [
    "from sklearn.preprocessing import LabelEncoder\n",
    "label = LabelEncoder()\n",
    "data['availability']=label.fit_transform(pd.DataFrame(data['new_col'], columns=['new_col']))\n",
    "data=data.drop('new_col', axis=1)"
   ]
  },
  {
   "cell_type": "code",
   "execution_count": 10,
   "id": "fbf59344",
   "metadata": {
    "execution": {
     "iopub.execute_input": "2022-09-23T21:22:37.759197Z",
     "iopub.status.busy": "2022-09-23T21:22:37.758744Z",
     "iopub.status.idle": "2022-09-23T21:22:37.778694Z",
     "shell.execute_reply": "2022-09-23T21:22:37.777520Z"
    },
    "papermill": {
     "duration": 0.037971,
     "end_time": "2022-09-23T21:22:37.780810",
     "exception": false,
     "start_time": "2022-09-23T21:22:37.742839",
     "status": "completed"
    },
    "tags": []
   },
   "outputs": [
    {
     "data": {
      "text/html": [
       "<div>\n",
       "<style scoped>\n",
       "    .dataframe tbody tr th:only-of-type {\n",
       "        vertical-align: middle;\n",
       "    }\n",
       "\n",
       "    .dataframe tbody tr th {\n",
       "        vertical-align: top;\n",
       "    }\n",
       "\n",
       "    .dataframe thead th {\n",
       "        text-align: right;\n",
       "    }\n",
       "</style>\n",
       "<table border=\"1\" class=\"dataframe\">\n",
       "  <thead>\n",
       "    <tr style=\"text-align: right;\">\n",
       "      <th></th>\n",
       "      <th>area_type</th>\n",
       "      <th>availability</th>\n",
       "      <th>location</th>\n",
       "      <th>size</th>\n",
       "      <th>society</th>\n",
       "      <th>total_sqft</th>\n",
       "      <th>bath</th>\n",
       "      <th>balcony</th>\n",
       "      <th>price</th>\n",
       "    </tr>\n",
       "  </thead>\n",
       "  <tbody>\n",
       "    <tr>\n",
       "      <th>0</th>\n",
       "      <td>Super built-up  Area</td>\n",
       "      <td>76</td>\n",
       "      <td>Electronic City Phase II</td>\n",
       "      <td>2 BHK</td>\n",
       "      <td>Society</td>\n",
       "      <td>1056</td>\n",
       "      <td>2.0</td>\n",
       "      <td>1.0</td>\n",
       "      <td>39.07</td>\n",
       "    </tr>\n",
       "    <tr>\n",
       "      <th>1</th>\n",
       "      <td>Plot  Area</td>\n",
       "      <td>0</td>\n",
       "      <td>Chikka Tirupathi</td>\n",
       "      <td>4 Bedroom</td>\n",
       "      <td>Society</td>\n",
       "      <td>2600</td>\n",
       "      <td>5.0</td>\n",
       "      <td>3.0</td>\n",
       "      <td>120.00</td>\n",
       "    </tr>\n",
       "    <tr>\n",
       "      <th>2</th>\n",
       "      <td>Built-up  Area</td>\n",
       "      <td>0</td>\n",
       "      <td>Uttarahalli</td>\n",
       "      <td>3 BHK</td>\n",
       "      <td>Independent</td>\n",
       "      <td>1440</td>\n",
       "      <td>2.0</td>\n",
       "      <td>3.0</td>\n",
       "      <td>62.00</td>\n",
       "    </tr>\n",
       "    <tr>\n",
       "      <th>3</th>\n",
       "      <td>Super built-up  Area</td>\n",
       "      <td>0</td>\n",
       "      <td>Lingadheeranahalli</td>\n",
       "      <td>3 BHK</td>\n",
       "      <td>Society</td>\n",
       "      <td>1521</td>\n",
       "      <td>3.0</td>\n",
       "      <td>1.0</td>\n",
       "      <td>95.00</td>\n",
       "    </tr>\n",
       "    <tr>\n",
       "      <th>4</th>\n",
       "      <td>Super built-up  Area</td>\n",
       "      <td>0</td>\n",
       "      <td>Kothanur</td>\n",
       "      <td>2 BHK</td>\n",
       "      <td>Independent</td>\n",
       "      <td>1200</td>\n",
       "      <td>2.0</td>\n",
       "      <td>1.0</td>\n",
       "      <td>51.00</td>\n",
       "    </tr>\n",
       "    <tr>\n",
       "      <th>5</th>\n",
       "      <td>Super built-up  Area</td>\n",
       "      <td>0</td>\n",
       "      <td>Whitefield</td>\n",
       "      <td>2 BHK</td>\n",
       "      <td>Society</td>\n",
       "      <td>1170</td>\n",
       "      <td>2.0</td>\n",
       "      <td>1.0</td>\n",
       "      <td>38.00</td>\n",
       "    </tr>\n",
       "    <tr>\n",
       "      <th>6</th>\n",
       "      <td>Super built-up  Area</td>\n",
       "      <td>25</td>\n",
       "      <td>Old Airport Road</td>\n",
       "      <td>4 BHK</td>\n",
       "      <td>Society</td>\n",
       "      <td>2732</td>\n",
       "      <td>4.0</td>\n",
       "      <td>NaN</td>\n",
       "      <td>204.00</td>\n",
       "    </tr>\n",
       "    <tr>\n",
       "      <th>7</th>\n",
       "      <td>Super built-up  Area</td>\n",
       "      <td>0</td>\n",
       "      <td>Rajaji Nagar</td>\n",
       "      <td>4 BHK</td>\n",
       "      <td>Society</td>\n",
       "      <td>3300</td>\n",
       "      <td>4.0</td>\n",
       "      <td>NaN</td>\n",
       "      <td>600.00</td>\n",
       "    </tr>\n",
       "    <tr>\n",
       "      <th>8</th>\n",
       "      <td>Super built-up  Area</td>\n",
       "      <td>0</td>\n",
       "      <td>Marathahalli</td>\n",
       "      <td>3 BHK</td>\n",
       "      <td>Independent</td>\n",
       "      <td>1310</td>\n",
       "      <td>3.0</td>\n",
       "      <td>1.0</td>\n",
       "      <td>63.25</td>\n",
       "    </tr>\n",
       "    <tr>\n",
       "      <th>9</th>\n",
       "      <td>Plot  Area</td>\n",
       "      <td>0</td>\n",
       "      <td>Gandhi Bazar</td>\n",
       "      <td>6 Bedroom</td>\n",
       "      <td>Independent</td>\n",
       "      <td>1020</td>\n",
       "      <td>6.0</td>\n",
       "      <td>NaN</td>\n",
       "      <td>370.00</td>\n",
       "    </tr>\n",
       "  </tbody>\n",
       "</table>\n",
       "</div>"
      ],
      "text/plain": [
       "              area_type  availability                  location       size  \\\n",
       "0  Super built-up  Area            76  Electronic City Phase II      2 BHK   \n",
       "1            Plot  Area             0          Chikka Tirupathi  4 Bedroom   \n",
       "2        Built-up  Area             0               Uttarahalli      3 BHK   \n",
       "3  Super built-up  Area             0        Lingadheeranahalli      3 BHK   \n",
       "4  Super built-up  Area             0                  Kothanur      2 BHK   \n",
       "5  Super built-up  Area             0                Whitefield      2 BHK   \n",
       "6  Super built-up  Area            25          Old Airport Road      4 BHK   \n",
       "7  Super built-up  Area             0              Rajaji Nagar      4 BHK   \n",
       "8  Super built-up  Area             0              Marathahalli      3 BHK   \n",
       "9            Plot  Area             0              Gandhi Bazar  6 Bedroom   \n",
       "\n",
       "       society total_sqft  bath  balcony   price  \n",
       "0      Society       1056   2.0      1.0   39.07  \n",
       "1      Society       2600   5.0      3.0  120.00  \n",
       "2  Independent       1440   2.0      3.0   62.00  \n",
       "3      Society       1521   3.0      1.0   95.00  \n",
       "4  Independent       1200   2.0      1.0   51.00  \n",
       "5      Society       1170   2.0      1.0   38.00  \n",
       "6      Society       2732   4.0      NaN  204.00  \n",
       "7      Society       3300   4.0      NaN  600.00  \n",
       "8  Independent       1310   3.0      1.0   63.25  \n",
       "9  Independent       1020   6.0      NaN  370.00  "
      ]
     },
     "execution_count": 10,
     "metadata": {},
     "output_type": "execute_result"
    }
   ],
   "source": [
    "data.head(10)"
   ]
  },
  {
   "cell_type": "code",
   "execution_count": 11,
   "id": "f63b6be4",
   "metadata": {
    "execution": {
     "iopub.execute_input": "2022-09-23T21:22:37.810938Z",
     "iopub.status.busy": "2022-09-23T21:22:37.810492Z",
     "iopub.status.idle": "2022-09-23T21:22:38.421812Z",
     "shell.execute_reply": "2022-09-23T21:22:38.420523Z"
    },
    "papermill": {
     "duration": 0.629255,
     "end_time": "2022-09-23T21:22:38.424309",
     "exception": false,
     "start_time": "2022-09-23T21:22:37.795054",
     "status": "completed"
    },
    "tags": []
   },
   "outputs": [
    {
     "data": {
      "text/html": [
       "<div>\n",
       "<style scoped>\n",
       "    .dataframe tbody tr th:only-of-type {\n",
       "        vertical-align: middle;\n",
       "    }\n",
       "\n",
       "    .dataframe tbody tr th {\n",
       "        vertical-align: top;\n",
       "    }\n",
       "\n",
       "    .dataframe thead th {\n",
       "        text-align: right;\n",
       "    }\n",
       "</style>\n",
       "<table border=\"1\" class=\"dataframe\">\n",
       "  <thead>\n",
       "    <tr style=\"text-align: right;\">\n",
       "      <th></th>\n",
       "      <th>area_type</th>\n",
       "      <th>availability</th>\n",
       "      <th>location</th>\n",
       "      <th>size</th>\n",
       "      <th>society</th>\n",
       "      <th>total_sqft</th>\n",
       "      <th>bath</th>\n",
       "      <th>balcony</th>\n",
       "      <th>price</th>\n",
       "    </tr>\n",
       "  </thead>\n",
       "  <tbody>\n",
       "    <tr>\n",
       "      <th>0</th>\n",
       "      <td>2</td>\n",
       "      <td>76</td>\n",
       "      <td>Electronic City Phase II</td>\n",
       "      <td>2 BHK</td>\n",
       "      <td>Society</td>\n",
       "      <td>1056</td>\n",
       "      <td>2.0</td>\n",
       "      <td>1.0</td>\n",
       "      <td>39.07</td>\n",
       "    </tr>\n",
       "    <tr>\n",
       "      <th>1</th>\n",
       "      <td>0</td>\n",
       "      <td>0</td>\n",
       "      <td>Chikka Tirupathi</td>\n",
       "      <td>4 Bedroom</td>\n",
       "      <td>Society</td>\n",
       "      <td>2600</td>\n",
       "      <td>5.0</td>\n",
       "      <td>3.0</td>\n",
       "      <td>120.00</td>\n",
       "    </tr>\n",
       "    <tr>\n",
       "      <th>2</th>\n",
       "      <td>1</td>\n",
       "      <td>0</td>\n",
       "      <td>Uttarahalli</td>\n",
       "      <td>3 BHK</td>\n",
       "      <td>Independent</td>\n",
       "      <td>1440</td>\n",
       "      <td>2.0</td>\n",
       "      <td>3.0</td>\n",
       "      <td>62.00</td>\n",
       "    </tr>\n",
       "    <tr>\n",
       "      <th>3</th>\n",
       "      <td>2</td>\n",
       "      <td>0</td>\n",
       "      <td>Lingadheeranahalli</td>\n",
       "      <td>3 BHK</td>\n",
       "      <td>Society</td>\n",
       "      <td>1521</td>\n",
       "      <td>3.0</td>\n",
       "      <td>1.0</td>\n",
       "      <td>95.00</td>\n",
       "    </tr>\n",
       "    <tr>\n",
       "      <th>4</th>\n",
       "      <td>2</td>\n",
       "      <td>0</td>\n",
       "      <td>Kothanur</td>\n",
       "      <td>2 BHK</td>\n",
       "      <td>Independent</td>\n",
       "      <td>1200</td>\n",
       "      <td>2.0</td>\n",
       "      <td>1.0</td>\n",
       "      <td>51.00</td>\n",
       "    </tr>\n",
       "  </tbody>\n",
       "</table>\n",
       "</div>"
      ],
      "text/plain": [
       "   area_type  availability                  location       size      society  \\\n",
       "0          2            76  Electronic City Phase II      2 BHK      Society   \n",
       "1          0             0          Chikka Tirupathi  4 Bedroom      Society   \n",
       "2          1             0               Uttarahalli      3 BHK  Independent   \n",
       "3          2             0        Lingadheeranahalli      3 BHK      Society   \n",
       "4          2             0                  Kothanur      2 BHK  Independent   \n",
       "\n",
       "  total_sqft  bath  balcony   price  \n",
       "0       1056   2.0      1.0   39.07  \n",
       "1       2600   5.0      3.0  120.00  \n",
       "2       1440   2.0      3.0   62.00  \n",
       "3       1521   3.0      1.0   95.00  \n",
       "4       1200   2.0      1.0   51.00  "
      ]
     },
     "metadata": {},
     "output_type": "display_data"
    },
    {
     "data": {
      "image/png": "[encoded data removed]",
      "text/plain": [
       "<Figure size 432x288 with 1 Axes>"
      ]
     },
     "metadata": {
      "needs_background": "light"
     },
     "output_type": "display_data"
    }
   ],
   "source": [
    "# Check area-type wrt price\n",
    "import seaborn as sns\n",
    "sns.barplot(x=data['area_type'], y=data['price'])\n",
    "\n",
    "df=data['area_type'].replace('Plot  Area', 0)\n",
    "df=df.replace('Built-up  Area', 1)\n",
    "df=df.replace('Super built-up  Area', 2)\n",
    "df=df.replace('Carpet  Area', 3)\n",
    "\n",
    "data['area_type']=df\n",
    "\n",
    "display(data.head())"
   ]
  },
  {
   "cell_type": "markdown",
   "id": "afe2f9c7",
   "metadata": {
    "papermill": {
     "duration": 0.015335,
     "end_time": "2022-09-23T21:22:38.455220",
     "exception": false,
     "start_time": "2022-09-23T21:22:38.439885",
     "status": "completed"
    },
    "tags": []
   },
   "source": [
    "# Reducing the Categories in LOCATION"
   ]
  },
  {
   "cell_type": "code",
   "execution_count": 12,
   "id": "3fb3b91c",
   "metadata": {
    "execution": {
     "iopub.execute_input": "2022-09-23T21:22:38.487749Z",
     "iopub.status.busy": "2022-09-23T21:22:38.486463Z",
     "iopub.status.idle": "2022-09-23T21:22:38.498562Z",
     "shell.execute_reply": "2022-09-23T21:22:38.497378Z"
    },
    "papermill": {
     "duration": 0.030701,
     "end_time": "2022-09-23T21:22:38.500986",
     "exception": false,
     "start_time": "2022-09-23T21:22:38.470285",
     "status": "completed"
    },
    "tags": []
   },
   "outputs": [
    {
     "data": {
      "text/plain": [
       "Basapura                          10\n",
       "Nagappa Reddy Layout              10\n",
       "Gunjur Palya                      10\n",
       "Dodsworth Layout                  10\n",
       "BTM 1st Stage                     10\n",
       "                                  ..\n",
       "Bapuji Layout                      1\n",
       "1st Stage Radha Krishna Layout     1\n",
       "BEML Layout 5th stage              1\n",
       "singapura paradise                 1\n",
       "Abshot Layout                      1\n",
       "Name: location, Length: 1064, dtype: int64"
      ]
     },
     "execution_count": 12,
     "metadata": {},
     "output_type": "execute_result"
    }
   ],
   "source": [
    "a=data['location'].value_counts()\n",
    "a=a[a<=10]\n",
    "a"
   ]
  },
  {
   "cell_type": "code",
   "execution_count": 13,
   "id": "b0c1bb88",
   "metadata": {
    "execution": {
     "iopub.execute_input": "2022-09-23T21:22:38.532766Z",
     "iopub.status.busy": "2022-09-23T21:22:38.531953Z",
     "iopub.status.idle": "2022-09-23T21:22:38.558700Z",
     "shell.execute_reply": "2022-09-23T21:22:38.557335Z"
    },
    "papermill": {
     "duration": 0.046032,
     "end_time": "2022-09-23T21:22:38.561676",
     "exception": false,
     "start_time": "2022-09-23T21:22:38.515644",
     "status": "completed"
    },
    "tags": []
   },
   "outputs": [
    {
     "data": {
      "text/plain": [
       "0        Electronic City Phase II\n",
       "1                Chikka Tirupathi\n",
       "2                     Uttarahalli\n",
       "3              Lingadheeranahalli\n",
       "4                        Kothanur\n",
       "                   ...           \n",
       "13315                  Whitefield\n",
       "13316                       other\n",
       "13317       Raja Rajeshwari Nagar\n",
       "13318             Padmanabhanagar\n",
       "13319                Doddathoguru\n",
       "Name: location, Length: 13319, dtype: object"
      ]
     },
     "execution_count": 13,
     "metadata": {},
     "output_type": "execute_result"
    }
   ],
   "source": [
    "data['location']=data['location'].apply(lambda x: 'other' if x in a else x)\n",
    "data['location']"
   ]
  },
  {
   "cell_type": "markdown",
   "id": "676cba58",
   "metadata": {
    "papermill": {
     "duration": 0.015006,
     "end_time": "2022-09-23T21:22:38.591923",
     "exception": false,
     "start_time": "2022-09-23T21:22:38.576917",
     "status": "completed"
    },
    "tags": []
   },
   "source": [
    "# Formatting data in SIZE"
   ]
  },
  {
   "cell_type": "code",
   "execution_count": 14,
   "id": "730e22e4",
   "metadata": {
    "execution": {
     "iopub.execute_input": "2022-09-23T21:22:38.626099Z",
     "iopub.status.busy": "2022-09-23T21:22:38.625265Z",
     "iopub.status.idle": "2022-09-23T21:22:38.632893Z",
     "shell.execute_reply": "2022-09-23T21:22:38.631876Z"
    },
    "papermill": {
     "duration": 0.027686,
     "end_time": "2022-09-23T21:22:38.635528",
     "exception": false,
     "start_time": "2022-09-23T21:22:38.607842",
     "status": "completed"
    },
    "tags": []
   },
   "outputs": [
    {
     "data": {
      "text/plain": [
       "array(['2 BHK', '4 Bedroom', '3 BHK', '4 BHK', '6 Bedroom', '3 Bedroom',\n",
       "       '1 BHK', '1 RK', '1 Bedroom', '8 Bedroom', '2 Bedroom',\n",
       "       '7 Bedroom', '5 BHK', '7 BHK', '6 BHK', '5 Bedroom', '11 BHK',\n",
       "       '9 BHK', nan, '9 Bedroom', '27 BHK', '10 Bedroom', '11 Bedroom',\n",
       "       '10 BHK', '19 BHK', '16 BHK', '14 BHK', '8 BHK', '12 Bedroom',\n",
       "       '13 BHK', '18 Bedroom'], dtype=object)"
      ]
     },
     "execution_count": 14,
     "metadata": {},
     "output_type": "execute_result"
    }
   ],
   "source": [
    "data['size'].unique()"
   ]
  },
  {
   "cell_type": "code",
   "execution_count": 15,
   "id": "9946ab37",
   "metadata": {
    "execution": {
     "iopub.execute_input": "2022-09-23T21:22:38.667983Z",
     "iopub.status.busy": "2022-09-23T21:22:38.667324Z",
     "iopub.status.idle": "2022-09-23T21:22:38.700394Z",
     "shell.execute_reply": "2022-09-23T21:22:38.699055Z"
    },
    "papermill": {
     "duration": 0.05252,
     "end_time": "2022-09-23T21:22:38.703259",
     "exception": false,
     "start_time": "2022-09-23T21:22:38.650739",
     "status": "completed"
    },
    "tags": []
   },
   "outputs": [],
   "source": [
    "a=data['size'].str.split(\" \", expand=True)\n",
    "data['rooms']=a[0].astype(float)\n",
    "data=data.drop('size', axis=1)"
   ]
  },
  {
   "cell_type": "code",
   "execution_count": 16,
   "id": "86d7b782",
   "metadata": {
    "execution": {
     "iopub.execute_input": "2022-09-23T21:22:38.735331Z",
     "iopub.status.busy": "2022-09-23T21:22:38.734667Z",
     "iopub.status.idle": "2022-09-23T21:22:38.751296Z",
     "shell.execute_reply": "2022-09-23T21:22:38.750062Z"
    },
    "papermill": {
     "duration": 0.035439,
     "end_time": "2022-09-23T21:22:38.753667",
     "exception": false,
     "start_time": "2022-09-23T21:22:38.718228",
     "status": "completed"
    },
    "tags": []
   },
   "outputs": [
    {
     "data": {
      "text/html": [
       "<div>\n",
       "<style scoped>\n",
       "    .dataframe tbody tr th:only-of-type {\n",
       "        vertical-align: middle;\n",
       "    }\n",
       "\n",
       "    .dataframe tbody tr th {\n",
       "        vertical-align: top;\n",
       "    }\n",
       "\n",
       "    .dataframe thead th {\n",
       "        text-align: right;\n",
       "    }\n",
       "</style>\n",
       "<table border=\"1\" class=\"dataframe\">\n",
       "  <thead>\n",
       "    <tr style=\"text-align: right;\">\n",
       "      <th></th>\n",
       "      <th>area_type</th>\n",
       "      <th>availability</th>\n",
       "      <th>location</th>\n",
       "      <th>society</th>\n",
       "      <th>total_sqft</th>\n",
       "      <th>bath</th>\n",
       "      <th>balcony</th>\n",
       "      <th>price</th>\n",
       "      <th>rooms</th>\n",
       "    </tr>\n",
       "  </thead>\n",
       "  <tbody>\n",
       "    <tr>\n",
       "      <th>0</th>\n",
       "      <td>2</td>\n",
       "      <td>76</td>\n",
       "      <td>Electronic City Phase II</td>\n",
       "      <td>Society</td>\n",
       "      <td>1056</td>\n",
       "      <td>2.0</td>\n",
       "      <td>1.0</td>\n",
       "      <td>39.07</td>\n",
       "      <td>2.0</td>\n",
       "    </tr>\n",
       "    <tr>\n",
       "      <th>1</th>\n",
       "      <td>0</td>\n",
       "      <td>0</td>\n",
       "      <td>Chikka Tirupathi</td>\n",
       "      <td>Society</td>\n",
       "      <td>2600</td>\n",
       "      <td>5.0</td>\n",
       "      <td>3.0</td>\n",
       "      <td>120.00</td>\n",
       "      <td>4.0</td>\n",
       "    </tr>\n",
       "    <tr>\n",
       "      <th>2</th>\n",
       "      <td>1</td>\n",
       "      <td>0</td>\n",
       "      <td>Uttarahalli</td>\n",
       "      <td>Independent</td>\n",
       "      <td>1440</td>\n",
       "      <td>2.0</td>\n",
       "      <td>3.0</td>\n",
       "      <td>62.00</td>\n",
       "      <td>3.0</td>\n",
       "    </tr>\n",
       "    <tr>\n",
       "      <th>3</th>\n",
       "      <td>2</td>\n",
       "      <td>0</td>\n",
       "      <td>Lingadheeranahalli</td>\n",
       "      <td>Society</td>\n",
       "      <td>1521</td>\n",
       "      <td>3.0</td>\n",
       "      <td>1.0</td>\n",
       "      <td>95.00</td>\n",
       "      <td>3.0</td>\n",
       "    </tr>\n",
       "    <tr>\n",
       "      <th>4</th>\n",
       "      <td>2</td>\n",
       "      <td>0</td>\n",
       "      <td>Kothanur</td>\n",
       "      <td>Independent</td>\n",
       "      <td>1200</td>\n",
       "      <td>2.0</td>\n",
       "      <td>1.0</td>\n",
       "      <td>51.00</td>\n",
       "      <td>2.0</td>\n",
       "    </tr>\n",
       "  </tbody>\n",
       "</table>\n",
       "</div>"
      ],
      "text/plain": [
       "   area_type  availability                  location      society total_sqft  \\\n",
       "0          2            76  Electronic City Phase II      Society       1056   \n",
       "1          0             0          Chikka Tirupathi      Society       2600   \n",
       "2          1             0               Uttarahalli  Independent       1440   \n",
       "3          2             0        Lingadheeranahalli      Society       1521   \n",
       "4          2             0                  Kothanur  Independent       1200   \n",
       "\n",
       "   bath  balcony   price  rooms  \n",
       "0   2.0      1.0   39.07    2.0  \n",
       "1   5.0      3.0  120.00    4.0  \n",
       "2   2.0      3.0   62.00    3.0  \n",
       "3   3.0      1.0   95.00    3.0  \n",
       "4   2.0      1.0   51.00    2.0  "
      ]
     },
     "execution_count": 16,
     "metadata": {},
     "output_type": "execute_result"
    }
   ],
   "source": [
    "data.head(5)"
   ]
  },
  {
   "cell_type": "markdown",
   "id": "b88d2c63",
   "metadata": {
    "papermill": {
     "duration": 0.015494,
     "end_time": "2022-09-23T21:22:38.784387",
     "exception": false,
     "start_time": "2022-09-23T21:22:38.768893",
     "status": "completed"
    },
    "tags": []
   },
   "source": [
    "# Correcting TOTAL_SQFT"
   ]
  },
  {
   "cell_type": "code",
   "execution_count": 17,
   "id": "19cdafea",
   "metadata": {
    "execution": {
     "iopub.execute_input": "2022-09-23T21:22:38.819878Z",
     "iopub.status.busy": "2022-09-23T21:22:38.819124Z",
     "iopub.status.idle": "2022-09-23T21:22:38.854088Z",
     "shell.execute_reply": "2022-09-23T21:22:38.852834Z"
    },
    "papermill": {
     "duration": 0.057714,
     "end_time": "2022-09-23T21:22:38.858389",
     "exception": false,
     "start_time": "2022-09-23T21:22:38.800675",
     "status": "completed"
    },
    "tags": []
   },
   "outputs": [
    {
     "data": {
      "text/html": [
       "<div>\n",
       "<style scoped>\n",
       "    .dataframe tbody tr th:only-of-type {\n",
       "        vertical-align: middle;\n",
       "    }\n",
       "\n",
       "    .dataframe tbody tr th {\n",
       "        vertical-align: top;\n",
       "    }\n",
       "\n",
       "    .dataframe thead th {\n",
       "        text-align: right;\n",
       "    }\n",
       "</style>\n",
       "<table border=\"1\" class=\"dataframe\">\n",
       "  <thead>\n",
       "    <tr style=\"text-align: right;\">\n",
       "      <th></th>\n",
       "      <th>area_type</th>\n",
       "      <th>availability</th>\n",
       "      <th>location</th>\n",
       "      <th>society</th>\n",
       "      <th>total_sqft</th>\n",
       "      <th>bath</th>\n",
       "      <th>balcony</th>\n",
       "      <th>price</th>\n",
       "      <th>rooms</th>\n",
       "    </tr>\n",
       "  </thead>\n",
       "  <tbody>\n",
       "    <tr>\n",
       "      <th>30</th>\n",
       "      <td>2</td>\n",
       "      <td>76</td>\n",
       "      <td>Yelahanka</td>\n",
       "      <td>Society</td>\n",
       "      <td>2100 - 2850</td>\n",
       "      <td>4.0</td>\n",
       "      <td>0.0</td>\n",
       "      <td>186.000</td>\n",
       "      <td>4.0</td>\n",
       "    </tr>\n",
       "    <tr>\n",
       "      <th>56</th>\n",
       "      <td>1</td>\n",
       "      <td>11</td>\n",
       "      <td>Devanahalli</td>\n",
       "      <td>Society</td>\n",
       "      <td>3010 - 3410</td>\n",
       "      <td>NaN</td>\n",
       "      <td>NaN</td>\n",
       "      <td>192.000</td>\n",
       "      <td>4.0</td>\n",
       "    </tr>\n",
       "    <tr>\n",
       "      <th>81</th>\n",
       "      <td>1</td>\n",
       "      <td>59</td>\n",
       "      <td>Hennur Road</td>\n",
       "      <td>Society</td>\n",
       "      <td>2957 - 3450</td>\n",
       "      <td>NaN</td>\n",
       "      <td>NaN</td>\n",
       "      <td>224.500</td>\n",
       "      <td>4.0</td>\n",
       "    </tr>\n",
       "    <tr>\n",
       "      <th>122</th>\n",
       "      <td>2</td>\n",
       "      <td>15</td>\n",
       "      <td>Hebbal</td>\n",
       "      <td>Society</td>\n",
       "      <td>3067 - 8156</td>\n",
       "      <td>4.0</td>\n",
       "      <td>0.0</td>\n",
       "      <td>477.000</td>\n",
       "      <td>4.0</td>\n",
       "    </tr>\n",
       "    <tr>\n",
       "      <th>137</th>\n",
       "      <td>2</td>\n",
       "      <td>16</td>\n",
       "      <td>8th Phase JP Nagar</td>\n",
       "      <td>Society</td>\n",
       "      <td>1042 - 1105</td>\n",
       "      <td>2.0</td>\n",
       "      <td>0.0</td>\n",
       "      <td>54.005</td>\n",
       "      <td>2.0</td>\n",
       "    </tr>\n",
       "    <tr>\n",
       "      <th>...</th>\n",
       "      <td>...</td>\n",
       "      <td>...</td>\n",
       "      <td>...</td>\n",
       "      <td>...</td>\n",
       "      <td>...</td>\n",
       "      <td>...</td>\n",
       "      <td>...</td>\n",
       "      <td>...</td>\n",
       "      <td>...</td>\n",
       "    </tr>\n",
       "    <tr>\n",
       "      <th>12990</th>\n",
       "      <td>2</td>\n",
       "      <td>0</td>\n",
       "      <td>Talaghattapura</td>\n",
       "      <td>Society</td>\n",
       "      <td>1804 - 2273</td>\n",
       "      <td>3.0</td>\n",
       "      <td>0.0</td>\n",
       "      <td>122.000</td>\n",
       "      <td>3.0</td>\n",
       "    </tr>\n",
       "    <tr>\n",
       "      <th>13059</th>\n",
       "      <td>2</td>\n",
       "      <td>0</td>\n",
       "      <td>Harlur</td>\n",
       "      <td>Society</td>\n",
       "      <td>1200 - 1470</td>\n",
       "      <td>2.0</td>\n",
       "      <td>0.0</td>\n",
       "      <td>72.760</td>\n",
       "      <td>2.0</td>\n",
       "    </tr>\n",
       "    <tr>\n",
       "      <th>13240</th>\n",
       "      <td>2</td>\n",
       "      <td>76</td>\n",
       "      <td>Devanahalli</td>\n",
       "      <td>Society</td>\n",
       "      <td>1020 - 1130</td>\n",
       "      <td>NaN</td>\n",
       "      <td>NaN</td>\n",
       "      <td>52.570</td>\n",
       "      <td>1.0</td>\n",
       "    </tr>\n",
       "    <tr>\n",
       "      <th>13265</th>\n",
       "      <td>2</td>\n",
       "      <td>77</td>\n",
       "      <td>Hoodi</td>\n",
       "      <td>Society</td>\n",
       "      <td>1133 - 1384</td>\n",
       "      <td>2.0</td>\n",
       "      <td>0.0</td>\n",
       "      <td>59.135</td>\n",
       "      <td>2.0</td>\n",
       "    </tr>\n",
       "    <tr>\n",
       "      <th>13299</th>\n",
       "      <td>2</td>\n",
       "      <td>0</td>\n",
       "      <td>Whitefield</td>\n",
       "      <td>Society</td>\n",
       "      <td>2830 - 2882</td>\n",
       "      <td>5.0</td>\n",
       "      <td>0.0</td>\n",
       "      <td>154.500</td>\n",
       "      <td>4.0</td>\n",
       "    </tr>\n",
       "  </tbody>\n",
       "</table>\n",
       "<p>247 rows × 9 columns</p>\n",
       "</div>"
      ],
      "text/plain": [
       "       area_type  availability            location  society   total_sqft  \\\n",
       "30             2            76           Yelahanka  Society  2100 - 2850   \n",
       "56             1            11         Devanahalli  Society  3010 - 3410   \n",
       "81             1            59         Hennur Road  Society  2957 - 3450   \n",
       "122            2            15              Hebbal  Society  3067 - 8156   \n",
       "137            2            16  8th Phase JP Nagar  Society  1042 - 1105   \n",
       "...          ...           ...                 ...      ...          ...   \n",
       "12990          2             0      Talaghattapura  Society  1804 - 2273   \n",
       "13059          2             0              Harlur  Society  1200 - 1470   \n",
       "13240          2            76         Devanahalli  Society  1020 - 1130   \n",
       "13265          2            77               Hoodi  Society  1133 - 1384   \n",
       "13299          2             0          Whitefield  Society  2830 - 2882   \n",
       "\n",
       "       bath  balcony    price  rooms  \n",
       "30      4.0      0.0  186.000    4.0  \n",
       "56      NaN      NaN  192.000    4.0  \n",
       "81      NaN      NaN  224.500    4.0  \n",
       "122     4.0      0.0  477.000    4.0  \n",
       "137     2.0      0.0   54.005    2.0  \n",
       "...     ...      ...      ...    ...  \n",
       "12990   3.0      0.0  122.000    3.0  \n",
       "13059   2.0      0.0   72.760    2.0  \n",
       "13240   NaN      NaN   52.570    1.0  \n",
       "13265   2.0      0.0   59.135    2.0  \n",
       "13299   5.0      0.0  154.500    4.0  \n",
       "\n",
       "[247 rows x 9 columns]"
      ]
     },
     "execution_count": 17,
     "metadata": {},
     "output_type": "execute_result"
    }
   ],
   "source": [
    "data[data['total_sqft'].str.contains('[Acres, Sq Meter, Yad, Cn, Guh, o, P]')==True]"
   ]
  },
  {
   "cell_type": "code",
   "execution_count": 18,
   "id": "03bf4d76",
   "metadata": {
    "execution": {
     "iopub.execute_input": "2022-09-23T21:22:38.903831Z",
     "iopub.status.busy": "2022-09-23T21:22:38.902884Z",
     "iopub.status.idle": "2022-09-23T21:22:38.915899Z",
     "shell.execute_reply": "2022-09-23T21:22:38.914900Z"
    },
    "papermill": {
     "duration": 0.03773,
     "end_time": "2022-09-23T21:22:38.918612",
     "exception": false,
     "start_time": "2022-09-23T21:22:38.880882",
     "status": "completed"
    },
    "tags": []
   },
   "outputs": [],
   "source": [
    "data['total_sqft']=data['total_sqft'].apply(lambda x : (float(x.split('-')[0])+float(x.split('-')[0])/2) if x.find('-')>0 else x)"
   ]
  },
  {
   "cell_type": "code",
   "execution_count": 19,
   "id": "8f9bb5a4",
   "metadata": {
    "execution": {
     "iopub.execute_input": "2022-09-23T21:22:38.964505Z",
     "iopub.status.busy": "2022-09-23T21:22:38.964073Z",
     "iopub.status.idle": "2022-09-23T21:22:38.989585Z",
     "shell.execute_reply": "2022-09-23T21:22:38.988497Z"
    },
    "papermill": {
     "duration": 0.058056,
     "end_time": "2022-09-23T21:22:38.992441",
     "exception": false,
     "start_time": "2022-09-23T21:22:38.934385",
     "status": "completed"
    },
    "tags": []
   },
   "outputs": [],
   "source": [
    "data['total_sqft']=data['total_sqft'].astype(str).apply(lambda x : float(x.replace('Sq. Meter', ''))*10.76 if x.find('M')>0 else x)\n",
    "data['total_sqft']=data['total_sqft'].astype(str).apply(lambda x : float(x.replace('Acres', ''))*43560.00 if x.find('A')>0 else x)\n",
    "data['total_sqft']=data['total_sqft'].astype(str).apply(lambda x : float(x.replace('Sq. Yards', ''))*9.00 if x.find('Y')>0 else x)"
   ]
  },
  {
   "cell_type": "code",
   "execution_count": 20,
   "id": "809cd5ec",
   "metadata": {
    "execution": {
     "iopub.execute_input": "2022-09-23T21:22:39.028417Z",
     "iopub.status.busy": "2022-09-23T21:22:39.027608Z",
     "iopub.status.idle": "2022-09-23T21:22:39.050119Z",
     "shell.execute_reply": "2022-09-23T21:22:39.049025Z"
    },
    "papermill": {
     "duration": 0.043762,
     "end_time": "2022-09-23T21:22:39.053039",
     "exception": false,
     "start_time": "2022-09-23T21:22:39.009277",
     "status": "completed"
    },
    "tags": []
   },
   "outputs": [],
   "source": [
    "data=data[data['total_sqft'].str.contains('[Yad, Cn, Guh, o, P]')==False]\n",
    "data['total_sqft']=data['total_sqft'].astype(float)"
   ]
  },
  {
   "cell_type": "code",
   "execution_count": 21,
   "id": "1785fb7e",
   "metadata": {
    "execution": {
     "iopub.execute_input": "2022-09-23T21:22:39.107827Z",
     "iopub.status.busy": "2022-09-23T21:22:39.107370Z",
     "iopub.status.idle": "2022-09-23T21:22:39.112000Z",
     "shell.execute_reply": "2022-09-23T21:22:39.110763Z"
    },
    "papermill": {
     "duration": 0.031259,
     "end_time": "2022-09-23T21:22:39.114423",
     "exception": false,
     "start_time": "2022-09-23T21:22:39.083164",
     "status": "completed"
    },
    "tags": []
   },
   "outputs": [],
   "source": [
    "#data[data['total_sqft'].str.contains('[M]')==True].replace('Sq. Meter', '', regex=True)['total_sqft'].astype(float)*10.76\n",
    "#a['total_sqft'].astype(float)*10.76"
   ]
  },
  {
   "cell_type": "markdown",
   "id": "b33ed273",
   "metadata": {
    "papermill": {
     "duration": 0.015511,
     "end_time": "2022-09-23T21:22:39.145907",
     "exception": false,
     "start_time": "2022-09-23T21:22:39.130396",
     "status": "completed"
    },
    "tags": []
   },
   "source": [
    "# Check Outliers"
   ]
  },
  {
   "cell_type": "code",
   "execution_count": 22,
   "id": "d5b5a725",
   "metadata": {
    "execution": {
     "iopub.execute_input": "2022-09-23T21:22:39.181831Z",
     "iopub.status.busy": "2022-09-23T21:22:39.181097Z",
     "iopub.status.idle": "2022-09-23T21:22:39.976866Z",
     "shell.execute_reply": "2022-09-23T21:22:39.975617Z"
    },
    "papermill": {
     "duration": 0.816322,
     "end_time": "2022-09-23T21:22:39.979424",
     "exception": false,
     "start_time": "2022-09-23T21:22:39.163102",
     "status": "completed"
    },
    "tags": []
   },
   "outputs": [
    {
     "data": {
      "text/plain": [
       "area_type          AxesSubplot(0.125,0.536818;0.168478x0.343182)\n",
       "availability    AxesSubplot(0.327174,0.536818;0.168478x0.343182)\n",
       "total_sqft      AxesSubplot(0.529348,0.536818;0.168478x0.343182)\n",
       "bath            AxesSubplot(0.731522,0.536818;0.168478x0.343182)\n",
       "balcony               AxesSubplot(0.125,0.125;0.168478x0.343182)\n",
       "price              AxesSubplot(0.327174,0.125;0.168478x0.343182)\n",
       "rooms              AxesSubplot(0.529348,0.125;0.168478x0.343182)\n",
       "dtype: object"
      ]
     },
     "execution_count": 22,
     "metadata": {},
     "output_type": "execute_result"
    },
    {
     "data": {
      "image/png": "[encoded data removed]",
      "text/plain": [
       "<Figure size 1080x360 with 8 Axes>"
      ]
     },
     "metadata": {
      "needs_background": "light"
     },
     "output_type": "display_data"
    }
   ],
   "source": [
    "data.plot(kind='box', subplots=True, layout=(2,4), figsize=(15,5))"
   ]
  },
  {
   "cell_type": "code",
   "execution_count": 23,
   "id": "3de40b5e",
   "metadata": {
    "execution": {
     "iopub.execute_input": "2022-09-23T21:22:40.014924Z",
     "iopub.status.busy": "2022-09-23T21:22:40.013040Z",
     "iopub.status.idle": "2022-09-23T21:22:40.196565Z",
     "shell.execute_reply": "2022-09-23T21:22:40.194775Z"
    },
    "papermill": {
     "duration": 0.204429,
     "end_time": "2022-09-23T21:22:40.199937",
     "exception": false,
     "start_time": "2022-09-23T21:22:39.995508",
     "status": "completed"
    },
    "tags": []
   },
   "outputs": [
    {
     "data": {
      "image/png": "[encoded data removed]",
      "text/plain": [
       "<Figure size 432x288 with 1 Axes>"
      ]
     },
     "metadata": {
      "needs_background": "light"
     },
     "output_type": "display_data"
    }
   ],
   "source": [
    "# Outlier removal for rooms\n",
    "data['rooms'].plot(kind='hist', bins=15)\n",
    "data=data[data['rooms']<5]"
   ]
  },
  {
   "cell_type": "code",
   "execution_count": 24,
   "id": "17f4d9a4",
   "metadata": {
    "execution": {
     "iopub.execute_input": "2022-09-23T21:22:40.235377Z",
     "iopub.status.busy": "2022-09-23T21:22:40.234939Z",
     "iopub.status.idle": "2022-09-23T21:22:40.426562Z",
     "shell.execute_reply": "2022-09-23T21:22:40.425340Z"
    },
    "papermill": {
     "duration": 0.212195,
     "end_time": "2022-09-23T21:22:40.428999",
     "exception": false,
     "start_time": "2022-09-23T21:22:40.216804",
     "status": "completed"
    },
    "tags": []
   },
   "outputs": [
    {
     "data": {
      "image/png": "[encoded data removed]",
      "text/plain": [
       "<Figure size 432x288 with 1 Axes>"
      ]
     },
     "metadata": {
      "needs_background": "light"
     },
     "output_type": "display_data"
    }
   ],
   "source": [
    "# Outlier removal for bath\n",
    "data['bath'].plot(kind='hist', bins=10)\n",
    "data=data[data['bath']<6]"
   ]
  },
  {
   "cell_type": "code",
   "execution_count": 25,
   "id": "24ff65d7",
   "metadata": {
    "execution": {
     "iopub.execute_input": "2022-09-23T21:22:40.465482Z",
     "iopub.status.busy": "2022-09-23T21:22:40.464755Z",
     "iopub.status.idle": "2022-09-23T21:22:40.469522Z",
     "shell.execute_reply": "2022-09-23T21:22:40.468641Z"
    },
    "papermill": {
     "duration": 0.025498,
     "end_time": "2022-09-23T21:22:40.471925",
     "exception": false,
     "start_time": "2022-09-23T21:22:40.446427",
     "status": "completed"
    },
    "tags": []
   },
   "outputs": [],
   "source": [
    "# Outlier removal for balcony\n",
    "#data['balcony'].plot(kind='hist', bins=10)"
   ]
  },
  {
   "cell_type": "code",
   "execution_count": 26,
   "id": "221cc270",
   "metadata": {
    "execution": {
     "iopub.execute_input": "2022-09-23T21:22:40.507313Z",
     "iopub.status.busy": "2022-09-23T21:22:40.506488Z",
     "iopub.status.idle": "2022-09-23T21:22:40.511351Z",
     "shell.execute_reply": "2022-09-23T21:22:40.510507Z"
    },
    "papermill": {
     "duration": 0.025169,
     "end_time": "2022-09-23T21:22:40.513660",
     "exception": false,
     "start_time": "2022-09-23T21:22:40.488491",
     "status": "completed"
    },
    "tags": []
   },
   "outputs": [],
   "source": [
    "# Removing details which has 2 more bathrooms that no of rooms\n",
    "#data[data['bath']>data['rooms']+2]\n",
    "#data=data[data['bath']<data['rooms']+2]"
   ]
  },
  {
   "cell_type": "code",
   "execution_count": 27,
   "id": "9c1a1b66",
   "metadata": {
    "execution": {
     "iopub.execute_input": "2022-09-23T21:22:40.549371Z",
     "iopub.status.busy": "2022-09-23T21:22:40.548677Z",
     "iopub.status.idle": "2022-09-23T21:22:40.553382Z",
     "shell.execute_reply": "2022-09-23T21:22:40.552466Z"
    },
    "papermill": {
     "duration": 0.025495,
     "end_time": "2022-09-23T21:22:40.555661",
     "exception": false,
     "start_time": "2022-09-23T21:22:40.530166",
     "status": "completed"
    },
    "tags": []
   },
   "outputs": [],
   "source": [
    "# Removing details which has 1 more balcony that no of rooms\n",
    "#data[data['balcony']>data['rooms']+1]\n",
    "#data=data[data['balcony']<data['rooms']+1]"
   ]
  },
  {
   "cell_type": "markdown",
   "id": "e4770194",
   "metadata": {
    "papermill": {
     "duration": 0.016327,
     "end_time": "2022-09-23T21:22:40.588439",
     "exception": false,
     "start_time": "2022-09-23T21:22:40.572112",
     "status": "completed"
    },
    "tags": []
   },
   "source": [
    "![](http://civilsir.com/wp-content/uploads/2021/07/20210716_095610.jpg)"
   ]
  },
  {
   "cell_type": "code",
   "execution_count": 28,
   "id": "5abd23f8",
   "metadata": {
    "execution": {
     "iopub.execute_input": "2022-09-23T21:22:40.623728Z",
     "iopub.status.busy": "2022-09-23T21:22:40.623036Z",
     "iopub.status.idle": "2022-09-23T21:22:40.655604Z",
     "shell.execute_reply": "2022-09-23T21:22:40.654242Z"
    },
    "papermill": {
     "duration": 0.053038,
     "end_time": "2022-09-23T21:22:40.658052",
     "exception": false,
     "start_time": "2022-09-23T21:22:40.605014",
     "status": "completed"
    },
    "tags": []
   },
   "outputs": [
    {
     "data": {
      "text/plain": [
       "4086         1.0\n",
       "11558       60.0\n",
       "992        315.0\n",
       "12464      350.0\n",
       "8517       360.0\n",
       "          ...   \n",
       "440      11890.0\n",
       "1234     14000.0\n",
       "12470    16335.0\n",
       "2623     30000.0\n",
       "5469     36000.0\n",
       "Name: total_sqft, Length: 1304, dtype: float64"
      ]
     },
     "metadata": {},
     "output_type": "display_data"
    },
    {
     "name": "stdout",
     "output_type": "stream",
     "text": [
      "<class 'pandas.core.frame.DataFrame'>\n",
      "Int64Index: 11609 entries, 20 to 13318\n",
      "Data columns (total 9 columns):\n",
      " #   Column        Non-Null Count  Dtype  \n",
      "---  ------        --------------  -----  \n",
      " 0   area_type     11609 non-null  int64  \n",
      " 1   availability  11609 non-null  int64  \n",
      " 2   location      11608 non-null  object \n",
      " 3   society       11609 non-null  object \n",
      " 4   total_sqft    11609 non-null  float64\n",
      " 5   bath          11609 non-null  float64\n",
      " 6   balcony       11255 non-null  float64\n",
      " 7   price         11609 non-null  float64\n",
      " 8   rooms         11609 non-null  float64\n",
      "dtypes: float64(5), int64(2), object(2)\n",
      "memory usage: 907.0+ KB\n"
     ]
    }
   ],
   "source": [
    "# Outlier removal for total_sqft\n",
    "display(data[data['rooms']==4]['total_sqft'].sort_values())\n",
    "\n",
    "\"\"\"# option 1\n",
    "data_1bhk=data[(data['rooms']==1) & (data['total_sqft']>45) & (data['total_sqft']<=2559.0)]\n",
    "data_2bhk=data[(data['rooms']==2) & (data['total_sqft']<=8840.0)]\n",
    "data_3bhk=data[(data['rooms']==3) & (data['total_sqft']>11) & (data['total_sqft']<=9000.0)]\n",
    "data_4bhk=data[(data['rooms']==4) & (data['total_sqft']>60) & (data['total_sqft']<=16335.0)]\"\"\"\n",
    "\n",
    "\"\"\"# option 2\n",
    "data_1bhk=data[(data['rooms']==1) & (data['total_sqft']>300) & (data['total_sqft']<700)]\n",
    "data_2bhk=data[(data['rooms']==2) & (data['total_sqft']>500) & (data['total_sqft']<900)]\n",
    "data_3bhk=data[(data['rooms']==3) & (data['total_sqft']>700) & (data['total_sqft']<1300)]\n",
    "data_4bhk=data[(data['rooms']==4) & (data['total_sqft']>800) & (data['total_sqft']<2000)]\"\"\"\n",
    "\n",
    "\"\"\"# option 3\n",
    "data_1bhk=data[(data['rooms']==1) & (data['total_sqft']>45) & (data['total_sqft']<=1500.0)]\n",
    "data_2bhk=data[(data['rooms']==2) & (data['total_sqft']<=2000.0)]\n",
    "data_3bhk=data[(data['rooms']==3) & (data['total_sqft']>11) & (data['total_sqft']<=4000.0)]\n",
    "data_4bhk=data[(data['rooms']==4) & (data['total_sqft']>60) & (data['total_sqft']<=8000.0)]\"\"\"\n",
    "\n",
    "\"\"\"# option 4\n",
    "data_1bhk=data[(data['rooms']==1) & (data['total_sqft']>300) & (data['total_sqft']<=1000.0)]\n",
    "data_2bhk=data[(data['rooms']==2) & (data['total_sqft']>800) & (data['total_sqft']<=1500.0)]\n",
    "data_3bhk=data[(data['rooms']==3) & (data['total_sqft']>800) & (data['total_sqft']<=2400.0)]\n",
    "data_4bhk=data[(data['rooms']==4) & (data['total_sqft']>60) & (data['total_sqft']<=6000.0)]\"\"\"\n",
    "\n",
    "# option 5\n",
    "data_1bhk=data[(data['rooms']==1) & (data['total_sqft']>300) & (data['total_sqft']<=1000.0)]\n",
    "data_2bhk=data[(data['rooms']==2) & (data['total_sqft']>800) & (data['total_sqft']<=1500.0)]\n",
    "data_3bhk=data[(data['rooms']==3) & (data['total_sqft']>800) & (data['total_sqft']<=4000.0)]\n",
    "data_4bhk=data[(data['rooms']==4) & (data['total_sqft']>800) & (data['total_sqft']<=8000.0)]\n",
    "\n",
    "data=pd.concat([data_1bhk, data_2bhk, data_3bhk, data_4bhk])\n",
    "\n",
    "data.info()"
   ]
  },
  {
   "cell_type": "code",
   "execution_count": 29,
   "id": "51123f9c",
   "metadata": {
    "execution": {
     "iopub.execute_input": "2022-09-23T21:22:40.693192Z",
     "iopub.status.busy": "2022-09-23T21:22:40.692697Z",
     "iopub.status.idle": "2022-09-23T21:22:40.833693Z",
     "shell.execute_reply": "2022-09-23T21:22:40.831952Z"
    },
    "papermill": {
     "duration": 0.162187,
     "end_time": "2022-09-23T21:22:40.836962",
     "exception": false,
     "start_time": "2022-09-23T21:22:40.674775",
     "status": "completed"
    },
    "tags": []
   },
   "outputs": [
    {
     "name": "stdout",
     "output_type": "stream",
     "text": [
      "count    4716.000000\n",
      "mean     1660.076029\n",
      "std       431.377873\n",
      "min       832.000000\n",
      "25%      1385.000000\n",
      "50%      1579.000000\n",
      "75%      1819.000000\n",
      "max      4000.000000\n",
      "Name: total_sqft, dtype: float64\n",
      "Min =  732.5\n",
      "Max =  2472.5\n"
     ]
    },
    {
     "data": {
      "image/png": "[encoded data removed]",
      "text/plain": [
       "<Figure size 432x288 with 1 Axes>"
      ]
     },
     "metadata": {
      "needs_background": "light"
     },
     "output_type": "display_data"
    }
   ],
   "source": [
    "data[(data['rooms']==3)]['total_sqft'].plot(kind='box')\n",
    "\n",
    "print(data[(data['rooms']==3)]['total_sqft'].describe())\n",
    "print(\"Min = \", 1385-(1.5)*(1820-1385))\n",
    "print(\"Max = \",1820+(1.5)*(1820-1385))"
   ]
  },
  {
   "cell_type": "code",
   "execution_count": 30,
   "id": "2f289ec7",
   "metadata": {
    "execution": {
     "iopub.execute_input": "2022-09-23T21:22:40.885705Z",
     "iopub.status.busy": "2022-09-23T21:22:40.884545Z",
     "iopub.status.idle": "2022-09-23T21:22:41.063305Z",
     "shell.execute_reply": "2022-09-23T21:22:41.062095Z"
    },
    "papermill": {
     "duration": 0.200602,
     "end_time": "2022-09-23T21:22:41.065734",
     "exception": false,
     "start_time": "2022-09-23T21:22:40.865132",
     "status": "completed"
    },
    "tags": []
   },
   "outputs": [
    {
     "name": "stdout",
     "output_type": "stream",
     "text": [
      "count    1194.000000\n",
      "mean     2683.200331\n",
      "std      1204.778670\n",
      "min       810.000000\n",
      "25%      1700.000000\n",
      "50%      2502.000000\n",
      "75%      3435.750000\n",
      "max      7500.000000\n",
      "Name: total_sqft, dtype: float64\n",
      "Min =  -804.0\n",
      "Max =  6140.0\n"
     ]
    },
    {
     "data": {
      "image/png": "[encoded data removed]",
      "text/plain": [
       "<Figure size 432x288 with 1 Axes>"
      ]
     },
     "metadata": {
      "needs_background": "light"
     },
     "output_type": "display_data"
    }
   ],
   "source": [
    "data[(data['rooms']==4)]['total_sqft'].plot(kind='box')\n",
    "\n",
    "print(data[(data['rooms']==4)]['total_sqft'].describe())\n",
    "print(\"Min = \", 1800-(1.5)*(3536-1800))\n",
    "print(\"Max = \",3536+(1.5)*(3536-1800))"
   ]
  },
  {
   "cell_type": "markdown",
   "id": "b2d1dd67",
   "metadata": {
    "papermill": {
     "duration": 0.017022,
     "end_time": "2022-09-23T21:22:41.100353",
     "exception": false,
     "start_time": "2022-09-23T21:22:41.083331",
     "status": "completed"
    },
    "tags": []
   },
   "source": [
    "# Check NULL values"
   ]
  },
  {
   "cell_type": "code",
   "execution_count": 31,
   "id": "0433dacb",
   "metadata": {
    "execution": {
     "iopub.execute_input": "2022-09-23T21:22:41.137305Z",
     "iopub.status.busy": "2022-09-23T21:22:41.136884Z",
     "iopub.status.idle": "2022-09-23T21:22:41.149137Z",
     "shell.execute_reply": "2022-09-23T21:22:41.147943Z"
    },
    "papermill": {
     "duration": 0.033745,
     "end_time": "2022-09-23T21:22:41.151448",
     "exception": false,
     "start_time": "2022-09-23T21:22:41.117703",
     "status": "completed"
    },
    "tags": []
   },
   "outputs": [
    {
     "data": {
      "text/plain": [
       "area_type       0.000000\n",
       "availability    0.000000\n",
       "location        0.000088\n",
       "society         0.000000\n",
       "total_sqft      0.000000\n",
       "bath            0.000000\n",
       "balcony         0.031256\n",
       "price           0.000000\n",
       "rooms           0.000000\n",
       "dtype: float64"
      ]
     },
     "execution_count": 31,
     "metadata": {},
     "output_type": "execute_result"
    }
   ],
   "source": [
    "data.isnull().sum()/11326"
   ]
  },
  {
   "cell_type": "code",
   "execution_count": 32,
   "id": "afb33edb",
   "metadata": {
    "execution": {
     "iopub.execute_input": "2022-09-23T21:22:41.188362Z",
     "iopub.status.busy": "2022-09-23T21:22:41.187926Z",
     "iopub.status.idle": "2022-09-23T21:22:41.196074Z",
     "shell.execute_reply": "2022-09-23T21:22:41.194833Z"
    },
    "papermill": {
     "duration": 0.029352,
     "end_time": "2022-09-23T21:22:41.198433",
     "exception": false,
     "start_time": "2022-09-23T21:22:41.169081",
     "status": "completed"
    },
    "tags": []
   },
   "outputs": [],
   "source": [
    "data['location']=data['location'].fillna(data['location'].mode()[0])"
   ]
  },
  {
   "cell_type": "code",
   "execution_count": 33,
   "id": "a59e2898",
   "metadata": {
    "execution": {
     "iopub.execute_input": "2022-09-23T21:22:41.235605Z",
     "iopub.status.busy": "2022-09-23T21:22:41.235164Z",
     "iopub.status.idle": "2022-09-23T21:22:41.245946Z",
     "shell.execute_reply": "2022-09-23T21:22:41.244764Z"
    },
    "papermill": {
     "duration": 0.032651,
     "end_time": "2022-09-23T21:22:41.248606",
     "exception": false,
     "start_time": "2022-09-23T21:22:41.215955",
     "status": "completed"
    },
    "tags": []
   },
   "outputs": [],
   "source": [
    "# NULLs Dropped\n",
    "data1=data.copy()\n",
    "data1=data1.dropna()"
   ]
  },
  {
   "cell_type": "code",
   "execution_count": 34,
   "id": "2503ba3a",
   "metadata": {
    "execution": {
     "iopub.execute_input": "2022-09-23T21:22:41.285945Z",
     "iopub.status.busy": "2022-09-23T21:22:41.285483Z",
     "iopub.status.idle": "2022-09-23T21:22:41.297708Z",
     "shell.execute_reply": "2022-09-23T21:22:41.296456Z"
    },
    "papermill": {
     "duration": 0.033973,
     "end_time": "2022-09-23T21:22:41.300272",
     "exception": false,
     "start_time": "2022-09-23T21:22:41.266299",
     "status": "completed"
    },
    "tags": []
   },
   "outputs": [],
   "source": [
    "# NULLs imputed\n",
    "data2=data.copy()\n",
    "data2['rooms']=data2['rooms'].fillna(data2['rooms'].mode()[0])\n",
    "data2['bath']=data2['bath'].fillna(data2['bath'].mode()[0])\n",
    "data2['balcony']=data2['balcony'].fillna(data2['balcony'].mode()[0])"
   ]
  },
  {
   "cell_type": "code",
   "execution_count": 35,
   "id": "18abf399",
   "metadata": {
    "execution": {
     "iopub.execute_input": "2022-09-23T21:22:41.337079Z",
     "iopub.status.busy": "2022-09-23T21:22:41.336679Z",
     "iopub.status.idle": "2022-09-23T21:22:41.366373Z",
     "shell.execute_reply": "2022-09-23T21:22:41.365045Z"
    },
    "papermill": {
     "duration": 0.050934,
     "end_time": "2022-09-23T21:22:41.368778",
     "exception": false,
     "start_time": "2022-09-23T21:22:41.317844",
     "status": "completed"
    },
    "tags": []
   },
   "outputs": [
    {
     "data": {
      "text/html": [
       "<div>\n",
       "<style scoped>\n",
       "    .dataframe tbody tr th:only-of-type {\n",
       "        vertical-align: middle;\n",
       "    }\n",
       "\n",
       "    .dataframe tbody tr th {\n",
       "        vertical-align: top;\n",
       "    }\n",
       "\n",
       "    .dataframe thead th {\n",
       "        text-align: right;\n",
       "    }\n",
       "</style>\n",
       "<table border=\"1\" class=\"dataframe\">\n",
       "  <thead>\n",
       "    <tr style=\"text-align: right;\">\n",
       "      <th></th>\n",
       "      <th>area_type</th>\n",
       "      <th>availability</th>\n",
       "      <th>location</th>\n",
       "      <th>society</th>\n",
       "      <th>total_sqft</th>\n",
       "      <th>bath</th>\n",
       "      <th>balcony</th>\n",
       "      <th>price</th>\n",
       "      <th>rooms</th>\n",
       "    </tr>\n",
       "  </thead>\n",
       "  <tbody>\n",
       "    <tr>\n",
       "      <th>20</th>\n",
       "      <td>1</td>\n",
       "      <td>0</td>\n",
       "      <td>Kengeri</td>\n",
       "      <td>Independent</td>\n",
       "      <td>600.0</td>\n",
       "      <td>1.0</td>\n",
       "      <td>1.0</td>\n",
       "      <td>15.00</td>\n",
       "      <td>1.0</td>\n",
       "    </tr>\n",
       "    <tr>\n",
       "      <th>24</th>\n",
       "      <td>2</td>\n",
       "      <td>67</td>\n",
       "      <td>other</td>\n",
       "      <td>Society</td>\n",
       "      <td>510.0</td>\n",
       "      <td>1.0</td>\n",
       "      <td>0.0</td>\n",
       "      <td>25.25</td>\n",
       "      <td>1.0</td>\n",
       "    </tr>\n",
       "    <tr>\n",
       "      <th>42</th>\n",
       "      <td>2</td>\n",
       "      <td>0</td>\n",
       "      <td>other</td>\n",
       "      <td>Society</td>\n",
       "      <td>600.0</td>\n",
       "      <td>1.0</td>\n",
       "      <td>0.0</td>\n",
       "      <td>38.00</td>\n",
       "      <td>1.0</td>\n",
       "    </tr>\n",
       "    <tr>\n",
       "      <th>43</th>\n",
       "      <td>0</td>\n",
       "      <td>0</td>\n",
       "      <td>Yelahanka</td>\n",
       "      <td>Independent</td>\n",
       "      <td>660.0</td>\n",
       "      <td>1.0</td>\n",
       "      <td>0.0</td>\n",
       "      <td>48.00</td>\n",
       "      <td>1.0</td>\n",
       "    </tr>\n",
       "    <tr>\n",
       "      <th>171</th>\n",
       "      <td>2</td>\n",
       "      <td>0</td>\n",
       "      <td>Attibele</td>\n",
       "      <td>Society</td>\n",
       "      <td>450.0</td>\n",
       "      <td>1.0</td>\n",
       "      <td>1.0</td>\n",
       "      <td>11.00</td>\n",
       "      <td>1.0</td>\n",
       "    </tr>\n",
       "  </tbody>\n",
       "</table>\n",
       "</div>"
      ],
      "text/plain": [
       "     area_type  availability   location      society  total_sqft  bath  \\\n",
       "20           1             0    Kengeri  Independent       600.0   1.0   \n",
       "24           2            67      other      Society       510.0   1.0   \n",
       "42           2             0      other      Society       600.0   1.0   \n",
       "43           0             0  Yelahanka  Independent       660.0   1.0   \n",
       "171          2             0   Attibele      Society       450.0   1.0   \n",
       "\n",
       "     balcony  price  rooms  \n",
       "20       1.0  15.00    1.0  \n",
       "24       0.0  25.25    1.0  \n",
       "42       0.0  38.00    1.0  \n",
       "43       0.0  48.00    1.0  \n",
       "171      1.0  11.00    1.0  "
      ]
     },
     "metadata": {},
     "output_type": "display_data"
    },
    {
     "data": {
      "text/html": [
       "<div>\n",
       "<style scoped>\n",
       "    .dataframe tbody tr th:only-of-type {\n",
       "        vertical-align: middle;\n",
       "    }\n",
       "\n",
       "    .dataframe tbody tr th {\n",
       "        vertical-align: top;\n",
       "    }\n",
       "\n",
       "    .dataframe thead th {\n",
       "        text-align: right;\n",
       "    }\n",
       "</style>\n",
       "<table border=\"1\" class=\"dataframe\">\n",
       "  <thead>\n",
       "    <tr style=\"text-align: right;\">\n",
       "      <th></th>\n",
       "      <th>area_type</th>\n",
       "      <th>availability</th>\n",
       "      <th>location</th>\n",
       "      <th>society</th>\n",
       "      <th>total_sqft</th>\n",
       "      <th>bath</th>\n",
       "      <th>balcony</th>\n",
       "      <th>price</th>\n",
       "      <th>rooms</th>\n",
       "    </tr>\n",
       "  </thead>\n",
       "  <tbody>\n",
       "    <tr>\n",
       "      <th>20</th>\n",
       "      <td>1</td>\n",
       "      <td>0</td>\n",
       "      <td>Kengeri</td>\n",
       "      <td>Independent</td>\n",
       "      <td>600.0</td>\n",
       "      <td>1.0</td>\n",
       "      <td>1.0</td>\n",
       "      <td>15.00</td>\n",
       "      <td>1.0</td>\n",
       "    </tr>\n",
       "    <tr>\n",
       "      <th>24</th>\n",
       "      <td>2</td>\n",
       "      <td>67</td>\n",
       "      <td>other</td>\n",
       "      <td>Society</td>\n",
       "      <td>510.0</td>\n",
       "      <td>1.0</td>\n",
       "      <td>0.0</td>\n",
       "      <td>25.25</td>\n",
       "      <td>1.0</td>\n",
       "    </tr>\n",
       "    <tr>\n",
       "      <th>42</th>\n",
       "      <td>2</td>\n",
       "      <td>0</td>\n",
       "      <td>other</td>\n",
       "      <td>Society</td>\n",
       "      <td>600.0</td>\n",
       "      <td>1.0</td>\n",
       "      <td>0.0</td>\n",
       "      <td>38.00</td>\n",
       "      <td>1.0</td>\n",
       "    </tr>\n",
       "    <tr>\n",
       "      <th>43</th>\n",
       "      <td>0</td>\n",
       "      <td>0</td>\n",
       "      <td>Yelahanka</td>\n",
       "      <td>Independent</td>\n",
       "      <td>660.0</td>\n",
       "      <td>1.0</td>\n",
       "      <td>0.0</td>\n",
       "      <td>48.00</td>\n",
       "      <td>1.0</td>\n",
       "    </tr>\n",
       "    <tr>\n",
       "      <th>171</th>\n",
       "      <td>2</td>\n",
       "      <td>0</td>\n",
       "      <td>Attibele</td>\n",
       "      <td>Society</td>\n",
       "      <td>450.0</td>\n",
       "      <td>1.0</td>\n",
       "      <td>1.0</td>\n",
       "      <td>11.00</td>\n",
       "      <td>1.0</td>\n",
       "    </tr>\n",
       "  </tbody>\n",
       "</table>\n",
       "</div>"
      ],
      "text/plain": [
       "     area_type  availability   location      society  total_sqft  bath  \\\n",
       "20           1             0    Kengeri  Independent       600.0   1.0   \n",
       "24           2            67      other      Society       510.0   1.0   \n",
       "42           2             0      other      Society       600.0   1.0   \n",
       "43           0             0  Yelahanka  Independent       660.0   1.0   \n",
       "171          2             0   Attibele      Society       450.0   1.0   \n",
       "\n",
       "     balcony  price  rooms  \n",
       "20       1.0  15.00    1.0  \n",
       "24       0.0  25.25    1.0  \n",
       "42       0.0  38.00    1.0  \n",
       "43       0.0  48.00    1.0  \n",
       "171      1.0  11.00    1.0  "
      ]
     },
     "metadata": {},
     "output_type": "display_data"
    }
   ],
   "source": [
    "display(data1.head())\n",
    "display(data2.head())"
   ]
  },
  {
   "cell_type": "code",
   "execution_count": 36,
   "id": "f6a7ba62",
   "metadata": {
    "execution": {
     "iopub.execute_input": "2022-09-23T21:22:41.407325Z",
     "iopub.status.busy": "2022-09-23T21:22:41.406876Z",
     "iopub.status.idle": "2022-09-23T21:22:41.412602Z",
     "shell.execute_reply": "2022-09-23T21:22:41.411721Z"
    },
    "papermill": {
     "duration": 0.027376,
     "end_time": "2022-09-23T21:22:41.414783",
     "exception": false,
     "start_time": "2022-09-23T21:22:41.387407",
     "status": "completed"
    },
    "tags": []
   },
   "outputs": [],
   "source": [
    "def pca_func(x, n):\n",
    "    # PCA\n",
    "    from sklearn.decomposition import PCA\n",
    "    pca = PCA(n_components=n)\n",
    "    x=pca.fit_transform(x)\n",
    "    return x"
   ]
  },
  {
   "cell_type": "code",
   "execution_count": 37,
   "id": "c951613a",
   "metadata": {
    "execution": {
     "iopub.execute_input": "2022-09-23T21:22:41.453042Z",
     "iopub.status.busy": "2022-09-23T21:22:41.452631Z",
     "iopub.status.idle": "2022-09-23T21:22:41.463751Z",
     "shell.execute_reply": "2022-09-23T21:22:41.462335Z"
    },
    "papermill": {
     "duration": 0.033609,
     "end_time": "2022-09-23T21:22:41.466448",
     "exception": false,
     "start_time": "2022-09-23T21:22:41.432839",
     "status": "completed"
    },
    "tags": []
   },
   "outputs": [],
   "source": [
    "# Pre-processing 1\n",
    "def preprocess1(data_func, pca_test):\n",
    "    # Label Encoding\n",
    "    from sklearn.preprocessing import LabelEncoder\n",
    "    label = LabelEncoder()\n",
    "    data_func['society']=label.fit_transform(data_func['society'])\n",
    "    \n",
    "    # One-hot Encoding\n",
    "    data_func_location = pd.get_dummies(data_func['location'])\n",
    "    data_func=pd.concat([data_func, data_func_location], axis=1)\n",
    "    data_func=data_func.drop(columns=['location', 'area_type', 'availability', 'society'])\n",
    "    \n",
    "    # Split input and output\n",
    "    x=data_func.drop(columns=['price'])\n",
    "    y=data_func['price']\n",
    "\n",
    "    # With PCA\n",
    "    if (pca_test>0):\n",
    "        x=pca_func(x, pca_test)\n",
    "     \n",
    "    # Standardization\n",
    "    from sklearn.preprocessing import StandardScaler\n",
    "    scale=StandardScaler()\n",
    "    x=scale.fit_transform(x)\n",
    "    y=scale.fit_transform(pd.DataFrame(y))\n",
    "\n",
    "    # Train-Test split\n",
    "    from sklearn.model_selection import train_test_split\n",
    "    x_train, x_test, y_train, y_test=train_test_split(x, y, test_size=0.2, random_state=7, shuffle=True)\n",
    "    \n",
    "    return(x_train, x_test, y_train, y_test, scale)"
   ]
  },
  {
   "cell_type": "code",
   "execution_count": 38,
   "id": "7cb9d5a4",
   "metadata": {
    "execution": {
     "iopub.execute_input": "2022-09-23T21:22:41.504838Z",
     "iopub.status.busy": "2022-09-23T21:22:41.504021Z",
     "iopub.status.idle": "2022-09-23T21:22:41.511719Z",
     "shell.execute_reply": "2022-09-23T21:22:41.510533Z"
    },
    "papermill": {
     "duration": 0.030017,
     "end_time": "2022-09-23T21:22:41.514553",
     "exception": false,
     "start_time": "2022-09-23T21:22:41.484536",
     "status": "completed"
    },
    "tags": []
   },
   "outputs": [],
   "source": [
    "# Linear Regression\n",
    "\n",
    "def Linear_Regression_func(data_func, pca_test):\n",
    "    x_train, x_test, y_train, y_test, scale = preprocess1(data_func, pca_test)\n",
    "\n",
    "    # Model Creation\n",
    "    from sklearn.linear_model import LinearRegression\n",
    "    model=LinearRegression()\n",
    "    model.fit(x_train, y_train)\n",
    "    y_pred=model.predict(x_test)\n",
    "    \n",
    "    y_pred=scale.inverse_transform(y_pred)\n",
    "    y_test=scale.inverse_transform(y_test)\n",
    "\n",
    "    # Model score\n",
    "    from sklearn import metrics\n",
    "    return(metrics.r2_score(y_test, y_pred))"
   ]
  },
  {
   "cell_type": "code",
   "execution_count": 39,
   "id": "b01d16fc",
   "metadata": {
    "execution": {
     "iopub.execute_input": "2022-09-23T21:22:41.553445Z",
     "iopub.status.busy": "2022-09-23T21:22:41.553014Z",
     "iopub.status.idle": "2022-09-23T21:22:41.561939Z",
     "shell.execute_reply": "2022-09-23T21:22:41.560933Z"
    },
    "papermill": {
     "duration": 0.031126,
     "end_time": "2022-09-23T21:22:41.564235",
     "exception": false,
     "start_time": "2022-09-23T21:22:41.533109",
     "status": "completed"
    },
    "tags": []
   },
   "outputs": [],
   "source": [
    "# Linear Regression with cross validation\n",
    "\n",
    "def Linear_Regression_func2(data_func):\n",
    "    # Label Encoding\n",
    "    from sklearn.preprocessing import LabelEncoder\n",
    "    label = LabelEncoder()\n",
    "    data_func['society']=label.fit_transform(data_func['society'])\n",
    "    \n",
    "    # One-hot Encoding\n",
    "    data_func_location = pd.get_dummies(data_func['location'])\n",
    "    data_func=pd.concat([data_func, data_func_location], axis=1)\n",
    "    data_func=data_func.drop(columns=['location', 'area_type', 'availability', 'society'])\n",
    "    \n",
    "    # Split input and output\n",
    "    x=data_func.drop(columns=['price'])\n",
    "    y=data_func['price']\n",
    "\n",
    "    # Standardization\n",
    "    from sklearn.preprocessing import StandardScaler\n",
    "    scale=StandardScaler()\n",
    "    x=scale.fit_transform(x)\n",
    "    y=scale.fit_transform(pd.DataFrame(y))\n",
    "\n",
    "    # Model Creation\n",
    "    from sklearn.linear_model import LinearRegression\n",
    "    model=LinearRegression()\n",
    "    \n",
    "    # K-Fold cross validation\n",
    "    from sklearn.model_selection import cross_val_score\n",
    "    score=cross_val_score(model, x, y, cv=10, scoring='r2')\n",
    "    \n",
    "    # Model score\n",
    "    print(\"R2 score\", score.mean())"
   ]
  },
  {
   "cell_type": "code",
   "execution_count": 40,
   "id": "54782f9b",
   "metadata": {
    "execution": {
     "iopub.execute_input": "2022-09-23T21:22:41.602687Z",
     "iopub.status.busy": "2022-09-23T21:22:41.602269Z",
     "iopub.status.idle": "2022-09-23T21:22:41.609287Z",
     "shell.execute_reply": "2022-09-23T21:22:41.608267Z"
    },
    "papermill": {
     "duration": 0.02893,
     "end_time": "2022-09-23T21:22:41.611492",
     "exception": false,
     "start_time": "2022-09-23T21:22:41.582562",
     "status": "completed"
    },
    "tags": []
   },
   "outputs": [],
   "source": [
    "# Random Forest\n",
    "\n",
    "def RandomForest_func(data_func, pca_test):\n",
    "    x_train, x_test, y_train, y_test, scale = preprocess1(data_func, pca_test)\n",
    "\n",
    "    # Model Creation\n",
    "    from sklearn.ensemble import RandomForestRegressor\n",
    "    model=RandomForestRegressor()\n",
    "    model.fit(x_train, y_train.ravel())\n",
    "    y_pred=model.predict(x_test)\n",
    "    \n",
    "    y_pred=scale.inverse_transform(pd.DataFrame(y_pred))\n",
    "    y_test=scale.inverse_transform(pd.DataFrame(y_test))\n",
    "\n",
    "    # Model score\n",
    "    from sklearn import metrics\n",
    "    return(metrics.r2_score(y_test, y_pred))"
   ]
  },
  {
   "cell_type": "code",
   "execution_count": 41,
   "id": "01ef4864",
   "metadata": {
    "execution": {
     "iopub.execute_input": "2022-09-23T21:22:41.649668Z",
     "iopub.status.busy": "2022-09-23T21:22:41.649169Z",
     "iopub.status.idle": "2022-09-23T21:22:43.670049Z",
     "shell.execute_reply": "2022-09-23T21:22:43.668395Z"
    },
    "papermill": {
     "duration": 2.042996,
     "end_time": "2022-09-23T21:22:43.672806",
     "exception": false,
     "start_time": "2022-09-23T21:22:41.629810",
     "status": "completed"
    },
    "tags": []
   },
   "outputs": [
    {
     "name": "stdout",
     "output_type": "stream",
     "text": [
      "-0.013795090483066152\n"
     ]
    }
   ],
   "source": [
    "# AdaBoost\n",
    "\n",
    "def AdaBoost_func(data_func, pca_test):\n",
    "    x_train, x_test, y_train, y_test, scale = preprocess1(data_func, pca_test)\n",
    "\n",
    "    # Model Creation\n",
    "    from sklearn.ensemble import AdaBoostRegressor\n",
    "    model=AdaBoostRegressor(random_state=7)\n",
    "    model.fit(x_train, y_train.ravel())\n",
    "    y_pred=model.predict(x_test)\n",
    "    \n",
    "    y_pred=scale.inverse_transform(pd.DataFrame(y_pred))\n",
    "    y_test=scale.inverse_transform(pd.DataFrame(y_test))\n",
    "\n",
    "    # Model score\n",
    "    from sklearn import metrics\n",
    "    return(metrics.r2_score(y_test, y_pred))\n",
    "\n",
    "print(AdaBoost_func(data1,0))"
   ]
  },
  {
   "cell_type": "code",
   "execution_count": 42,
   "id": "463e98b3",
   "metadata": {
    "execution": {
     "iopub.execute_input": "2022-09-23T21:22:43.711286Z",
     "iopub.status.busy": "2022-09-23T21:22:43.710902Z",
     "iopub.status.idle": "2022-09-23T21:22:43.718167Z",
     "shell.execute_reply": "2022-09-23T21:22:43.716776Z"
    },
    "papermill": {
     "duration": 0.029588,
     "end_time": "2022-09-23T21:22:43.720662",
     "exception": false,
     "start_time": "2022-09-23T21:22:43.691074",
     "status": "completed"
    },
    "tags": []
   },
   "outputs": [],
   "source": [
    "# XGBoost\n",
    "\n",
    "def XGBoost_func(data_func, pca_test):\n",
    "    x_train, x_test, y_train, y_test, scale = preprocess1(data_func, pca_test)\n",
    "\n",
    "    # Model Creation\n",
    "    from xgboost import XGBRegressor\n",
    "    model=XGBRegressor()\n",
    "    model.fit(x_train, y_train)\n",
    "    y_pred=model.predict(x_test)\n",
    "    \n",
    "    y_pred=scale.inverse_transform(pd.DataFrame(y_pred))\n",
    "    y_test=scale.inverse_transform(pd.DataFrame(y_test))\n",
    "\n",
    "    # Model score\n",
    "    from sklearn import metrics\n",
    "    return(metrics.r2_score(y_test, y_pred))"
   ]
  },
  {
   "cell_type": "code",
   "execution_count": 43,
   "id": "09caf14d",
   "metadata": {
    "execution": {
     "iopub.execute_input": "2022-09-23T21:22:43.759132Z",
     "iopub.status.busy": "2022-09-23T21:22:43.758708Z",
     "iopub.status.idle": "2022-09-23T21:22:43.770835Z",
     "shell.execute_reply": "2022-09-23T21:22:43.769528Z"
    },
    "papermill": {
     "duration": 0.034607,
     "end_time": "2022-09-23T21:22:43.773443",
     "exception": false,
     "start_time": "2022-09-23T21:22:43.738836",
     "status": "completed"
    },
    "tags": []
   },
   "outputs": [],
   "source": [
    "def final_func(data1):\n",
    "    linear_data=pd.DataFrame([], columns=['PCA', 'Linear_Regression'])\n",
    "    randomforest_data=pd.DataFrame([], columns=['PCA', 'Random_Forest_Regression'])\n",
    "    adaboost_data=pd.DataFrame([], columns=['PCA', 'AdaBoost_Regression'])\n",
    "    xgboost_data=pd.DataFrame([], columns=['PCA', 'XGBoost_Regression'])\n",
    "\n",
    "    for i in np.arange(0,15, 3):\n",
    "\n",
    "        if (i==0):\n",
    "            print(\"******* Without PCA ***********\")\n",
    "            \"\"\"print(\">>>>>>> Linear Regression with cross-validation\")\n",
    "            Linear_Regression_func2(data1)\n",
    "            Linear_Regression_func2(data2)\"\"\"\n",
    "        else:\n",
    "            print(\"******* With PCA = \", i ,\"*********\")\n",
    "\n",
    "        # Liner Regression\n",
    "        linear_data=linear_data.append({'PCA':i, 'Linear_Regression': Linear_Regression_func(data1, i)}, ignore_index=True)\n",
    "\n",
    "        # Random Forest Regression\n",
    "        randomforest_data=randomforest_data.append({'PCA':i, 'Random_Forest_Regression': RandomForest_func(data1, i)}, ignore_index=True)\n",
    "\n",
    "        # AdaBoost Regression\n",
    "        adaboost_data=adaboost_data.append({'PCA':i, 'AdaBoost_Regression': AdaBoost_func(data1, i)}, ignore_index=True)\n",
    "\n",
    "        # XGBoost Regression\n",
    "        xgboost_data=xgboost_data.append({'PCA':i, 'XGBoost_Regression': XGBoost_func(data1, i)}, ignore_index=True)\n",
    "\n",
    "\n",
    "    display(linear_data[linear_data['Linear_Regression']==linear_data['Linear_Regression'].max()])\n",
    "    display(randomforest_data[randomforest_data['Random_Forest_Regression']==randomforest_data['Random_Forest_Regression'].max()])\n",
    "    display(adaboost_data[adaboost_data['AdaBoost_Regression']==adaboost_data['AdaBoost_Regression'].max()])\n",
    "    display(xgboost_data[xgboost_data['XGBoost_Regression']==xgboost_data['XGBoost_Regression'].max()])"
   ]
  },
  {
   "cell_type": "code",
   "execution_count": 44,
   "id": "c83583d9",
   "metadata": {
    "execution": {
     "iopub.execute_input": "2022-09-23T21:22:43.812990Z",
     "iopub.status.busy": "2022-09-23T21:22:43.812550Z",
     "iopub.status.idle": "2022-09-23T21:22:43.817372Z",
     "shell.execute_reply": "2022-09-23T21:22:43.816048Z"
    },
    "papermill": {
     "duration": 0.02817,
     "end_time": "2022-09-23T21:22:43.819925",
     "exception": false,
     "start_time": "2022-09-23T21:22:43.791755",
     "status": "completed"
    },
    "tags": []
   },
   "outputs": [],
   "source": [
    "#display(linear_data)\n",
    "#display(randomforest_data)\n",
    "#display(adaboost_data)\n",
    "#display(xgboost_data)"
   ]
  },
  {
   "cell_type": "code",
   "execution_count": 45,
   "id": "df89a507",
   "metadata": {
    "execution": {
     "iopub.execute_input": "2022-09-23T21:22:43.859015Z",
     "iopub.status.busy": "2022-09-23T21:22:43.858613Z",
     "iopub.status.idle": "2022-09-23T21:24:45.646008Z",
     "shell.execute_reply": "2022-09-23T21:24:45.644829Z"
    },
    "papermill": {
     "duration": 121.816559,
     "end_time": "2022-09-23T21:24:45.654996",
     "exception": false,
     "start_time": "2022-09-23T21:22:43.838437",
     "status": "completed"
    },
    "tags": []
   },
   "outputs": [
    {
     "name": "stdout",
     "output_type": "stream",
     "text": [
      "******* Without PCA ***********\n",
      "******* With PCA =  3 *********\n",
      "******* With PCA =  6 *********\n",
      "******* With PCA =  9 *********\n",
      "******* With PCA =  12 *********\n"
     ]
    },
    {
     "data": {
      "text/html": [
       "<div>\n",
       "<style scoped>\n",
       "    .dataframe tbody tr th:only-of-type {\n",
       "        vertical-align: middle;\n",
       "    }\n",
       "\n",
       "    .dataframe tbody tr th {\n",
       "        vertical-align: top;\n",
       "    }\n",
       "\n",
       "    .dataframe thead th {\n",
       "        text-align: right;\n",
       "    }\n",
       "</style>\n",
       "<table border=\"1\" class=\"dataframe\">\n",
       "  <thead>\n",
       "    <tr style=\"text-align: right;\">\n",
       "      <th></th>\n",
       "      <th>PCA</th>\n",
       "      <th>Linear_Regression</th>\n",
       "    </tr>\n",
       "  </thead>\n",
       "  <tbody>\n",
       "    <tr>\n",
       "      <th>0</th>\n",
       "      <td>0.0</td>\n",
       "      <td>0.631928</td>\n",
       "    </tr>\n",
       "  </tbody>\n",
       "</table>\n",
       "</div>"
      ],
      "text/plain": [
       "   PCA  Linear_Regression\n",
       "0  0.0           0.631928"
      ]
     },
     "metadata": {},
     "output_type": "display_data"
    },
    {
     "data": {
      "text/html": [
       "<div>\n",
       "<style scoped>\n",
       "    .dataframe tbody tr th:only-of-type {\n",
       "        vertical-align: middle;\n",
       "    }\n",
       "\n",
       "    .dataframe tbody tr th {\n",
       "        vertical-align: top;\n",
       "    }\n",
       "\n",
       "    .dataframe thead th {\n",
       "        text-align: right;\n",
       "    }\n",
       "</style>\n",
       "<table border=\"1\" class=\"dataframe\">\n",
       "  <thead>\n",
       "    <tr style=\"text-align: right;\">\n",
       "      <th></th>\n",
       "      <th>PCA</th>\n",
       "      <th>Random_Forest_Regression</th>\n",
       "    </tr>\n",
       "  </thead>\n",
       "  <tbody>\n",
       "    <tr>\n",
       "      <th>0</th>\n",
       "      <td>0.0</td>\n",
       "      <td>0.598083</td>\n",
       "    </tr>\n",
       "  </tbody>\n",
       "</table>\n",
       "</div>"
      ],
      "text/plain": [
       "   PCA  Random_Forest_Regression\n",
       "0  0.0                  0.598083"
      ]
     },
     "metadata": {},
     "output_type": "display_data"
    },
    {
     "data": {
      "text/html": [
       "<div>\n",
       "<style scoped>\n",
       "    .dataframe tbody tr th:only-of-type {\n",
       "        vertical-align: middle;\n",
       "    }\n",
       "\n",
       "    .dataframe tbody tr th {\n",
       "        vertical-align: top;\n",
       "    }\n",
       "\n",
       "    .dataframe thead th {\n",
       "        text-align: right;\n",
       "    }\n",
       "</style>\n",
       "<table border=\"1\" class=\"dataframe\">\n",
       "  <thead>\n",
       "    <tr style=\"text-align: right;\">\n",
       "      <th></th>\n",
       "      <th>PCA</th>\n",
       "      <th>AdaBoost_Regression</th>\n",
       "    </tr>\n",
       "  </thead>\n",
       "  <tbody>\n",
       "    <tr>\n",
       "      <th>1</th>\n",
       "      <td>3.0</td>\n",
       "      <td>0.446347</td>\n",
       "    </tr>\n",
       "  </tbody>\n",
       "</table>\n",
       "</div>"
      ],
      "text/plain": [
       "   PCA  AdaBoost_Regression\n",
       "1  3.0             0.446347"
      ]
     },
     "metadata": {},
     "output_type": "display_data"
    },
    {
     "data": {
      "text/html": [
       "<div>\n",
       "<style scoped>\n",
       "    .dataframe tbody tr th:only-of-type {\n",
       "        vertical-align: middle;\n",
       "    }\n",
       "\n",
       "    .dataframe tbody tr th {\n",
       "        vertical-align: top;\n",
       "    }\n",
       "\n",
       "    .dataframe thead th {\n",
       "        text-align: right;\n",
       "    }\n",
       "</style>\n",
       "<table border=\"1\" class=\"dataframe\">\n",
       "  <thead>\n",
       "    <tr style=\"text-align: right;\">\n",
       "      <th></th>\n",
       "      <th>PCA</th>\n",
       "      <th>XGBoost_Regression</th>\n",
       "    </tr>\n",
       "  </thead>\n",
       "  <tbody>\n",
       "    <tr>\n",
       "      <th>0</th>\n",
       "      <td>0.0</td>\n",
       "      <td>0.706639</td>\n",
       "    </tr>\n",
       "  </tbody>\n",
       "</table>\n",
       "</div>"
      ],
      "text/plain": [
       "   PCA  XGBoost_Regression\n",
       "0  0.0            0.706639"
      ]
     },
     "metadata": {},
     "output_type": "display_data"
    },
    {
     "name": "stdout",
     "output_type": "stream",
     "text": [
      "******* Without PCA ***********\n",
      "******* With PCA =  3 *********\n",
      "******* With PCA =  6 *********\n",
      "******* With PCA =  9 *********\n",
      "******* With PCA =  12 *********\n"
     ]
    },
    {
     "data": {
      "text/html": [
       "<div>\n",
       "<style scoped>\n",
       "    .dataframe tbody tr th:only-of-type {\n",
       "        vertical-align: middle;\n",
       "    }\n",
       "\n",
       "    .dataframe tbody tr th {\n",
       "        vertical-align: top;\n",
       "    }\n",
       "\n",
       "    .dataframe thead th {\n",
       "        text-align: right;\n",
       "    }\n",
       "</style>\n",
       "<table border=\"1\" class=\"dataframe\">\n",
       "  <thead>\n",
       "    <tr style=\"text-align: right;\">\n",
       "      <th></th>\n",
       "      <th>PCA</th>\n",
       "      <th>Linear_Regression</th>\n",
       "    </tr>\n",
       "  </thead>\n",
       "  <tbody>\n",
       "    <tr>\n",
       "      <th>0</th>\n",
       "      <td>0.0</td>\n",
       "      <td>0.650228</td>\n",
       "    </tr>\n",
       "  </tbody>\n",
       "</table>\n",
       "</div>"
      ],
      "text/plain": [
       "   PCA  Linear_Regression\n",
       "0  0.0           0.650228"
      ]
     },
     "metadata": {},
     "output_type": "display_data"
    },
    {
     "data": {
      "text/html": [
       "<div>\n",
       "<style scoped>\n",
       "    .dataframe tbody tr th:only-of-type {\n",
       "        vertical-align: middle;\n",
       "    }\n",
       "\n",
       "    .dataframe tbody tr th {\n",
       "        vertical-align: top;\n",
       "    }\n",
       "\n",
       "    .dataframe thead th {\n",
       "        text-align: right;\n",
       "    }\n",
       "</style>\n",
       "<table border=\"1\" class=\"dataframe\">\n",
       "  <thead>\n",
       "    <tr style=\"text-align: right;\">\n",
       "      <th></th>\n",
       "      <th>PCA</th>\n",
       "      <th>Random_Forest_Regression</th>\n",
       "    </tr>\n",
       "  </thead>\n",
       "  <tbody>\n",
       "    <tr>\n",
       "      <th>0</th>\n",
       "      <td>0.0</td>\n",
       "      <td>0.686266</td>\n",
       "    </tr>\n",
       "  </tbody>\n",
       "</table>\n",
       "</div>"
      ],
      "text/plain": [
       "   PCA  Random_Forest_Regression\n",
       "0  0.0                  0.686266"
      ]
     },
     "metadata": {},
     "output_type": "display_data"
    },
    {
     "data": {
      "text/html": [
       "<div>\n",
       "<style scoped>\n",
       "    .dataframe tbody tr th:only-of-type {\n",
       "        vertical-align: middle;\n",
       "    }\n",
       "\n",
       "    .dataframe tbody tr th {\n",
       "        vertical-align: top;\n",
       "    }\n",
       "\n",
       "    .dataframe thead th {\n",
       "        text-align: right;\n",
       "    }\n",
       "</style>\n",
       "<table border=\"1\" class=\"dataframe\">\n",
       "  <thead>\n",
       "    <tr style=\"text-align: right;\">\n",
       "      <th></th>\n",
       "      <th>PCA</th>\n",
       "      <th>AdaBoost_Regression</th>\n",
       "    </tr>\n",
       "  </thead>\n",
       "  <tbody>\n",
       "    <tr>\n",
       "      <th>3</th>\n",
       "      <td>9.0</td>\n",
       "      <td>0.454365</td>\n",
       "    </tr>\n",
       "  </tbody>\n",
       "</table>\n",
       "</div>"
      ],
      "text/plain": [
       "   PCA  AdaBoost_Regression\n",
       "3  9.0             0.454365"
      ]
     },
     "metadata": {},
     "output_type": "display_data"
    },
    {
     "data": {
      "text/html": [
       "<div>\n",
       "<style scoped>\n",
       "    .dataframe tbody tr th:only-of-type {\n",
       "        vertical-align: middle;\n",
       "    }\n",
       "\n",
       "    .dataframe tbody tr th {\n",
       "        vertical-align: top;\n",
       "    }\n",
       "\n",
       "    .dataframe thead th {\n",
       "        text-align: right;\n",
       "    }\n",
       "</style>\n",
       "<table border=\"1\" class=\"dataframe\">\n",
       "  <thead>\n",
       "    <tr style=\"text-align: right;\">\n",
       "      <th></th>\n",
       "      <th>PCA</th>\n",
       "      <th>XGBoost_Regression</th>\n",
       "    </tr>\n",
       "  </thead>\n",
       "  <tbody>\n",
       "    <tr>\n",
       "      <th>0</th>\n",
       "      <td>0.0</td>\n",
       "      <td>0.740179</td>\n",
       "    </tr>\n",
       "  </tbody>\n",
       "</table>\n",
       "</div>"
      ],
      "text/plain": [
       "   PCA  XGBoost_Regression\n",
       "0  0.0            0.740179"
      ]
     },
     "metadata": {},
     "output_type": "display_data"
    }
   ],
   "source": [
    "final_func(data1)\n",
    "final_func(data2)"
   ]
  },
  {
   "cell_type": "code",
   "execution_count": 46,
   "id": "88dc8cf8",
   "metadata": {
    "execution": {
     "iopub.execute_input": "2022-09-23T21:24:45.696495Z",
     "iopub.status.busy": "2022-09-23T21:24:45.696053Z",
     "iopub.status.idle": "2022-09-23T21:24:45.701248Z",
     "shell.execute_reply": "2022-09-23T21:24:45.700018Z"
    },
    "papermill": {
     "duration": 0.029631,
     "end_time": "2022-09-23T21:24:45.704410",
     "exception": false,
     "start_time": "2022-09-23T21:24:45.674779",
     "status": "completed"
    },
    "tags": []
   },
   "outputs": [],
   "source": [
    "# rooms<5, bath<5, data1 ---- PCA=0, XGBOOST=0.71\n",
    "# rooms<6, bath<6, data2 ---- PCA=0, XGBOOST=0.74\n",
    "# rooms<11, bath<7, data2 ---- PCA=0, XGBOOST=0.72\n",
    "# rooms<11, bath<6, data2 ---- PCA=0, XGBOOST=0.74\n",
    "# rooms<5, bath<6, data2 ---- PCA=0, XGBOOST=0.74"
   ]
  },
  {
   "cell_type": "markdown",
   "id": "91209a3c",
   "metadata": {
    "papermill": {
     "duration": 0.021228,
     "end_time": "2022-09-23T21:24:45.745960",
     "exception": false,
     "start_time": "2022-09-23T21:24:45.724732",
     "status": "completed"
    },
    "tags": []
   },
   "source": [
    "# Final R2 score = 0.74\n",
    "### Model = XGBOOST\n",
    "### No PCA\n",
    "### NULL values are imputed with MODE\n",
    "### Outlier Removal with ROOMS<5 and BATHS<6"
   ]
  },
  {
   "cell_type": "code",
   "execution_count": null,
   "id": "bff50ee5",
   "metadata": {
    "papermill": {
     "duration": 0.019646,
     "end_time": "2022-09-23T21:24:45.786201",
     "exception": false,
     "start_time": "2022-09-23T21:24:45.766555",
     "status": "completed"
    },
    "tags": []
   },
   "outputs": [],
   "source": []
  }
 ],
 "metadata": {
  "kernelspec": {
   "display_name": "Python 3 (ipykernel)",
   "language": "python",
   "name": "python3"
  },
  "language_info": {
   "codemirror_mode": {
    "name": "ipython",
    "version": 3
   },
   "file_extension": ".py",
   "mimetype": "text/x-python",
   "name": "python",
   "nbconvert_exporter": "python",
   "pygments_lexer": "ipython3",
   "version": "3.9.13"
  },
  "papermill": {
   "default_parameters": {},
   "duration": 140.304045,
   "end_time": "2022-09-23T21:24:46.628472",
   "environment_variables": {},
   "exception": null,
   "input_path": "__notebook__.ipynb",
   "output_path": "__notebook__.ipynb",
   "parameters": {},
   "start_time": "2022-09-23T21:22:26.324427",
   "version": "2.3.4"
  }
 },
 "nbformat": 4,
 "nbformat_minor": 5
}
