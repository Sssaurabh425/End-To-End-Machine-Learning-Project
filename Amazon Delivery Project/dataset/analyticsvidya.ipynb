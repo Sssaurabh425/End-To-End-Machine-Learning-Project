{
 "cells": [
  {
   "cell_type": "code",
   "execution_count": 114,
   "id": "c4fa77bc",
   "metadata": {},
   "outputs": [],
   "source": [
    "import numpy as np\n",
    "import pandas as pd\n",
    "from sklearn.model_selection import train_test_split\n",
    "from sklearn.compose import ColumnTransformer\n",
    "from sklearn.impute import SimpleImputer\n",
    "from sklearn.preprocessing import OneHotEncoder,OrdinalEncoder,StandardScaler\n",
    "from sklearn.preprocessing import MinMaxScaler\n",
    "from sklearn.pipeline import Pipeline,make_pipeline\n",
    "from sklearn.feature_selection import SelectKBest,chi2\n",
    "from sklearn.tree import DecisionTreeClassifier\n",
    "\n",
    "a = pd.read_csv('new_csv3.csv')"
   ]
  },
  {
   "cell_type": "code",
   "execution_count": 2,
   "id": "4a19fd9b",
   "metadata": {},
   "outputs": [],
   "source": [
    "import matplotlib.pyplot as plt\n",
    "import seaborn as sns\n",
    "%matplotlib inline"
   ]
  },
  {
   "cell_type": "code",
   "execution_count": 115,
   "id": "58fdab36",
   "metadata": {},
   "outputs": [
    {
     "name": "stdout",
     "output_type": "stream",
     "text": [
      "<class 'pandas.core.frame.DataFrame'>\n",
      "RangeIndex: 45593 entries, 0 to 45592\n",
      "Data columns (total 21 columns):\n",
      " #   Column                       Non-Null Count  Dtype  \n",
      "---  ------                       --------------  -----  \n",
      " 0   Unnamed: 0                   45593 non-null  int64  \n",
      " 1   ID                           45593 non-null  object \n",
      " 2   Delivery_person_ID           45593 non-null  object \n",
      " 3   Delivery_person_Age          43739 non-null  float64\n",
      " 4   Delivery_person_Ratings      43685 non-null  float64\n",
      " 5   Restaurant_latitude          45593 non-null  float64\n",
      " 6   Restaurant_longitude         45593 non-null  float64\n",
      " 7   Delivery_location_latitude   45593 non-null  float64\n",
      " 8   Delivery_location_longitude  45593 non-null  float64\n",
      " 9   Order_Date                   45593 non-null  object \n",
      " 10  Time_Orderd                  43862 non-null  object \n",
      " 11  Time_Order_picked            45593 non-null  object \n",
      " 12  Weather                      44977 non-null  object \n",
      " 13  Road_traffic_density         44992 non-null  object \n",
      " 14  Vehicle_condition            45593 non-null  int64  \n",
      " 15  Type_of_order                45593 non-null  object \n",
      " 16  Type_of_vehicle              45593 non-null  object \n",
      " 17  multiple_deliveries          44600 non-null  float64\n",
      " 18  Festival                     45365 non-null  object \n",
      " 19  City                         44393 non-null  object \n",
      " 20  Time_taken                   45593 non-null  float64\n",
      "dtypes: float64(8), int64(2), object(11)\n",
      "memory usage: 7.3+ MB\n"
     ]
    }
   ],
   "source": [
    "a.info()"
   ]
  },
  {
   "cell_type": "code",
   "execution_count": 4,
   "id": "f3a63a2e",
   "metadata": {},
   "outputs": [
    {
     "name": "stdout",
     "output_type": "stream",
     "text": [
      "Requirement already satisfied: geopy in c:\\users\\ssaur\\appdata\\local\\programs\\python\\python39\\lib\\site-packages (2.2.0)\n",
      "Requirement already satisfied: geographiclib<2,>=1.49 in c:\\users\\ssaur\\appdata\\local\\programs\\python\\python39\\lib\\site-packages (from geopy) (1.52)\n",
      "Note: you may need to restart the kernel to use updated packages.\n"
     ]
    },
    {
     "name": "stderr",
     "output_type": "stream",
     "text": [
      "WARNING: You are using pip version 22.0.4; however, version 22.2.2 is available.\n",
      "You should consider upgrading via the 'C:\\Users\\ssaur\\AppData\\Local\\Programs\\Python\\Python39\\python.exe -m pip install --upgrade pip' command.\n"
     ]
    }
   ],
   "source": [
    "pip install geopy"
   ]
  },
  {
   "cell_type": "code",
   "execution_count": 5,
   "id": "46550442",
   "metadata": {},
   "outputs": [],
   "source": [
    "import geopy.distance"
   ]
  },
  {
   "cell_type": "code",
   "execution_count": 7,
   "id": "47271f2a",
   "metadata": {},
   "outputs": [],
   "source": [
    "def calculate_dist_lat_long(la1,lo1,la2,lo2):\n",
    "    coords_1 = (la1, lo1)\n",
    "    coords_2 = (la2, lo2)\n",
    "    if(la1>0.00):\n",
    "        result = geopy.distance.great_circle(coords_1, coords_2).km\n",
    "        return result\n",
    "    else:\n",
    "        return float('NaN')"
   ]
  },
  {
   "cell_type": "code",
   "execution_count": 116,
   "id": "c020be23",
   "metadata": {},
   "outputs": [],
   "source": [
    "a['total_distance']=np.vectorize(calculate_dist_lat_long)(a['Restaurant_latitude'],a['Restaurant_longitude'],a['Delivery_location_latitude'],a['Delivery_location_longitude'])"
   ]
  },
  {
   "cell_type": "code",
   "execution_count": 117,
   "id": "0d712e6b",
   "metadata": {},
   "outputs": [],
   "source": [
    "#drop the non-required columns\n",
    "a.drop(columns=['Unnamed: 0','ID','Restaurant_latitude','Restaurant_longitude','Type_of_order','Delivery_location_latitude','Delivery_location_longitude','Order_Date','Time_Orderd','Time_Order_picked'],inplace=True)"
   ]
  },
  {
   "cell_type": "code",
   "execution_count": 118,
   "id": "1b2dd4c2",
   "metadata": {},
   "outputs": [
    {
     "name": "stdout",
     "output_type": "stream",
     "text": [
      "<class 'pandas.core.frame.DataFrame'>\n",
      "RangeIndex: 45593 entries, 0 to 45592\n",
      "Data columns (total 12 columns):\n",
      " #   Column                   Non-Null Count  Dtype  \n",
      "---  ------                   --------------  -----  \n",
      " 0   Delivery_person_ID       45593 non-null  object \n",
      " 1   Delivery_person_Age      43739 non-null  float64\n",
      " 2   Delivery_person_Ratings  43685 non-null  float64\n",
      " 3   Weather                  44977 non-null  object \n",
      " 4   Road_traffic_density     44992 non-null  object \n",
      " 5   Vehicle_condition        45593 non-null  int64  \n",
      " 6   Type_of_vehicle          45593 non-null  object \n",
      " 7   multiple_deliveries      44600 non-null  float64\n",
      " 8   Festival                 45365 non-null  object \n",
      " 9   City                     44393 non-null  object \n",
      " 10  Time_taken               45593 non-null  float64\n",
      " 11  total_distance           41522 non-null  float64\n",
      "dtypes: float64(5), int64(1), object(6)\n",
      "memory usage: 4.2+ MB\n"
     ]
    }
   ],
   "source": [
    "a.info()"
   ]
  },
  {
   "cell_type": "code",
   "execution_count": 119,
   "id": "1ac13492",
   "metadata": {
    "scrolled": true
   },
   "outputs": [
    {
     "data": {
      "text/html": [
       "<div>\n",
       "<style scoped>\n",
       "    .dataframe tbody tr th:only-of-type {\n",
       "        vertical-align: middle;\n",
       "    }\n",
       "\n",
       "    .dataframe tbody tr th {\n",
       "        vertical-align: top;\n",
       "    }\n",
       "\n",
       "    .dataframe thead th {\n",
       "        text-align: right;\n",
       "    }\n",
       "</style>\n",
       "<table border=\"1\" class=\"dataframe\">\n",
       "  <thead>\n",
       "    <tr style=\"text-align: right;\">\n",
       "      <th></th>\n",
       "      <th>Delivery_person_ID</th>\n",
       "      <th>Delivery_person_Age</th>\n",
       "      <th>Delivery_person_Ratings</th>\n",
       "      <th>Weather</th>\n",
       "      <th>Road_traffic_density</th>\n",
       "      <th>Vehicle_condition</th>\n",
       "      <th>Type_of_vehicle</th>\n",
       "      <th>multiple_deliveries</th>\n",
       "      <th>Festival</th>\n",
       "      <th>City</th>\n",
       "      <th>Time_taken</th>\n",
       "      <th>total_distance</th>\n",
       "    </tr>\n",
       "  </thead>\n",
       "  <tbody>\n",
       "    <tr>\n",
       "      <th>0</th>\n",
       "      <td>INDORES13DEL02</td>\n",
       "      <td>37.0</td>\n",
       "      <td>4.9</td>\n",
       "      <td>Sunny</td>\n",
       "      <td>High</td>\n",
       "      <td>2</td>\n",
       "      <td>motorcycle</td>\n",
       "      <td>0.0</td>\n",
       "      <td>No</td>\n",
       "      <td>Urban</td>\n",
       "      <td>24.0</td>\n",
       "      <td>3.025154</td>\n",
       "    </tr>\n",
       "    <tr>\n",
       "      <th>1</th>\n",
       "      <td>BANGRES18DEL02</td>\n",
       "      <td>34.0</td>\n",
       "      <td>4.5</td>\n",
       "      <td>Stormy</td>\n",
       "      <td>Jam</td>\n",
       "      <td>2</td>\n",
       "      <td>scooter</td>\n",
       "      <td>1.0</td>\n",
       "      <td>No</td>\n",
       "      <td>Metropolitian</td>\n",
       "      <td>33.0</td>\n",
       "      <td>20.183558</td>\n",
       "    </tr>\n",
       "    <tr>\n",
       "      <th>2</th>\n",
       "      <td>BANGRES19DEL01</td>\n",
       "      <td>23.0</td>\n",
       "      <td>4.4</td>\n",
       "      <td>Sandstorms</td>\n",
       "      <td>Low</td>\n",
       "      <td>0</td>\n",
       "      <td>motorcycle</td>\n",
       "      <td>1.0</td>\n",
       "      <td>No</td>\n",
       "      <td>Urban</td>\n",
       "      <td>26.0</td>\n",
       "      <td>1.552760</td>\n",
       "    </tr>\n",
       "    <tr>\n",
       "      <th>3</th>\n",
       "      <td>COIMBRES13DEL02</td>\n",
       "      <td>38.0</td>\n",
       "      <td>4.7</td>\n",
       "      <td>Sunny</td>\n",
       "      <td>Medium</td>\n",
       "      <td>0</td>\n",
       "      <td>motorcycle</td>\n",
       "      <td>1.0</td>\n",
       "      <td>No</td>\n",
       "      <td>Metropolitian</td>\n",
       "      <td>21.0</td>\n",
       "      <td>7.790412</td>\n",
       "    </tr>\n",
       "    <tr>\n",
       "      <th>4</th>\n",
       "      <td>CHENRES12DEL01</td>\n",
       "      <td>32.0</td>\n",
       "      <td>4.6</td>\n",
       "      <td>Cloudy</td>\n",
       "      <td>High</td>\n",
       "      <td>1</td>\n",
       "      <td>scooter</td>\n",
       "      <td>1.0</td>\n",
       "      <td>No</td>\n",
       "      <td>Metropolitian</td>\n",
       "      <td>30.0</td>\n",
       "      <td>6.210147</td>\n",
       "    </tr>\n",
       "    <tr>\n",
       "      <th>...</th>\n",
       "      <td>...</td>\n",
       "      <td>...</td>\n",
       "      <td>...</td>\n",
       "      <td>...</td>\n",
       "      <td>...</td>\n",
       "      <td>...</td>\n",
       "      <td>...</td>\n",
       "      <td>...</td>\n",
       "      <td>...</td>\n",
       "      <td>...</td>\n",
       "      <td>...</td>\n",
       "      <td>...</td>\n",
       "    </tr>\n",
       "    <tr>\n",
       "      <th>45588</th>\n",
       "      <td>JAPRES04DEL01</td>\n",
       "      <td>30.0</td>\n",
       "      <td>4.8</td>\n",
       "      <td>Windy</td>\n",
       "      <td>High</td>\n",
       "      <td>1</td>\n",
       "      <td>motorcycle</td>\n",
       "      <td>0.0</td>\n",
       "      <td>No</td>\n",
       "      <td>Metropolitian</td>\n",
       "      <td>32.0</td>\n",
       "      <td>1.489848</td>\n",
       "    </tr>\n",
       "    <tr>\n",
       "      <th>45589</th>\n",
       "      <td>AGRRES16DEL01</td>\n",
       "      <td>21.0</td>\n",
       "      <td>4.6</td>\n",
       "      <td>Windy</td>\n",
       "      <td>Jam</td>\n",
       "      <td>0</td>\n",
       "      <td>motorcycle</td>\n",
       "      <td>1.0</td>\n",
       "      <td>No</td>\n",
       "      <td>Metropolitian</td>\n",
       "      <td>36.0</td>\n",
       "      <td>NaN</td>\n",
       "    </tr>\n",
       "    <tr>\n",
       "      <th>45590</th>\n",
       "      <td>CHENRES08DEL03</td>\n",
       "      <td>30.0</td>\n",
       "      <td>4.9</td>\n",
       "      <td>Cloudy</td>\n",
       "      <td>Low</td>\n",
       "      <td>1</td>\n",
       "      <td>scooter</td>\n",
       "      <td>0.0</td>\n",
       "      <td>No</td>\n",
       "      <td>Metropolitian</td>\n",
       "      <td>16.0</td>\n",
       "      <td>4.657202</td>\n",
       "    </tr>\n",
       "    <tr>\n",
       "      <th>45591</th>\n",
       "      <td>COIMBRES11DEL01</td>\n",
       "      <td>20.0</td>\n",
       "      <td>4.7</td>\n",
       "      <td>Cloudy</td>\n",
       "      <td>High</td>\n",
       "      <td>0</td>\n",
       "      <td>motorcycle</td>\n",
       "      <td>1.0</td>\n",
       "      <td>No</td>\n",
       "      <td>Metropolitian</td>\n",
       "      <td>26.0</td>\n",
       "      <td>6.232402</td>\n",
       "    </tr>\n",
       "    <tr>\n",
       "      <th>45592</th>\n",
       "      <td>RANCHIRES09DEL02</td>\n",
       "      <td>23.0</td>\n",
       "      <td>4.9</td>\n",
       "      <td>Fog</td>\n",
       "      <td>Medium</td>\n",
       "      <td>2</td>\n",
       "      <td>scooter</td>\n",
       "      <td>1.0</td>\n",
       "      <td>No</td>\n",
       "      <td>Metropolitian</td>\n",
       "      <td>36.0</td>\n",
       "      <td>12.074413</td>\n",
       "    </tr>\n",
       "  </tbody>\n",
       "</table>\n",
       "<p>45593 rows × 12 columns</p>\n",
       "</div>"
      ],
      "text/plain": [
       "      Delivery_person_ID  Delivery_person_Age  Delivery_person_Ratings  \\\n",
       "0         INDORES13DEL02                 37.0                      4.9   \n",
       "1         BANGRES18DEL02                 34.0                      4.5   \n",
       "2         BANGRES19DEL01                 23.0                      4.4   \n",
       "3        COIMBRES13DEL02                 38.0                      4.7   \n",
       "4         CHENRES12DEL01                 32.0                      4.6   \n",
       "...                  ...                  ...                      ...   \n",
       "45588      JAPRES04DEL01                 30.0                      4.8   \n",
       "45589      AGRRES16DEL01                 21.0                      4.6   \n",
       "45590     CHENRES08DEL03                 30.0                      4.9   \n",
       "45591    COIMBRES11DEL01                 20.0                      4.7   \n",
       "45592   RANCHIRES09DEL02                 23.0                      4.9   \n",
       "\n",
       "          Weather Road_traffic_density  Vehicle_condition Type_of_vehicle  \\\n",
       "0           Sunny                 High                  2      motorcycle   \n",
       "1          Stormy                  Jam                  2         scooter   \n",
       "2      Sandstorms                  Low                  0      motorcycle   \n",
       "3           Sunny               Medium                  0      motorcycle   \n",
       "4          Cloudy                 High                  1         scooter   \n",
       "...           ...                  ...                ...             ...   \n",
       "45588       Windy                 High                  1      motorcycle   \n",
       "45589       Windy                  Jam                  0      motorcycle   \n",
       "45590      Cloudy                  Low                  1         scooter   \n",
       "45591      Cloudy                 High                  0      motorcycle   \n",
       "45592         Fog               Medium                  2         scooter   \n",
       "\n",
       "       multiple_deliveries Festival           City  Time_taken  total_distance  \n",
       "0                      0.0       No          Urban        24.0        3.025154  \n",
       "1                      1.0       No  Metropolitian        33.0       20.183558  \n",
       "2                      1.0       No          Urban        26.0        1.552760  \n",
       "3                      1.0       No  Metropolitian        21.0        7.790412  \n",
       "4                      1.0       No  Metropolitian        30.0        6.210147  \n",
       "...                    ...      ...            ...         ...             ...  \n",
       "45588                  0.0       No  Metropolitian        32.0        1.489848  \n",
       "45589                  1.0       No  Metropolitian        36.0             NaN  \n",
       "45590                  0.0       No  Metropolitian        16.0        4.657202  \n",
       "45591                  1.0       No  Metropolitian        26.0        6.232402  \n",
       "45592                  1.0       No  Metropolitian        36.0       12.074413  \n",
       "\n",
       "[45593 rows x 12 columns]"
      ]
     },
     "execution_count": 119,
     "metadata": {},
     "output_type": "execute_result"
    }
   ],
   "source": [
    "a"
   ]
  },
  {
   "cell_type": "code",
   "execution_count": 147,
   "id": "49c077fd",
   "metadata": {},
   "outputs": [
    {
     "data": {
      "text/plain": [
       "array(['INDORES13DEL02', 'BANGRES18DEL02', 'BANGRES19DEL01', ...,\n",
       "       'KOCRES04DEL01', 'BHPRES06DEL03', 'GOARES03DEL03'], dtype=object)"
      ]
     },
     "execution_count": 147,
     "metadata": {},
     "output_type": "execute_result"
    }
   ],
   "source": [
    "a['Delivery_person_ID'].unique()"
   ]
  },
  {
   "cell_type": "code",
   "execution_count": 152,
   "id": "7ddbf241",
   "metadata": {},
   "outputs": [
    {
     "data": {
      "text/plain": [
       "PUNERES01DEL01    67\n",
       "JAPRES11DEL02     67\n",
       "HYDRES04DEL02     66\n",
       "JAPRES03DEL01     66\n",
       "VADRES11DEL02     66\n",
       "                  ..\n",
       "DEHRES18DEL03      7\n",
       "AURGRES11DEL03     7\n",
       "KOLRES09DEL03      6\n",
       "KOCRES16DEL03      6\n",
       "BHPRES010DEL03     5\n",
       "Name: Delivery_person_ID, Length: 1320, dtype: int64"
      ]
     },
     "execution_count": 152,
     "metadata": {},
     "output_type": "execute_result"
    }
   ],
   "source": [
    "a['Delivery_person_ID'].value_counts()"
   ]
  },
  {
   "cell_type": "code",
   "execution_count": 257,
   "id": "091185cc",
   "metadata": {},
   "outputs": [],
   "source": [
    "threshold = 40"
   ]
  },
  {
   "cell_type": "code",
   "execution_count": 258,
   "id": "07228d9f",
   "metadata": {},
   "outputs": [],
   "source": [
    "counts = a['Delivery_person_ID'].value_counts()"
   ]
  },
  {
   "cell_type": "code",
   "execution_count": 259,
   "id": "594b7e3f",
   "metadata": {},
   "outputs": [],
   "source": [
    "repl = counts[counts<=threshold].index"
   ]
  },
  {
   "cell_type": "code",
   "execution_count": 260,
   "id": "2a2fc8b8",
   "metadata": {},
   "outputs": [],
   "source": [
    "dummy = pd.get_dummies(a['Delivery_person_ID'].replace(repl,'Other'))"
   ]
  },
  {
   "cell_type": "code",
   "execution_count": 261,
   "id": "a499462e",
   "metadata": {},
   "outputs": [],
   "source": [
    "b = pd.concat([a,dummy.set_index(a.index)],axis=1)"
   ]
  },
  {
   "cell_type": "code",
   "execution_count": 262,
   "id": "51c756fb",
   "metadata": {},
   "outputs": [],
   "source": [
    "b = b.drop(columns=['Delivery_person_ID'])"
   ]
  },
  {
   "cell_type": "code",
   "execution_count": 263,
   "id": "307501e7",
   "metadata": {},
   "outputs": [
    {
     "name": "stdout",
     "output_type": "stream",
     "text": [
      "<class 'pandas.core.frame.DataFrame'>\n",
      "RangeIndex: 45593 entries, 0 to 45592\n",
      "Columns: 691 entries, Delivery_person_Age to VADRES20DEL02\n",
      "dtypes: float64(5), int64(1), object(5), uint8(680)\n",
      "memory usage: 33.4+ MB\n"
     ]
    }
   ],
   "source": [
    "b.info()"
   ]
  },
  {
   "cell_type": "code",
   "execution_count": 264,
   "id": "eaa9efa5",
   "metadata": {},
   "outputs": [],
   "source": [
    "X_train,X_test,y_train,y_test = train_test_split(b.drop(columns=['Time_taken']), b['Time_taken'], test_size=0.2, random_state=42)"
   ]
  },
  {
   "cell_type": "code",
   "execution_count": 265,
   "id": "e834b085",
   "metadata": {},
   "outputs": [
    {
     "name": "stdout",
     "output_type": "stream",
     "text": [
      "<class 'pandas.core.frame.DataFrame'>\n",
      "Int64Index: 36474 entries, 29044 to 15795\n",
      "Columns: 690 entries, Delivery_person_Age to VADRES20DEL02\n",
      "dtypes: float64(4), int64(1), object(5), uint8(680)\n",
      "memory usage: 26.7+ MB\n"
     ]
    }
   ],
   "source": [
    "X_train.info()"
   ]
  },
  {
   "cell_type": "code",
   "execution_count": 266,
   "id": "86858c76",
   "metadata": {},
   "outputs": [],
   "source": [
    "#1st Imputation Transformer\n",
    "trf1 = ColumnTransformer([\n",
    "        ('impute_age',SimpleImputer(),[0]),\n",
    "        ('impute_rating',SimpleImputer(),[1]),\n",
    "        ('impute_weather',SimpleImputer(strategy='most_frequent'),[2]),\n",
    "        ('impute_road_traffic_density',SimpleImputer(strategy='most_frequent'),[3]),\n",
    "        ('impute_multiple_deliveries',SimpleImputer(strategy='most_frequent'),[6]),\n",
    "        ('impute_festival',SimpleImputer(strategy='most_frequent'),[7]),\n",
    "        ('impute_city',SimpleImputer(strategy='most_frequent'),[8]),\n",
    "        ('impute_total_distance',SimpleImputer(),[9])\n",
    "    ],remainder='passthrough')"
   ]
  },
  {
   "cell_type": "code",
   "execution_count": 238,
   "id": "a92cca67",
   "metadata": {
    "scrolled": true
   },
   "outputs": [
    {
     "data": {
      "text/html": [
       "<style>#sk-container-id-20 {color: black;background-color: white;}#sk-container-id-20 pre{padding: 0;}#sk-container-id-20 div.sk-toggleable {background-color: white;}#sk-container-id-20 label.sk-toggleable__label {cursor: pointer;display: block;width: 100%;margin-bottom: 0;padding: 0.3em;box-sizing: border-box;text-align: center;}#sk-container-id-20 label.sk-toggleable__label-arrow:before {content: \"▸\";float: left;margin-right: 0.25em;color: #696969;}#sk-container-id-20 label.sk-toggleable__label-arrow:hover:before {color: black;}#sk-container-id-20 div.sk-estimator:hover label.sk-toggleable__label-arrow:before {color: black;}#sk-container-id-20 div.sk-toggleable__content {max-height: 0;max-width: 0;overflow: hidden;text-align: left;background-color: #f0f8ff;}#sk-container-id-20 div.sk-toggleable__content pre {margin: 0.2em;color: black;border-radius: 0.25em;background-color: #f0f8ff;}#sk-container-id-20 input.sk-toggleable__control:checked~div.sk-toggleable__content {max-height: 200px;max-width: 100%;overflow: auto;}#sk-container-id-20 input.sk-toggleable__control:checked~label.sk-toggleable__label-arrow:before {content: \"▾\";}#sk-container-id-20 div.sk-estimator input.sk-toggleable__control:checked~label.sk-toggleable__label {background-color: #d4ebff;}#sk-container-id-20 div.sk-label input.sk-toggleable__control:checked~label.sk-toggleable__label {background-color: #d4ebff;}#sk-container-id-20 input.sk-hidden--visually {border: 0;clip: rect(1px 1px 1px 1px);clip: rect(1px, 1px, 1px, 1px);height: 1px;margin: -1px;overflow: hidden;padding: 0;position: absolute;width: 1px;}#sk-container-id-20 div.sk-estimator {font-family: monospace;background-color: #f0f8ff;border: 1px dotted black;border-radius: 0.25em;box-sizing: border-box;margin-bottom: 0.5em;}#sk-container-id-20 div.sk-estimator:hover {background-color: #d4ebff;}#sk-container-id-20 div.sk-parallel-item::after {content: \"\";width: 100%;border-bottom: 1px solid gray;flex-grow: 1;}#sk-container-id-20 div.sk-label:hover label.sk-toggleable__label {background-color: #d4ebff;}#sk-container-id-20 div.sk-serial::before {content: \"\";position: absolute;border-left: 1px solid gray;box-sizing: border-box;top: 0;bottom: 0;left: 50%;z-index: 0;}#sk-container-id-20 div.sk-serial {display: flex;flex-direction: column;align-items: center;background-color: white;padding-right: 0.2em;padding-left: 0.2em;position: relative;}#sk-container-id-20 div.sk-item {position: relative;z-index: 1;}#sk-container-id-20 div.sk-parallel {display: flex;align-items: stretch;justify-content: center;background-color: white;position: relative;}#sk-container-id-20 div.sk-item::before, #sk-container-id-20 div.sk-parallel-item::before {content: \"\";position: absolute;border-left: 1px solid gray;box-sizing: border-box;top: 0;bottom: 0;left: 50%;z-index: -1;}#sk-container-id-20 div.sk-parallel-item {display: flex;flex-direction: column;z-index: 1;position: relative;background-color: white;}#sk-container-id-20 div.sk-parallel-item:first-child::after {align-self: flex-end;width: 50%;}#sk-container-id-20 div.sk-parallel-item:last-child::after {align-self: flex-start;width: 50%;}#sk-container-id-20 div.sk-parallel-item:only-child::after {width: 0;}#sk-container-id-20 div.sk-dashed-wrapped {border: 1px dashed gray;margin: 0 0.4em 0.5em 0.4em;box-sizing: border-box;padding-bottom: 0.4em;background-color: white;}#sk-container-id-20 div.sk-label label {font-family: monospace;font-weight: bold;display: inline-block;line-height: 1.2em;}#sk-container-id-20 div.sk-label-container {text-align: center;}#sk-container-id-20 div.sk-container {/* jupyter's `normalize.less` sets `[hidden] { display: none; }` but bootstrap.min.css set `[hidden] { display: none !important; }` so we also need the `!important` here to be able to override the default hidden behavior on the sphinx rendered scikit-learn.org. See: https://github.com/scikit-learn/scikit-learn/issues/21755 */display: inline-block !important;position: relative;}#sk-container-id-20 div.sk-text-repr-fallback {display: none;}</style><div id=\"sk-container-id-20\" class=\"sk-top-container\"><div class=\"sk-text-repr-fallback\"><pre>ColumnTransformer(remainder=&#x27;passthrough&#x27;,\n",
       "                  transformers=[(&#x27;impute_age&#x27;, SimpleImputer(), [0]),\n",
       "                                (&#x27;impute_rating&#x27;, SimpleImputer(), [1]),\n",
       "                                (&#x27;impute_weather&#x27;,\n",
       "                                 SimpleImputer(strategy=&#x27;most_frequent&#x27;), [2]),\n",
       "                                (&#x27;impute_road_traffic_density&#x27;,\n",
       "                                 SimpleImputer(strategy=&#x27;most_frequent&#x27;), [3]),\n",
       "                                (&#x27;impute_multiple_deliveries&#x27;,\n",
       "                                 SimpleImputer(strategy=&#x27;most_frequent&#x27;), [6]),\n",
       "                                (&#x27;impute_festival&#x27;,\n",
       "                                 SimpleImputer(strategy=&#x27;most_frequent&#x27;), [7]),\n",
       "                                (&#x27;impute_city&#x27;,\n",
       "                                 SimpleImputer(strategy=&#x27;most_frequent&#x27;), [8]),\n",
       "                                (&#x27;impute_total_distance&#x27;, SimpleImputer(),\n",
       "                                 [9])])</pre><b>In a Jupyter environment, please rerun this cell to show the HTML representation or trust the notebook. <br />On GitHub, the HTML representation is unable to render, please try loading this page with nbviewer.org.</b></div><div class=\"sk-container\" hidden><div class=\"sk-item sk-dashed-wrapped\"><div class=\"sk-label-container\"><div class=\"sk-label sk-toggleable\"><input class=\"sk-toggleable__control sk-hidden--visually\" id=\"sk-estimator-id-467\" type=\"checkbox\" ><label for=\"sk-estimator-id-467\" class=\"sk-toggleable__label sk-toggleable__label-arrow\">ColumnTransformer</label><div class=\"sk-toggleable__content\"><pre>ColumnTransformer(remainder=&#x27;passthrough&#x27;,\n",
       "                  transformers=[(&#x27;impute_age&#x27;, SimpleImputer(), [0]),\n",
       "                                (&#x27;impute_rating&#x27;, SimpleImputer(), [1]),\n",
       "                                (&#x27;impute_weather&#x27;,\n",
       "                                 SimpleImputer(strategy=&#x27;most_frequent&#x27;), [2]),\n",
       "                                (&#x27;impute_road_traffic_density&#x27;,\n",
       "                                 SimpleImputer(strategy=&#x27;most_frequent&#x27;), [3]),\n",
       "                                (&#x27;impute_multiple_deliveries&#x27;,\n",
       "                                 SimpleImputer(strategy=&#x27;most_frequent&#x27;), [6]),\n",
       "                                (&#x27;impute_festival&#x27;,\n",
       "                                 SimpleImputer(strategy=&#x27;most_frequent&#x27;), [7]),\n",
       "                                (&#x27;impute_city&#x27;,\n",
       "                                 SimpleImputer(strategy=&#x27;most_frequent&#x27;), [8]),\n",
       "                                (&#x27;impute_total_distance&#x27;, SimpleImputer(),\n",
       "                                 [9])])</pre></div></div></div><div class=\"sk-parallel\"><div class=\"sk-parallel-item\"><div class=\"sk-item\"><div class=\"sk-label-container\"><div class=\"sk-label sk-toggleable\"><input class=\"sk-toggleable__control sk-hidden--visually\" id=\"sk-estimator-id-468\" type=\"checkbox\" ><label for=\"sk-estimator-id-468\" class=\"sk-toggleable__label sk-toggleable__label-arrow\">impute_age</label><div class=\"sk-toggleable__content\"><pre>[0]</pre></div></div></div><div class=\"sk-serial\"><div class=\"sk-item\"><div class=\"sk-estimator sk-toggleable\"><input class=\"sk-toggleable__control sk-hidden--visually\" id=\"sk-estimator-id-469\" type=\"checkbox\" ><label for=\"sk-estimator-id-469\" class=\"sk-toggleable__label sk-toggleable__label-arrow\">SimpleImputer</label><div class=\"sk-toggleable__content\"><pre>SimpleImputer()</pre></div></div></div></div></div></div><div class=\"sk-parallel-item\"><div class=\"sk-item\"><div class=\"sk-label-container\"><div class=\"sk-label sk-toggleable\"><input class=\"sk-toggleable__control sk-hidden--visually\" id=\"sk-estimator-id-470\" type=\"checkbox\" ><label for=\"sk-estimator-id-470\" class=\"sk-toggleable__label sk-toggleable__label-arrow\">impute_rating</label><div class=\"sk-toggleable__content\"><pre>[1]</pre></div></div></div><div class=\"sk-serial\"><div class=\"sk-item\"><div class=\"sk-estimator sk-toggleable\"><input class=\"sk-toggleable__control sk-hidden--visually\" id=\"sk-estimator-id-471\" type=\"checkbox\" ><label for=\"sk-estimator-id-471\" class=\"sk-toggleable__label sk-toggleable__label-arrow\">SimpleImputer</label><div class=\"sk-toggleable__content\"><pre>SimpleImputer()</pre></div></div></div></div></div></div><div class=\"sk-parallel-item\"><div class=\"sk-item\"><div class=\"sk-label-container\"><div class=\"sk-label sk-toggleable\"><input class=\"sk-toggleable__control sk-hidden--visually\" id=\"sk-estimator-id-472\" type=\"checkbox\" ><label for=\"sk-estimator-id-472\" class=\"sk-toggleable__label sk-toggleable__label-arrow\">impute_weather</label><div class=\"sk-toggleable__content\"><pre>[2]</pre></div></div></div><div class=\"sk-serial\"><div class=\"sk-item\"><div class=\"sk-estimator sk-toggleable\"><input class=\"sk-toggleable__control sk-hidden--visually\" id=\"sk-estimator-id-473\" type=\"checkbox\" ><label for=\"sk-estimator-id-473\" class=\"sk-toggleable__label sk-toggleable__label-arrow\">SimpleImputer</label><div class=\"sk-toggleable__content\"><pre>SimpleImputer(strategy=&#x27;most_frequent&#x27;)</pre></div></div></div></div></div></div><div class=\"sk-parallel-item\"><div class=\"sk-item\"><div class=\"sk-label-container\"><div class=\"sk-label sk-toggleable\"><input class=\"sk-toggleable__control sk-hidden--visually\" id=\"sk-estimator-id-474\" type=\"checkbox\" ><label for=\"sk-estimator-id-474\" class=\"sk-toggleable__label sk-toggleable__label-arrow\">impute_road_traffic_density</label><div class=\"sk-toggleable__content\"><pre>[3]</pre></div></div></div><div class=\"sk-serial\"><div class=\"sk-item\"><div class=\"sk-estimator sk-toggleable\"><input class=\"sk-toggleable__control sk-hidden--visually\" id=\"sk-estimator-id-475\" type=\"checkbox\" ><label for=\"sk-estimator-id-475\" class=\"sk-toggleable__label sk-toggleable__label-arrow\">SimpleImputer</label><div class=\"sk-toggleable__content\"><pre>SimpleImputer(strategy=&#x27;most_frequent&#x27;)</pre></div></div></div></div></div></div><div class=\"sk-parallel-item\"><div class=\"sk-item\"><div class=\"sk-label-container\"><div class=\"sk-label sk-toggleable\"><input class=\"sk-toggleable__control sk-hidden--visually\" id=\"sk-estimator-id-476\" type=\"checkbox\" ><label for=\"sk-estimator-id-476\" class=\"sk-toggleable__label sk-toggleable__label-arrow\">impute_multiple_deliveries</label><div class=\"sk-toggleable__content\"><pre>[6]</pre></div></div></div><div class=\"sk-serial\"><div class=\"sk-item\"><div class=\"sk-estimator sk-toggleable\"><input class=\"sk-toggleable__control sk-hidden--visually\" id=\"sk-estimator-id-477\" type=\"checkbox\" ><label for=\"sk-estimator-id-477\" class=\"sk-toggleable__label sk-toggleable__label-arrow\">SimpleImputer</label><div class=\"sk-toggleable__content\"><pre>SimpleImputer(strategy=&#x27;most_frequent&#x27;)</pre></div></div></div></div></div></div><div class=\"sk-parallel-item\"><div class=\"sk-item\"><div class=\"sk-label-container\"><div class=\"sk-label sk-toggleable\"><input class=\"sk-toggleable__control sk-hidden--visually\" id=\"sk-estimator-id-478\" type=\"checkbox\" ><label for=\"sk-estimator-id-478\" class=\"sk-toggleable__label sk-toggleable__label-arrow\">impute_festival</label><div class=\"sk-toggleable__content\"><pre>[7]</pre></div></div></div><div class=\"sk-serial\"><div class=\"sk-item\"><div class=\"sk-estimator sk-toggleable\"><input class=\"sk-toggleable__control sk-hidden--visually\" id=\"sk-estimator-id-479\" type=\"checkbox\" ><label for=\"sk-estimator-id-479\" class=\"sk-toggleable__label sk-toggleable__label-arrow\">SimpleImputer</label><div class=\"sk-toggleable__content\"><pre>SimpleImputer(strategy=&#x27;most_frequent&#x27;)</pre></div></div></div></div></div></div><div class=\"sk-parallel-item\"><div class=\"sk-item\"><div class=\"sk-label-container\"><div class=\"sk-label sk-toggleable\"><input class=\"sk-toggleable__control sk-hidden--visually\" id=\"sk-estimator-id-480\" type=\"checkbox\" ><label for=\"sk-estimator-id-480\" class=\"sk-toggleable__label sk-toggleable__label-arrow\">impute_city</label><div class=\"sk-toggleable__content\"><pre>[8]</pre></div></div></div><div class=\"sk-serial\"><div class=\"sk-item\"><div class=\"sk-estimator sk-toggleable\"><input class=\"sk-toggleable__control sk-hidden--visually\" id=\"sk-estimator-id-481\" type=\"checkbox\" ><label for=\"sk-estimator-id-481\" class=\"sk-toggleable__label sk-toggleable__label-arrow\">SimpleImputer</label><div class=\"sk-toggleable__content\"><pre>SimpleImputer(strategy=&#x27;most_frequent&#x27;)</pre></div></div></div></div></div></div><div class=\"sk-parallel-item\"><div class=\"sk-item\"><div class=\"sk-label-container\"><div class=\"sk-label sk-toggleable\"><input class=\"sk-toggleable__control sk-hidden--visually\" id=\"sk-estimator-id-482\" type=\"checkbox\" ><label for=\"sk-estimator-id-482\" class=\"sk-toggleable__label sk-toggleable__label-arrow\">impute_total_distance</label><div class=\"sk-toggleable__content\"><pre>[9]</pre></div></div></div><div class=\"sk-serial\"><div class=\"sk-item\"><div class=\"sk-estimator sk-toggleable\"><input class=\"sk-toggleable__control sk-hidden--visually\" id=\"sk-estimator-id-483\" type=\"checkbox\" ><label for=\"sk-estimator-id-483\" class=\"sk-toggleable__label sk-toggleable__label-arrow\">SimpleImputer</label><div class=\"sk-toggleable__content\"><pre>SimpleImputer()</pre></div></div></div></div></div></div><div class=\"sk-parallel-item\"><div class=\"sk-item\"><div class=\"sk-label-container\"><div class=\"sk-label sk-toggleable\"><input class=\"sk-toggleable__control sk-hidden--visually\" id=\"sk-estimator-id-484\" type=\"checkbox\" ><label for=\"sk-estimator-id-484\" class=\"sk-toggleable__label sk-toggleable__label-arrow\">remainder</label><div class=\"sk-toggleable__content\"><pre></pre></div></div></div><div class=\"sk-serial\"><div class=\"sk-item\"><div class=\"sk-estimator sk-toggleable\"><input class=\"sk-toggleable__control sk-hidden--visually\" id=\"sk-estimator-id-485\" type=\"checkbox\" ><label for=\"sk-estimator-id-485\" class=\"sk-toggleable__label sk-toggleable__label-arrow\">passthrough</label><div class=\"sk-toggleable__content\"><pre>passthrough</pre></div></div></div></div></div></div></div></div></div></div>"
      ],
      "text/plain": [
       "ColumnTransformer(remainder='passthrough',\n",
       "                  transformers=[('impute_age', SimpleImputer(), [0]),\n",
       "                                ('impute_rating', SimpleImputer(), [1]),\n",
       "                                ('impute_weather',\n",
       "                                 SimpleImputer(strategy='most_frequent'), [2]),\n",
       "                                ('impute_road_traffic_density',\n",
       "                                 SimpleImputer(strategy='most_frequent'), [3]),\n",
       "                                ('impute_multiple_deliveries',\n",
       "                                 SimpleImputer(strategy='most_frequent'), [6]),\n",
       "                                ('impute_festival',\n",
       "                                 SimpleImputer(strategy='most_frequent'), [7]),\n",
       "                                ('impute_city',\n",
       "                                 SimpleImputer(strategy='most_frequent'), [8]),\n",
       "                                ('impute_total_distance', SimpleImputer(),\n",
       "                                 [9])])"
      ]
     },
     "execution_count": 238,
     "metadata": {},
     "output_type": "execute_result"
    }
   ],
   "source": [
    "trf1"
   ]
  },
  {
   "cell_type": "code",
   "execution_count": 239,
   "id": "87b2b642",
   "metadata": {},
   "outputs": [],
   "source": [
    "oe = OrdinalEncoder(categories=[[0,3,2,1],[3.0,2.0,1.0,0.0],['Jam','High','Medium','Low'],['Fog','Cloudy','Windy','Sandstorms','Stormy','Sunny'],['motorcycle','scooter', 'electric_scooter', 'bicycle'],['Semi-Urban', 'Metropolitian', 'Urban'],['Yes','No']])"
   ]
  },
  {
   "cell_type": "code",
   "execution_count": 240,
   "id": "83d99352",
   "metadata": {},
   "outputs": [],
   "source": [
    "#2nd OrdinalEncoder\n",
    "trf2 = ColumnTransformer([\n",
    "    ('impute_age',oe,[8,4,3,2,9,6,5])], remainder='passthrough')"
   ]
  },
  {
   "cell_type": "code",
   "execution_count": 241,
   "id": "0e22e3df",
   "metadata": {},
   "outputs": [
    {
     "name": "stdout",
     "output_type": "stream",
     "text": [
      "<class 'pandas.core.frame.DataFrame'>\n",
      "Int64Index: 36474 entries, 29044 to 15795\n",
      "Columns: 731 entries, Delivery_person_Age to VADRES20DEL03\n",
      "dtypes: float64(4), int64(1), object(5), uint8(721)\n",
      "memory usage: 28.1+ MB\n"
     ]
    }
   ],
   "source": [
    "X_train.info()"
   ]
  },
  {
   "cell_type": "code",
   "execution_count": 242,
   "id": "4ce1498c",
   "metadata": {},
   "outputs": [],
   "source": [
    "#3rd Scaling\n",
    "trf3 = ColumnTransformer([\n",
    "    ('scale', MinMaxScaler(), slice(0,10))\n",
    "])"
   ]
  },
  {
   "cell_type": "code",
   "execution_count": 243,
   "id": "57d8b97f",
   "metadata": {},
   "outputs": [],
   "source": [
    "#5th Model\n",
    "from sklearn.linear_model import LinearRegression\n",
    "trf5 = LinearRegression()"
   ]
  },
  {
   "cell_type": "code",
   "execution_count": 219,
   "id": "61c5c920",
   "metadata": {},
   "outputs": [
    {
     "data": {
      "text/html": [
       "<style>#sk-container-id-18 {color: black;background-color: white;}#sk-container-id-18 pre{padding: 0;}#sk-container-id-18 div.sk-toggleable {background-color: white;}#sk-container-id-18 label.sk-toggleable__label {cursor: pointer;display: block;width: 100%;margin-bottom: 0;padding: 0.3em;box-sizing: border-box;text-align: center;}#sk-container-id-18 label.sk-toggleable__label-arrow:before {content: \"▸\";float: left;margin-right: 0.25em;color: #696969;}#sk-container-id-18 label.sk-toggleable__label-arrow:hover:before {color: black;}#sk-container-id-18 div.sk-estimator:hover label.sk-toggleable__label-arrow:before {color: black;}#sk-container-id-18 div.sk-toggleable__content {max-height: 0;max-width: 0;overflow: hidden;text-align: left;background-color: #f0f8ff;}#sk-container-id-18 div.sk-toggleable__content pre {margin: 0.2em;color: black;border-radius: 0.25em;background-color: #f0f8ff;}#sk-container-id-18 input.sk-toggleable__control:checked~div.sk-toggleable__content {max-height: 200px;max-width: 100%;overflow: auto;}#sk-container-id-18 input.sk-toggleable__control:checked~label.sk-toggleable__label-arrow:before {content: \"▾\";}#sk-container-id-18 div.sk-estimator input.sk-toggleable__control:checked~label.sk-toggleable__label {background-color: #d4ebff;}#sk-container-id-18 div.sk-label input.sk-toggleable__control:checked~label.sk-toggleable__label {background-color: #d4ebff;}#sk-container-id-18 input.sk-hidden--visually {border: 0;clip: rect(1px 1px 1px 1px);clip: rect(1px, 1px, 1px, 1px);height: 1px;margin: -1px;overflow: hidden;padding: 0;position: absolute;width: 1px;}#sk-container-id-18 div.sk-estimator {font-family: monospace;background-color: #f0f8ff;border: 1px dotted black;border-radius: 0.25em;box-sizing: border-box;margin-bottom: 0.5em;}#sk-container-id-18 div.sk-estimator:hover {background-color: #d4ebff;}#sk-container-id-18 div.sk-parallel-item::after {content: \"\";width: 100%;border-bottom: 1px solid gray;flex-grow: 1;}#sk-container-id-18 div.sk-label:hover label.sk-toggleable__label {background-color: #d4ebff;}#sk-container-id-18 div.sk-serial::before {content: \"\";position: absolute;border-left: 1px solid gray;box-sizing: border-box;top: 0;bottom: 0;left: 50%;z-index: 0;}#sk-container-id-18 div.sk-serial {display: flex;flex-direction: column;align-items: center;background-color: white;padding-right: 0.2em;padding-left: 0.2em;position: relative;}#sk-container-id-18 div.sk-item {position: relative;z-index: 1;}#sk-container-id-18 div.sk-parallel {display: flex;align-items: stretch;justify-content: center;background-color: white;position: relative;}#sk-container-id-18 div.sk-item::before, #sk-container-id-18 div.sk-parallel-item::before {content: \"\";position: absolute;border-left: 1px solid gray;box-sizing: border-box;top: 0;bottom: 0;left: 50%;z-index: -1;}#sk-container-id-18 div.sk-parallel-item {display: flex;flex-direction: column;z-index: 1;position: relative;background-color: white;}#sk-container-id-18 div.sk-parallel-item:first-child::after {align-self: flex-end;width: 50%;}#sk-container-id-18 div.sk-parallel-item:last-child::after {align-self: flex-start;width: 50%;}#sk-container-id-18 div.sk-parallel-item:only-child::after {width: 0;}#sk-container-id-18 div.sk-dashed-wrapped {border: 1px dashed gray;margin: 0 0.4em 0.5em 0.4em;box-sizing: border-box;padding-bottom: 0.4em;background-color: white;}#sk-container-id-18 div.sk-label label {font-family: monospace;font-weight: bold;display: inline-block;line-height: 1.2em;}#sk-container-id-18 div.sk-label-container {text-align: center;}#sk-container-id-18 div.sk-container {/* jupyter's `normalize.less` sets `[hidden] { display: none; }` but bootstrap.min.css set `[hidden] { display: none !important; }` so we also need the `!important` here to be able to override the default hidden behavior on the sphinx rendered scikit-learn.org. See: https://github.com/scikit-learn/scikit-learn/issues/21755 */display: inline-block !important;position: relative;}#sk-container-id-18 div.sk-text-repr-fallback {display: none;}</style><div id=\"sk-container-id-18\" class=\"sk-top-container\"><div class=\"sk-text-repr-fallback\"><pre>LinearRegression()</pre><b>In a Jupyter environment, please rerun this cell to show the HTML representation or trust the notebook. <br />On GitHub, the HTML representation is unable to render, please try loading this page with nbviewer.org.</b></div><div class=\"sk-container\" hidden><div class=\"sk-item\"><div class=\"sk-estimator sk-toggleable\"><input class=\"sk-toggleable__control sk-hidden--visually\" id=\"sk-estimator-id-437\" type=\"checkbox\" checked><label for=\"sk-estimator-id-437\" class=\"sk-toggleable__label sk-toggleable__label-arrow\">LinearRegression</label><div class=\"sk-toggleable__content\"><pre>LinearRegression()</pre></div></div></div></div></div>"
      ],
      "text/plain": [
       "LinearRegression()"
      ]
     },
     "execution_count": 219,
     "metadata": {},
     "output_type": "execute_result"
    }
   ],
   "source": [
    "trf5"
   ]
  },
  {
   "cell_type": "code",
   "execution_count": 267,
   "id": "43b7c724",
   "metadata": {},
   "outputs": [],
   "source": [
    "pipe = Pipeline([\n",
    "    ('trf1', trf1),\n",
    "    ('trf2', trf2),\n",
    "    ('trf3', trf3),\n",
    "    ('trf5', trf5)\n",
    "    \n",
    "])"
   ]
  },
  {
   "cell_type": "code",
   "execution_count": 221,
   "id": "9531aa8f",
   "metadata": {},
   "outputs": [],
   "source": [
    "# Display Pipeline\n",
    "from sklearn import set_config\n",
    "set_config(display='diagram')"
   ]
  },
  {
   "cell_type": "code",
   "execution_count": 268,
   "id": "3847397e",
   "metadata": {},
   "outputs": [
    {
     "data": {
      "text/html": [
       "<style>#sk-container-id-22 {color: black;background-color: white;}#sk-container-id-22 pre{padding: 0;}#sk-container-id-22 div.sk-toggleable {background-color: white;}#sk-container-id-22 label.sk-toggleable__label {cursor: pointer;display: block;width: 100%;margin-bottom: 0;padding: 0.3em;box-sizing: border-box;text-align: center;}#sk-container-id-22 label.sk-toggleable__label-arrow:before {content: \"▸\";float: left;margin-right: 0.25em;color: #696969;}#sk-container-id-22 label.sk-toggleable__label-arrow:hover:before {color: black;}#sk-container-id-22 div.sk-estimator:hover label.sk-toggleable__label-arrow:before {color: black;}#sk-container-id-22 div.sk-toggleable__content {max-height: 0;max-width: 0;overflow: hidden;text-align: left;background-color: #f0f8ff;}#sk-container-id-22 div.sk-toggleable__content pre {margin: 0.2em;color: black;border-radius: 0.25em;background-color: #f0f8ff;}#sk-container-id-22 input.sk-toggleable__control:checked~div.sk-toggleable__content {max-height: 200px;max-width: 100%;overflow: auto;}#sk-container-id-22 input.sk-toggleable__control:checked~label.sk-toggleable__label-arrow:before {content: \"▾\";}#sk-container-id-22 div.sk-estimator input.sk-toggleable__control:checked~label.sk-toggleable__label {background-color: #d4ebff;}#sk-container-id-22 div.sk-label input.sk-toggleable__control:checked~label.sk-toggleable__label {background-color: #d4ebff;}#sk-container-id-22 input.sk-hidden--visually {border: 0;clip: rect(1px 1px 1px 1px);clip: rect(1px, 1px, 1px, 1px);height: 1px;margin: -1px;overflow: hidden;padding: 0;position: absolute;width: 1px;}#sk-container-id-22 div.sk-estimator {font-family: monospace;background-color: #f0f8ff;border: 1px dotted black;border-radius: 0.25em;box-sizing: border-box;margin-bottom: 0.5em;}#sk-container-id-22 div.sk-estimator:hover {background-color: #d4ebff;}#sk-container-id-22 div.sk-parallel-item::after {content: \"\";width: 100%;border-bottom: 1px solid gray;flex-grow: 1;}#sk-container-id-22 div.sk-label:hover label.sk-toggleable__label {background-color: #d4ebff;}#sk-container-id-22 div.sk-serial::before {content: \"\";position: absolute;border-left: 1px solid gray;box-sizing: border-box;top: 0;bottom: 0;left: 50%;z-index: 0;}#sk-container-id-22 div.sk-serial {display: flex;flex-direction: column;align-items: center;background-color: white;padding-right: 0.2em;padding-left: 0.2em;position: relative;}#sk-container-id-22 div.sk-item {position: relative;z-index: 1;}#sk-container-id-22 div.sk-parallel {display: flex;align-items: stretch;justify-content: center;background-color: white;position: relative;}#sk-container-id-22 div.sk-item::before, #sk-container-id-22 div.sk-parallel-item::before {content: \"\";position: absolute;border-left: 1px solid gray;box-sizing: border-box;top: 0;bottom: 0;left: 50%;z-index: -1;}#sk-container-id-22 div.sk-parallel-item {display: flex;flex-direction: column;z-index: 1;position: relative;background-color: white;}#sk-container-id-22 div.sk-parallel-item:first-child::after {align-self: flex-end;width: 50%;}#sk-container-id-22 div.sk-parallel-item:last-child::after {align-self: flex-start;width: 50%;}#sk-container-id-22 div.sk-parallel-item:only-child::after {width: 0;}#sk-container-id-22 div.sk-dashed-wrapped {border: 1px dashed gray;margin: 0 0.4em 0.5em 0.4em;box-sizing: border-box;padding-bottom: 0.4em;background-color: white;}#sk-container-id-22 div.sk-label label {font-family: monospace;font-weight: bold;display: inline-block;line-height: 1.2em;}#sk-container-id-22 div.sk-label-container {text-align: center;}#sk-container-id-22 div.sk-container {/* jupyter's `normalize.less` sets `[hidden] { display: none; }` but bootstrap.min.css set `[hidden] { display: none !important; }` so we also need the `!important` here to be able to override the default hidden behavior on the sphinx rendered scikit-learn.org. See: https://github.com/scikit-learn/scikit-learn/issues/21755 */display: inline-block !important;position: relative;}#sk-container-id-22 div.sk-text-repr-fallback {display: none;}</style><div id=\"sk-container-id-22\" class=\"sk-top-container\"><div class=\"sk-text-repr-fallback\"><pre>Pipeline(steps=[(&#x27;trf1&#x27;,\n",
       "                 ColumnTransformer(remainder=&#x27;passthrough&#x27;,\n",
       "                                   transformers=[(&#x27;impute_age&#x27;, SimpleImputer(),\n",
       "                                                  [0]),\n",
       "                                                 (&#x27;impute_rating&#x27;,\n",
       "                                                  SimpleImputer(), [1]),\n",
       "                                                 (&#x27;impute_weather&#x27;,\n",
       "                                                  SimpleImputer(strategy=&#x27;most_frequent&#x27;),\n",
       "                                                  [2]),\n",
       "                                                 (&#x27;impute_road_traffic_density&#x27;,\n",
       "                                                  SimpleImputer(strategy=&#x27;most_frequent&#x27;),\n",
       "                                                  [3]),\n",
       "                                                 (&#x27;impute_multiple_deliveries&#x27;,\n",
       "                                                  SimpleImputer(strategy=&#x27;most...\n",
       "                                                                              2,\n",
       "                                                                              1],\n",
       "                                                                             [3.0,\n",
       "                                                                              2.0,\n",
       "                                                                              1.0,\n",
       "                                                                              0.0],\n",
       "                                                                             [&#x27;Jam&#x27;,\n",
       "                                                                              &#x27;High&#x27;,\n",
       "                                                                              &#x27;Medium&#x27;,\n",
       "                                                                              &#x27;Low&#x27;],\n",
       "                                                                             [&#x27;Fog&#x27;,\n",
       "                                                                              &#x27;Cloudy&#x27;,\n",
       "                                                                              &#x27;Windy&#x27;,\n",
       "                                                                              &#x27;Sandstorms&#x27;,\n",
       "                                                                              &#x27;Stormy&#x27;,\n",
       "                                                                              &#x27;Sunny&#x27;],\n",
       "                                                                             [&#x27;motorcycle&#x27;,\n",
       "                                                                              &#x27;scooter&#x27;,\n",
       "                                                                              &#x27;electric_scooter&#x27;,\n",
       "                                                                              &#x27;bicycle&#x27;],\n",
       "                                                                             [&#x27;Semi-Urban&#x27;,\n",
       "                                                                              &#x27;Metropolitian&#x27;,\n",
       "                                                                              &#x27;Urban&#x27;],\n",
       "                                                                             [&#x27;Yes&#x27;,\n",
       "                                                                              &#x27;No&#x27;]]),\n",
       "                                                  [8, 4, 3, 2, 9, 6, 5])])),\n",
       "                (&#x27;trf3&#x27;,\n",
       "                 ColumnTransformer(transformers=[(&#x27;scale&#x27;, MinMaxScaler(),\n",
       "                                                  slice(0, 10, None))])),\n",
       "                (&#x27;trf5&#x27;, LinearRegression())])</pre><b>In a Jupyter environment, please rerun this cell to show the HTML representation or trust the notebook. <br />On GitHub, the HTML representation is unable to render, please try loading this page with nbviewer.org.</b></div><div class=\"sk-container\" hidden><div class=\"sk-item sk-dashed-wrapped\"><div class=\"sk-label-container\"><div class=\"sk-label sk-toggleable\"><input class=\"sk-toggleable__control sk-hidden--visually\" id=\"sk-estimator-id-515\" type=\"checkbox\" ><label for=\"sk-estimator-id-515\" class=\"sk-toggleable__label sk-toggleable__label-arrow\">Pipeline</label><div class=\"sk-toggleable__content\"><pre>Pipeline(steps=[(&#x27;trf1&#x27;,\n",
       "                 ColumnTransformer(remainder=&#x27;passthrough&#x27;,\n",
       "                                   transformers=[(&#x27;impute_age&#x27;, SimpleImputer(),\n",
       "                                                  [0]),\n",
       "                                                 (&#x27;impute_rating&#x27;,\n",
       "                                                  SimpleImputer(), [1]),\n",
       "                                                 (&#x27;impute_weather&#x27;,\n",
       "                                                  SimpleImputer(strategy=&#x27;most_frequent&#x27;),\n",
       "                                                  [2]),\n",
       "                                                 (&#x27;impute_road_traffic_density&#x27;,\n",
       "                                                  SimpleImputer(strategy=&#x27;most_frequent&#x27;),\n",
       "                                                  [3]),\n",
       "                                                 (&#x27;impute_multiple_deliveries&#x27;,\n",
       "                                                  SimpleImputer(strategy=&#x27;most...\n",
       "                                                                              2,\n",
       "                                                                              1],\n",
       "                                                                             [3.0,\n",
       "                                                                              2.0,\n",
       "                                                                              1.0,\n",
       "                                                                              0.0],\n",
       "                                                                             [&#x27;Jam&#x27;,\n",
       "                                                                              &#x27;High&#x27;,\n",
       "                                                                              &#x27;Medium&#x27;,\n",
       "                                                                              &#x27;Low&#x27;],\n",
       "                                                                             [&#x27;Fog&#x27;,\n",
       "                                                                              &#x27;Cloudy&#x27;,\n",
       "                                                                              &#x27;Windy&#x27;,\n",
       "                                                                              &#x27;Sandstorms&#x27;,\n",
       "                                                                              &#x27;Stormy&#x27;,\n",
       "                                                                              &#x27;Sunny&#x27;],\n",
       "                                                                             [&#x27;motorcycle&#x27;,\n",
       "                                                                              &#x27;scooter&#x27;,\n",
       "                                                                              &#x27;electric_scooter&#x27;,\n",
       "                                                                              &#x27;bicycle&#x27;],\n",
       "                                                                             [&#x27;Semi-Urban&#x27;,\n",
       "                                                                              &#x27;Metropolitian&#x27;,\n",
       "                                                                              &#x27;Urban&#x27;],\n",
       "                                                                             [&#x27;Yes&#x27;,\n",
       "                                                                              &#x27;No&#x27;]]),\n",
       "                                                  [8, 4, 3, 2, 9, 6, 5])])),\n",
       "                (&#x27;trf3&#x27;,\n",
       "                 ColumnTransformer(transformers=[(&#x27;scale&#x27;, MinMaxScaler(),\n",
       "                                                  slice(0, 10, None))])),\n",
       "                (&#x27;trf5&#x27;, LinearRegression())])</pre></div></div></div><div class=\"sk-serial\"><div class=\"sk-item sk-dashed-wrapped\"><div class=\"sk-label-container\"><div class=\"sk-label sk-toggleable\"><input class=\"sk-toggleable__control sk-hidden--visually\" id=\"sk-estimator-id-516\" type=\"checkbox\" ><label for=\"sk-estimator-id-516\" class=\"sk-toggleable__label sk-toggleable__label-arrow\">trf1: ColumnTransformer</label><div class=\"sk-toggleable__content\"><pre>ColumnTransformer(remainder=&#x27;passthrough&#x27;,\n",
       "                  transformers=[(&#x27;impute_age&#x27;, SimpleImputer(), [0]),\n",
       "                                (&#x27;impute_rating&#x27;, SimpleImputer(), [1]),\n",
       "                                (&#x27;impute_weather&#x27;,\n",
       "                                 SimpleImputer(strategy=&#x27;most_frequent&#x27;), [2]),\n",
       "                                (&#x27;impute_road_traffic_density&#x27;,\n",
       "                                 SimpleImputer(strategy=&#x27;most_frequent&#x27;), [3]),\n",
       "                                (&#x27;impute_multiple_deliveries&#x27;,\n",
       "                                 SimpleImputer(strategy=&#x27;most_frequent&#x27;), [6]),\n",
       "                                (&#x27;impute_festival&#x27;,\n",
       "                                 SimpleImputer(strategy=&#x27;most_frequent&#x27;), [7]),\n",
       "                                (&#x27;impute_city&#x27;,\n",
       "                                 SimpleImputer(strategy=&#x27;most_frequent&#x27;), [8]),\n",
       "                                (&#x27;impute_total_distance&#x27;, SimpleImputer(),\n",
       "                                 [9])])</pre></div></div></div><div class=\"sk-parallel\"><div class=\"sk-parallel-item\"><div class=\"sk-item\"><div class=\"sk-label-container\"><div class=\"sk-label sk-toggleable\"><input class=\"sk-toggleable__control sk-hidden--visually\" id=\"sk-estimator-id-517\" type=\"checkbox\" ><label for=\"sk-estimator-id-517\" class=\"sk-toggleable__label sk-toggleable__label-arrow\">impute_age</label><div class=\"sk-toggleable__content\"><pre>[0]</pre></div></div></div><div class=\"sk-serial\"><div class=\"sk-item\"><div class=\"sk-estimator sk-toggleable\"><input class=\"sk-toggleable__control sk-hidden--visually\" id=\"sk-estimator-id-518\" type=\"checkbox\" ><label for=\"sk-estimator-id-518\" class=\"sk-toggleable__label sk-toggleable__label-arrow\">SimpleImputer</label><div class=\"sk-toggleable__content\"><pre>SimpleImputer()</pre></div></div></div></div></div></div><div class=\"sk-parallel-item\"><div class=\"sk-item\"><div class=\"sk-label-container\"><div class=\"sk-label sk-toggleable\"><input class=\"sk-toggleable__control sk-hidden--visually\" id=\"sk-estimator-id-519\" type=\"checkbox\" ><label for=\"sk-estimator-id-519\" class=\"sk-toggleable__label sk-toggleable__label-arrow\">impute_rating</label><div class=\"sk-toggleable__content\"><pre>[1]</pre></div></div></div><div class=\"sk-serial\"><div class=\"sk-item\"><div class=\"sk-estimator sk-toggleable\"><input class=\"sk-toggleable__control sk-hidden--visually\" id=\"sk-estimator-id-520\" type=\"checkbox\" ><label for=\"sk-estimator-id-520\" class=\"sk-toggleable__label sk-toggleable__label-arrow\">SimpleImputer</label><div class=\"sk-toggleable__content\"><pre>SimpleImputer()</pre></div></div></div></div></div></div><div class=\"sk-parallel-item\"><div class=\"sk-item\"><div class=\"sk-label-container\"><div class=\"sk-label sk-toggleable\"><input class=\"sk-toggleable__control sk-hidden--visually\" id=\"sk-estimator-id-521\" type=\"checkbox\" ><label for=\"sk-estimator-id-521\" class=\"sk-toggleable__label sk-toggleable__label-arrow\">impute_weather</label><div class=\"sk-toggleable__content\"><pre>[2]</pre></div></div></div><div class=\"sk-serial\"><div class=\"sk-item\"><div class=\"sk-estimator sk-toggleable\"><input class=\"sk-toggleable__control sk-hidden--visually\" id=\"sk-estimator-id-522\" type=\"checkbox\" ><label for=\"sk-estimator-id-522\" class=\"sk-toggleable__label sk-toggleable__label-arrow\">SimpleImputer</label><div class=\"sk-toggleable__content\"><pre>SimpleImputer(strategy=&#x27;most_frequent&#x27;)</pre></div></div></div></div></div></div><div class=\"sk-parallel-item\"><div class=\"sk-item\"><div class=\"sk-label-container\"><div class=\"sk-label sk-toggleable\"><input class=\"sk-toggleable__control sk-hidden--visually\" id=\"sk-estimator-id-523\" type=\"checkbox\" ><label for=\"sk-estimator-id-523\" class=\"sk-toggleable__label sk-toggleable__label-arrow\">impute_road_traffic_density</label><div class=\"sk-toggleable__content\"><pre>[3]</pre></div></div></div><div class=\"sk-serial\"><div class=\"sk-item\"><div class=\"sk-estimator sk-toggleable\"><input class=\"sk-toggleable__control sk-hidden--visually\" id=\"sk-estimator-id-524\" type=\"checkbox\" ><label for=\"sk-estimator-id-524\" class=\"sk-toggleable__label sk-toggleable__label-arrow\">SimpleImputer</label><div class=\"sk-toggleable__content\"><pre>SimpleImputer(strategy=&#x27;most_frequent&#x27;)</pre></div></div></div></div></div></div><div class=\"sk-parallel-item\"><div class=\"sk-item\"><div class=\"sk-label-container\"><div class=\"sk-label sk-toggleable\"><input class=\"sk-toggleable__control sk-hidden--visually\" id=\"sk-estimator-id-525\" type=\"checkbox\" ><label for=\"sk-estimator-id-525\" class=\"sk-toggleable__label sk-toggleable__label-arrow\">impute_multiple_deliveries</label><div class=\"sk-toggleable__content\"><pre>[6]</pre></div></div></div><div class=\"sk-serial\"><div class=\"sk-item\"><div class=\"sk-estimator sk-toggleable\"><input class=\"sk-toggleable__control sk-hidden--visually\" id=\"sk-estimator-id-526\" type=\"checkbox\" ><label for=\"sk-estimator-id-526\" class=\"sk-toggleable__label sk-toggleable__label-arrow\">SimpleImputer</label><div class=\"sk-toggleable__content\"><pre>SimpleImputer(strategy=&#x27;most_frequent&#x27;)</pre></div></div></div></div></div></div><div class=\"sk-parallel-item\"><div class=\"sk-item\"><div class=\"sk-label-container\"><div class=\"sk-label sk-toggleable\"><input class=\"sk-toggleable__control sk-hidden--visually\" id=\"sk-estimator-id-527\" type=\"checkbox\" ><label for=\"sk-estimator-id-527\" class=\"sk-toggleable__label sk-toggleable__label-arrow\">impute_festival</label><div class=\"sk-toggleable__content\"><pre>[7]</pre></div></div></div><div class=\"sk-serial\"><div class=\"sk-item\"><div class=\"sk-estimator sk-toggleable\"><input class=\"sk-toggleable__control sk-hidden--visually\" id=\"sk-estimator-id-528\" type=\"checkbox\" ><label for=\"sk-estimator-id-528\" class=\"sk-toggleable__label sk-toggleable__label-arrow\">SimpleImputer</label><div class=\"sk-toggleable__content\"><pre>SimpleImputer(strategy=&#x27;most_frequent&#x27;)</pre></div></div></div></div></div></div><div class=\"sk-parallel-item\"><div class=\"sk-item\"><div class=\"sk-label-container\"><div class=\"sk-label sk-toggleable\"><input class=\"sk-toggleable__control sk-hidden--visually\" id=\"sk-estimator-id-529\" type=\"checkbox\" ><label for=\"sk-estimator-id-529\" class=\"sk-toggleable__label sk-toggleable__label-arrow\">impute_city</label><div class=\"sk-toggleable__content\"><pre>[8]</pre></div></div></div><div class=\"sk-serial\"><div class=\"sk-item\"><div class=\"sk-estimator sk-toggleable\"><input class=\"sk-toggleable__control sk-hidden--visually\" id=\"sk-estimator-id-530\" type=\"checkbox\" ><label for=\"sk-estimator-id-530\" class=\"sk-toggleable__label sk-toggleable__label-arrow\">SimpleImputer</label><div class=\"sk-toggleable__content\"><pre>SimpleImputer(strategy=&#x27;most_frequent&#x27;)</pre></div></div></div></div></div></div><div class=\"sk-parallel-item\"><div class=\"sk-item\"><div class=\"sk-label-container\"><div class=\"sk-label sk-toggleable\"><input class=\"sk-toggleable__control sk-hidden--visually\" id=\"sk-estimator-id-531\" type=\"checkbox\" ><label for=\"sk-estimator-id-531\" class=\"sk-toggleable__label sk-toggleable__label-arrow\">impute_total_distance</label><div class=\"sk-toggleable__content\"><pre>[9]</pre></div></div></div><div class=\"sk-serial\"><div class=\"sk-item\"><div class=\"sk-estimator sk-toggleable\"><input class=\"sk-toggleable__control sk-hidden--visually\" id=\"sk-estimator-id-532\" type=\"checkbox\" ><label for=\"sk-estimator-id-532\" class=\"sk-toggleable__label sk-toggleable__label-arrow\">SimpleImputer</label><div class=\"sk-toggleable__content\"><pre>SimpleImputer()</pre></div></div></div></div></div></div><div class=\"sk-parallel-item\"><div class=\"sk-item\"><div class=\"sk-label-container\"><div class=\"sk-label sk-toggleable\"><input class=\"sk-toggleable__control sk-hidden--visually\" id=\"sk-estimator-id-533\" type=\"checkbox\" ><label for=\"sk-estimator-id-533\" class=\"sk-toggleable__label sk-toggleable__label-arrow\">remainder</label><div class=\"sk-toggleable__content\"><pre>[&#x27;Vehicle_condition&#x27;, &#x27;Type_of_vehicle&#x27;, &#x27;BANGRES010DEL01&#x27;, &#x27;BANGRES010DEL02&#x27;, &#x27;BANGRES010DEL03&#x27;, &#x27;BANGRES01DEL01&#x27;, &#x27;BANGRES01DEL02&#x27;, &#x27;BANGRES01DEL03&#x27;, &#x27;BANGRES02DEL01&#x27;, &#x27;BANGRES02DEL02&#x27;, &#x27;BANGRES02DEL03&#x27;, &#x27;BANGRES03DEL01&#x27;, &#x27;BANGRES03DEL02&#x27;, &#x27;BANGRES03DEL03&#x27;, &#x27;BANGRES04DEL01&#x27;, &#x27;BANGRES04DEL02&#x27;, &#x27;BANGRES05DEL01&#x27;, &#x27;BANGRES05DEL02&#x27;, &#x27;BANGRES05DEL03&#x27;, &#x27;BANGRES06DEL01&#x27;, &#x27;BANGRES06DEL02&#x27;, &#x27;BANGRES06DEL03&#x27;, &#x27;BANGRES07DEL01&#x27;, &#x27;BANGRES07DEL02&#x27;, &#x27;BANGRES07DEL03&#x27;, &#x27;BANGRES08DEL01&#x27;, &#x27;BANGRES08DEL02&#x27;, &#x27;BANGRES09DEL01&#x27;, &#x27;BANGRES09DEL02&#x27;, &#x27;BANGRES09DEL03&#x27;, &#x27;BANGRES11DEL01&#x27;, &#x27;BANGRES11DEL02&#x27;, &#x27;BANGRES12DEL01&#x27;, &#x27;BANGRES12DEL02&#x27;, &#x27;BANGRES12DEL03&#x27;, &#x27;BANGRES13DEL01&#x27;, &#x27;BANGRES13DEL02&#x27;, &#x27;BANGRES14DEL01&#x27;, &#x27;BANGRES14DEL02&#x27;, &#x27;BANGRES14DEL03&#x27;, &#x27;BANGRES15DEL01&#x27;, &#x27;BANGRES15DEL02&#x27;, &#x27;BANGRES15DEL03&#x27;, &#x27;BANGRES16DEL01&#x27;, &#x27;BANGRES16DEL02&#x27;, &#x27;BANGRES16DEL03&#x27;, &#x27;BANGRES17DEL01&#x27;, &#x27;BANGRES17DEL02&#x27;, &#x27;BANGRES17DEL03&#x27;, &#x27;BANGRES18DEL01&#x27;, &#x27;BANGRES18DEL02&#x27;, &#x27;BANGRES18DEL03&#x27;, &#x27;BANGRES19DEL01&#x27;, &#x27;BANGRES19DEL02&#x27;, &#x27;BANGRES20DEL01&#x27;, &#x27;BANGRES20DEL02&#x27;, &#x27;BANGRES20DEL03&#x27;, &#x27;CHENRES010DEL01&#x27;, &#x27;CHENRES010DEL02&#x27;, &#x27;CHENRES010DEL03&#x27;, &#x27;CHENRES01DEL01&#x27;, &#x27;CHENRES01DEL02&#x27;, &#x27;CHENRES01DEL03&#x27;, &#x27;CHENRES02DEL01&#x27;, &#x27;CHENRES02DEL02&#x27;, &#x27;CHENRES03DEL01&#x27;, &#x27;CHENRES03DEL02&#x27;, &#x27;CHENRES03DEL03&#x27;, &#x27;CHENRES04DEL01&#x27;, &#x27;CHENRES04DEL02&#x27;, &#x27;CHENRES04DEL03&#x27;, &#x27;CHENRES05DEL01&#x27;, &#x27;CHENRES05DEL02&#x27;, &#x27;CHENRES05DEL03&#x27;, &#x27;CHENRES06DEL01&#x27;, &#x27;CHENRES06DEL02&#x27;, &#x27;CHENRES06DEL03&#x27;, &#x27;CHENRES07DEL01&#x27;, &#x27;CHENRES07DEL02&#x27;, &#x27;CHENRES07DEL03&#x27;, &#x27;CHENRES08DEL01&#x27;, &#x27;CHENRES08DEL02&#x27;, &#x27;CHENRES08DEL03&#x27;, &#x27;CHENRES09DEL01&#x27;, &#x27;CHENRES09DEL02&#x27;, &#x27;CHENRES11DEL01&#x27;, &#x27;CHENRES11DEL02&#x27;, &#x27;CHENRES12DEL01&#x27;, &#x27;CHENRES12DEL02&#x27;, &#x27;CHENRES12DEL03&#x27;, &#x27;CHENRES13DEL01&#x27;, &#x27;CHENRES13DEL02&#x27;, &#x27;CHENRES13DEL03&#x27;, &#x27;CHENRES14DEL01&#x27;, &#x27;CHENRES14DEL02&#x27;, &#x27;CHENRES14DEL03&#x27;, &#x27;CHENRES15DEL01&#x27;, &#x27;CHENRES15DEL02&#x27;, &#x27;CHENRES15DEL03&#x27;, &#x27;CHENRES16DEL01&#x27;, &#x27;CHENRES16DEL02&#x27;, &#x27;CHENRES16DEL03&#x27;, &#x27;CHENRES17DEL01&#x27;, &#x27;CHENRES17DEL02&#x27;, &#x27;CHENRES17DEL03&#x27;, &#x27;CHENRES18DEL01&#x27;, &#x27;CHENRES18DEL02&#x27;, &#x27;CHENRES19DEL01&#x27;, &#x27;CHENRES19DEL02&#x27;, &#x27;CHENRES19DEL03&#x27;, &#x27;CHENRES20DEL01&#x27;, &#x27;CHENRES20DEL02&#x27;, &#x27;CHENRES20DEL03&#x27;, &#x27;COIMBRES010DEL01&#x27;, &#x27;COIMBRES010DEL02&#x27;, &#x27;COIMBRES010DEL03&#x27;, &#x27;COIMBRES01DEL01&#x27;, &#x27;COIMBRES01DEL02&#x27;, &#x27;COIMBRES01DEL03&#x27;, &#x27;COIMBRES02DEL01&#x27;, &#x27;COIMBRES02DEL02&#x27;, &#x27;COIMBRES02DEL03&#x27;, &#x27;COIMBRES03DEL01&#x27;, &#x27;COIMBRES03DEL02&#x27;, &#x27;COIMBRES03DEL03&#x27;, &#x27;COIMBRES04DEL01&#x27;, &#x27;COIMBRES04DEL02&#x27;, &#x27;COIMBRES04DEL03&#x27;, &#x27;COIMBRES05DEL01&#x27;, &#x27;COIMBRES05DEL02&#x27;, &#x27;COIMBRES05DEL03&#x27;, &#x27;COIMBRES06DEL01&#x27;, &#x27;COIMBRES06DEL02&#x27;, &#x27;COIMBRES06DEL03&#x27;, &#x27;COIMBRES07DEL01&#x27;, &#x27;COIMBRES07DEL02&#x27;, &#x27;COIMBRES07DEL03&#x27;, &#x27;COIMBRES08DEL01&#x27;, &#x27;COIMBRES08DEL02&#x27;, &#x27;COIMBRES09DEL01&#x27;, &#x27;COIMBRES09DEL02&#x27;, &#x27;COIMBRES09DEL03&#x27;, &#x27;COIMBRES11DEL01&#x27;, &#x27;COIMBRES11DEL02&#x27;, &#x27;COIMBRES12DEL01&#x27;, &#x27;COIMBRES12DEL02&#x27;, &#x27;COIMBRES12DEL03&#x27;, &#x27;COIMBRES13DEL01&#x27;, &#x27;COIMBRES13DEL02&#x27;, &#x27;COIMBRES13DEL03&#x27;, &#x27;COIMBRES14DEL01&#x27;, &#x27;COIMBRES14DEL02&#x27;, &#x27;COIMBRES14DEL03&#x27;, &#x27;COIMBRES15DEL01&#x27;, &#x27;COIMBRES15DEL02&#x27;, &#x27;COIMBRES15DEL03&#x27;, &#x27;COIMBRES16DEL01&#x27;, &#x27;COIMBRES16DEL02&#x27;, &#x27;COIMBRES16DEL03&#x27;, &#x27;COIMBRES17DEL01&#x27;, &#x27;COIMBRES17DEL02&#x27;, &#x27;COIMBRES17DEL03&#x27;, &#x27;COIMBRES18DEL01&#x27;, &#x27;COIMBRES18DEL02&#x27;, &#x27;COIMBRES18DEL03&#x27;, &#x27;COIMBRES19DEL01&#x27;, &#x27;COIMBRES19DEL02&#x27;, &#x27;COIMBRES19DEL03&#x27;, &#x27;COIMBRES20DEL01&#x27;, &#x27;COIMBRES20DEL02&#x27;, &#x27;COIMBRES20DEL03&#x27;, &#x27;HYDRES010DEL01&#x27;, &#x27;HYDRES010DEL02&#x27;, &#x27;HYDRES010DEL03&#x27;, &#x27;HYDRES01DEL01&#x27;, &#x27;HYDRES01DEL02&#x27;, &#x27;HYDRES01DEL03&#x27;, &#x27;HYDRES02DEL01&#x27;, &#x27;HYDRES02DEL02&#x27;, &#x27;HYDRES02DEL03&#x27;, &#x27;HYDRES03DEL01&#x27;, &#x27;HYDRES03DEL02&#x27;, &#x27;HYDRES03DEL03&#x27;, &#x27;HYDRES04DEL01&#x27;, &#x27;HYDRES04DEL02&#x27;, &#x27;HYDRES04DEL03&#x27;, &#x27;HYDRES05DEL01&#x27;, &#x27;HYDRES05DEL02&#x27;, &#x27;HYDRES05DEL03&#x27;, &#x27;HYDRES06DEL01&#x27;, &#x27;HYDRES06DEL02&#x27;, &#x27;HYDRES06DEL03&#x27;, &#x27;HYDRES07DEL01&#x27;, &#x27;HYDRES07DEL02&#x27;, &#x27;HYDRES08DEL01&#x27;, &#x27;HYDRES08DEL02&#x27;, &#x27;HYDRES08DEL03&#x27;, &#x27;HYDRES09DEL01&#x27;, &#x27;HYDRES09DEL02&#x27;, &#x27;HYDRES09DEL03&#x27;, &#x27;HYDRES11DEL01&#x27;, &#x27;HYDRES11DEL02&#x27;, &#x27;HYDRES11DEL03&#x27;, &#x27;HYDRES12DEL01&#x27;, &#x27;HYDRES12DEL02&#x27;, &#x27;HYDRES12DEL03&#x27;, &#x27;HYDRES13DEL01&#x27;, &#x27;HYDRES13DEL02&#x27;, &#x27;HYDRES13DEL03&#x27;, &#x27;HYDRES14DEL01&#x27;, &#x27;HYDRES14DEL02&#x27;, &#x27;HYDRES15DEL01&#x27;, &#x27;HYDRES15DEL02&#x27;, &#x27;HYDRES15DEL03&#x27;, &#x27;HYDRES16DEL01&#x27;, &#x27;HYDRES16DEL02&#x27;, &#x27;HYDRES16DEL03&#x27;, &#x27;HYDRES17DEL01&#x27;, &#x27;HYDRES17DEL02&#x27;, &#x27;HYDRES17DEL03&#x27;, &#x27;HYDRES18DEL01&#x27;, &#x27;HYDRES18DEL02&#x27;, &#x27;HYDRES19DEL01&#x27;, &#x27;HYDRES19DEL02&#x27;, &#x27;HYDRES19DEL03&#x27;, &#x27;HYDRES20DEL01&#x27;, &#x27;HYDRES20DEL02&#x27;, &#x27;INDORES010DEL01&#x27;, &#x27;INDORES010DEL02&#x27;, &#x27;INDORES01DEL01&#x27;, &#x27;INDORES01DEL02&#x27;, &#x27;INDORES01DEL03&#x27;, &#x27;INDORES02DEL01&#x27;, &#x27;INDORES02DEL02&#x27;, &#x27;INDORES02DEL03&#x27;, &#x27;INDORES03DEL01&#x27;, &#x27;INDORES03DEL02&#x27;, &#x27;INDORES03DEL03&#x27;, &#x27;INDORES04DEL01&#x27;, &#x27;INDORES04DEL02&#x27;, &#x27;INDORES04DEL03&#x27;, &#x27;INDORES05DEL01&#x27;, &#x27;INDORES05DEL02&#x27;, &#x27;INDORES05DEL03&#x27;, &#x27;INDORES06DEL01&#x27;, &#x27;INDORES06DEL02&#x27;, &#x27;INDORES06DEL03&#x27;, &#x27;INDORES07DEL01&#x27;, &#x27;INDORES07DEL02&#x27;, &#x27;INDORES07DEL03&#x27;, &#x27;INDORES08DEL01&#x27;, &#x27;INDORES08DEL02&#x27;, &#x27;INDORES08DEL03&#x27;, &#x27;INDORES09DEL01&#x27;, &#x27;INDORES09DEL02&#x27;, &#x27;INDORES09DEL03&#x27;, &#x27;INDORES11DEL01&#x27;, &#x27;INDORES11DEL02&#x27;, &#x27;INDORES11DEL03&#x27;, &#x27;INDORES12DEL01&#x27;, &#x27;INDORES12DEL02&#x27;, &#x27;INDORES12DEL03&#x27;, &#x27;INDORES13DEL01&#x27;, &#x27;INDORES13DEL02&#x27;, &#x27;INDORES13DEL03&#x27;, &#x27;INDORES14DEL01&#x27;, &#x27;INDORES14DEL02&#x27;, &#x27;INDORES14DEL03&#x27;, &#x27;INDORES15DEL01&#x27;, &#x27;INDORES15DEL02&#x27;, &#x27;INDORES15DEL03&#x27;, &#x27;INDORES16DEL01&#x27;, &#x27;INDORES16DEL02&#x27;, &#x27;INDORES16DEL03&#x27;, &#x27;INDORES17DEL01&#x27;, &#x27;INDORES17DEL02&#x27;, &#x27;INDORES17DEL03&#x27;, &#x27;INDORES18DEL01&#x27;, &#x27;INDORES18DEL02&#x27;, &#x27;INDORES19DEL01&#x27;, &#x27;INDORES19DEL02&#x27;, &#x27;INDORES20DEL01&#x27;, &#x27;INDORES20DEL02&#x27;, &#x27;INDORES20DEL03&#x27;, &#x27;JAPRES010DEL01&#x27;, &#x27;JAPRES010DEL02&#x27;, &#x27;JAPRES010DEL03&#x27;, &#x27;JAPRES01DEL01&#x27;, &#x27;JAPRES01DEL02&#x27;, &#x27;JAPRES01DEL03&#x27;, &#x27;JAPRES02DEL01&#x27;, &#x27;JAPRES02DEL02&#x27;, &#x27;JAPRES02DEL03&#x27;, &#x27;JAPRES03DEL01&#x27;, &#x27;JAPRES03DEL02&#x27;, &#x27;JAPRES03DEL03&#x27;, &#x27;JAPRES04DEL01&#x27;, &#x27;JAPRES04DEL02&#x27;, &#x27;JAPRES04DEL03&#x27;, &#x27;JAPRES05DEL01&#x27;, &#x27;JAPRES05DEL02&#x27;, &#x27;JAPRES05DEL03&#x27;, &#x27;JAPRES06DEL01&#x27;, &#x27;JAPRES06DEL02&#x27;, &#x27;JAPRES06DEL03&#x27;, &#x27;JAPRES07DEL01&#x27;, &#x27;JAPRES07DEL02&#x27;, &#x27;JAPRES07DEL03&#x27;, &#x27;JAPRES08DEL01&#x27;, &#x27;JAPRES08DEL02&#x27;, &#x27;JAPRES08DEL03&#x27;, &#x27;JAPRES09DEL01&#x27;, &#x27;JAPRES09DEL02&#x27;, &#x27;JAPRES09DEL03&#x27;, &#x27;JAPRES11DEL01&#x27;, &#x27;JAPRES11DEL02&#x27;, &#x27;JAPRES11DEL03&#x27;, &#x27;JAPRES12DEL01&#x27;, &#x27;JAPRES12DEL02&#x27;, &#x27;JAPRES12DEL03&#x27;, &#x27;JAPRES13DEL01&#x27;, &#x27;JAPRES13DEL02&#x27;, &#x27;JAPRES13DEL03&#x27;, &#x27;JAPRES14DEL01&#x27;, &#x27;JAPRES14DEL02&#x27;, &#x27;JAPRES14DEL03&#x27;, &#x27;JAPRES15DEL01&#x27;, &#x27;JAPRES15DEL02&#x27;, &#x27;JAPRES15DEL03&#x27;, &#x27;JAPRES16DEL01&#x27;, &#x27;JAPRES16DEL02&#x27;, &#x27;JAPRES16DEL03&#x27;, &#x27;JAPRES17DEL01&#x27;, &#x27;JAPRES17DEL02&#x27;, &#x27;JAPRES17DEL03&#x27;, &#x27;JAPRES18DEL01&#x27;, &#x27;JAPRES18DEL02&#x27;, &#x27;JAPRES18DEL03&#x27;, &#x27;JAPRES19DEL01&#x27;, &#x27;JAPRES19DEL02&#x27;, &#x27;JAPRES19DEL03&#x27;, &#x27;JAPRES20DEL01&#x27;, &#x27;JAPRES20DEL02&#x27;, &#x27;JAPRES20DEL03&#x27;, &#x27;MUMRES010DEL01&#x27;, &#x27;MUMRES010DEL02&#x27;, &#x27;MUMRES010DEL03&#x27;, &#x27;MUMRES01DEL01&#x27;, &#x27;MUMRES01DEL02&#x27;, &#x27;MUMRES01DEL03&#x27;, &#x27;MUMRES02DEL01&#x27;, &#x27;MUMRES02DEL02&#x27;, &#x27;MUMRES03DEL01&#x27;, &#x27;MUMRES03DEL02&#x27;, &#x27;MUMRES03DEL03&#x27;, &#x27;MUMRES04DEL01&#x27;, &#x27;MUMRES04DEL02&#x27;, &#x27;MUMRES05DEL01&#x27;, &#x27;MUMRES05DEL02&#x27;, &#x27;MUMRES05DEL03&#x27;, &#x27;MUMRES06DEL01&#x27;, &#x27;MUMRES06DEL02&#x27;, &#x27;MUMRES06DEL03&#x27;, &#x27;MUMRES07DEL01&#x27;, &#x27;MUMRES07DEL02&#x27;, &#x27;MUMRES07DEL03&#x27;, &#x27;MUMRES08DEL01&#x27;, &#x27;MUMRES08DEL02&#x27;, &#x27;MUMRES09DEL01&#x27;, &#x27;MUMRES09DEL02&#x27;, &#x27;MUMRES09DEL03&#x27;, &#x27;MUMRES11DEL01&#x27;, &#x27;MUMRES11DEL02&#x27;, &#x27;MUMRES11DEL03&#x27;, &#x27;MUMRES12DEL01&#x27;, &#x27;MUMRES12DEL02&#x27;, &#x27;MUMRES12DEL03&#x27;, &#x27;MUMRES13DEL01&#x27;, &#x27;MUMRES13DEL02&#x27;, &#x27;MUMRES13DEL03&#x27;, &#x27;MUMRES14DEL01&#x27;, &#x27;MUMRES14DEL02&#x27;, &#x27;MUMRES15DEL01&#x27;, &#x27;MUMRES15DEL02&#x27;, &#x27;MUMRES15DEL03&#x27;, &#x27;MUMRES16DEL01&#x27;, &#x27;MUMRES16DEL02&#x27;, &#x27;MUMRES16DEL03&#x27;, &#x27;MUMRES17DEL01&#x27;, &#x27;MUMRES17DEL02&#x27;, &#x27;MUMRES17DEL03&#x27;, &#x27;MUMRES18DEL01&#x27;, &#x27;MUMRES18DEL02&#x27;, &#x27;MUMRES18DEL03&#x27;, &#x27;MUMRES19DEL01&#x27;, &#x27;MUMRES19DEL02&#x27;, &#x27;MUMRES19DEL03&#x27;, &#x27;MUMRES20DEL01&#x27;, &#x27;MUMRES20DEL02&#x27;, &#x27;MUMRES20DEL03&#x27;, &#x27;MYSRES010DEL01&#x27;, &#x27;MYSRES010DEL02&#x27;, &#x27;MYSRES010DEL03&#x27;, &#x27;MYSRES01DEL01&#x27;, &#x27;MYSRES01DEL02&#x27;, &#x27;MYSRES01DEL03&#x27;, &#x27;MYSRES02DEL01&#x27;, &#x27;MYSRES02DEL02&#x27;, &#x27;MYSRES02DEL03&#x27;, &#x27;MYSRES03DEL01&#x27;, &#x27;MYSRES03DEL02&#x27;, &#x27;MYSRES03DEL03&#x27;, &#x27;MYSRES04DEL01&#x27;, &#x27;MYSRES04DEL02&#x27;, &#x27;MYSRES04DEL03&#x27;, &#x27;MYSRES05DEL01&#x27;, &#x27;MYSRES05DEL02&#x27;, &#x27;MYSRES05DEL03&#x27;, &#x27;MYSRES06DEL01&#x27;, &#x27;MYSRES06DEL02&#x27;, &#x27;MYSRES06DEL03&#x27;, &#x27;MYSRES07DEL01&#x27;, &#x27;MYSRES07DEL02&#x27;, &#x27;MYSRES07DEL03&#x27;, &#x27;MYSRES08DEL01&#x27;, &#x27;MYSRES08DEL02&#x27;, &#x27;MYSRES08DEL03&#x27;, &#x27;MYSRES09DEL01&#x27;, &#x27;MYSRES09DEL02&#x27;, &#x27;MYSRES11DEL01&#x27;, &#x27;MYSRES11DEL02&#x27;, &#x27;MYSRES11DEL03&#x27;, &#x27;MYSRES12DEL01&#x27;, &#x27;MYSRES12DEL02&#x27;, &#x27;MYSRES12DEL03&#x27;, &#x27;MYSRES13DEL01&#x27;, &#x27;MYSRES13DEL02&#x27;, &#x27;MYSRES13DEL03&#x27;, &#x27;MYSRES14DEL01&#x27;, &#x27;MYSRES14DEL02&#x27;, &#x27;MYSRES14DEL03&#x27;, &#x27;MYSRES15DEL01&#x27;, &#x27;MYSRES15DEL02&#x27;, &#x27;MYSRES15DEL03&#x27;, &#x27;MYSRES16DEL01&#x27;, &#x27;MYSRES16DEL02&#x27;, &#x27;MYSRES17DEL01&#x27;, &#x27;MYSRES17DEL02&#x27;, &#x27;MYSRES17DEL03&#x27;, &#x27;MYSRES18DEL01&#x27;, &#x27;MYSRES18DEL02&#x27;, &#x27;MYSRES18DEL03&#x27;, &#x27;MYSRES19DEL01&#x27;, &#x27;MYSRES19DEL02&#x27;, &#x27;MYSRES19DEL03&#x27;, &#x27;MYSRES20DEL01&#x27;, &#x27;MYSRES20DEL02&#x27;, &#x27;MYSRES20DEL03&#x27;, &#x27;Other&#x27;, &#x27;PUNERES010DEL01&#x27;, &#x27;PUNERES010DEL02&#x27;, &#x27;PUNERES010DEL03&#x27;, &#x27;PUNERES01DEL01&#x27;, &#x27;PUNERES01DEL02&#x27;, &#x27;PUNERES01DEL03&#x27;, &#x27;PUNERES02DEL01&#x27;, &#x27;PUNERES02DEL02&#x27;, &#x27;PUNERES02DEL03&#x27;, &#x27;PUNERES03DEL01&#x27;, &#x27;PUNERES03DEL02&#x27;, &#x27;PUNERES03DEL03&#x27;, &#x27;PUNERES04DEL01&#x27;, &#x27;PUNERES04DEL02&#x27;, &#x27;PUNERES04DEL03&#x27;, &#x27;PUNERES05DEL01&#x27;, &#x27;PUNERES05DEL02&#x27;, &#x27;PUNERES05DEL03&#x27;, &#x27;PUNERES06DEL01&#x27;, &#x27;PUNERES06DEL02&#x27;, &#x27;PUNERES06DEL03&#x27;, &#x27;PUNERES07DEL01&#x27;, &#x27;PUNERES07DEL02&#x27;, &#x27;PUNERES08DEL01&#x27;, &#x27;PUNERES08DEL02&#x27;, &#x27;PUNERES08DEL03&#x27;, &#x27;PUNERES09DEL01&#x27;, &#x27;PUNERES09DEL02&#x27;, &#x27;PUNERES09DEL03&#x27;, &#x27;PUNERES11DEL01&#x27;, &#x27;PUNERES11DEL02&#x27;, &#x27;PUNERES11DEL03&#x27;, &#x27;PUNERES12DEL01&#x27;, &#x27;PUNERES12DEL02&#x27;, &#x27;PUNERES13DEL01&#x27;, &#x27;PUNERES13DEL02&#x27;, &#x27;PUNERES14DEL01&#x27;, &#x27;PUNERES14DEL02&#x27;, &#x27;PUNERES14DEL03&#x27;, &#x27;PUNERES15DEL01&#x27;, &#x27;PUNERES15DEL02&#x27;, &#x27;PUNERES16DEL01&#x27;, &#x27;PUNERES16DEL02&#x27;, &#x27;PUNERES16DEL03&#x27;, &#x27;PUNERES17DEL01&#x27;, &#x27;PUNERES17DEL02&#x27;, &#x27;PUNERES18DEL01&#x27;, &#x27;PUNERES18DEL02&#x27;, &#x27;PUNERES18DEL03&#x27;, &#x27;PUNERES19DEL01&#x27;, &#x27;PUNERES19DEL02&#x27;, &#x27;PUNERES20DEL01&#x27;, &#x27;PUNERES20DEL02&#x27;, &#x27;PUNERES20DEL03&#x27;, &#x27;RANCHIRES010DEL01&#x27;, &#x27;RANCHIRES010DEL02&#x27;, &#x27;RANCHIRES01DEL01&#x27;, &#x27;RANCHIRES01DEL02&#x27;, &#x27;RANCHIRES01DEL03&#x27;, &#x27;RANCHIRES02DEL01&#x27;, &#x27;RANCHIRES02DEL02&#x27;, &#x27;RANCHIRES02DEL03&#x27;, &#x27;RANCHIRES03DEL01&#x27;, &#x27;RANCHIRES03DEL02&#x27;, &#x27;RANCHIRES03DEL03&#x27;, &#x27;RANCHIRES04DEL01&#x27;, &#x27;RANCHIRES04DEL02&#x27;, &#x27;RANCHIRES04DEL03&#x27;, &#x27;RANCHIRES05DEL01&#x27;, &#x27;RANCHIRES05DEL02&#x27;, &#x27;RANCHIRES05DEL03&#x27;, &#x27;RANCHIRES06DEL01&#x27;, &#x27;RANCHIRES06DEL02&#x27;, &#x27;RANCHIRES06DEL03&#x27;, &#x27;RANCHIRES07DEL01&#x27;, &#x27;RANCHIRES07DEL02&#x27;, &#x27;RANCHIRES07DEL03&#x27;, &#x27;RANCHIRES08DEL01&#x27;, &#x27;RANCHIRES08DEL02&#x27;, &#x27;RANCHIRES08DEL03&#x27;, &#x27;RANCHIRES09DEL01&#x27;, &#x27;RANCHIRES09DEL02&#x27;, &#x27;RANCHIRES09DEL03&#x27;, &#x27;RANCHIRES11DEL01&#x27;, &#x27;RANCHIRES11DEL02&#x27;, &#x27;RANCHIRES11DEL03&#x27;, &#x27;RANCHIRES12DEL01&#x27;, &#x27;RANCHIRES12DEL02&#x27;, &#x27;RANCHIRES12DEL03&#x27;, &#x27;RANCHIRES13DEL01&#x27;, &#x27;RANCHIRES13DEL02&#x27;, &#x27;RANCHIRES14DEL01&#x27;, &#x27;RANCHIRES14DEL02&#x27;, &#x27;RANCHIRES14DEL03&#x27;, &#x27;RANCHIRES15DEL01&#x27;, &#x27;RANCHIRES15DEL02&#x27;, &#x27;RANCHIRES15DEL03&#x27;, &#x27;RANCHIRES16DEL01&#x27;, &#x27;RANCHIRES16DEL02&#x27;, &#x27;RANCHIRES16DEL03&#x27;, &#x27;RANCHIRES17DEL01&#x27;, &#x27;RANCHIRES17DEL02&#x27;, &#x27;RANCHIRES17DEL03&#x27;, &#x27;RANCHIRES18DEL01&#x27;, &#x27;RANCHIRES18DEL02&#x27;, &#x27;RANCHIRES18DEL03&#x27;, &#x27;RANCHIRES19DEL01&#x27;, &#x27;RANCHIRES19DEL02&#x27;, &#x27;RANCHIRES19DEL03&#x27;, &#x27;RANCHIRES20DEL01&#x27;, &#x27;RANCHIRES20DEL02&#x27;, &#x27;RANCHIRES20DEL03&#x27;, &#x27;SURRES010DEL01&#x27;, &#x27;SURRES010DEL02&#x27;, &#x27;SURRES010DEL03&#x27;, &#x27;SURRES01DEL01&#x27;, &#x27;SURRES01DEL02&#x27;, &#x27;SURRES01DEL03&#x27;, &#x27;SURRES02DEL01&#x27;, &#x27;SURRES02DEL02&#x27;, &#x27;SURRES02DEL03&#x27;, &#x27;SURRES03DEL01&#x27;, &#x27;SURRES03DEL02&#x27;, &#x27;SURRES04DEL01&#x27;, &#x27;SURRES04DEL02&#x27;, &#x27;SURRES04DEL03&#x27;, &#x27;SURRES05DEL01&#x27;, &#x27;SURRES05DEL02&#x27;, &#x27;SURRES05DEL03&#x27;, &#x27;SURRES06DEL01&#x27;, &#x27;SURRES06DEL02&#x27;, &#x27;SURRES06DEL03&#x27;, &#x27;SURRES07DEL01&#x27;, &#x27;SURRES07DEL02&#x27;, &#x27;SURRES07DEL03&#x27;, &#x27;SURRES08DEL01&#x27;, &#x27;SURRES08DEL02&#x27;, &#x27;SURRES08DEL03&#x27;, &#x27;SURRES09DEL01&#x27;, &#x27;SURRES09DEL02&#x27;, &#x27;SURRES09DEL03&#x27;, &#x27;SURRES11DEL01&#x27;, &#x27;SURRES11DEL02&#x27;, &#x27;SURRES12DEL01&#x27;, &#x27;SURRES12DEL02&#x27;, &#x27;SURRES12DEL03&#x27;, &#x27;SURRES13DEL01&#x27;, &#x27;SURRES13DEL02&#x27;, &#x27;SURRES13DEL03&#x27;, &#x27;SURRES14DEL01&#x27;, &#x27;SURRES14DEL02&#x27;, &#x27;SURRES15DEL01&#x27;, &#x27;SURRES15DEL02&#x27;, &#x27;SURRES15DEL03&#x27;, &#x27;SURRES16DEL01&#x27;, &#x27;SURRES16DEL02&#x27;, &#x27;SURRES17DEL01&#x27;, &#x27;SURRES17DEL02&#x27;, &#x27;SURRES17DEL03&#x27;, &#x27;SURRES18DEL01&#x27;, &#x27;SURRES18DEL02&#x27;, &#x27;SURRES18DEL03&#x27;, &#x27;SURRES19DEL01&#x27;, &#x27;SURRES19DEL02&#x27;, &#x27;SURRES19DEL03&#x27;, &#x27;SURRES20DEL01&#x27;, &#x27;SURRES20DEL02&#x27;, &#x27;SURRES20DEL03&#x27;, &#x27;VADRES010DEL01&#x27;, &#x27;VADRES010DEL02&#x27;, &#x27;VADRES010DEL03&#x27;, &#x27;VADRES01DEL01&#x27;, &#x27;VADRES01DEL02&#x27;, &#x27;VADRES01DEL03&#x27;, &#x27;VADRES02DEL01&#x27;, &#x27;VADRES02DEL02&#x27;, &#x27;VADRES02DEL03&#x27;, &#x27;VADRES03DEL01&#x27;, &#x27;VADRES03DEL02&#x27;, &#x27;VADRES03DEL03&#x27;, &#x27;VADRES04DEL01&#x27;, &#x27;VADRES04DEL02&#x27;, &#x27;VADRES04DEL03&#x27;, &#x27;VADRES05DEL01&#x27;, &#x27;VADRES05DEL02&#x27;, &#x27;VADRES05DEL03&#x27;, &#x27;VADRES06DEL01&#x27;, &#x27;VADRES06DEL02&#x27;, &#x27;VADRES06DEL03&#x27;, &#x27;VADRES07DEL01&#x27;, &#x27;VADRES07DEL02&#x27;, &#x27;VADRES07DEL03&#x27;, &#x27;VADRES08DEL01&#x27;, &#x27;VADRES08DEL02&#x27;, &#x27;VADRES09DEL01&#x27;, &#x27;VADRES09DEL02&#x27;, &#x27;VADRES09DEL03&#x27;, &#x27;VADRES11DEL01&#x27;, &#x27;VADRES11DEL02&#x27;, &#x27;VADRES11DEL03&#x27;, &#x27;VADRES12DEL01&#x27;, &#x27;VADRES12DEL02&#x27;, &#x27;VADRES12DEL03&#x27;, &#x27;VADRES13DEL01&#x27;, &#x27;VADRES13DEL02&#x27;, &#x27;VADRES14DEL01&#x27;, &#x27;VADRES14DEL02&#x27;, &#x27;VADRES15DEL01&#x27;, &#x27;VADRES15DEL02&#x27;, &#x27;VADRES16DEL01&#x27;, &#x27;VADRES16DEL02&#x27;, &#x27;VADRES16DEL03&#x27;, &#x27;VADRES17DEL01&#x27;, &#x27;VADRES17DEL02&#x27;, &#x27;VADRES17DEL03&#x27;, &#x27;VADRES18DEL01&#x27;, &#x27;VADRES18DEL02&#x27;, &#x27;VADRES18DEL03&#x27;, &#x27;VADRES19DEL01&#x27;, &#x27;VADRES19DEL02&#x27;, &#x27;VADRES19DEL03&#x27;, &#x27;VADRES20DEL01&#x27;, &#x27;VADRES20DEL02&#x27;]</pre></div></div></div><div class=\"sk-serial\"><div class=\"sk-item\"><div class=\"sk-estimator sk-toggleable\"><input class=\"sk-toggleable__control sk-hidden--visually\" id=\"sk-estimator-id-534\" type=\"checkbox\" ><label for=\"sk-estimator-id-534\" class=\"sk-toggleable__label sk-toggleable__label-arrow\">passthrough</label><div class=\"sk-toggleable__content\"><pre>passthrough</pre></div></div></div></div></div></div></div></div><div class=\"sk-item sk-dashed-wrapped\"><div class=\"sk-label-container\"><div class=\"sk-label sk-toggleable\"><input class=\"sk-toggleable__control sk-hidden--visually\" id=\"sk-estimator-id-535\" type=\"checkbox\" ><label for=\"sk-estimator-id-535\" class=\"sk-toggleable__label sk-toggleable__label-arrow\">trf2: ColumnTransformer</label><div class=\"sk-toggleable__content\"><pre>ColumnTransformer(remainder=&#x27;passthrough&#x27;,\n",
       "                  transformers=[(&#x27;impute_age&#x27;,\n",
       "                                 OrdinalEncoder(categories=[[0, 3, 2, 1],\n",
       "                                                            [3.0, 2.0, 1.0,\n",
       "                                                             0.0],\n",
       "                                                            [&#x27;Jam&#x27;, &#x27;High&#x27;,\n",
       "                                                             &#x27;Medium&#x27;, &#x27;Low&#x27;],\n",
       "                                                            [&#x27;Fog&#x27;, &#x27;Cloudy&#x27;,\n",
       "                                                             &#x27;Windy&#x27;,\n",
       "                                                             &#x27;Sandstorms&#x27;,\n",
       "                                                             &#x27;Stormy&#x27;,\n",
       "                                                             &#x27;Sunny&#x27;],\n",
       "                                                            [&#x27;motorcycle&#x27;,\n",
       "                                                             &#x27;scooter&#x27;,\n",
       "                                                             &#x27;electric_scooter&#x27;,\n",
       "                                                             &#x27;bicycle&#x27;],\n",
       "                                                            [&#x27;Semi-Urban&#x27;,\n",
       "                                                             &#x27;Metropolitian&#x27;,\n",
       "                                                             &#x27;Urban&#x27;],\n",
       "                                                            [&#x27;Yes&#x27;, &#x27;No&#x27;]]),\n",
       "                                 [8, 4, 3, 2, 9, 6, 5])])</pre></div></div></div><div class=\"sk-parallel\"><div class=\"sk-parallel-item\"><div class=\"sk-item\"><div class=\"sk-label-container\"><div class=\"sk-label sk-toggleable\"><input class=\"sk-toggleable__control sk-hidden--visually\" id=\"sk-estimator-id-536\" type=\"checkbox\" ><label for=\"sk-estimator-id-536\" class=\"sk-toggleable__label sk-toggleable__label-arrow\">impute_age</label><div class=\"sk-toggleable__content\"><pre>[8, 4, 3, 2, 9, 6, 5]</pre></div></div></div><div class=\"sk-serial\"><div class=\"sk-item\"><div class=\"sk-estimator sk-toggleable\"><input class=\"sk-toggleable__control sk-hidden--visually\" id=\"sk-estimator-id-537\" type=\"checkbox\" ><label for=\"sk-estimator-id-537\" class=\"sk-toggleable__label sk-toggleable__label-arrow\">OrdinalEncoder</label><div class=\"sk-toggleable__content\"><pre>OrdinalEncoder(categories=[[0, 3, 2, 1], [3.0, 2.0, 1.0, 0.0],\n",
       "                           [&#x27;Jam&#x27;, &#x27;High&#x27;, &#x27;Medium&#x27;, &#x27;Low&#x27;],\n",
       "                           [&#x27;Fog&#x27;, &#x27;Cloudy&#x27;, &#x27;Windy&#x27;, &#x27;Sandstorms&#x27;, &#x27;Stormy&#x27;,\n",
       "                            &#x27;Sunny&#x27;],\n",
       "                           [&#x27;motorcycle&#x27;, &#x27;scooter&#x27;, &#x27;electric_scooter&#x27;,\n",
       "                            &#x27;bicycle&#x27;],\n",
       "                           [&#x27;Semi-Urban&#x27;, &#x27;Metropolitian&#x27;, &#x27;Urban&#x27;],\n",
       "                           [&#x27;Yes&#x27;, &#x27;No&#x27;]])</pre></div></div></div></div></div></div><div class=\"sk-parallel-item\"><div class=\"sk-item\"><div class=\"sk-label-container\"><div class=\"sk-label sk-toggleable\"><input class=\"sk-toggleable__control sk-hidden--visually\" id=\"sk-estimator-id-538\" type=\"checkbox\" ><label for=\"sk-estimator-id-538\" class=\"sk-toggleable__label sk-toggleable__label-arrow\">remainder</label><div class=\"sk-toggleable__content\"><pre>[0, 1, 7, 10, 11, 12, 13, 14, 15, 16, 17, 18, 19, 20, 21, 22, 23, 24, 25, 26, 27, 28, 29, 30, 31, 32, 33, 34, 35, 36, 37, 38, 39, 40, 41, 42, 43, 44, 45, 46, 47, 48, 49, 50, 51, 52, 53, 54, 55, 56, 57, 58, 59, 60, 61, 62, 63, 64, 65, 66, 67, 68, 69, 70, 71, 72, 73, 74, 75, 76, 77, 78, 79, 80, 81, 82, 83, 84, 85, 86, 87, 88, 89, 90, 91, 92, 93, 94, 95, 96, 97, 98, 99, 100, 101, 102, 103, 104, 105, 106, 107, 108, 109, 110, 111, 112, 113, 114, 115, 116, 117, 118, 119, 120, 121, 122, 123, 124, 125, 126, 127, 128, 129, 130, 131, 132, 133, 134, 135, 136, 137, 138, 139, 140, 141, 142, 143, 144, 145, 146, 147, 148, 149, 150, 151, 152, 153, 154, 155, 156, 157, 158, 159, 160, 161, 162, 163, 164, 165, 166, 167, 168, 169, 170, 171, 172, 173, 174, 175, 176, 177, 178, 179, 180, 181, 182, 183, 184, 185, 186, 187, 188, 189, 190, 191, 192, 193, 194, 195, 196, 197, 198, 199, 200, 201, 202, 203, 204, 205, 206, 207, 208, 209, 210, 211, 212, 213, 214, 215, 216, 217, 218, 219, 220, 221, 222, 223, 224, 225, 226, 227, 228, 229, 230, 231, 232, 233, 234, 235, 236, 237, 238, 239, 240, 241, 242, 243, 244, 245, 246, 247, 248, 249, 250, 251, 252, 253, 254, 255, 256, 257, 258, 259, 260, 261, 262, 263, 264, 265, 266, 267, 268, 269, 270, 271, 272, 273, 274, 275, 276, 277, 278, 279, 280, 281, 282, 283, 284, 285, 286, 287, 288, 289, 290, 291, 292, 293, 294, 295, 296, 297, 298, 299, 300, 301, 302, 303, 304, 305, 306, 307, 308, 309, 310, 311, 312, 313, 314, 315, 316, 317, 318, 319, 320, 321, 322, 323, 324, 325, 326, 327, 328, 329, 330, 331, 332, 333, 334, 335, 336, 337, 338, 339, 340, 341, 342, 343, 344, 345, 346, 347, 348, 349, 350, 351, 352, 353, 354, 355, 356, 357, 358, 359, 360, 361, 362, 363, 364, 365, 366, 367, 368, 369, 370, 371, 372, 373, 374, 375, 376, 377, 378, 379, 380, 381, 382, 383, 384, 385, 386, 387, 388, 389, 390, 391, 392, 393, 394, 395, 396, 397, 398, 399, 400, 401, 402, 403, 404, 405, 406, 407, 408, 409, 410, 411, 412, 413, 414, 415, 416, 417, 418, 419, 420, 421, 422, 423, 424, 425, 426, 427, 428, 429, 430, 431, 432, 433, 434, 435, 436, 437, 438, 439, 440, 441, 442, 443, 444, 445, 446, 447, 448, 449, 450, 451, 452, 453, 454, 455, 456, 457, 458, 459, 460, 461, 462, 463, 464, 465, 466, 467, 468, 469, 470, 471, 472, 473, 474, 475, 476, 477, 478, 479, 480, 481, 482, 483, 484, 485, 486, 487, 488, 489, 490, 491, 492, 493, 494, 495, 496, 497, 498, 499, 500, 501, 502, 503, 504, 505, 506, 507, 508, 509, 510, 511, 512, 513, 514, 515, 516, 517, 518, 519, 520, 521, 522, 523, 524, 525, 526, 527, 528, 529, 530, 531, 532, 533, 534, 535, 536, 537, 538, 539, 540, 541, 542, 543, 544, 545, 546, 547, 548, 549, 550, 551, 552, 553, 554, 555, 556, 557, 558, 559, 560, 561, 562, 563, 564, 565, 566, 567, 568, 569, 570, 571, 572, 573, 574, 575, 576, 577, 578, 579, 580, 581, 582, 583, 584, 585, 586, 587, 588, 589, 590, 591, 592, 593, 594, 595, 596, 597, 598, 599, 600, 601, 602, 603, 604, 605, 606, 607, 608, 609, 610, 611, 612, 613, 614, 615, 616, 617, 618, 619, 620, 621, 622, 623, 624, 625, 626, 627, 628, 629, 630, 631, 632, 633, 634, 635, 636, 637, 638, 639, 640, 641, 642, 643, 644, 645, 646, 647, 648, 649, 650, 651, 652, 653, 654, 655, 656, 657, 658, 659, 660, 661, 662, 663, 664, 665, 666, 667, 668, 669, 670, 671, 672, 673, 674, 675, 676, 677, 678, 679, 680, 681, 682, 683, 684, 685, 686, 687, 688, 689]</pre></div></div></div><div class=\"sk-serial\"><div class=\"sk-item\"><div class=\"sk-estimator sk-toggleable\"><input class=\"sk-toggleable__control sk-hidden--visually\" id=\"sk-estimator-id-539\" type=\"checkbox\" ><label for=\"sk-estimator-id-539\" class=\"sk-toggleable__label sk-toggleable__label-arrow\">passthrough</label><div class=\"sk-toggleable__content\"><pre>passthrough</pre></div></div></div></div></div></div></div></div><div class=\"sk-item sk-dashed-wrapped\"><div class=\"sk-label-container\"><div class=\"sk-label sk-toggleable\"><input class=\"sk-toggleable__control sk-hidden--visually\" id=\"sk-estimator-id-540\" type=\"checkbox\" ><label for=\"sk-estimator-id-540\" class=\"sk-toggleable__label sk-toggleable__label-arrow\">trf3: ColumnTransformer</label><div class=\"sk-toggleable__content\"><pre>ColumnTransformer(transformers=[(&#x27;scale&#x27;, MinMaxScaler(), slice(0, 10, None))])</pre></div></div></div><div class=\"sk-parallel\"><div class=\"sk-parallel-item\"><div class=\"sk-item\"><div class=\"sk-label-container\"><div class=\"sk-label sk-toggleable\"><input class=\"sk-toggleable__control sk-hidden--visually\" id=\"sk-estimator-id-541\" type=\"checkbox\" ><label for=\"sk-estimator-id-541\" class=\"sk-toggleable__label sk-toggleable__label-arrow\">scale</label><div class=\"sk-toggleable__content\"><pre>slice(0, 10, None)</pre></div></div></div><div class=\"sk-serial\"><div class=\"sk-item\"><div class=\"sk-estimator sk-toggleable\"><input class=\"sk-toggleable__control sk-hidden--visually\" id=\"sk-estimator-id-542\" type=\"checkbox\" ><label for=\"sk-estimator-id-542\" class=\"sk-toggleable__label sk-toggleable__label-arrow\">MinMaxScaler</label><div class=\"sk-toggleable__content\"><pre>MinMaxScaler()</pre></div></div></div></div></div></div></div></div><div class=\"sk-item\"><div class=\"sk-estimator sk-toggleable\"><input class=\"sk-toggleable__control sk-hidden--visually\" id=\"sk-estimator-id-543\" type=\"checkbox\" ><label for=\"sk-estimator-id-543\" class=\"sk-toggleable__label sk-toggleable__label-arrow\">LinearRegression</label><div class=\"sk-toggleable__content\"><pre>LinearRegression()</pre></div></div></div></div></div></div></div>"
      ],
      "text/plain": [
       "Pipeline(steps=[('trf1',\n",
       "                 ColumnTransformer(remainder='passthrough',\n",
       "                                   transformers=[('impute_age', SimpleImputer(),\n",
       "                                                  [0]),\n",
       "                                                 ('impute_rating',\n",
       "                                                  SimpleImputer(), [1]),\n",
       "                                                 ('impute_weather',\n",
       "                                                  SimpleImputer(strategy='most_frequent'),\n",
       "                                                  [2]),\n",
       "                                                 ('impute_road_traffic_density',\n",
       "                                                  SimpleImputer(strategy='most_frequent'),\n",
       "                                                  [3]),\n",
       "                                                 ('impute_multiple_deliveries',\n",
       "                                                  SimpleImputer(strategy='most...\n",
       "                                                                              2,\n",
       "                                                                              1],\n",
       "                                                                             [3.0,\n",
       "                                                                              2.0,\n",
       "                                                                              1.0,\n",
       "                                                                              0.0],\n",
       "                                                                             ['Jam',\n",
       "                                                                              'High',\n",
       "                                                                              'Medium',\n",
       "                                                                              'Low'],\n",
       "                                                                             ['Fog',\n",
       "                                                                              'Cloudy',\n",
       "                                                                              'Windy',\n",
       "                                                                              'Sandstorms',\n",
       "                                                                              'Stormy',\n",
       "                                                                              'Sunny'],\n",
       "                                                                             ['motorcycle',\n",
       "                                                                              'scooter',\n",
       "                                                                              'electric_scooter',\n",
       "                                                                              'bicycle'],\n",
       "                                                                             ['Semi-Urban',\n",
       "                                                                              'Metropolitian',\n",
       "                                                                              'Urban'],\n",
       "                                                                             ['Yes',\n",
       "                                                                              'No']]),\n",
       "                                                  [8, 4, 3, 2, 9, 6, 5])])),\n",
       "                ('trf3',\n",
       "                 ColumnTransformer(transformers=[('scale', MinMaxScaler(),\n",
       "                                                  slice(0, 10, None))])),\n",
       "                ('trf5', LinearRegression())])"
      ]
     },
     "execution_count": 268,
     "metadata": {},
     "output_type": "execute_result"
    }
   ],
   "source": [
    "\n",
    "#fit data\n",
    "pipe.fit(X_train, y_train)"
   ]
  },
  {
   "cell_type": "code",
   "execution_count": 269,
   "id": "fee1c50c",
   "metadata": {},
   "outputs": [
    {
     "data": {
      "text/plain": [
       "array([24.0, 4.6, 'Windy', 'Medium', 2, 'motorcycle', 0.0, 'No',\n",
       "       'Metropolitian', 10.586555959209978, 0, 0, 0, 0, 0, 0, 0, 0, 0, 0,\n",
       "       0, 0, 0, 0, 0, 0, 0, 0, 0, 0, 0, 0, 0, 0, 0, 0, 0, 0, 0, 0, 0, 0,\n",
       "       0, 0, 0, 0, 0, 0, 0, 0, 0, 0, 0, 0, 0, 0, 0, 0, 0, 0, 0, 0, 0, 0,\n",
       "       0, 0, 0, 0, 0, 0, 0, 0, 0, 0, 0, 0, 0, 0, 0, 0, 0, 0, 0, 0, 0, 0,\n",
       "       0, 0, 0, 0, 0, 0, 0, 0, 0, 0, 0, 0, 0, 0, 0, 0, 0, 0, 0, 0, 0, 0,\n",
       "       0, 0, 0, 0, 0, 0, 0, 0, 0, 0, 0, 0, 0, 0, 0, 0, 0, 0, 0, 0, 0, 0,\n",
       "       0, 0, 0, 0, 0, 0, 0, 0, 0, 0, 0, 0, 0, 0, 0, 0, 0, 0, 0, 0, 0, 0,\n",
       "       0, 0, 0, 0, 0, 0, 0, 0, 0, 0, 0, 0, 0, 0, 0, 0, 0, 0, 0, 0, 0, 0,\n",
       "       0, 0, 0, 0, 0, 0, 0, 0, 0, 0, 0, 0, 0, 0, 0, 0, 0, 0, 0, 0, 0, 0,\n",
       "       0, 0, 0, 0, 0, 0, 0, 0, 0, 0, 0, 0, 0, 0, 0, 0, 0, 0, 0, 0, 0, 0,\n",
       "       0, 0, 0, 0, 0, 0, 0, 0, 0, 0, 0, 0, 0, 0, 0, 0, 0, 0, 0, 0, 0, 0,\n",
       "       0, 0, 0, 0, 0, 0, 0, 0, 0, 0, 0, 0, 0, 0, 0, 0, 0, 0, 0, 0, 0, 0,\n",
       "       0, 0, 0, 0, 0, 0, 0, 0, 0, 0, 0, 1, 0, 0, 0, 0, 0, 0, 0, 0, 0, 0,\n",
       "       0, 0, 0, 0, 0, 0, 0, 0, 0, 0, 0, 0, 0, 0, 0, 0, 0, 0, 0, 0, 0, 0,\n",
       "       0, 0, 0, 0, 0, 0, 0, 0, 0, 0, 0, 0, 0, 0, 0, 0, 0, 0, 0, 0, 0, 0,\n",
       "       0, 0, 0, 0, 0, 0, 0, 0, 0, 0, 0, 0, 0, 0, 0, 0, 0, 0, 0, 0, 0, 0,\n",
       "       0, 0, 0, 0, 0, 0, 0, 0, 0, 0, 0, 0, 0, 0, 0, 0, 0, 0, 0, 0, 0, 0,\n",
       "       0, 0, 0, 0, 0, 0, 0, 0, 0, 0, 0, 0, 0, 0, 0, 0, 0, 0, 0, 0, 0, 0,\n",
       "       0, 0, 0, 0, 0, 0, 0, 0, 0, 0, 0, 0, 0, 0, 0, 0, 0, 0, 0, 0, 0, 0,\n",
       "       0, 0, 0, 0, 0, 0, 0, 0, 0, 0, 0, 0, 0, 0, 0, 0, 0, 0, 0, 0, 0, 0,\n",
       "       0, 0, 0, 0, 0, 0, 0, 0, 0, 0, 0, 0, 0, 0, 0, 0, 0, 0, 0, 0, 0, 0,\n",
       "       0, 0, 0, 0, 0, 0, 0, 0, 0, 0, 0, 0, 0, 0, 0, 0, 0, 0, 0, 0, 0, 0,\n",
       "       0, 0, 0, 0, 0, 0, 0, 0, 0, 0, 0, 0, 0, 0, 0, 0, 0, 0, 0, 0, 0, 0,\n",
       "       0, 0, 0, 0, 0, 0, 0, 0, 0, 0, 0, 0, 0, 0, 0, 0, 0, 0, 0, 0, 0, 0,\n",
       "       0, 0, 0, 0, 0, 0, 0, 0, 0, 0, 0, 0, 0, 0, 0, 0, 0, 0, 0, 0, 0, 0,\n",
       "       0, 0, 0, 0, 0, 0, 0, 0, 0, 0, 0, 0, 0, 0, 0, 0, 0, 0, 0, 0, 0, 0,\n",
       "       0, 0, 0, 0, 0, 0, 0, 0, 0, 0, 0, 0, 0, 0, 0, 0, 0, 0, 0, 0, 0, 0,\n",
       "       0, 0, 0, 0, 0, 0, 0, 0, 0, 0, 0, 0, 0, 0, 0, 0, 0, 0, 0, 0, 0, 0,\n",
       "       0, 0, 0, 0, 0, 0, 0, 0, 0, 0, 0, 0, 0, 0, 0, 0, 0, 0, 0, 0, 0, 0,\n",
       "       0, 0, 0, 0, 0, 0, 0, 0, 0, 0, 0, 0, 0, 0, 0, 0, 0, 0, 0, 0, 0, 0,\n",
       "       0, 0, 0, 0, 0, 0, 0, 0, 0, 0, 0, 0, 0, 0, 0, 0, 0, 0, 0, 0, 0, 0,\n",
       "       0, 0, 0, 0, 0, 0, 0, 0, 0, 0], dtype=object)"
      ]
     },
     "execution_count": 269,
     "metadata": {},
     "output_type": "execute_result"
    }
   ],
   "source": [
    "X_train.to_numpy()[2]"
   ]
  },
  {
   "cell_type": "code",
   "execution_count": 270,
   "id": "6a277c3d",
   "metadata": {},
   "outputs": [],
   "source": [
    "y_pred = pipe.predict(X_test)"
   ]
  },
  {
   "cell_type": "code",
   "execution_count": 272,
   "id": "86c2b9a6",
   "metadata": {},
   "outputs": [
    {
     "data": {
      "text/plain": [
       "array([37.16669269, 38.21847744, 36.02870479, ..., 28.49926388,\n",
       "       29.11922613, 17.49684004])"
      ]
     },
     "execution_count": 272,
     "metadata": {},
     "output_type": "execute_result"
    }
   ],
   "source": [
    "y_pred"
   ]
  },
  {
   "cell_type": "code",
   "execution_count": 273,
   "id": "59d74986",
   "metadata": {},
   "outputs": [
    {
     "data": {
      "text/plain": [
       "7725     44.0\n",
       "949      41.0\n",
       "44893    39.0\n",
       "42071    38.0\n",
       "27091    38.0\n",
       "         ... \n",
       "7388     15.0\n",
       "6330     34.0\n",
       "8426     21.0\n",
       "768      17.0\n",
       "38292    25.0\n",
       "Name: Time_taken, Length: 9119, dtype: float64"
      ]
     },
     "execution_count": 273,
     "metadata": {},
     "output_type": "execute_result"
    }
   ],
   "source": [
    "y_test"
   ]
  },
  {
   "cell_type": "code",
   "execution_count": 32,
   "id": "679f789a",
   "metadata": {},
   "outputs": [],
   "source": [
    "from sklearn import metrics"
   ]
  },
  {
   "cell_type": "code",
   "execution_count": 247,
   "id": "72d2ccd1",
   "metadata": {},
   "outputs": [
    {
     "name": "stdout",
     "output_type": "stream",
     "text": [
      "MAE :   4.89802420492061\n",
      "MSE :   37.218477734180674\n",
      "RMAE :   6.100694856668433\n"
     ]
    }
   ],
   "source": [
    "print('MAE :',\" \", metrics.mean_absolute_error(y_test,y_pred))\n",
    "print('MSE :',\" \", metrics.mean_squared_error(y_test,y_pred))\n",
    "print('RMAE :',\" \", np.sqrt(metrics.mean_squared_error(y_test,y_pred)))"
   ]
  },
  {
   "cell_type": "code",
   "execution_count": 271,
   "id": "8fe43f5c",
   "metadata": {},
   "outputs": [
    {
     "data": {
      "text/plain": [
       "0.5755101656721692"
      ]
     },
     "execution_count": 271,
     "metadata": {},
     "output_type": "execute_result"
    }
   ],
   "source": [
    "metrics.r2_score(y_test,y_pred)"
   ]
  },
  {
   "cell_type": "code",
   "execution_count": 249,
   "id": "c1dc2bad",
   "metadata": {},
   "outputs": [
    {
     "data": {
      "text/plain": [
       "<matplotlib.collections.PathCollection at 0x1ca9aa47b20>"
      ]
     },
     "execution_count": 249,
     "metadata": {},
     "output_type": "execute_result"
    },
    {
     "data": {
      "image/png": "[encoded data removed]",
      "text/plain": [
       "<Figure size 640x480 with 1 Axes>"
      ]
     },
     "metadata": {},
     "output_type": "display_data"
    }
   ],
   "source": [
    "plt.scatter(y_test,y_pred)"
   ]
  },
  {
   "cell_type": "code",
   "execution_count": 82,
   "id": "8d830e97",
   "metadata": {},
   "outputs": [
    {
     "name": "stderr",
     "output_type": "stream",
     "text": [
      "C:\\Users\\ssaur\\AppData\\Local\\Programs\\Python\\Python39\\lib\\site-packages\\seaborn\\distributions.py:2619: FutureWarning: `distplot` is a deprecated function and will be removed in a future version. Please adapt your code to use either `displot` (a figure-level function with similar flexibility) or `histplot` (an axes-level function for histograms).\n",
      "  warnings.warn(msg, FutureWarning)\n"
     ]
    },
    {
     "data": {
      "text/plain": [
       "<AxesSubplot:xlabel='Time_taken', ylabel='Density'>"
      ]
     },
     "execution_count": 82,
     "metadata": {},
     "output_type": "execute_result"
    },
    {
     "data": {
      "image/png": "[encoded data removed]",
      "text/plain": [
       "<Figure size 640x480 with 1 Axes>"
      ]
     },
     "metadata": {},
     "output_type": "display_data"
    }
   ],
   "source": [
    "sns.distplot(y_test - y_pred,bins=50)"
   ]
  },
  {
   "cell_type": "code",
   "execution_count": 393,
   "id": "d567fdf4",
   "metadata": {},
   "outputs": [],
   "source": [
    "scores = []\n",
    "for i in range(1000):\n",
    "    X_train, X_test, y_train, y_test = train_test_split(a.drop(columns=['Time_taken']), a['Time_taken'],test_size=0.2,random_state = i)\n",
    "    lr = LinearRegression()\n",
    "    pipe = Pipeline([\n",
    "    ('trf1', trf1),\n",
    "    ('trf2', trf2),\n",
    "    ('trf3', trf3),\n",
    "    ('trf5', trf5)\n",
    "    ])\n",
    "    pipe.fit(X_train,y_train)\n",
    "    y_pred = pipe.predict(X_test)\n",
    "    scores.append(r2_score(y_test,y_pred))"
   ]
  },
  {
   "cell_type": "code",
   "execution_count": 395,
   "id": "b4bc4479",
   "metadata": {},
   "outputs": [
    {
     "data": {
      "text/plain": [
       "537"
      ]
     },
     "execution_count": 395,
     "metadata": {},
     "output_type": "execute_result"
    }
   ],
   "source": [
    "np.argmax(scores)"
   ]
  },
  {
   "cell_type": "code",
   "execution_count": null,
   "id": "ac97172c",
   "metadata": {},
   "outputs": [],
   "source": []
  }
 ],
 "metadata": {
  "kernelspec": {
   "display_name": "Python 3 (ipykernel)",
   "language": "python",
   "name": "python3"
  },
  "language_info": {
   "codemirror_mode": {
    "name": "ipython",
    "version": 3
   },
   "file_extension": ".py",
   "mimetype": "text/x-python",
   "name": "python",
   "nbconvert_exporter": "python",
   "pygments_lexer": "ipython3",
   "version": "3.9.13"
  }
 },
 "nbformat": 4,
 "nbformat_minor": 5
}
